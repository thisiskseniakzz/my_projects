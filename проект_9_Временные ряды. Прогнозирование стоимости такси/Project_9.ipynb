{
 "cells": [
  {
   "cell_type": "markdown",
   "metadata": {},
   "source": [
    "#  Прогнозирование заказов такси"
   ]
  },
  {
   "cell_type": "markdown",
   "metadata": {},
   "source": [
    "Компания «Чётенькое такси» собрала исторические данные о заказах такси в аэропортах. Чтобы привлекать больше водителей в период пиковой нагрузки, нужно спрогнозировать количество заказов такси на следующий час. Постройте модель для такого предсказания.\n",
    "\n",
    "Значение метрики *RMSE* на тестовой выборке должно быть не больше 48.\n",
    "\n",
    "Вам нужно:\n",
    "\n",
    "1. Загрузить данные и выполнить их ресемплирование по одному часу.\n",
    "2. Проанализировать данные.\n",
    "3. Обучить разные модели с различными гиперпараметрами. Сделать тестовую выборку размером 10% от исходных данных.\n",
    "4. Проверить данные на тестовой выборке и сделать выводы.\n",
    "\n",
    "\n",
    "Данные лежат в файле `taxi.csv`. Количество заказов находится в столбце `num_orders` (от англ. *number of orders*, «число заказов»)."
   ]
  },
  {
   "cell_type": "markdown",
   "metadata": {},
   "source": [
    "*Целью проекта является подбор такой модели, которая по истории заказов угадывает количество такси на следующий час с ошибкой ≤ 48.*"
   ]
  },
  {
   "cell_type": "markdown",
   "metadata": {
    "toc": true
   },
   "source": [
    "<h1>Содержание<span class=\"tocSkip\"></span></h1>\n",
    "<div class=\"toc\"><ul class=\"toc-item\"><li><span><a href=\"#Подготовка\" data-toc-modified-id=\"Подготовка-1\"><span class=\"toc-item-num\">1&nbsp;&nbsp;</span>Подготовка</a></span><ul class=\"toc-item\"><li><span><a href=\"#Наличие-пропусков\" data-toc-modified-id=\"Наличие-пропусков-1.1\"><span class=\"toc-item-num\">1.1&nbsp;&nbsp;</span>Наличие пропусков</a></span></li></ul></li><li><span><a href=\"#Анализ-(поиск-закономерностей)\" data-toc-modified-id=\"Анализ-(поиск-закономерностей)-2\"><span class=\"toc-item-num\">2&nbsp;&nbsp;</span>Анализ (поиск закономерностей)</a></span><ul class=\"toc-item\"><li><span><a href=\"#Динамика-заказов-такси-за-весь-период\" data-toc-modified-id=\"Динамика-заказов-такси-за-весь-период-2.1\"><span class=\"toc-item-num\">2.1&nbsp;&nbsp;</span>Динамика заказов такси за весь период</a></span></li><li><span><a href=\"#Динамика-заказов-такси-за-весь-период,-ч.2\" data-toc-modified-id=\"Динамика-заказов-такси-за-весь-период,-ч.2-2.2\"><span class=\"toc-item-num\">2.2&nbsp;&nbsp;</span>Динамика заказов такси за весь период, ч.2</a></span></li><li><span><a href=\"#Динамика-заказов-за-неделю\" data-toc-modified-id=\"Динамика-заказов-за-неделю-2.3\"><span class=\"toc-item-num\">2.3&nbsp;&nbsp;</span>Динамика заказов за неделю</a></span></li><li><span><a href=\"#Динамика-заказов-такси-за-сутки\" data-toc-modified-id=\"Динамика-заказов-такси-за-сутки-2.4\"><span class=\"toc-item-num\">2.4&nbsp;&nbsp;</span>Динамика заказов такси за сутки</a></span></li></ul></li><li><span><a href=\"#Обучение\" data-toc-modified-id=\"Обучение-3\"><span class=\"toc-item-num\">3&nbsp;&nbsp;</span>Обучение</a></span><ul class=\"toc-item\"><li><span><a href=\"#Создадим-новые-признаки\" data-toc-modified-id=\"Создадим-новые-признаки-3.1\"><span class=\"toc-item-num\">3.1&nbsp;&nbsp;</span>Создадим новые признаки</a></span></li><li><span><a href=\"#Разделение\" data-toc-modified-id=\"Разделение-3.2\"><span class=\"toc-item-num\">3.2&nbsp;&nbsp;</span>Разделение</a></span></li><li><span><a href=\"#Линейная-регрессия\" data-toc-modified-id=\"Линейная-регрессия-3.3\"><span class=\"toc-item-num\">3.3&nbsp;&nbsp;</span>Линейная регрессия</a></span></li><li><span><a href=\"#RandomForest\" data-toc-modified-id=\"RandomForest-3.4\"><span class=\"toc-item-num\">3.4&nbsp;&nbsp;</span>RandomForest</a></span></li><li><span><a href=\"#LightGBM\" data-toc-modified-id=\"LightGBM-3.5\"><span class=\"toc-item-num\">3.5&nbsp;&nbsp;</span>LightGBM</a></span></li></ul></li><li><span><a href=\"#Тестирование-(проверка-на-тестовой-выборке)-и-проверка-качества-на-тестовой-выборке\" data-toc-modified-id=\"Тестирование-(проверка-на-тестовой-выборке)-и-проверка-качества-на-тестовой-выборке-4\"><span class=\"toc-item-num\">4&nbsp;&nbsp;</span>Тестирование (проверка на тестовой выборке) и проверка качества на тестовой выборке</a></span><ul class=\"toc-item\"><li><span><a href=\"#RandomForest\" data-toc-modified-id=\"RandomForest-4.1\"><span class=\"toc-item-num\">4.1&nbsp;&nbsp;</span>RandomForest</a></span></li></ul></li><li><span><a href=\"#Вывод\" data-toc-modified-id=\"Вывод-5\"><span class=\"toc-item-num\">5&nbsp;&nbsp;</span>Вывод</a></span></li><li><span><a href=\"#Чек-лист-проверки\" data-toc-modified-id=\"Чек-лист-проверки-6\"><span class=\"toc-item-num\">6&nbsp;&nbsp;</span>Чек-лист проверки</a></span></li></ul></div>"
   ]
  },
  {
   "cell_type": "markdown",
   "metadata": {},
   "source": [
    "**Импорт библиотек**"
   ]
  },
  {
   "cell_type": "code",
   "execution_count": 1,
   "metadata": {},
   "outputs": [],
   "source": [
    "import pandas as pd\n",
    "import seaborn as sns\n",
    "from matplotlib import pyplot as plt\n",
    "\n",
    "from statsmodels.tsa.seasonal import seasonal_decompose\n",
    "from sklearn.model_selection import train_test_split\n",
    "from sklearn.metrics import mean_squared_error\n",
    "from sklearn.linear_model import LinearRegression\n",
    "from sklearn.tree import DecisionTreeRegressor\n",
    "from sklearn.ensemble import RandomForestRegressor\n",
    "from sklearn.model_selection import TimeSeriesSplit\n",
    "from sklearn.pipeline import Pipeline\n",
    "from sklearn.preprocessing import StandardScaler\n",
    "from sklearn.preprocessing import MinMaxScaler\n",
    "from sklearn.compose import ColumnTransformer\n",
    "from sklearn.preprocessing import OneHotEncoder\n",
    "from sklearn.linear_model import LinearRegression\n",
    "from sklearn.model_selection import RandomizedSearchCV\n",
    "from sklearn.model_selection import TimeSeriesSplit\n",
    "import lightgbm as lgb\n",
    "import warnings\n"
   ]
  },
  {
   "cell_type": "markdown",
   "metadata": {},
   "source": [
    "## Подготовка"
   ]
  },
  {
   "cell_type": "code",
   "execution_count": 2,
   "metadata": {},
   "outputs": [
    {
     "data": {
      "text/html": [
       "<div>\n",
       "<style scoped>\n",
       "    .dataframe tbody tr th:only-of-type {\n",
       "        vertical-align: middle;\n",
       "    }\n",
       "\n",
       "    .dataframe tbody tr th {\n",
       "        vertical-align: top;\n",
       "    }\n",
       "\n",
       "    .dataframe thead th {\n",
       "        text-align: right;\n",
       "    }\n",
       "</style>\n",
       "<table border=\"1\" class=\"dataframe\">\n",
       "  <thead>\n",
       "    <tr style=\"text-align: right;\">\n",
       "      <th></th>\n",
       "      <th>num_orders</th>\n",
       "    </tr>\n",
       "    <tr>\n",
       "      <th>datetime</th>\n",
       "      <th></th>\n",
       "    </tr>\n",
       "  </thead>\n",
       "  <tbody>\n",
       "    <tr>\n",
       "      <th>2018-03-01 00:00:00</th>\n",
       "      <td>9</td>\n",
       "    </tr>\n",
       "    <tr>\n",
       "      <th>2018-03-01 00:10:00</th>\n",
       "      <td>14</td>\n",
       "    </tr>\n",
       "    <tr>\n",
       "      <th>2018-03-01 00:20:00</th>\n",
       "      <td>28</td>\n",
       "    </tr>\n",
       "    <tr>\n",
       "      <th>2018-03-01 00:30:00</th>\n",
       "      <td>20</td>\n",
       "    </tr>\n",
       "    <tr>\n",
       "      <th>2018-03-01 00:40:00</th>\n",
       "      <td>32</td>\n",
       "    </tr>\n",
       "  </tbody>\n",
       "</table>\n",
       "</div>"
      ],
      "text/plain": [
       "                     num_orders\n",
       "datetime                       \n",
       "2018-03-01 00:00:00           9\n",
       "2018-03-01 00:10:00          14\n",
       "2018-03-01 00:20:00          28\n",
       "2018-03-01 00:30:00          20\n",
       "2018-03-01 00:40:00          32"
      ]
     },
     "metadata": {},
     "output_type": "display_data"
    },
    {
     "data": {
      "text/html": [
       "<div>\n",
       "<style scoped>\n",
       "    .dataframe tbody tr th:only-of-type {\n",
       "        vertical-align: middle;\n",
       "    }\n",
       "\n",
       "    .dataframe tbody tr th {\n",
       "        vertical-align: top;\n",
       "    }\n",
       "\n",
       "    .dataframe thead th {\n",
       "        text-align: right;\n",
       "    }\n",
       "</style>\n",
       "<table border=\"1\" class=\"dataframe\">\n",
       "  <thead>\n",
       "    <tr style=\"text-align: right;\">\n",
       "      <th></th>\n",
       "      <th>num_orders</th>\n",
       "    </tr>\n",
       "    <tr>\n",
       "      <th>datetime</th>\n",
       "      <th></th>\n",
       "    </tr>\n",
       "  </thead>\n",
       "  <tbody>\n",
       "    <tr>\n",
       "      <th>2018-08-31 23:10:00</th>\n",
       "      <td>32</td>\n",
       "    </tr>\n",
       "    <tr>\n",
       "      <th>2018-08-31 23:20:00</th>\n",
       "      <td>24</td>\n",
       "    </tr>\n",
       "    <tr>\n",
       "      <th>2018-08-31 23:30:00</th>\n",
       "      <td>27</td>\n",
       "    </tr>\n",
       "    <tr>\n",
       "      <th>2018-08-31 23:40:00</th>\n",
       "      <td>39</td>\n",
       "    </tr>\n",
       "    <tr>\n",
       "      <th>2018-08-31 23:50:00</th>\n",
       "      <td>53</td>\n",
       "    </tr>\n",
       "  </tbody>\n",
       "</table>\n",
       "</div>"
      ],
      "text/plain": [
       "                     num_orders\n",
       "datetime                       \n",
       "2018-08-31 23:10:00          32\n",
       "2018-08-31 23:20:00          24\n",
       "2018-08-31 23:30:00          27\n",
       "2018-08-31 23:40:00          39\n",
       "2018-08-31 23:50:00          53"
      ]
     },
     "metadata": {},
     "output_type": "display_data"
    }
   ],
   "source": [
    "df= pd.read_csv('/datasets/taxi.csv', index_col=[0], parse_dates=[0])\n",
    "display(df.head())\n",
    "display(df.tail())\n",
    "\n",
    "#df = df.resample('1H').sum()"
   ]
  },
  {
   "cell_type": "code",
   "execution_count": 3,
   "metadata": {},
   "outputs": [
    {
     "name": "stdout",
     "output_type": "stream",
     "text": [
      "<class 'pandas.core.frame.DataFrame'>\n",
      "DatetimeIndex: 26496 entries, 2018-03-01 00:00:00 to 2018-08-31 23:50:00\n",
      "Data columns (total 1 columns):\n",
      " #   Column      Non-Null Count  Dtype\n",
      "---  ------      --------------  -----\n",
      " 0   num_orders  26496 non-null  int64\n",
      "dtypes: int64(1)\n",
      "memory usage: 414.0 KB\n"
     ]
    },
    {
     "data": {
      "text/plain": [
       "None"
      ]
     },
     "metadata": {},
     "output_type": "display_data"
    }
   ],
   "source": [
    "display(df.info())"
   ]
  },
  {
   "cell_type": "markdown",
   "metadata": {},
   "source": [
    "Проверка на монотонность"
   ]
  },
  {
   "cell_type": "code",
   "execution_count": 4,
   "metadata": {},
   "outputs": [
    {
     "name": "stdout",
     "output_type": "stream",
     "text": [
      "True\n"
     ]
    }
   ],
   "source": [
    "print(df.index.is_monotonic)"
   ]
  },
  {
   "cell_type": "markdown",
   "metadata": {},
   "source": [
    "Данные расположены в хронологическом порядке"
   ]
  },
  {
   "cell_type": "code",
   "execution_count": 5,
   "metadata": {},
   "outputs": [
    {
     "name": "stdout",
     "output_type": "stream",
     "text": [
      "<class 'pandas.core.frame.DataFrame'>\n",
      "DatetimeIndex: 26496 entries, 2018-03-01 00:00:00 to 2018-08-31 23:50:00\n",
      "Data columns (total 1 columns):\n",
      " #   Column      Non-Null Count  Dtype\n",
      "---  ------      --------------  -----\n",
      " 0   num_orders  26496 non-null  int64\n",
      "dtypes: int64(1)\n",
      "memory usage: 414.0 KB\n",
      "None\n"
     ]
    }
   ],
   "source": [
    "df.sort_index(inplace=True)\n",
    "df = df['2018-03':'2018-09']\n",
    "print(df.info())"
   ]
  },
  {
   "cell_type": "markdown",
   "metadata": {},
   "source": [
    "### Наличие пропусков"
   ]
  },
  {
   "cell_type": "code",
   "execution_count": 6,
   "metadata": {},
   "outputs": [
    {
     "name": "stdout",
     "output_type": "stream",
     "text": [
      "num_orders    0\n",
      "dtype: int64\n"
     ]
    }
   ],
   "source": [
    "print(df.isnull().sum())"
   ]
  },
  {
   "cell_type": "code",
   "execution_count": 7,
   "metadata": {},
   "outputs": [
    {
     "data": {
      "text/html": [
       "<div>\n",
       "<style scoped>\n",
       "    .dataframe tbody tr th:only-of-type {\n",
       "        vertical-align: middle;\n",
       "    }\n",
       "\n",
       "    .dataframe tbody tr th {\n",
       "        vertical-align: top;\n",
       "    }\n",
       "\n",
       "    .dataframe thead th {\n",
       "        text-align: right;\n",
       "    }\n",
       "</style>\n",
       "<table border=\"1\" class=\"dataframe\">\n",
       "  <thead>\n",
       "    <tr style=\"text-align: right;\">\n",
       "      <th></th>\n",
       "      <th>num_orders</th>\n",
       "    </tr>\n",
       "    <tr>\n",
       "      <th>datetime</th>\n",
       "      <th></th>\n",
       "    </tr>\n",
       "  </thead>\n",
       "  <tbody>\n",
       "    <tr>\n",
       "      <th>2018-03-01 00:00:00</th>\n",
       "      <td>9</td>\n",
       "    </tr>\n",
       "    <tr>\n",
       "      <th>2018-03-01 00:10:00</th>\n",
       "      <td>14</td>\n",
       "    </tr>\n",
       "    <tr>\n",
       "      <th>2018-03-01 00:20:00</th>\n",
       "      <td>28</td>\n",
       "    </tr>\n",
       "    <tr>\n",
       "      <th>2018-03-01 00:30:00</th>\n",
       "      <td>20</td>\n",
       "    </tr>\n",
       "    <tr>\n",
       "      <th>2018-03-01 00:40:00</th>\n",
       "      <td>32</td>\n",
       "    </tr>\n",
       "    <tr>\n",
       "      <th>...</th>\n",
       "      <td>...</td>\n",
       "    </tr>\n",
       "    <tr>\n",
       "      <th>2018-08-31 23:10:00</th>\n",
       "      <td>32</td>\n",
       "    </tr>\n",
       "    <tr>\n",
       "      <th>2018-08-31 23:20:00</th>\n",
       "      <td>24</td>\n",
       "    </tr>\n",
       "    <tr>\n",
       "      <th>2018-08-31 23:30:00</th>\n",
       "      <td>27</td>\n",
       "    </tr>\n",
       "    <tr>\n",
       "      <th>2018-08-31 23:40:00</th>\n",
       "      <td>39</td>\n",
       "    </tr>\n",
       "    <tr>\n",
       "      <th>2018-08-31 23:50:00</th>\n",
       "      <td>53</td>\n",
       "    </tr>\n",
       "  </tbody>\n",
       "</table>\n",
       "<p>26496 rows × 1 columns</p>\n",
       "</div>"
      ],
      "text/plain": [
       "                     num_orders\n",
       "datetime                       \n",
       "2018-03-01 00:00:00           9\n",
       "2018-03-01 00:10:00          14\n",
       "2018-03-01 00:20:00          28\n",
       "2018-03-01 00:30:00          20\n",
       "2018-03-01 00:40:00          32\n",
       "...                         ...\n",
       "2018-08-31 23:10:00          32\n",
       "2018-08-31 23:20:00          24\n",
       "2018-08-31 23:30:00          27\n",
       "2018-08-31 23:40:00          39\n",
       "2018-08-31 23:50:00          53\n",
       "\n",
       "[26496 rows x 1 columns]"
      ]
     },
     "execution_count": 7,
     "metadata": {},
     "output_type": "execute_result"
    }
   ],
   "source": [
    "df.dropna()"
   ]
  },
  {
   "cell_type": "code",
   "execution_count": 8,
   "metadata": {},
   "outputs": [
    {
     "data": {
      "text/plain": [
       "<bound method DataFrame.info of                      num_orders\n",
       "datetime                       \n",
       "2018-03-01 00:00:00           9\n",
       "2018-03-01 00:10:00          14\n",
       "2018-03-01 00:20:00          28\n",
       "2018-03-01 00:30:00          20\n",
       "2018-03-01 00:40:00          32\n",
       "...                         ...\n",
       "2018-08-31 23:10:00          32\n",
       "2018-08-31 23:20:00          24\n",
       "2018-08-31 23:30:00          27\n",
       "2018-08-31 23:40:00          39\n",
       "2018-08-31 23:50:00          53\n",
       "\n",
       "[26496 rows x 1 columns]>"
      ]
     },
     "metadata": {},
     "output_type": "display_data"
    }
   ],
   "source": [
    "display(df.info)"
   ]
  },
  {
   "cell_type": "markdown",
   "metadata": {},
   "source": [
    "## Анализ (поиск закономерностей)"
   ]
  },
  {
   "cell_type": "code",
   "execution_count": 9,
   "metadata": {},
   "outputs": [
    {
     "data": {
      "text/html": [
       "<div>\n",
       "<style scoped>\n",
       "    .dataframe tbody tr th:only-of-type {\n",
       "        vertical-align: middle;\n",
       "    }\n",
       "\n",
       "    .dataframe tbody tr th {\n",
       "        vertical-align: top;\n",
       "    }\n",
       "\n",
       "    .dataframe thead th {\n",
       "        text-align: right;\n",
       "    }\n",
       "</style>\n",
       "<table border=\"1\" class=\"dataframe\">\n",
       "  <thead>\n",
       "    <tr style=\"text-align: right;\">\n",
       "      <th></th>\n",
       "      <th>num_orders</th>\n",
       "    </tr>\n",
       "  </thead>\n",
       "  <tbody>\n",
       "    <tr>\n",
       "      <th>count</th>\n",
       "      <td>26496.000000</td>\n",
       "    </tr>\n",
       "    <tr>\n",
       "      <th>mean</th>\n",
       "      <td>14.070463</td>\n",
       "    </tr>\n",
       "    <tr>\n",
       "      <th>std</th>\n",
       "      <td>9.211330</td>\n",
       "    </tr>\n",
       "    <tr>\n",
       "      <th>min</th>\n",
       "      <td>0.000000</td>\n",
       "    </tr>\n",
       "    <tr>\n",
       "      <th>25%</th>\n",
       "      <td>8.000000</td>\n",
       "    </tr>\n",
       "    <tr>\n",
       "      <th>50%</th>\n",
       "      <td>13.000000</td>\n",
       "    </tr>\n",
       "    <tr>\n",
       "      <th>75%</th>\n",
       "      <td>19.000000</td>\n",
       "    </tr>\n",
       "    <tr>\n",
       "      <th>max</th>\n",
       "      <td>119.000000</td>\n",
       "    </tr>\n",
       "  </tbody>\n",
       "</table>\n",
       "</div>"
      ],
      "text/plain": [
       "         num_orders\n",
       "count  26496.000000\n",
       "mean      14.070463\n",
       "std        9.211330\n",
       "min        0.000000\n",
       "25%        8.000000\n",
       "50%       13.000000\n",
       "75%       19.000000\n",
       "max      119.000000"
      ]
     },
     "metadata": {},
     "output_type": "display_data"
    }
   ],
   "source": [
    "display(df.describe())"
   ]
  },
  {
   "cell_type": "markdown",
   "metadata": {},
   "source": [
    "### Динамика заказов такси за весь период"
   ]
  },
  {
   "cell_type": "code",
   "execution_count": 10,
   "metadata": {},
   "outputs": [],
   "source": [
    "df = df.resample('1H').sum()"
   ]
  },
  {
   "cell_type": "code",
   "execution_count": 11,
   "metadata": {},
   "outputs": [
    {
     "data": {
      "image/png": "[encoded data removed]",
      "text/plain": [
       "<Figure size 1080x432 with 1 Axes>"
      ]
     },
     "metadata": {
      "needs_background": "light"
     },
     "output_type": "display_data"
    }
   ],
   "source": [
    "plt.figure(figsize=(15, 6))\n",
    "df_1=df.copy()\n",
    "\n",
    "df_1['daily_trend'] =df_1['num_orders'].rolling(168).mean() #в неделе 168 часов\n",
    "\n",
    "df_1['num_orders'].plot(alpha=0.3, color='blue', label='Фактические заказы')\n",
    "df_1['daily_trend'].plot(color='red', linewidth=2, label='Недельный тренд')\n",
    "\n",
    "plt.title('Динамика заказов такси (03.2018 - 08.2018)')\n",
    "plt.xlabel('Дата')\n",
    "plt.ylabel('Количество заказов')\n",
    "plt.legend()\n",
    "plt.grid(True, linestyle='--', alpha=0.6)\n",
    "\n",
    "plt.tight_layout()\n",
    "plt.show()"
   ]
  },
  {
   "cell_type": "markdown",
   "metadata": {},
   "source": [
    "**Вывод**\n",
    "По первому знакомству с датафреймом можно сделать вывод о наличии увеличения количества заказов такси в аэропорт ближе к осени. Также к концу августа наблюдается несколько крупных скачков количества заказов, что может быть связано, в первую очередь, с возвращением обучающихся с каникул (больше 400 заказов), кроме того, эти пики расположен на равном удалении друг от друга, возможно это были выходные дни. \n",
    "На основании недельного тренда, который изображен на этом графике, трудно делать какие-то выводы, единственное - действительно наблюдается увеличение количества заказов в связи с изменением сезона."
   ]
  },
  {
   "cell_type": "markdown",
   "metadata": {},
   "source": [
    "### Динамика заказов такси за весь период, ч.2"
   ]
  },
  {
   "cell_type": "code",
   "execution_count": 12,
   "metadata": {},
   "outputs": [
    {
     "data": {
      "image/png": "[encoded data removed]",
      "text/plain": [
       "<Figure size 1080x720 with 3 Axes>"
      ]
     },
     "metadata": {
      "needs_background": "light"
     },
     "output_type": "display_data"
    }
   ],
   "source": [
    "#data = df.resample('1D').sum()\n",
    "\n",
    "decomposed = seasonal_decompose(df)\n",
    "\n",
    "plt.figure(figsize=(15, 10))\n",
    "\n",
    "\n",
    "plt.subplot(311)\n",
    "decomposed.trend.plot(ax=plt.gca(), color='royalblue', linewidth=2)\n",
    "plt.title('Тренд', fontsize=12, pad=10)\n",
    "plt.ylabel('Количество заказов', fontsize=10)\n",
    "plt.grid(alpha=0.3)\n",
    "\n",
    "\n",
    "plt.subplot(312)\n",
    "decomposed.seasonal.plot(ax=plt.gca(), color='royalblue', linewidth=2)\n",
    "plt.title('Сезонность', fontsize=12, pad=10)\n",
    "plt.grid(alpha=0.3)\n",
    "\n",
    "# Остатки\n",
    "plt.subplot(313)\n",
    "decomposed.resid.plot(ax=plt.gca(), color='royalblue', linewidth=2)\n",
    "plt.title('Остатки', fontsize=12, pad=10)\n",
    "plt.grid(alpha=0.3)\n",
    "\n",
    "plt.tight_layout()\n",
    "plt.show()"
   ]
  },
  {
   "cell_type": "markdown",
   "metadata": {},
   "source": [
    "На графике \"Тренд\" мы уже гораздо лучше видим, что среднее количество заказов увеличивается к сентябрю (возврастающий тренд)\n",
    "\n",
    "С марта по август количество заказов увеличивается.\n",
    "Исходя из графика \"Сезонность\" можем предположить, что на количество заказов зависит от дня недели.\n",
    "\n",
    "Остатки - это данные, которые нельзя объяснить трендами и сезонностью, в этих данных мы не видим закономерности сейчас, это могут быть праздничные дни, изменение расписания рейсов, либо различные погодные условия."
   ]
  },
  {
   "cell_type": "markdown",
   "metadata": {},
   "source": [
    "### Динамика заказов за неделю"
   ]
  },
  {
   "cell_type": "code",
   "execution_count": 13,
   "metadata": {},
   "outputs": [
    {
     "data": {
      "image/png": "[encoded data removed]",
      "text/plain": [
       "<Figure size 1440x864 with 3 Axes>"
      ]
     },
     "metadata": {},
     "output_type": "display_data"
    }
   ],
   "source": [
    "# Выбираем данные за неделю\n",
    "#week= df['2018-03-04':'2018-03-11']\n",
    "\n",
    "decomposed_week = seasonal_decompose(df, period=24)  \n",
    "\n",
    "plt.style.use('seaborn')\n",
    "colors = ['#1f77b4', '#1f77b4', '#1f77b4']\n",
    "\n",
    "fig, axs = plt.subplots(nrows=3, ncols=1, figsize=(20, 12))\n",
    "\n",
    "# Тренд\n",
    "decomposed_week.trend.plot(ax=axs[0], color=colors[0], linewidth=2)\n",
    "axs[0].set_xlabel('Время', fontsize=10)\n",
    "axs[0].set_ylabel('Количество заказов', fontsize=10)\n",
    "axs[0].set_title('Тренд за неделю', fontsize=12, pad=10)\n",
    "axs[0].grid(alpha=0.3)\n",
    "\n",
    "# Сезонность\n",
    "decomposed_week.seasonal['2018-03-04':'2018-03-11'].plot(ax=axs[1], color=colors[1], linewidth=2)\n",
    "axs[1].set_xlabel('Время', fontsize=10)\n",
    "axs[1].set_ylabel('Количество заказов', fontsize=10)\n",
    "axs[1].set_title('Cезонность', fontsize=12, pad=10)\n",
    "axs[1].grid(alpha=0.3)\n",
    "\n",
    "# Остатки\n",
    "decomposed_week.resid.plot(ax=axs[2], color=colors[2], linewidth=2)\n",
    "axs[2].set_xlabel('День', fontsize=10)\n",
    "axs[2].set_ylabel('Количество заказов', fontsize=10)\n",
    "axs[2].set_title('Остатки', fontsize=12, pad=10)\n",
    "axs[2].grid(alpha=0.3)"
   ]
  },
  {
   "cell_type": "markdown",
   "metadata": {},
   "source": [
    "Середина недели - это более загруженное время.\n",
    "\n",
    "Чуть расширила период, чтобы график \"не обрывался\""
   ]
  },
  {
   "cell_type": "markdown",
   "metadata": {},
   "source": [
    "### Динамика заказов такси за сутки"
   ]
  },
  {
   "cell_type": "code",
   "execution_count": 14,
   "metadata": {},
   "outputs": [
    {
     "data": {
      "image/png": "[encoded data removed]",
      "text/plain": [
       "<Figure size 1440x1440 with 3 Axes>"
      ]
     },
     "metadata": {},
     "output_type": "display_data"
    }
   ],
   "source": [
    "# Выбираем данные за неделю\n",
    "#oneday = df['2018-03-05': '2018-03-06'].resample('1H').sum()\n",
    "decomposed_daily = seasonal_decompose(df, period=24)  \n",
    "\n",
    "plt.style.use('seaborn')\n",
    "colors = ['#1f77b4', '#1f77b4', '#1f77b4']\n",
    "\n",
    "fig, axs = plt.subplots(nrows=3, ncols=1, figsize=(20, 20))\n",
    "\n",
    "# Тренд\n",
    "decomposed_daily.trend.plot(ax=axs[0], color=colors[0], linewidth=2)\n",
    "axs[0].set_xlabel('Время', fontsize=10)\n",
    "axs[0].set_ylabel('Количество заказов', fontsize=10)\n",
    "axs[0].set_title('Тренд за день', fontsize=12, pad=10)\n",
    "axs[0].grid(alpha=0.3)\n",
    "\n",
    "# Сезонность\n",
    "decomposed_daily.seasonal['2018-03-05': '2018-03-06'].plot(ax=axs[1], color=colors[1], linewidth=2)\n",
    "axs[1].set_xlabel('Время', fontsize=10)\n",
    "axs[1].set_ylabel('Количество заказов', fontsize=10)\n",
    "axs[1].set_title('Cезонность за сутки', fontsize=12, pad=10)\n",
    "axs[1].grid(alpha=0.3)\n",
    "\n",
    "# Остатки\n",
    "decomposed_daily.resid.plot(ax=axs[2], color=colors[2], linewidth=2)\n",
    "axs[2].set_xlabel('Время', fontsize=10)\n",
    "axs[2].set_ylabel('Количество заказов', fontsize=10)\n",
    "axs[2].set_title('Остатки', fontsize=12, pad=10)\n",
    "axs[2].grid(alpha=0.3)"
   ]
  },
  {
   "cell_type": "markdown",
   "metadata": {},
   "source": [
    "На 5 марта 2018 года как раз пришелся понедельник. Таким образом мы сейчас вывели обычную рабочую неделю и можем оценить измененеие количества заказов.\n",
    "\n",
    "Наблюдаем, что большое количество заказов выпадает на самый разгар рабочей недели - это среда и четверг. А вот в выходные дни мы видим резкий скачок заказов в воскресенье.\n",
    "\n",
    "Исследовали 3 сезонности время года (в теплое время года заказов больше), день недели ( в среду и четверг видим резкий рост кол-ва заказов, потом спад и небольшое увеличение в воскресенье, время суток (с 00:00 до 06:00) меньше всего заказов.\n",
    "\n",
    "\n",
    "Наименьшее количество заказов прихходится на ранее утро (06:00), а пик заказов приходится на середину дня - 12:00."
   ]
  },
  {
   "cell_type": "markdown",
   "metadata": {},
   "source": [
    "## Обучение"
   ]
  },
  {
   "cell_type": "markdown",
   "metadata": {},
   "source": [
    "### Создадим новые признаки"
   ]
  },
  {
   "cell_type": "code",
   "execution_count": 15,
   "metadata": {},
   "outputs": [
    {
     "data": {
      "text/html": [
       "<div>\n",
       "<style scoped>\n",
       "    .dataframe tbody tr th:only-of-type {\n",
       "        vertical-align: middle;\n",
       "    }\n",
       "\n",
       "    .dataframe tbody tr th {\n",
       "        vertical-align: top;\n",
       "    }\n",
       "\n",
       "    .dataframe thead th {\n",
       "        text-align: right;\n",
       "    }\n",
       "</style>\n",
       "<table border=\"1\" class=\"dataframe\">\n",
       "  <thead>\n",
       "    <tr style=\"text-align: right;\">\n",
       "      <th></th>\n",
       "      <th>num_orders</th>\n",
       "      <th>month</th>\n",
       "      <th>hour</th>\n",
       "      <th>dayofweek</th>\n",
       "      <th>weekend</th>\n",
       "      <th>lag_1</th>\n",
       "      <th>lag_2</th>\n",
       "      <th>lag_3</th>\n",
       "      <th>lag_4</th>\n",
       "      <th>lag_5</th>\n",
       "      <th>...</th>\n",
       "      <th>lag_17</th>\n",
       "      <th>lag_18</th>\n",
       "      <th>lag_19</th>\n",
       "      <th>lag_20</th>\n",
       "      <th>lag_21</th>\n",
       "      <th>lag_22</th>\n",
       "      <th>lag_23</th>\n",
       "      <th>lag_24</th>\n",
       "      <th>rolling_mean_24h</th>\n",
       "      <th>rolling_mean_7d</th>\n",
       "    </tr>\n",
       "    <tr>\n",
       "      <th>datetime</th>\n",
       "      <th></th>\n",
       "      <th></th>\n",
       "      <th></th>\n",
       "      <th></th>\n",
       "      <th></th>\n",
       "      <th></th>\n",
       "      <th></th>\n",
       "      <th></th>\n",
       "      <th></th>\n",
       "      <th></th>\n",
       "      <th></th>\n",
       "      <th></th>\n",
       "      <th></th>\n",
       "      <th></th>\n",
       "      <th></th>\n",
       "      <th></th>\n",
       "      <th></th>\n",
       "      <th></th>\n",
       "      <th></th>\n",
       "      <th></th>\n",
       "      <th></th>\n",
       "    </tr>\n",
       "  </thead>\n",
       "  <tbody>\n",
       "    <tr>\n",
       "      <th>2018-08-31 19:00:00</th>\n",
       "      <td>136</td>\n",
       "      <td>8</td>\n",
       "      <td>19</td>\n",
       "      <td>4</td>\n",
       "      <td>0</td>\n",
       "      <td>207.0</td>\n",
       "      <td>217.0</td>\n",
       "      <td>197.0</td>\n",
       "      <td>116.0</td>\n",
       "      <td>133.0</td>\n",
       "      <td>...</td>\n",
       "      <td>230.0</td>\n",
       "      <td>194.0</td>\n",
       "      <td>276.0</td>\n",
       "      <td>246.0</td>\n",
       "      <td>158.0</td>\n",
       "      <td>198.0</td>\n",
       "      <td>142.0</td>\n",
       "      <td>72.0</td>\n",
       "      <td>164.875000</td>\n",
       "      <td>154.297619</td>\n",
       "    </tr>\n",
       "    <tr>\n",
       "      <th>2018-08-31 20:00:00</th>\n",
       "      <td>154</td>\n",
       "      <td>8</td>\n",
       "      <td>20</td>\n",
       "      <td>4</td>\n",
       "      <td>0</td>\n",
       "      <td>136.0</td>\n",
       "      <td>207.0</td>\n",
       "      <td>217.0</td>\n",
       "      <td>197.0</td>\n",
       "      <td>116.0</td>\n",
       "      <td>...</td>\n",
       "      <td>99.0</td>\n",
       "      <td>230.0</td>\n",
       "      <td>194.0</td>\n",
       "      <td>276.0</td>\n",
       "      <td>246.0</td>\n",
       "      <td>158.0</td>\n",
       "      <td>198.0</td>\n",
       "      <td>142.0</td>\n",
       "      <td>167.541667</td>\n",
       "      <td>154.434524</td>\n",
       "    </tr>\n",
       "    <tr>\n",
       "      <th>2018-08-31 21:00:00</th>\n",
       "      <td>159</td>\n",
       "      <td>8</td>\n",
       "      <td>21</td>\n",
       "      <td>4</td>\n",
       "      <td>0</td>\n",
       "      <td>154.0</td>\n",
       "      <td>136.0</td>\n",
       "      <td>207.0</td>\n",
       "      <td>217.0</td>\n",
       "      <td>197.0</td>\n",
       "      <td>...</td>\n",
       "      <td>268.0</td>\n",
       "      <td>99.0</td>\n",
       "      <td>230.0</td>\n",
       "      <td>194.0</td>\n",
       "      <td>276.0</td>\n",
       "      <td>246.0</td>\n",
       "      <td>158.0</td>\n",
       "      <td>198.0</td>\n",
       "      <td>168.041667</td>\n",
       "      <td>154.285714</td>\n",
       "    </tr>\n",
       "    <tr>\n",
       "      <th>2018-08-31 22:00:00</th>\n",
       "      <td>223</td>\n",
       "      <td>8</td>\n",
       "      <td>22</td>\n",
       "      <td>4</td>\n",
       "      <td>0</td>\n",
       "      <td>159.0</td>\n",
       "      <td>154.0</td>\n",
       "      <td>136.0</td>\n",
       "      <td>207.0</td>\n",
       "      <td>217.0</td>\n",
       "      <td>...</td>\n",
       "      <td>78.0</td>\n",
       "      <td>268.0</td>\n",
       "      <td>99.0</td>\n",
       "      <td>230.0</td>\n",
       "      <td>194.0</td>\n",
       "      <td>276.0</td>\n",
       "      <td>246.0</td>\n",
       "      <td>158.0</td>\n",
       "      <td>166.416667</td>\n",
       "      <td>154.244048</td>\n",
       "    </tr>\n",
       "    <tr>\n",
       "      <th>2018-08-31 23:00:00</th>\n",
       "      <td>205</td>\n",
       "      <td>8</td>\n",
       "      <td>23</td>\n",
       "      <td>4</td>\n",
       "      <td>0</td>\n",
       "      <td>223.0</td>\n",
       "      <td>159.0</td>\n",
       "      <td>154.0</td>\n",
       "      <td>136.0</td>\n",
       "      <td>207.0</td>\n",
       "      <td>...</td>\n",
       "      <td>35.0</td>\n",
       "      <td>78.0</td>\n",
       "      <td>268.0</td>\n",
       "      <td>99.0</td>\n",
       "      <td>230.0</td>\n",
       "      <td>194.0</td>\n",
       "      <td>276.0</td>\n",
       "      <td>246.0</td>\n",
       "      <td>169.125000</td>\n",
       "      <td>154.130952</td>\n",
       "    </tr>\n",
       "  </tbody>\n",
       "</table>\n",
       "<p>5 rows × 31 columns</p>\n",
       "</div>"
      ],
      "text/plain": [
       "                     num_orders  month  hour  dayofweek  weekend  lag_1  \\\n",
       "datetime                                                                  \n",
       "2018-08-31 19:00:00         136      8    19          4        0  207.0   \n",
       "2018-08-31 20:00:00         154      8    20          4        0  136.0   \n",
       "2018-08-31 21:00:00         159      8    21          4        0  154.0   \n",
       "2018-08-31 22:00:00         223      8    22          4        0  159.0   \n",
       "2018-08-31 23:00:00         205      8    23          4        0  223.0   \n",
       "\n",
       "                     lag_2  lag_3  lag_4  lag_5  ...  lag_17  lag_18  lag_19  \\\n",
       "datetime                                         ...                           \n",
       "2018-08-31 19:00:00  217.0  197.0  116.0  133.0  ...   230.0   194.0   276.0   \n",
       "2018-08-31 20:00:00  207.0  217.0  197.0  116.0  ...    99.0   230.0   194.0   \n",
       "2018-08-31 21:00:00  136.0  207.0  217.0  197.0  ...   268.0    99.0   230.0   \n",
       "2018-08-31 22:00:00  154.0  136.0  207.0  217.0  ...    78.0   268.0    99.0   \n",
       "2018-08-31 23:00:00  159.0  154.0  136.0  207.0  ...    35.0    78.0   268.0   \n",
       "\n",
       "                     lag_20  lag_21  lag_22  lag_23  lag_24  rolling_mean_24h  \\\n",
       "datetime                                                                        \n",
       "2018-08-31 19:00:00   246.0   158.0   198.0   142.0    72.0        164.875000   \n",
       "2018-08-31 20:00:00   276.0   246.0   158.0   198.0   142.0        167.541667   \n",
       "2018-08-31 21:00:00   194.0   276.0   246.0   158.0   198.0        168.041667   \n",
       "2018-08-31 22:00:00   230.0   194.0   276.0   246.0   158.0        166.416667   \n",
       "2018-08-31 23:00:00    99.0   230.0   194.0   276.0   246.0        169.125000   \n",
       "\n",
       "                     rolling_mean_7d  \n",
       "datetime                              \n",
       "2018-08-31 19:00:00       154.297619  \n",
       "2018-08-31 20:00:00       154.434524  \n",
       "2018-08-31 21:00:00       154.285714  \n",
       "2018-08-31 22:00:00       154.244048  \n",
       "2018-08-31 23:00:00       154.130952  \n",
       "\n",
       "[5 rows x 31 columns]"
      ]
     },
     "metadata": {},
     "output_type": "display_data"
    }
   ],
   "source": [
    "def make_features(df, max_lag, rolling_mean_size):\n",
    "    df = df.copy()\n",
    "    # Добавляем временные признаки\n",
    "    df['month'] = df.index.month\n",
    "    #df['day'] = df.index.day\n",
    "    df['hour'] = df.index.hour  #\n",
    "    df['dayofweek'] = df.index.dayofweek\n",
    "    df['weekend'] = df.index.dayofweek.isin([5, 6]).astype(int)  # Признак выходного дня\n",
    "    \n",
    "    # лаги\n",
    "    for lag in range(1, max_lag + 1):\n",
    "        df[f'lag_{lag}'] = df['num_orders'].shift(lag)\n",
    "   \n",
    "    # скользящее среднее\n",
    "    df['rolling_mean_24h'] = df['num_orders'].shift().rolling(24).mean() \n",
    "    df['rolling_mean_7d'] = df['num_orders'].shift().rolling(168).mean()  \n",
    "    \n",
    "    return df\n",
    "\n",
    "\n",
    "new_df = make_features(df, 24, 168) \n",
    "\n",
    "display(new_df.tail())"
   ]
  },
  {
   "cell_type": "markdown",
   "metadata": {},
   "source": [
    "### Разделение"
   ]
  },
  {
   "cell_type": "code",
   "execution_count": 16,
   "metadata": {
    "scrolled": true
   },
   "outputs": [
    {
     "name": "stdout",
     "output_type": "stream",
     "text": [
      "(3806, 31)\n",
      "(442, 31)\n"
     ]
    }
   ],
   "source": [
    "train, test = train_test_split(new_df, shuffle=False, test_size=0.1)\n",
    "train = train.dropna()\n",
    "\n",
    "print(train.shape)\n",
    "print(test.shape)"
   ]
  },
  {
   "cell_type": "code",
   "execution_count": 17,
   "metadata": {},
   "outputs": [],
   "source": [
    "features = ['month', 'dayofweek','hour','weekend'] + [f'lag_{i}' for i in range(1,7)] + ['rolling_mean_24h', 'rolling_mean_7d']\n",
    "\n",
    "X_train = train[features]\n",
    "y_train = train['num_orders']\n",
    "X_test = test[features]\n",
    "y_test = test['num_orders']"
   ]
  },
  {
   "cell_type": "markdown",
   "metadata": {},
   "source": [
    "**OHE**"
   ]
  },
  {
   "cell_type": "code",
   "execution_count": 18,
   "metadata": {},
   "outputs": [],
   "source": [
    "ohe_columns = ['month', 'dayofweek','hour']\n",
    "\n",
    "preprocessor = ColumnTransformer(\n",
    "    transformers=[\n",
    "        ('ohe', OneHotEncoder(handle_unknown='ignore', sparse=False), ohe_columns),\n",
    "    ],\n",
    "    remainder='passthrough'\n",
    ")"
   ]
  },
  {
   "cell_type": "markdown",
   "metadata": {},
   "source": [
    "### Линейная регрессия"
   ]
  },
  {
   "cell_type": "code",
   "execution_count": 19,
   "metadata": {},
   "outputs": [],
   "source": [
    "tscv = TimeSeriesSplit(n_splits=5)"
   ]
  },
  {
   "cell_type": "code",
   "execution_count": 20,
   "metadata": {
    "scrolled": true
   },
   "outputs": [
    {
     "name": "stdout",
     "output_type": "stream",
     "text": [
      "Fitting 5 folds for each of 10 candidates, totalling 50 fits\n",
      "[CV] END model__fit_intercept=False, model__positive=False, scaler=MinMaxScaler(); total time=   0.2s\n",
      "[CV] END model__fit_intercept=False, model__positive=False, scaler=MinMaxScaler(); total time=   0.3s\n",
      "[CV] END model__fit_intercept=False, model__positive=False, scaler=MinMaxScaler(); total time=   0.5s\n",
      "[CV] END model__fit_intercept=False, model__positive=False, scaler=MinMaxScaler(); total time=   0.2s\n",
      "[CV] END model__fit_intercept=False, model__positive=False, scaler=MinMaxScaler(); total time=   0.3s\n",
      "[CV] END model__fit_intercept=False, model__positive=False, scaler=StandardScaler(); total time=   0.2s\n",
      "[CV] END model__fit_intercept=False, model__positive=False, scaler=StandardScaler(); total time=   0.4s\n",
      "[CV] END model__fit_intercept=False, model__positive=False, scaler=StandardScaler(); total time=   0.2s\n",
      "[CV] END model__fit_intercept=False, model__positive=False, scaler=StandardScaler(); total time=   0.4s\n",
      "[CV] END model__fit_intercept=False, model__positive=False, scaler=StandardScaler(); total time=   0.2s\n",
      "[CV] END model__fit_intercept=True, model__positive=True, scaler=StandardScaler(); total time=   0.1s\n",
      "[CV] END model__fit_intercept=True, model__positive=True, scaler=StandardScaler(); total time=   0.2s\n",
      "[CV] END model__fit_intercept=True, model__positive=True, scaler=StandardScaler(); total time=   0.3s\n",
      "[CV] END model__fit_intercept=True, model__positive=True, scaler=StandardScaler(); total time=   0.2s\n",
      "[CV] END model__fit_intercept=True, model__positive=True, scaler=StandardScaler(); total time=   0.2s\n",
      "[CV] END model__fit_intercept=False, model__positive=True, scaler=None; total time=   0.1s\n",
      "[CV] END model__fit_intercept=False, model__positive=True, scaler=None; total time=   0.2s\n",
      "[CV] END model__fit_intercept=False, model__positive=True, scaler=None; total time=   0.2s\n",
      "[CV] END model__fit_intercept=False, model__positive=True, scaler=None; total time=   0.2s\n",
      "[CV] END model__fit_intercept=False, model__positive=True, scaler=None; total time=   0.2s\n",
      "[CV] END model__fit_intercept=True, model__positive=False, scaler=None; total time=   0.4s\n",
      "[CV] END model__fit_intercept=True, model__positive=False, scaler=None; total time=   0.3s\n",
      "[CV] END model__fit_intercept=True, model__positive=False, scaler=None; total time=   0.4s\n",
      "[CV] END model__fit_intercept=True, model__positive=False, scaler=None; total time=   0.4s\n",
      "[CV] END model__fit_intercept=True, model__positive=False, scaler=None; total time=   0.5s\n",
      "[CV] END model__fit_intercept=True, model__positive=True, scaler=None; total time=   0.2s\n",
      "[CV] END model__fit_intercept=True, model__positive=True, scaler=None; total time=   0.1s\n",
      "[CV] END model__fit_intercept=True, model__positive=True, scaler=None; total time=   0.2s\n",
      "[CV] END model__fit_intercept=True, model__positive=True, scaler=None; total time=   0.3s\n",
      "[CV] END model__fit_intercept=True, model__positive=True, scaler=None; total time=   0.3s\n",
      "[CV] END model__fit_intercept=True, model__positive=True, scaler=MinMaxScaler(); total time=   0.3s\n",
      "[CV] END model__fit_intercept=True, model__positive=True, scaler=MinMaxScaler(); total time=   0.1s\n",
      "[CV] END model__fit_intercept=True, model__positive=True, scaler=MinMaxScaler(); total time=   0.2s\n",
      "[CV] END model__fit_intercept=True, model__positive=True, scaler=MinMaxScaler(); total time=   0.2s\n",
      "[CV] END model__fit_intercept=True, model__positive=True, scaler=MinMaxScaler(); total time=   0.2s\n",
      "[CV] END model__fit_intercept=False, model__positive=False, scaler=None; total time=   0.4s\n",
      "[CV] END model__fit_intercept=False, model__positive=False, scaler=None; total time=   0.2s\n",
      "[CV] END model__fit_intercept=False, model__positive=False, scaler=None; total time=   0.3s\n",
      "[CV] END model__fit_intercept=False, model__positive=False, scaler=None; total time=   0.4s\n",
      "[CV] END model__fit_intercept=False, model__positive=False, scaler=None; total time=   0.5s\n",
      "[CV] END model__fit_intercept=True, model__positive=False, scaler=MinMaxScaler(); total time=   0.2s\n",
      "[CV] END model__fit_intercept=True, model__positive=False, scaler=MinMaxScaler(); total time=   0.5s\n",
      "[CV] END model__fit_intercept=True, model__positive=False, scaler=MinMaxScaler(); total time=   0.3s\n",
      "[CV] END model__fit_intercept=True, model__positive=False, scaler=MinMaxScaler(); total time=   0.4s\n",
      "[CV] END model__fit_intercept=True, model__positive=False, scaler=MinMaxScaler(); total time=   0.5s\n",
      "[CV] END model__fit_intercept=False, model__positive=True, scaler=MinMaxScaler(); total time=   0.2s\n",
      "[CV] END model__fit_intercept=False, model__positive=True, scaler=MinMaxScaler(); total time=   0.1s\n",
      "[CV] END model__fit_intercept=False, model__positive=True, scaler=MinMaxScaler(); total time=   0.2s\n",
      "[CV] END model__fit_intercept=False, model__positive=True, scaler=MinMaxScaler(); total time=   0.3s\n",
      "[CV] END model__fit_intercept=False, model__positive=True, scaler=MinMaxScaler(); total time=   0.2s\n",
      "Лучшие параметры: {'scaler': MinMaxScaler(), 'model__positive': True, 'model__fit_intercept': True}\n",
      "RMSE: 25.331314012519286\n"
     ]
    }
   ],
   "source": [
    "RANDOM_STATE = 42\n",
    "\n",
    "\n",
    "# Полный пайплайн_1\n",
    "pipeline_lr = Pipeline([\n",
    "    ('preprocessor', preprocessor), \n",
    "    ('scaler', StandardScaler()),   \n",
    "    ('model', LinearRegression()) \n",
    "])\n",
    "\n",
    "\n",
    "param_distributions = {\n",
    "    'scaler': [StandardScaler(), MinMaxScaler(), None],  \n",
    "    'model__fit_intercept': [True, False],\n",
    "    'model__positive': [True, False]\n",
    "}\n",
    "    \n",
    "\n",
    "randomized_search = RandomizedSearchCV(\n",
    "    pipeline_lr, \n",
    "    param_distributions, \n",
    "    cv=tscv,\n",
    "    scoring='neg_root_mean_squared_error', \n",
    "    random_state=RANDOM_STATE,\n",
    "    n_jobs=-1,\n",
    "    verbose=2\n",
    ")\n",
    "\n",
    "\n",
    "randomized_search.fit(X_train, y_train)\n",
    "\n",
    "# Лучшая модель\n",
    "best_model = randomized_search.best_estimator_\n",
    "print(\"Лучшие параметры:\", randomized_search.best_params_)\n",
    "print(\"RMSE:\", -randomized_search.best_score_)"
   ]
  },
  {
   "cell_type": "markdown",
   "metadata": {},
   "source": [
    "Лучшие параметры: {'scaler': None, 'model__positive': False, 'model__fit_intercept': True}\n",
    "\n",
    "**RMSE: 25.331 < 48**"
   ]
  },
  {
   "cell_type": "markdown",
   "metadata": {},
   "source": [
    "### RandomForest"
   ]
  },
  {
   "cell_type": "code",
   "execution_count": 21,
   "metadata": {
    "scrolled": true
   },
   "outputs": [
    {
     "name": "stdout",
     "output_type": "stream",
     "text": [
      "Fitting 5 folds for each of 10 candidates, totalling 50 fits\n",
      "[CV] END model__max_depth=10, model__min_samples_leaf=1, model__min_samples_split=5, model__n_estimators=100; total time=   2.8s\n",
      "[CV] END model__max_depth=10, model__min_samples_leaf=1, model__min_samples_split=5, model__n_estimators=100; total time=   4.6s\n",
      "[CV] END model__max_depth=10, model__min_samples_leaf=1, model__min_samples_split=5, model__n_estimators=100; total time=   6.1s\n",
      "[CV] END model__max_depth=10, model__min_samples_leaf=1, model__min_samples_split=5, model__n_estimators=100; total time=   8.1s\n",
      "[CV] END model__max_depth=10, model__min_samples_leaf=1, model__min_samples_split=5, model__n_estimators=100; total time=   8.9s\n",
      "[CV] END model__max_depth=5, model__min_samples_leaf=1, model__min_samples_split=2, model__n_estimators=100; total time=   1.8s\n",
      "[CV] END model__max_depth=5, model__min_samples_leaf=1, model__min_samples_split=2, model__n_estimators=100; total time=   1.2s\n",
      "[CV] END model__max_depth=5, model__min_samples_leaf=1, model__min_samples_split=2, model__n_estimators=100; total time=   3.5s\n",
      "[CV] END model__max_depth=5, model__min_samples_leaf=1, model__min_samples_split=2, model__n_estimators=100; total time=   4.5s\n",
      "[CV] END model__max_depth=5, model__min_samples_leaf=1, model__min_samples_split=2, model__n_estimators=100; total time=   6.7s\n",
      "[CV] END model__max_depth=5, model__min_samples_leaf=4, model__min_samples_split=5, model__n_estimators=200; total time=   4.3s\n",
      "[CV] END model__max_depth=5, model__min_samples_leaf=4, model__min_samples_split=5, model__n_estimators=200; total time=   6.1s\n",
      "[CV] END model__max_depth=5, model__min_samples_leaf=4, model__min_samples_split=5, model__n_estimators=200; total time=   7.7s\n",
      "[CV] END model__max_depth=5, model__min_samples_leaf=4, model__min_samples_split=5, model__n_estimators=200; total time=  11.1s\n",
      "[CV] END model__max_depth=5, model__min_samples_leaf=4, model__min_samples_split=5, model__n_estimators=200; total time=  10.6s\n",
      "[CV] END model__max_depth=10, model__min_samples_leaf=1, model__min_samples_split=5, model__n_estimators=200; total time=   5.6s\n",
      "[CV] END model__max_depth=10, model__min_samples_leaf=1, model__min_samples_split=5, model__n_estimators=200; total time=   8.8s\n",
      "[CV] END model__max_depth=10, model__min_samples_leaf=1, model__min_samples_split=5, model__n_estimators=200; total time=  11.1s\n",
      "[CV] END model__max_depth=10, model__min_samples_leaf=1, model__min_samples_split=5, model__n_estimators=200; total time=  16.4s\n",
      "[CV] END model__max_depth=10, model__min_samples_leaf=1, model__min_samples_split=5, model__n_estimators=200; total time=  19.0s\n",
      "[CV] END model__max_depth=5, model__min_samples_leaf=4, model__min_samples_split=2, model__n_estimators=100; total time=   1.9s\n",
      "[CV] END model__max_depth=5, model__min_samples_leaf=4, model__min_samples_split=2, model__n_estimators=100; total time=   2.6s\n",
      "[CV] END model__max_depth=5, model__min_samples_leaf=4, model__min_samples_split=2, model__n_estimators=100; total time=   3.9s\n",
      "[CV] END model__max_depth=5, model__min_samples_leaf=4, model__min_samples_split=2, model__n_estimators=100; total time=   5.2s\n",
      "[CV] END model__max_depth=5, model__min_samples_leaf=4, model__min_samples_split=2, model__n_estimators=100; total time=   5.5s\n",
      "[CV] END model__max_depth=10, model__min_samples_leaf=1, model__min_samples_split=2, model__n_estimators=200; total time=   5.4s\n",
      "[CV] END model__max_depth=10, model__min_samples_leaf=1, model__min_samples_split=2, model__n_estimators=200; total time=   9.5s\n",
      "[CV] END model__max_depth=10, model__min_samples_leaf=1, model__min_samples_split=2, model__n_estimators=200; total time=  12.7s\n",
      "[CV] END model__max_depth=10, model__min_samples_leaf=1, model__min_samples_split=2, model__n_estimators=200; total time=  16.7s\n",
      "[CV] END model__max_depth=10, model__min_samples_leaf=1, model__min_samples_split=2, model__n_estimators=200; total time=  21.9s\n",
      "[CV] END model__max_depth=5, model__min_samples_leaf=2, model__min_samples_split=2, model__n_estimators=200; total time=   3.4s\n",
      "[CV] END model__max_depth=5, model__min_samples_leaf=2, model__min_samples_split=2, model__n_estimators=200; total time=   5.8s\n",
      "[CV] END model__max_depth=5, model__min_samples_leaf=2, model__min_samples_split=2, model__n_estimators=200; total time=   7.8s\n",
      "[CV] END model__max_depth=5, model__min_samples_leaf=2, model__min_samples_split=2, model__n_estimators=200; total time=  10.1s\n",
      "[CV] END model__max_depth=5, model__min_samples_leaf=2, model__min_samples_split=2, model__n_estimators=200; total time=  10.8s\n",
      "[CV] END model__max_depth=20, model__min_samples_leaf=2, model__min_samples_split=10, model__n_estimators=200; total time=   6.7s\n",
      "[CV] END model__max_depth=20, model__min_samples_leaf=2, model__min_samples_split=10, model__n_estimators=200; total time=  10.9s\n",
      "[CV] END model__max_depth=20, model__min_samples_leaf=2, model__min_samples_split=10, model__n_estimators=200; total time=  14.7s\n",
      "[CV] END model__max_depth=20, model__min_samples_leaf=2, model__min_samples_split=10, model__n_estimators=200; total time=  19.8s\n",
      "[CV] END model__max_depth=20, model__min_samples_leaf=2, model__min_samples_split=10, model__n_estimators=200; total time=  26.6s\n",
      "[CV] END model__max_depth=5, model__min_samples_leaf=1, model__min_samples_split=5, model__n_estimators=200; total time=   4.1s\n",
      "[CV] END model__max_depth=5, model__min_samples_leaf=1, model__min_samples_split=5, model__n_estimators=200; total time=   5.9s\n",
      "[CV] END model__max_depth=5, model__min_samples_leaf=1, model__min_samples_split=5, model__n_estimators=200; total time=   6.6s\n",
      "[CV] END model__max_depth=5, model__min_samples_leaf=1, model__min_samples_split=5, model__n_estimators=200; total time=   9.9s\n",
      "[CV] END model__max_depth=5, model__min_samples_leaf=1, model__min_samples_split=5, model__n_estimators=200; total time=  11.1s\n",
      "[CV] END model__max_depth=5, model__min_samples_leaf=2, model__min_samples_split=5, model__n_estimators=100; total time=   2.1s\n",
      "[CV] END model__max_depth=5, model__min_samples_leaf=2, model__min_samples_split=5, model__n_estimators=100; total time=   3.0s\n",
      "[CV] END model__max_depth=5, model__min_samples_leaf=2, model__min_samples_split=5, model__n_estimators=100; total time=   3.6s\n",
      "[CV] END model__max_depth=5, model__min_samples_leaf=2, model__min_samples_split=5, model__n_estimators=100; total time=   4.6s\n",
      "[CV] END model__max_depth=5, model__min_samples_leaf=2, model__min_samples_split=5, model__n_estimators=100; total time=   5.9s\n",
      "Лучшие параметры: {'model__n_estimators': 200, 'model__min_samples_split': 10, 'model__min_samples_leaf': 2, 'model__max_depth': 20}\n",
      "RMSE: 25.29616722124863\n"
     ]
    }
   ],
   "source": [
    "from sklearn.ensemble import RandomForestRegressor\n",
    "\n",
    "RANDOM_STATE = 42\n",
    "\n",
    "\n",
    "pipeline_rf = Pipeline([\n",
    "    ('preprocessor', preprocessor), \n",
    "    ('model', RandomForestRegressor(random_state=RANDOM_STATE)) \n",
    "])\n",
    "\n",
    "param_distributions_rf = {\n",
    "    'model__n_estimators': [100, 200, 300],\n",
    "    'model__max_depth': [5, 10, 20],\n",
    "    'model__min_samples_split': [2, 5, 10],\n",
    "    'model__min_samples_leaf': [1, 2, 4],\n",
    "}\n",
    "\n",
    "randomized_search_rf = RandomizedSearchCV(\n",
    "    estimator=pipeline_rf,\n",
    "    param_distributions=param_distributions_rf,\n",
    "    n_iter=10,\n",
    "    cv=tscv,\n",
    "    scoring='neg_root_mean_squared_error',\n",
    "    random_state=RANDOM_STATE,\n",
    "    n_jobs=-1,\n",
    "    verbose=2\n",
    ")\n",
    "\n",
    "# обучение\n",
    "randomized_search_rf.fit(X_train, y_train)\n",
    "\n",
    "best_model_rf = randomized_search_rf.best_estimator_\n",
    "print(\"Лучшие параметры:\", randomized_search_rf.best_params_)\n",
    "print(\"RMSE:\", -randomized_search_rf.best_score_)"
   ]
  },
  {
   "cell_type": "markdown",
   "metadata": {},
   "source": [
    "Лучшие параметры: {'model__n_estimators': 100, 'model__min_samples_split': 5, 'model__min_samples_leaf': 2, 'model__max_depth': 20}\n",
    "\n",
    "\n",
    "**RMSE: 25.296< 48**"
   ]
  },
  {
   "cell_type": "markdown",
   "metadata": {},
   "source": [
    "### LightGBM"
   ]
  },
  {
   "cell_type": "code",
   "execution_count": 22,
   "metadata": {
    "scrolled": true
   },
   "outputs": [
    {
     "name": "stdout",
     "output_type": "stream",
     "text": [
      "Fitting 5 folds for each of 5 candidates, totalling 25 fits\n",
      "[CV] END model=LGBMRegressor(random_state=42), model__learning_rate=0.1, model__max_depth=5, model__n_estimators=100; total time=  55.1s\n",
      "[CV] END model=LGBMRegressor(random_state=42), model__learning_rate=0.1, model__max_depth=5, model__n_estimators=100; total time= 1.7min\n",
      "[CV] END model=LGBMRegressor(random_state=42), model__learning_rate=0.1, model__max_depth=5, model__n_estimators=100; total time= 2.2min\n",
      "[CV] END model=LGBMRegressor(random_state=42), model__learning_rate=0.1, model__max_depth=5, model__n_estimators=100; total time= 2.0min\n",
      "[CV] END model=LGBMRegressor(random_state=42), model__learning_rate=0.1, model__max_depth=5, model__n_estimators=100; total time= 1.7min\n",
      "[CV] END model=LGBMRegressor(random_state=42), model__learning_rate=0.05, model__max_depth=5, model__n_estimators=100; total time=  60.0s\n",
      "[CV] END model=LGBMRegressor(random_state=42), model__learning_rate=0.05, model__max_depth=5, model__n_estimators=100; total time= 1.2min\n",
      "[CV] END model=LGBMRegressor(random_state=42), model__learning_rate=0.05, model__max_depth=5, model__n_estimators=100; total time= 2.1min\n",
      "[CV] END model=LGBMRegressor(random_state=42), model__learning_rate=0.05, model__max_depth=5, model__n_estimators=100; total time= 1.9min\n",
      "[CV] END model=LGBMRegressor(random_state=42), model__learning_rate=0.05, model__max_depth=5, model__n_estimators=100; total time= 1.5min\n",
      "[CV] END model=LGBMRegressor(random_state=42), model__learning_rate=0.1, model__max_depth=5, model__n_estimators=50; total time=  39.0s\n",
      "[CV] END model=LGBMRegressor(random_state=42), model__learning_rate=0.1, model__max_depth=5, model__n_estimators=50; total time=  46.3s\n",
      "[CV] END model=LGBMRegressor(random_state=42), model__learning_rate=0.1, model__max_depth=5, model__n_estimators=50; total time= 1.8min\n",
      "[CV] END model=LGBMRegressor(random_state=42), model__learning_rate=0.1, model__max_depth=5, model__n_estimators=50; total time= 1.6min\n",
      "[CV] END model=LGBMRegressor(random_state=42), model__learning_rate=0.1, model__max_depth=5, model__n_estimators=50; total time= 1.4min\n",
      "[CV] END model=LGBMRegressor(random_state=42), model__learning_rate=0.05, model__max_depth=7, model__n_estimators=100; total time= 1.2min\n",
      "[CV] END model=LGBMRegressor(random_state=42), model__learning_rate=0.05, model__max_depth=7, model__n_estimators=100; total time= 2.7min\n",
      "[CV] END model=LGBMRegressor(random_state=42), model__learning_rate=0.05, model__max_depth=7, model__n_estimators=100; total time= 3.0min\n",
      "[CV] END model=LGBMRegressor(random_state=42), model__learning_rate=0.05, model__max_depth=7, model__n_estimators=100; total time= 3.6min\n",
      "[CV] END model=LGBMRegressor(random_state=42), model__learning_rate=0.05, model__max_depth=7, model__n_estimators=100; total time= 2.6min\n",
      "[CV] END model=LGBMRegressor(random_state=42), model__learning_rate=0.1, model__max_depth=7, model__n_estimators=50; total time= 1.2min\n",
      "[CV] END model=LGBMRegressor(random_state=42), model__learning_rate=0.1, model__max_depth=7, model__n_estimators=50; total time=  53.8s\n",
      "[CV] END model=LGBMRegressor(random_state=42), model__learning_rate=0.1, model__max_depth=7, model__n_estimators=50; total time= 1.8min\n",
      "[CV] END model=LGBMRegressor(random_state=42), model__learning_rate=0.1, model__max_depth=7, model__n_estimators=50; total time= 1.6min\n",
      "[CV] END model=LGBMRegressor(random_state=42), model__learning_rate=0.1, model__max_depth=7, model__n_estimators=50; total time= 2.1min\n",
      "Лучшие параметры: {'model__n_estimators': 100, 'model__max_depth': 7, 'model__learning_rate': 0.05, 'model': LGBMRegressor(learning_rate=0.05, max_depth=7, random_state=42)}\n",
      "RMSE: 25.83961238246127\n"
     ]
    }
   ],
   "source": [
    "from lightgbm import LGBMRegressor \n",
    "pipeline_lgbm = Pipeline([\n",
    "    ('preprocessor', preprocessor), \n",
    "    ('model', LGBMRegressor())\n",
    "])\n",
    "\n",
    "param_grid_lgbm = [\n",
    "    {\n",
    "        'model': [LGBMRegressor(random_state=RANDOM_STATE)],\n",
    "        'model__n_estimators': [50, 100],\n",
    "        'model__max_depth': [5, 7],\n",
    "        'model__learning_rate': [0.1, 0.05]\n",
    "    }    \n",
    "]\n",
    "\n",
    "randomized_search_lgbm = RandomizedSearchCV(\n",
    "    pipeline_lgbm,\n",
    "    param_grid_lgbm,\n",
    "    n_iter=5,\n",
    "    cv=tscv,\n",
    "    scoring='neg_root_mean_squared_error',\n",
    "    random_state=RANDOM_STATE,\n",
    "    n_jobs=-1,\n",
    "    verbose=2\n",
    ")\n",
    "\n",
    "# обучение\n",
    "randomized_search_lgbm.fit(X_train, y_train)\n",
    "\n",
    "best_model_lgbm = randomized_search_lgbm.best_estimator_\n",
    "print(\"Лучшие параметры:\", randomized_search_lgbm.best_params_)\n",
    "print(\"RMSE:\", -randomized_search_lgbm.best_score_)"
   ]
  },
  {
   "cell_type": "markdown",
   "metadata": {},
   "source": [
    "Лучшие параметры: {'model__n_estimators': 100, 'model__max_depth': 7, 'model__learning_rate': 0.05, 'model': LGBMRegressor(learning_rate=0.05, max_depth=7, random_state=42)}\n",
    "\n",
    "**RMSE: 25.840 < 48**"
   ]
  },
  {
   "cell_type": "markdown",
   "metadata": {},
   "source": [
    "## Тестирование (проверка на тестовой выборке) и проверка качества на тестовой выборке"
   ]
  },
  {
   "cell_type": "markdown",
   "metadata": {},
   "source": [
    "Все рассмотренные модели показали себя хорошо, RMSE< 48.\n",
    "Самый лучший результат достигнут на модели RandomForest, RMSE = 22.52."
   ]
  },
  {
   "cell_type": "markdown",
   "metadata": {},
   "source": [
    "### RandomForest"
   ]
  },
  {
   "cell_type": "code",
   "execution_count": 23,
   "metadata": {},
   "outputs": [
    {
     "name": "stdout",
     "output_type": "stream",
     "text": [
      "RMSE на тесте: 41.44566798315139\n"
     ]
    }
   ],
   "source": [
    "best_model_rf = randomized_search_rf.best_estimator_\n",
    "y_test_rf = best_model_rf.predict(X_test)\n",
    "\n",
    "print(\"RMSE на тесте:\", mean_squared_error(y_test,y_test_rf, squared=False))"
   ]
  },
  {
   "cell_type": "markdown",
   "metadata": {},
   "source": [
    "RMSE на тесте: 41.44< 48.\n",
    "В целом, предложенная модель соответствует пожеланиям заказчика."
   ]
  },
  {
   "cell_type": "markdown",
   "metadata": {},
   "source": [
    "## Вывод"
   ]
  },
  {
   "cell_type": "markdown",
   "metadata": {},
   "source": [
    "В рамках данного проекта мы познакомились с принципами работы с временными данными.\n",
    "Целью данного проекта являлось научиться предсказывать количество заказов такси в аэропорт на час вперед. Для этого необходимо было загрузить и проанализировать данные, посмотреть, что влияет на спрос заказа такси в аэропорт (другими словами - изучить закономерности), а далее обучить несколько моделей на временных данных, которые смогут наиболее хорошо предсказывать будущий спрос на такси в аэропорт, и получить значение RMSE на тестовой выборке не более 48.\n",
    "\n",
    "Наилучший результат (по метрике RMSE) достигнут на тренировочных данных при применении модели RandomForest.\n",
    "На тестовых данных модель показала себя хуже, но все равно в требуемые значения результат попадает."
   ]
  },
  {
   "cell_type": "code",
   "execution_count": null,
   "metadata": {},
   "outputs": [],
   "source": []
  }
 ],
 "metadata": {
  "ExecuteTimeLog": [
   {
    "duration": 1872,
    "start_time": "2025-06-27T19:22:46.123Z"
   },
   {
    "duration": 36,
    "start_time": "2025-06-27T19:31:00.364Z"
   },
   {
    "duration": 41,
    "start_time": "2025-06-27T19:31:15.868Z"
   },
   {
    "duration": 210,
    "start_time": "2025-06-27T19:33:47.824Z"
   },
   {
    "duration": 147,
    "start_time": "2025-06-27T19:34:10.982Z"
   },
   {
    "duration": 56,
    "start_time": "2025-06-27T19:37:14.100Z"
   },
   {
    "duration": 49,
    "start_time": "2025-06-27T19:50:59.319Z"
   },
   {
    "duration": 49,
    "start_time": "2025-06-27T19:51:18.388Z"
   },
   {
    "duration": 11,
    "start_time": "2025-06-27T19:51:57.636Z"
   },
   {
    "duration": 6,
    "start_time": "2025-06-27T19:55:43.948Z"
   },
   {
    "duration": 14,
    "start_time": "2025-06-27T20:01:39.950Z"
   },
   {
    "duration": 516,
    "start_time": "2025-06-27T20:34:00.130Z"
   },
   {
    "duration": 388,
    "start_time": "2025-06-27T20:34:15.771Z"
   },
   {
    "duration": 17,
    "start_time": "2025-06-27T20:38:57.282Z"
   },
   {
    "duration": 8381,
    "start_time": "2025-06-27T20:41:43.972Z"
   },
   {
    "duration": 7712,
    "start_time": "2025-06-27T20:42:50.999Z"
   },
   {
    "duration": 7802,
    "start_time": "2025-06-27T20:43:08.087Z"
   },
   {
    "duration": 6720,
    "start_time": "2025-06-27T20:43:32.118Z"
   },
   {
    "duration": 3,
    "start_time": "2025-06-27T20:45:19.293Z"
   },
   {
    "duration": 20,
    "start_time": "2025-06-27T20:46:51.787Z"
   },
   {
    "duration": 249,
    "start_time": "2025-06-27T20:47:37.773Z"
   },
   {
    "duration": 253,
    "start_time": "2025-06-27T20:49:48.068Z"
   },
   {
    "duration": 282,
    "start_time": "2025-06-27T20:50:45.216Z"
   },
   {
    "duration": 266,
    "start_time": "2025-06-27T20:50:53.207Z"
   },
   {
    "duration": 459,
    "start_time": "2025-06-27T20:51:33.482Z"
   },
   {
    "duration": 1295,
    "start_time": "2025-06-27T20:52:32.532Z"
   },
   {
    "duration": 13,
    "start_time": "2025-06-27T20:52:58.930Z"
   },
   {
    "duration": 1527,
    "start_time": "2025-06-27T20:53:37.315Z"
   },
   {
    "duration": 1435,
    "start_time": "2025-06-27T20:53:48.566Z"
   },
   {
    "duration": 1330,
    "start_time": "2025-06-27T20:53:58.592Z"
   },
   {
    "duration": 487,
    "start_time": "2025-06-27T20:54:11.654Z"
   },
   {
    "duration": 301,
    "start_time": "2025-06-27T20:54:57.194Z"
   },
   {
    "duration": 326,
    "start_time": "2025-06-27T20:55:10.867Z"
   },
   {
    "duration": 1530,
    "start_time": "2025-06-27T20:56:22.994Z"
   },
   {
    "duration": 1261,
    "start_time": "2025-06-27T20:58:03.731Z"
   },
   {
    "duration": 1852,
    "start_time": "2025-06-27T20:58:27.595Z"
   },
   {
    "duration": 1493,
    "start_time": "2025-06-27T20:58:53.420Z"
   },
   {
    "duration": 1143,
    "start_time": "2025-06-27T20:58:59.176Z"
   },
   {
    "duration": 1576,
    "start_time": "2025-06-27T20:59:58.650Z"
   },
   {
    "duration": 65,
    "start_time": "2025-06-27T21:00:00.227Z"
   },
   {
    "duration": 15,
    "start_time": "2025-06-27T21:00:00.293Z"
   },
   {
    "duration": 137,
    "start_time": "2025-06-27T21:00:00.309Z"
   },
   {
    "duration": 0,
    "start_time": "2025-06-27T21:00:00.447Z"
   },
   {
    "duration": 0,
    "start_time": "2025-06-27T21:00:00.448Z"
   },
   {
    "duration": 0,
    "start_time": "2025-06-27T21:00:00.464Z"
   },
   {
    "duration": 0,
    "start_time": "2025-06-27T21:00:00.465Z"
   },
   {
    "duration": 0,
    "start_time": "2025-06-27T21:00:00.467Z"
   },
   {
    "duration": 0,
    "start_time": "2025-06-27T21:00:00.468Z"
   },
   {
    "duration": 0,
    "start_time": "2025-06-27T21:00:00.470Z"
   },
   {
    "duration": 1626,
    "start_time": "2025-06-27T21:00:15.503Z"
   },
   {
    "duration": 70,
    "start_time": "2025-06-27T21:00:17.131Z"
   },
   {
    "duration": 12,
    "start_time": "2025-06-27T21:00:17.202Z"
   },
   {
    "duration": 4,
    "start_time": "2025-06-27T21:00:17.216Z"
   },
   {
    "duration": 161,
    "start_time": "2025-06-27T21:00:17.221Z"
   },
   {
    "duration": 1,
    "start_time": "2025-06-27T21:00:17.384Z"
   },
   {
    "duration": 0,
    "start_time": "2025-06-27T21:00:17.386Z"
   },
   {
    "duration": 0,
    "start_time": "2025-06-27T21:00:17.388Z"
   },
   {
    "duration": 0,
    "start_time": "2025-06-27T21:00:17.389Z"
   },
   {
    "duration": 0,
    "start_time": "2025-06-27T21:00:17.391Z"
   },
   {
    "duration": 0,
    "start_time": "2025-06-27T21:00:17.392Z"
   },
   {
    "duration": 14,
    "start_time": "2025-06-27T21:00:38.624Z"
   },
   {
    "duration": 1575,
    "start_time": "2025-06-27T21:00:43.227Z"
   },
   {
    "duration": 50,
    "start_time": "2025-06-27T21:00:44.805Z"
   },
   {
    "duration": 52,
    "start_time": "2025-06-27T21:00:44.856Z"
   },
   {
    "duration": 4,
    "start_time": "2025-06-27T21:00:44.910Z"
   },
   {
    "duration": 15,
    "start_time": "2025-06-27T21:00:44.916Z"
   },
   {
    "duration": 1197,
    "start_time": "2025-06-27T21:00:44.933Z"
   },
   {
    "duration": 868,
    "start_time": "2025-06-27T21:00:46.132Z"
   },
   {
    "duration": 14,
    "start_time": "2025-06-27T21:00:47.002Z"
   },
   {
    "duration": 80,
    "start_time": "2025-06-27T21:00:47.018Z"
   },
   {
    "duration": 0,
    "start_time": "2025-06-27T21:00:47.099Z"
   },
   {
    "duration": 0,
    "start_time": "2025-06-27T21:00:47.100Z"
   },
   {
    "duration": 1558,
    "start_time": "2025-06-27T21:01:03.538Z"
   },
   {
    "duration": 49,
    "start_time": "2025-06-27T21:01:05.098Z"
   },
   {
    "duration": 27,
    "start_time": "2025-06-27T21:01:05.148Z"
   },
   {
    "duration": 19,
    "start_time": "2025-06-27T21:01:05.177Z"
   },
   {
    "duration": 18,
    "start_time": "2025-06-27T21:01:05.199Z"
   },
   {
    "duration": 1167,
    "start_time": "2025-06-27T21:01:05.219Z"
   },
   {
    "duration": 837,
    "start_time": "2025-06-27T21:01:06.389Z"
   },
   {
    "duration": 14,
    "start_time": "2025-06-27T21:01:07.229Z"
   },
   {
    "duration": 36,
    "start_time": "2025-06-27T21:01:07.259Z"
   },
   {
    "duration": 4766,
    "start_time": "2025-06-27T21:01:07.297Z"
   },
   {
    "duration": 934,
    "start_time": "2025-06-27T21:01:37.943Z"
   },
   {
    "duration": 996,
    "start_time": "2025-06-27T21:01:53.051Z"
   },
   {
    "duration": 1156,
    "start_time": "2025-06-27T21:02:30.327Z"
   },
   {
    "duration": 961,
    "start_time": "2025-06-27T21:25:24.104Z"
   },
   {
    "duration": 1121,
    "start_time": "2025-06-27T21:25:32.727Z"
   },
   {
    "duration": 148,
    "start_time": "2025-06-27T21:28:30.224Z"
   },
   {
    "duration": 29,
    "start_time": "2025-06-27T21:28:46.227Z"
   },
   {
    "duration": 18,
    "start_time": "2025-06-27T21:29:40.795Z"
   },
   {
    "duration": 23,
    "start_time": "2025-06-27T21:30:03.496Z"
   },
   {
    "duration": 1558,
    "start_time": "2025-06-27T21:30:17.573Z"
   },
   {
    "duration": 67,
    "start_time": "2025-06-27T21:30:19.132Z"
   },
   {
    "duration": 11,
    "start_time": "2025-06-27T21:30:19.201Z"
   },
   {
    "duration": 3,
    "start_time": "2025-06-27T21:30:19.214Z"
   },
   {
    "duration": 12,
    "start_time": "2025-06-27T21:30:19.219Z"
   },
   {
    "duration": 2202,
    "start_time": "2025-06-27T21:30:19.233Z"
   },
   {
    "duration": 0,
    "start_time": "2025-06-27T21:30:21.437Z"
   },
   {
    "duration": 0,
    "start_time": "2025-06-27T21:30:21.439Z"
   },
   {
    "duration": 0,
    "start_time": "2025-06-27T21:30:21.441Z"
   },
   {
    "duration": 0,
    "start_time": "2025-06-27T21:30:21.442Z"
   },
   {
    "duration": 1979,
    "start_time": "2025-06-27T21:31:06.640Z"
   },
   {
    "duration": 1049,
    "start_time": "2025-06-27T21:31:25.543Z"
   },
   {
    "duration": 21,
    "start_time": "2025-06-27T21:32:26.094Z"
   },
   {
    "duration": 14,
    "start_time": "2025-06-27T21:34:53.820Z"
   },
   {
    "duration": 12,
    "start_time": "2025-06-27T21:35:21.284Z"
   },
   {
    "duration": 34,
    "start_time": "2025-06-27T21:35:27.156Z"
   },
   {
    "duration": 4255,
    "start_time": "2025-06-27T21:35:28.448Z"
   },
   {
    "duration": 557,
    "start_time": "2025-06-27T21:36:04.624Z"
   },
   {
    "duration": 27,
    "start_time": "2025-06-27T21:36:06.351Z"
   },
   {
    "duration": 3663,
    "start_time": "2025-06-27T21:37:22.460Z"
   },
   {
    "duration": 3556,
    "start_time": "2025-06-27T21:37:45.851Z"
   },
   {
    "duration": 392,
    "start_time": "2025-06-27T21:38:48.308Z"
   },
   {
    "duration": 508,
    "start_time": "2025-06-27T21:39:23.595Z"
   },
   {
    "duration": 435,
    "start_time": "2025-06-27T21:39:42.178Z"
   },
   {
    "duration": 429,
    "start_time": "2025-06-27T21:41:49.869Z"
   },
   {
    "duration": 386,
    "start_time": "2025-06-27T21:41:55.723Z"
   },
   {
    "duration": 398,
    "start_time": "2025-06-27T21:42:03.412Z"
   },
   {
    "duration": 403,
    "start_time": "2025-06-27T21:42:42.111Z"
   },
   {
    "duration": 24,
    "start_time": "2025-06-27T21:44:35.521Z"
   },
   {
    "duration": 41,
    "start_time": "2025-06-27T21:44:54.748Z"
   },
   {
    "duration": 17,
    "start_time": "2025-06-27T21:45:14.036Z"
   },
   {
    "duration": 23,
    "start_time": "2025-06-27T21:45:55.802Z"
   },
   {
    "duration": 23,
    "start_time": "2025-06-27T21:46:06.714Z"
   },
   {
    "duration": 16,
    "start_time": "2025-06-27T21:50:56.588Z"
   },
   {
    "duration": 60,
    "start_time": "2025-06-27T21:51:53.919Z"
   },
   {
    "duration": 1548,
    "start_time": "2025-06-27T21:52:04.627Z"
   },
   {
    "duration": 61,
    "start_time": "2025-06-27T21:52:06.180Z"
   },
   {
    "duration": 12,
    "start_time": "2025-06-27T21:52:06.242Z"
   },
   {
    "duration": 19,
    "start_time": "2025-06-27T21:52:06.256Z"
   },
   {
    "duration": 16,
    "start_time": "2025-06-27T21:52:06.277Z"
   },
   {
    "duration": 11,
    "start_time": "2025-06-27T21:52:07.870Z"
   },
   {
    "duration": 15,
    "start_time": "2025-06-27T21:52:08.078Z"
   },
   {
    "duration": 6,
    "start_time": "2025-06-27T21:52:11.695Z"
   },
   {
    "duration": 15,
    "start_time": "2025-06-27T21:52:14.571Z"
   },
   {
    "duration": 604,
    "start_time": "2025-06-27T21:53:14.934Z"
   },
   {
    "duration": 650,
    "start_time": "2025-06-27T21:53:32.892Z"
   },
   {
    "duration": 627,
    "start_time": "2025-06-27T21:53:47.016Z"
   },
   {
    "duration": 671,
    "start_time": "2025-06-27T21:53:55.249Z"
   },
   {
    "duration": 685,
    "start_time": "2025-06-27T21:54:19.709Z"
   },
   {
    "duration": 136,
    "start_time": "2025-06-27T21:56:05.970Z"
   },
   {
    "duration": 12,
    "start_time": "2025-06-27T21:56:55.284Z"
   },
   {
    "duration": 1498,
    "start_time": "2025-06-27T21:57:48.820Z"
   },
   {
    "duration": 65,
    "start_time": "2025-06-27T21:57:50.320Z"
   },
   {
    "duration": 11,
    "start_time": "2025-06-27T21:57:50.387Z"
   },
   {
    "duration": 3,
    "start_time": "2025-06-27T21:57:50.399Z"
   },
   {
    "duration": 15,
    "start_time": "2025-06-27T21:57:51.779Z"
   },
   {
    "duration": 5,
    "start_time": "2025-06-27T21:57:54.129Z"
   },
   {
    "duration": 6,
    "start_time": "2025-06-27T21:57:55.540Z"
   },
   {
    "duration": 10,
    "start_time": "2025-06-27T21:57:56.086Z"
   },
   {
    "duration": 12,
    "start_time": "2025-06-27T21:57:57.332Z"
   },
   {
    "duration": 567,
    "start_time": "2025-06-27T21:57:57.976Z"
   },
   {
    "duration": 1653,
    "start_time": "2025-06-27T21:58:34.570Z"
   },
   {
    "duration": 76,
    "start_time": "2025-06-27T21:58:36.225Z"
   },
   {
    "duration": 13,
    "start_time": "2025-06-27T21:58:36.302Z"
   },
   {
    "duration": 15,
    "start_time": "2025-06-27T21:58:36.316Z"
   },
   {
    "duration": 24,
    "start_time": "2025-06-27T21:58:36.332Z"
   },
   {
    "duration": 13,
    "start_time": "2025-06-27T21:58:38.980Z"
   },
   {
    "duration": 14,
    "start_time": "2025-06-27T21:58:39.268Z"
   },
   {
    "duration": 15,
    "start_time": "2025-06-27T21:58:40.648Z"
   },
   {
    "duration": 1133,
    "start_time": "2025-06-27T21:58:41.651Z"
   },
   {
    "duration": 131,
    "start_time": "2025-06-27T21:58:43.373Z"
   },
   {
    "duration": 16,
    "start_time": "2025-06-27T21:58:54.602Z"
   },
   {
    "duration": 14,
    "start_time": "2025-06-27T21:59:23.800Z"
   },
   {
    "duration": 13,
    "start_time": "2025-06-27T21:59:26.737Z"
   },
   {
    "duration": 77,
    "start_time": "2025-06-27T21:59:51.807Z"
   },
   {
    "duration": 44,
    "start_time": "2025-06-27T22:00:55.035Z"
   },
   {
    "duration": 3,
    "start_time": "2025-06-27T22:01:07.511Z"
   },
   {
    "duration": 12,
    "start_time": "2025-06-27T22:01:09.799Z"
   },
   {
    "duration": 13,
    "start_time": "2025-06-27T22:01:30.534Z"
   },
   {
    "duration": 13,
    "start_time": "2025-06-27T22:03:21.633Z"
   },
   {
    "duration": 8,
    "start_time": "2025-06-27T22:04:44.468Z"
   },
   {
    "duration": 16,
    "start_time": "2025-06-27T22:05:04.837Z"
   },
   {
    "duration": 14,
    "start_time": "2025-06-27T22:05:42.688Z"
   },
   {
    "duration": 12,
    "start_time": "2025-06-27T22:06:03.876Z"
   },
   {
    "duration": 8,
    "start_time": "2025-06-27T22:06:24.214Z"
   },
   {
    "duration": 1514,
    "start_time": "2025-06-27T22:06:58.979Z"
   },
   {
    "duration": 48,
    "start_time": "2025-06-27T22:07:00.495Z"
   },
   {
    "duration": 11,
    "start_time": "2025-06-27T22:07:00.544Z"
   },
   {
    "duration": 4,
    "start_time": "2025-06-27T22:07:00.619Z"
   },
   {
    "duration": 13,
    "start_time": "2025-06-27T22:07:01.298Z"
   },
   {
    "duration": 6,
    "start_time": "2025-06-27T22:07:02.682Z"
   },
   {
    "duration": 11,
    "start_time": "2025-06-27T22:07:03.331Z"
   },
   {
    "duration": 8,
    "start_time": "2025-06-27T22:07:07.480Z"
   },
   {
    "duration": 14,
    "start_time": "2025-06-27T22:07:14.283Z"
   },
   {
    "duration": 1101,
    "start_time": "2025-06-27T22:07:16.498Z"
   },
   {
    "duration": 2,
    "start_time": "2025-06-27T22:07:20.498Z"
   },
   {
    "duration": 131,
    "start_time": "2025-06-27T22:07:20.883Z"
   },
   {
    "duration": 12,
    "start_time": "2025-06-27T22:07:36.198Z"
   },
   {
    "duration": 19,
    "start_time": "2025-06-27T22:07:50.918Z"
   },
   {
    "duration": 2464,
    "start_time": "2025-06-27T22:08:46.601Z"
   },
   {
    "duration": 9,
    "start_time": "2025-06-27T22:09:59.501Z"
   },
   {
    "duration": 3,
    "start_time": "2025-06-27T22:10:53.935Z"
   },
   {
    "duration": 108,
    "start_time": "2025-06-27T22:10:55.425Z"
   },
   {
    "duration": 79,
    "start_time": "2025-06-27T22:11:21.515Z"
   },
   {
    "duration": 87,
    "start_time": "2025-06-27T22:12:00.160Z"
   },
   {
    "duration": 25,
    "start_time": "2025-06-27T22:12:15.101Z"
   },
   {
    "duration": 10,
    "start_time": "2025-06-27T22:12:48.765Z"
   },
   {
    "duration": 2117,
    "start_time": "2025-06-27T22:13:38.830Z"
   },
   {
    "duration": 1117,
    "start_time": "2025-06-27T22:13:40.949Z"
   },
   {
    "duration": 236,
    "start_time": "2025-06-27T22:13:57.663Z"
   },
   {
    "duration": 323,
    "start_time": "2025-06-27T22:14:12.587Z"
   },
   {
    "duration": 16,
    "start_time": "2025-06-27T22:14:47.408Z"
   },
   {
    "duration": 176,
    "start_time": "2025-06-27T22:16:13.517Z"
   },
   {
    "duration": 1085,
    "start_time": "2025-06-27T22:18:25.804Z"
   },
   {
    "duration": 14,
    "start_time": "2025-06-27T22:18:54.299Z"
   },
   {
    "duration": 25,
    "start_time": "2025-06-27T22:22:22.226Z"
   },
   {
    "duration": 20,
    "start_time": "2025-06-27T22:23:26.943Z"
   },
   {
    "duration": 24,
    "start_time": "2025-06-27T22:23:40.227Z"
   },
   {
    "duration": 22,
    "start_time": "2025-06-27T22:23:49.571Z"
   },
   {
    "duration": 1486,
    "start_time": "2025-06-27T22:25:03.875Z"
   },
   {
    "duration": 68,
    "start_time": "2025-06-27T22:25:05.370Z"
   },
   {
    "duration": 11,
    "start_time": "2025-06-27T22:25:05.440Z"
   },
   {
    "duration": 3,
    "start_time": "2025-06-27T22:25:05.607Z"
   },
   {
    "duration": 13,
    "start_time": "2025-06-27T22:25:07.367Z"
   },
   {
    "duration": 5,
    "start_time": "2025-06-27T22:25:10.181Z"
   },
   {
    "duration": 11,
    "start_time": "2025-06-27T22:25:10.501Z"
   },
   {
    "duration": 8,
    "start_time": "2025-06-27T22:25:10.770Z"
   },
   {
    "duration": 17,
    "start_time": "2025-06-27T22:25:11.558Z"
   },
   {
    "duration": 495,
    "start_time": "2025-06-27T22:25:12.451Z"
   },
   {
    "duration": 127,
    "start_time": "2025-06-27T22:25:13.110Z"
   },
   {
    "duration": 660,
    "start_time": "2025-06-27T22:25:18.742Z"
   },
   {
    "duration": 637,
    "start_time": "2025-06-27T22:25:32.092Z"
   },
   {
    "duration": 718,
    "start_time": "2025-06-27T22:25:40.900Z"
   },
   {
    "duration": 709,
    "start_time": "2025-06-27T22:25:48.224Z"
   },
   {
    "duration": 746,
    "start_time": "2025-06-27T22:26:41.145Z"
   },
   {
    "duration": 437,
    "start_time": "2025-06-27T22:27:14.093Z"
   },
   {
    "duration": 833,
    "start_time": "2025-06-27T22:27:36.224Z"
   },
   {
    "duration": 719,
    "start_time": "2025-06-27T22:28:17.925Z"
   },
   {
    "duration": 660,
    "start_time": "2025-06-27T22:28:48.744Z"
   },
   {
    "duration": 709,
    "start_time": "2025-06-27T22:29:05.909Z"
   },
   {
    "duration": 409,
    "start_time": "2025-06-27T22:35:57.325Z"
   },
   {
    "duration": 651,
    "start_time": "2025-06-27T22:36:44.992Z"
   },
   {
    "duration": 461,
    "start_time": "2025-06-27T22:37:08.419Z"
   },
   {
    "duration": 471,
    "start_time": "2025-06-27T22:38:02.439Z"
   },
   {
    "duration": 345,
    "start_time": "2025-06-27T22:38:34.408Z"
   },
   {
    "duration": 302,
    "start_time": "2025-06-27T22:38:40.604Z"
   },
   {
    "duration": 294,
    "start_time": "2025-06-27T22:38:58.109Z"
   },
   {
    "duration": 304,
    "start_time": "2025-06-27T22:39:04.624Z"
   },
   {
    "duration": 553,
    "start_time": "2025-06-27T22:39:22.662Z"
   },
   {
    "duration": 500,
    "start_time": "2025-06-27T22:42:40.939Z"
   },
   {
    "duration": 20,
    "start_time": "2025-06-27T22:43:35.321Z"
   },
   {
    "duration": 20,
    "start_time": "2025-06-27T22:44:08.494Z"
   },
   {
    "duration": 600,
    "start_time": "2025-06-27T22:44:30.194Z"
   },
   {
    "duration": 479,
    "start_time": "2025-06-27T22:44:53.019Z"
   },
   {
    "duration": 441,
    "start_time": "2025-06-27T22:45:38.286Z"
   },
   {
    "duration": 615,
    "start_time": "2025-06-27T22:45:48.771Z"
   },
   {
    "duration": 496,
    "start_time": "2025-06-27T22:47:14.504Z"
   },
   {
    "duration": 516,
    "start_time": "2025-06-27T22:47:25.618Z"
   },
   {
    "duration": 417,
    "start_time": "2025-06-27T22:47:38.390Z"
   },
   {
    "duration": 425,
    "start_time": "2025-06-27T22:51:57.128Z"
   },
   {
    "duration": 427,
    "start_time": "2025-06-27T22:52:14.025Z"
   },
   {
    "duration": 540,
    "start_time": "2025-06-27T22:52:46.285Z"
   },
   {
    "duration": 3,
    "start_time": "2025-06-27T22:54:29.202Z"
   },
   {
    "duration": 4,
    "start_time": "2025-06-27T22:55:44.919Z"
   },
   {
    "duration": 26,
    "start_time": "2025-06-27T22:56:41.058Z"
   },
   {
    "duration": 16,
    "start_time": "2025-06-27T22:57:30.782Z"
   },
   {
    "duration": 17,
    "start_time": "2025-06-27T22:58:05.466Z"
   },
   {
    "duration": 28,
    "start_time": "2025-06-27T22:58:41.167Z"
   },
   {
    "duration": 45,
    "start_time": "2025-06-27T23:00:19.726Z"
   },
   {
    "duration": 21,
    "start_time": "2025-06-27T23:01:11.085Z"
   },
   {
    "duration": 42,
    "start_time": "2025-06-27T23:01:48.494Z"
   },
   {
    "duration": 60,
    "start_time": "2025-06-27T23:03:11.617Z"
   },
   {
    "duration": 61,
    "start_time": "2025-06-27T23:04:52.243Z"
   },
   {
    "duration": 52,
    "start_time": "2025-06-27T23:05:00.847Z"
   },
   {
    "duration": 11,
    "start_time": "2025-06-27T23:07:40.205Z"
   },
   {
    "duration": 9,
    "start_time": "2025-06-27T23:07:59.670Z"
   },
   {
    "duration": 11,
    "start_time": "2025-06-27T23:14:47.401Z"
   },
   {
    "duration": 5,
    "start_time": "2025-06-27T23:18:13.625Z"
   },
   {
    "duration": 2,
    "start_time": "2025-06-27T23:29:52.624Z"
   },
   {
    "duration": 97,
    "start_time": "2025-06-27T23:29:53.352Z"
   },
   {
    "duration": 87,
    "start_time": "2025-06-27T23:30:50.616Z"
   },
   {
    "duration": 11,
    "start_time": "2025-06-27T23:33:08.933Z"
   },
   {
    "duration": 13,
    "start_time": "2025-06-27T23:33:32.573Z"
   },
   {
    "duration": 1001,
    "start_time": "2025-06-27T23:34:06.672Z"
   },
   {
    "duration": 1016,
    "start_time": "2025-06-27T23:35:19.949Z"
   },
   {
    "duration": 35389,
    "start_time": "2025-06-27T23:38:12.895Z"
   },
   {
    "duration": 12,
    "start_time": "2025-06-27T23:44:58.794Z"
   },
   {
    "duration": 11,
    "start_time": "2025-06-27T23:45:10.496Z"
   },
   {
    "duration": 12,
    "start_time": "2025-06-27T23:45:57.596Z"
   },
   {
    "duration": 105134,
    "start_time": "2025-06-27T23:46:12.051Z"
   },
   {
    "duration": 114081,
    "start_time": "2025-06-27T23:48:08.293Z"
   },
   {
    "duration": 6,
    "start_time": "2025-06-27T23:55:14.189Z"
   },
   {
    "duration": 1063,
    "start_time": "2025-06-27T23:55:21.801Z"
   },
   {
    "duration": 10,
    "start_time": "2025-06-27T23:57:58.320Z"
   },
   {
    "duration": 10,
    "start_time": "2025-06-27T23:59:08.603Z"
   },
   {
    "duration": 35184,
    "start_time": "2025-06-27T23:59:51.707Z"
   },
   {
    "duration": 25,
    "start_time": "2025-06-28T00:00:35.353Z"
   },
   {
    "duration": 101756,
    "start_time": "2025-06-28T00:01:07.521Z"
   },
   {
    "duration": 15,
    "start_time": "2025-06-28T00:04:12.071Z"
   },
   {
    "duration": 30,
    "start_time": "2025-06-28T00:05:40.139Z"
   },
   {
    "duration": 24,
    "start_time": "2025-06-28T00:06:02.485Z"
   },
   {
    "duration": 18,
    "start_time": "2025-06-28T00:06:46.675Z"
   },
   {
    "duration": 12,
    "start_time": "2025-06-28T00:07:14.870Z"
   },
   {
    "duration": 6,
    "start_time": "2025-06-28T00:07:19.170Z"
   },
   {
    "duration": 14,
    "start_time": "2025-06-28T00:07:39.170Z"
   },
   {
    "duration": 1477,
    "start_time": "2025-06-28T00:23:33.370Z"
   },
   {
    "duration": 68,
    "start_time": "2025-06-28T00:23:34.849Z"
   },
   {
    "duration": 14,
    "start_time": "2025-06-28T00:23:34.918Z"
   },
   {
    "duration": 28,
    "start_time": "2025-06-28T00:23:34.934Z"
   },
   {
    "duration": 15,
    "start_time": "2025-06-28T00:23:34.966Z"
   },
   {
    "duration": 5,
    "start_time": "2025-06-28T00:23:34.982Z"
   },
   {
    "duration": 14,
    "start_time": "2025-06-28T00:23:34.988Z"
   },
   {
    "duration": 6,
    "start_time": "2025-06-28T00:23:35.003Z"
   },
   {
    "duration": 26,
    "start_time": "2025-06-28T00:23:35.010Z"
   },
   {
    "duration": 513,
    "start_time": "2025-06-28T00:23:35.038Z"
   },
   {
    "duration": 768,
    "start_time": "2025-06-28T00:23:35.552Z"
   },
   {
    "duration": 449,
    "start_time": "2025-06-28T00:23:36.322Z"
   },
   {
    "duration": 521,
    "start_time": "2025-06-28T00:23:36.773Z"
   },
   {
    "duration": 47,
    "start_time": "2025-06-28T00:23:37.296Z"
   },
   {
    "duration": 24,
    "start_time": "2025-06-28T00:23:37.357Z"
   },
   {
    "duration": 5,
    "start_time": "2025-06-28T00:23:37.382Z"
   },
   {
    "duration": 4,
    "start_time": "2025-06-28T00:23:37.389Z"
   },
   {
    "duration": 1078,
    "start_time": "2025-06-28T00:23:37.394Z"
   },
   {
    "duration": 35272,
    "start_time": "2025-06-28T00:23:38.473Z"
   },
   {
    "duration": 102127,
    "start_time": "2025-06-28T00:24:13.747Z"
   },
   {
    "duration": 7,
    "start_time": "2025-06-28T00:25:55.876Z"
   },
   {
    "duration": 18,
    "start_time": "2025-06-28T00:25:55.884Z"
   },
   {
    "duration": 14,
    "start_time": "2025-06-28T00:25:55.957Z"
   },
   {
    "duration": 1741,
    "start_time": "2025-06-28T22:36:10.873Z"
   },
   {
    "duration": 72,
    "start_time": "2025-06-28T22:36:12.616Z"
   },
   {
    "duration": 14,
    "start_time": "2025-06-28T22:36:12.690Z"
   },
   {
    "duration": 3,
    "start_time": "2025-06-28T22:36:13.728Z"
   },
   {
    "duration": 13,
    "start_time": "2025-06-28T22:36:14.704Z"
   },
   {
    "duration": 3,
    "start_time": "2025-06-28T22:36:23.070Z"
   },
   {
    "duration": 12,
    "start_time": "2025-06-28T22:36:24.604Z"
   },
   {
    "duration": 4,
    "start_time": "2025-06-28T22:36:40.821Z"
   },
   {
    "duration": 49,
    "start_time": "2025-06-28T22:36:41.370Z"
   },
   {
    "duration": 12,
    "start_time": "2025-06-28T22:36:41.600Z"
   },
   {
    "duration": 4,
    "start_time": "2025-06-28T22:36:42.136Z"
   },
   {
    "duration": 12,
    "start_time": "2025-06-28T22:36:42.878Z"
   },
   {
    "duration": 4,
    "start_time": "2025-06-28T22:36:53.121Z"
   },
   {
    "duration": 12,
    "start_time": "2025-06-28T22:36:58.821Z"
   },
   {
    "duration": 7,
    "start_time": "2025-06-28T22:37:09.544Z"
   },
   {
    "duration": 12,
    "start_time": "2025-06-28T22:37:18.163Z"
   },
   {
    "duration": 536,
    "start_time": "2025-06-28T22:37:22.577Z"
   },
   {
    "duration": 101,
    "start_time": "2025-06-28T22:37:39.627Z"
   },
   {
    "duration": 825,
    "start_time": "2025-06-28T22:37:42.747Z"
   },
   {
    "duration": 421,
    "start_time": "2025-06-28T22:37:56.830Z"
   },
   {
    "duration": 510,
    "start_time": "2025-06-28T22:38:46.939Z"
   },
   {
    "duration": 49,
    "start_time": "2025-06-28T22:38:50.382Z"
   },
   {
    "duration": 13,
    "start_time": "2025-06-28T22:39:03.086Z"
   },
   {
    "duration": 7,
    "start_time": "2025-06-28T22:39:06.484Z"
   },
   {
    "duration": 2,
    "start_time": "2025-06-28T22:39:11.287Z"
   },
   {
    "duration": 125,
    "start_time": "2025-06-28T23:27:15.685Z"
   },
   {
    "duration": 67,
    "start_time": "2025-06-28T23:27:47.628Z"
   },
   {
    "duration": 7,
    "start_time": "2025-06-28T23:27:53.661Z"
   },
   {
    "duration": 8045,
    "start_time": "2025-06-28T23:27:59.036Z"
   },
   {
    "duration": 57589,
    "start_time": "2025-06-28T23:31:00.227Z"
   },
   {
    "duration": 14249,
    "start_time": "2025-06-28T23:32:22.828Z"
   },
   {
    "duration": 30,
    "start_time": "2025-06-28T23:33:40.198Z"
   },
   {
    "duration": 444,
    "start_time": "2025-06-29T00:05:24.095Z"
   },
   {
    "duration": 470,
    "start_time": "2025-06-29T00:08:15.251Z"
   },
   {
    "duration": 619,
    "start_time": "2025-06-29T00:08:48.926Z"
   },
   {
    "duration": 1573,
    "start_time": "2025-06-29T00:13:13.787Z"
   },
   {
    "duration": 61,
    "start_time": "2025-06-29T00:13:15.362Z"
   },
   {
    "duration": 14,
    "start_time": "2025-06-29T00:13:15.424Z"
   },
   {
    "duration": 7,
    "start_time": "2025-06-29T00:13:15.440Z"
   },
   {
    "duration": 28,
    "start_time": "2025-06-29T00:13:15.449Z"
   },
   {
    "duration": 78,
    "start_time": "2025-06-29T00:13:15.479Z"
   },
   {
    "duration": 23,
    "start_time": "2025-06-29T00:13:15.559Z"
   },
   {
    "duration": 6,
    "start_time": "2025-06-29T00:13:15.584Z"
   },
   {
    "duration": 26,
    "start_time": "2025-06-29T00:13:15.592Z"
   },
   {
    "duration": 562,
    "start_time": "2025-06-29T00:13:15.619Z"
   },
   {
    "duration": 883,
    "start_time": "2025-06-29T00:13:16.183Z"
   },
   {
    "duration": 462,
    "start_time": "2025-06-29T00:13:17.068Z"
   },
   {
    "duration": 528,
    "start_time": "2025-06-29T00:13:17.532Z"
   },
   {
    "duration": 57,
    "start_time": "2025-06-29T00:13:18.063Z"
   },
   {
    "duration": 32,
    "start_time": "2025-06-29T00:13:18.122Z"
   },
   {
    "duration": 9,
    "start_time": "2025-06-29T00:13:18.156Z"
   },
   {
    "duration": 12,
    "start_time": "2025-06-29T00:13:18.167Z"
   },
   {
    "duration": 4,
    "start_time": "2025-06-29T00:13:18.181Z"
   },
   {
    "duration": 9129,
    "start_time": "2025-06-29T00:13:18.187Z"
   },
   {
    "duration": 0,
    "start_time": "2025-06-29T00:13:27.317Z"
   },
   {
    "duration": 0,
    "start_time": "2025-06-29T00:13:27.319Z"
   },
   {
    "duration": 0,
    "start_time": "2025-06-29T00:13:27.320Z"
   },
   {
    "duration": 0,
    "start_time": "2025-06-29T00:13:27.321Z"
   },
   {
    "duration": 6,
    "start_time": "2025-06-29T00:15:23.113Z"
   },
   {
    "duration": 4,
    "start_time": "2025-06-29T00:15:24.214Z"
   },
   {
    "duration": 3,
    "start_time": "2025-06-29T00:15:31.395Z"
   },
   {
    "duration": 8207,
    "start_time": "2025-06-29T00:15:34.173Z"
   },
   {
    "duration": 3,
    "start_time": "2025-06-29T00:16:13.480Z"
   },
   {
    "duration": 4,
    "start_time": "2025-06-29T00:16:18.562Z"
   },
   {
    "duration": 8202,
    "start_time": "2025-06-29T00:16:19.679Z"
   },
   {
    "duration": 63,
    "start_time": "2025-06-29T00:29:16.834Z"
   },
   {
    "duration": 1535,
    "start_time": "2025-06-29T00:34:10.453Z"
   },
   {
    "duration": 69,
    "start_time": "2025-06-29T00:34:11.990Z"
   },
   {
    "duration": 17,
    "start_time": "2025-06-29T00:34:12.060Z"
   },
   {
    "duration": 106,
    "start_time": "2025-06-29T00:34:12.078Z"
   },
   {
    "duration": 33,
    "start_time": "2025-06-29T00:34:12.187Z"
   },
   {
    "duration": 4,
    "start_time": "2025-06-29T00:34:12.221Z"
   },
   {
    "duration": 12,
    "start_time": "2025-06-29T00:34:12.227Z"
   },
   {
    "duration": 6,
    "start_time": "2025-06-29T00:34:12.240Z"
   },
   {
    "duration": 12,
    "start_time": "2025-06-29T00:34:12.247Z"
   },
   {
    "duration": 22,
    "start_time": "2025-06-29T00:34:12.260Z"
   },
   {
    "duration": 489,
    "start_time": "2025-06-29T00:34:12.284Z"
   },
   {
    "duration": 850,
    "start_time": "2025-06-29T00:34:12.775Z"
   },
   {
    "duration": 462,
    "start_time": "2025-06-29T00:34:13.627Z"
   },
   {
    "duration": 526,
    "start_time": "2025-06-29T00:34:14.092Z"
   },
   {
    "duration": 58,
    "start_time": "2025-06-29T00:34:14.620Z"
   },
   {
    "duration": 12,
    "start_time": "2025-06-29T00:34:14.680Z"
   },
   {
    "duration": 6,
    "start_time": "2025-06-29T00:34:14.694Z"
   },
   {
    "duration": 6,
    "start_time": "2025-06-29T00:34:14.701Z"
   },
   {
    "duration": 7,
    "start_time": "2025-06-29T00:34:14.708Z"
   },
   {
    "duration": 8368,
    "start_time": "2025-06-29T00:34:14.716Z"
   },
   {
    "duration": 54823,
    "start_time": "2025-06-29T00:34:23.086Z"
   },
   {
    "duration": 14166,
    "start_time": "2025-06-29T00:35:17.911Z"
   },
   {
    "duration": 30,
    "start_time": "2025-06-29T00:35:32.079Z"
   },
   {
    "duration": 1692,
    "start_time": "2025-06-29T16:42:15.339Z"
   },
   {
    "duration": 52,
    "start_time": "2025-06-29T16:42:17.034Z"
   },
   {
    "duration": 12,
    "start_time": "2025-06-29T16:42:17.088Z"
   },
   {
    "duration": 3,
    "start_time": "2025-06-29T16:42:17.102Z"
   },
   {
    "duration": 33,
    "start_time": "2025-06-29T16:42:17.106Z"
   },
   {
    "duration": 5,
    "start_time": "2025-06-29T16:42:19.855Z"
   },
   {
    "duration": 12,
    "start_time": "2025-06-29T16:42:20.455Z"
   },
   {
    "duration": 6,
    "start_time": "2025-06-29T16:42:22.704Z"
   },
   {
    "duration": 15,
    "start_time": "2025-06-29T16:42:24.169Z"
   },
   {
    "duration": 9,
    "start_time": "2025-06-29T16:42:31.210Z"
   },
   {
    "duration": 568,
    "start_time": "2025-06-29T16:42:34.938Z"
   },
   {
    "duration": 846,
    "start_time": "2025-06-29T16:42:51.892Z"
   },
   {
    "duration": 462,
    "start_time": "2025-06-29T16:43:05.888Z"
   },
   {
    "duration": 521,
    "start_time": "2025-06-29T16:43:11.606Z"
   },
   {
    "duration": 782,
    "start_time": "2025-06-29T17:12:54.436Z"
   },
   {
    "duration": 133,
    "start_time": "2025-06-29T17:13:33.609Z"
   },
   {
    "duration": 528,
    "start_time": "2025-06-29T17:13:40.861Z"
   },
   {
    "duration": 701,
    "start_time": "2025-06-29T17:16:44.512Z"
   },
   {
    "duration": 728,
    "start_time": "2025-06-29T17:18:19.462Z"
   },
   {
    "duration": 703,
    "start_time": "2025-06-29T17:19:49.384Z"
   },
   {
    "duration": 754,
    "start_time": "2025-06-29T17:20:52.356Z"
   },
   {
    "duration": 1067,
    "start_time": "2025-06-29T17:24:34.366Z"
   },
   {
    "duration": 448,
    "start_time": "2025-06-29T17:25:28.694Z"
   },
   {
    "duration": 541,
    "start_time": "2025-06-29T17:26:03.859Z"
   },
   {
    "duration": 876,
    "start_time": "2025-06-29T17:33:11.824Z"
   },
   {
    "duration": 657,
    "start_time": "2025-06-29T17:35:04.810Z"
   },
   {
    "duration": 510,
    "start_time": "2025-06-29T17:36:13.164Z"
   },
   {
    "duration": 523,
    "start_time": "2025-06-29T17:36:23.754Z"
   },
   {
    "duration": 424,
    "start_time": "2025-06-29T17:38:24.804Z"
   },
   {
    "duration": 17,
    "start_time": "2025-06-29T17:39:07.901Z"
   },
   {
    "duration": 886,
    "start_time": "2025-06-29T17:39:14.552Z"
   },
   {
    "duration": 53,
    "start_time": "2025-06-29T17:39:51.468Z"
   },
   {
    "duration": 1724,
    "start_time": "2025-06-29T17:39:57.618Z"
   },
   {
    "duration": 51,
    "start_time": "2025-06-29T17:39:59.344Z"
   },
   {
    "duration": 12,
    "start_time": "2025-06-29T17:39:59.396Z"
   },
   {
    "duration": 3,
    "start_time": "2025-06-29T17:40:01.699Z"
   },
   {
    "duration": 16,
    "start_time": "2025-06-29T17:40:03.025Z"
   },
   {
    "duration": 5,
    "start_time": "2025-06-29T17:40:05.515Z"
   },
   {
    "duration": 14,
    "start_time": "2025-06-29T17:40:05.766Z"
   },
   {
    "duration": 7,
    "start_time": "2025-06-29T17:40:06.099Z"
   },
   {
    "duration": 14,
    "start_time": "2025-06-29T17:40:06.815Z"
   },
   {
    "duration": 9,
    "start_time": "2025-06-29T17:40:07.859Z"
   },
   {
    "duration": 508,
    "start_time": "2025-06-29T17:40:08.254Z"
   },
   {
    "duration": 938,
    "start_time": "2025-06-29T17:40:24.559Z"
   },
   {
    "duration": 450,
    "start_time": "2025-06-29T17:40:43.103Z"
   },
   {
    "duration": 535,
    "start_time": "2025-06-29T17:41:08.688Z"
   },
   {
    "duration": 625,
    "start_time": "2025-06-29T17:43:44.218Z"
   },
   {
    "duration": 790,
    "start_time": "2025-06-29T17:44:36.434Z"
   },
   {
    "duration": 530,
    "start_time": "2025-06-29T17:48:44.523Z"
   },
   {
    "duration": 247,
    "start_time": "2025-06-29T17:55:30.469Z"
   },
   {
    "duration": 175,
    "start_time": "2025-06-29T17:55:42.647Z"
   },
   {
    "duration": 488,
    "start_time": "2025-06-29T17:56:29.467Z"
   },
   {
    "duration": 607,
    "start_time": "2025-06-29T17:56:48.030Z"
   },
   {
    "duration": 2571,
    "start_time": "2025-06-29T17:58:25.893Z"
   },
   {
    "duration": 53,
    "start_time": "2025-06-29T17:58:28.466Z"
   },
   {
    "duration": 17,
    "start_time": "2025-06-29T17:58:28.520Z"
   },
   {
    "duration": 4,
    "start_time": "2025-06-29T17:58:28.539Z"
   },
   {
    "duration": 15,
    "start_time": "2025-06-29T17:58:28.545Z"
   },
   {
    "duration": 101,
    "start_time": "2025-06-29T17:58:28.562Z"
   },
   {
    "duration": 112,
    "start_time": "2025-06-29T17:58:28.665Z"
   },
   {
    "duration": 22,
    "start_time": "2025-06-29T17:58:28.779Z"
   },
   {
    "duration": 14,
    "start_time": "2025-06-29T17:58:28.803Z"
   },
   {
    "duration": 8,
    "start_time": "2025-06-29T17:58:28.819Z"
   },
   {
    "duration": 509,
    "start_time": "2025-06-29T17:58:28.829Z"
   },
   {
    "duration": 950,
    "start_time": "2025-06-29T17:58:29.340Z"
   },
   {
    "duration": 635,
    "start_time": "2025-06-29T17:58:30.292Z"
   },
   {
    "duration": 722,
    "start_time": "2025-06-29T17:58:30.930Z"
   },
   {
    "duration": 50,
    "start_time": "2025-06-29T17:58:31.654Z"
   },
   {
    "duration": 32,
    "start_time": "2025-06-29T17:58:31.706Z"
   },
   {
    "duration": 100,
    "start_time": "2025-06-29T17:58:31.740Z"
   },
   {
    "duration": 7,
    "start_time": "2025-06-29T17:58:31.841Z"
   },
   {
    "duration": 5,
    "start_time": "2025-06-29T17:58:31.850Z"
   },
   {
    "duration": 7086,
    "start_time": "2025-06-29T17:58:31.857Z"
   },
   {
    "duration": 55433,
    "start_time": "2025-06-29T17:58:38.945Z"
   },
   {
    "duration": 15163,
    "start_time": "2025-06-29T17:59:34.379Z"
   },
   {
    "duration": 33,
    "start_time": "2025-06-29T17:59:49.544Z"
   },
   {
    "duration": 1655,
    "start_time": "2025-06-29T18:07:04.819Z"
   },
   {
    "duration": 55,
    "start_time": "2025-06-29T18:07:06.476Z"
   },
   {
    "duration": 12,
    "start_time": "2025-06-29T18:07:06.533Z"
   },
   {
    "duration": 24,
    "start_time": "2025-06-29T18:07:06.547Z"
   },
   {
    "duration": 29,
    "start_time": "2025-06-29T18:07:06.573Z"
   },
   {
    "duration": 58,
    "start_time": "2025-06-29T18:07:06.604Z"
   },
   {
    "duration": 147,
    "start_time": "2025-06-29T18:07:06.664Z"
   },
   {
    "duration": 51,
    "start_time": "2025-06-29T18:07:06.813Z"
   },
   {
    "duration": 24,
    "start_time": "2025-06-29T18:07:06.866Z"
   },
   {
    "duration": 28,
    "start_time": "2025-06-29T18:07:06.892Z"
   },
   {
    "duration": 536,
    "start_time": "2025-06-29T18:07:06.922Z"
   },
   {
    "duration": 935,
    "start_time": "2025-06-29T18:07:07.461Z"
   },
   {
    "duration": 645,
    "start_time": "2025-06-29T18:07:08.397Z"
   },
   {
    "duration": 705,
    "start_time": "2025-06-29T18:07:09.046Z"
   },
   {
    "duration": 49,
    "start_time": "2025-06-29T18:07:09.753Z"
   },
   {
    "duration": 18,
    "start_time": "2025-06-29T18:07:09.804Z"
   },
   {
    "duration": 39,
    "start_time": "2025-06-29T18:07:09.838Z"
   },
   {
    "duration": 11,
    "start_time": "2025-06-29T18:07:09.879Z"
   },
   {
    "duration": 14,
    "start_time": "2025-06-29T18:07:09.892Z"
   },
   {
    "duration": 10043,
    "start_time": "2025-06-29T18:07:09.908Z"
   },
   {
    "duration": 61577,
    "start_time": "2025-06-29T18:07:19.953Z"
   },
   {
    "duration": 22502,
    "start_time": "2025-06-29T18:08:21.537Z"
   },
   {
    "duration": 34,
    "start_time": "2025-06-29T18:08:44.041Z"
   },
   {
    "duration": 8811,
    "start_time": "2025-09-16T13:45:38.246Z"
   },
   {
    "duration": 392,
    "start_time": "2025-09-16T13:45:47.059Z"
   },
   {
    "duration": 99,
    "start_time": "2025-09-16T13:45:47.454Z"
   },
   {
    "duration": 6,
    "start_time": "2025-09-16T13:45:47.556Z"
   },
   {
    "duration": 176,
    "start_time": "2025-09-16T13:45:47.565Z"
   },
   {
    "duration": 17,
    "start_time": "2025-09-16T13:45:47.746Z"
   },
   {
    "duration": 119,
    "start_time": "2025-09-16T13:45:47.840Z"
   },
   {
    "duration": 95,
    "start_time": "2025-09-16T13:45:48.052Z"
   },
   {
    "duration": 191,
    "start_time": "2025-09-16T13:45:48.158Z"
   },
   {
    "duration": 94,
    "start_time": "2025-09-16T13:45:48.360Z"
   },
   {
    "duration": 3290,
    "start_time": "2025-09-16T13:45:48.457Z"
   },
   {
    "duration": 6189,
    "start_time": "2025-09-16T13:45:51.751Z"
   },
   {
    "duration": 5210,
    "start_time": "2025-09-16T13:45:57.942Z"
   },
   {
    "duration": 5107,
    "start_time": "2025-09-16T13:46:03.155Z"
   },
   {
    "duration": 313,
    "start_time": "2025-09-16T13:46:08.346Z"
   },
   {
    "duration": 195,
    "start_time": "2025-09-16T13:46:08.744Z"
   },
   {
    "duration": 102,
    "start_time": "2025-09-16T13:46:08.948Z"
   },
   {
    "duration": 6,
    "start_time": "2025-09-16T13:46:09.052Z"
   },
   {
    "duration": 5,
    "start_time": "2025-09-16T13:46:09.138Z"
   },
   {
    "duration": 14212,
    "start_time": "2025-09-16T13:46:09.146Z"
   },
   {
    "duration": 440785,
    "start_time": "2025-09-16T13:46:23.364Z"
   },
   {
    "duration": 2811584,
    "start_time": "2025-09-16T13:53:44.156Z"
   },
   {
    "duration": 204,
    "start_time": "2025-09-16T14:40:35.742Z"
   }
  ],
  "kernelspec": {
   "display_name": "Python 3 (ipykernel)",
   "language": "python",
   "name": "python3"
  },
  "language_info": {
   "codemirror_mode": {
    "name": "ipython",
    "version": 3
   },
   "file_extension": ".py",
   "mimetype": "text/x-python",
   "name": "python",
   "nbconvert_exporter": "python",
   "pygments_lexer": "ipython3",
   "version": "3.12.2"
  },
  "toc": {
   "base_numbering": 1,
   "nav_menu": {},
   "number_sections": true,
   "sideBar": true,
   "skip_h1_title": true,
   "title_cell": "Содержание",
   "title_sidebar": "Contents",
   "toc_cell": true,
   "toc_position": {
    "height": "calc(100% - 180px)",
    "left": "10px",
    "top": "150px",
    "width": "415.177px"
   },
   "toc_section_display": true,
   "toc_window_display": true
  }
 },
 "nbformat": 4,
 "nbformat_minor": 4
}
