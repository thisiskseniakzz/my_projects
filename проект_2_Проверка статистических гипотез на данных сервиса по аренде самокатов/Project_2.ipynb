{
 "cells": [
  {
   "cell_type": "markdown",
   "id": "02317d4a-2698-4b1a-951f-a2a395805d7a",
   "metadata": {},
   "source": [
    "# Проверка статистических гипотез на данных сервиса аренды самокатов GoFast"
   ]
  },
  {
   "cell_type": "markdown",
   "id": "7968b004",
   "metadata": {},
   "source": [
    "# Исходные данные\n",
    "Данные о некоторых пользователях сервиса Go Fast из нескольких городов, а также об их поездках. \n",
    "Проанализируйте данные и проверьте некоторые гипотезы, которые могут помочь бизнесу вырасти.\n",
    "Чтобы совершать поездки по городу, пользователи сервиса GoFast пользуются мобильным приложением. Сервисом можно пользоваться:\n",
    "- **без подписки:**\n",
    "- абонентская плата отсутствует;\n",
    "- стоимость одной минуты поездки — 8 рублей;\n",
    "- стоимость старта (начала поездки) — 50 рублей;\n",
    "- **с подпиской Ultra:**\n",
    "- абонентская плата — 199 рублей в месяц;\n",
    "- стоимость одной минуты поездки — 6 рублей;\n",
    "- стоимость старта — бесплатно.\n",
    "\n",
    "**У нас есть 3 датафрейма**\n",
    "- Информация о пользователях (users)\n",
    "- Информация о поездках (rides)\n",
    "- Информация о видах подпсики (subscriptions)"
   ]
  },
  {
   "cell_type": "markdown",
   "id": "c4987fb5",
   "metadata": {
    "toc": true
   },
   "source": [
    "<h1>Содержание<span class=\"tocSkip\"></span></h1>\n",
    "<div class=\"toc\"><ul class=\"toc-item\"><li><span><a href=\"#Шаг-.-Загрузка-данных\" data-toc-modified-id=\"Шаг-.-Загрузка-данных-1\"><span class=\"toc-item-num\">1&nbsp;&nbsp;</span>Шаг . Загрузка данных</a></span><ul class=\"toc-item\"><li><span><a href=\"#Выведите-первые-строки-каждого-набора-данных.-Изучите-общую-информацию-о-каждом-датафрейме.\" data-toc-modified-id=\"Выведите-первые-строки-каждого-набора-данных.-Изучите-общую-информацию-о-каждом-датафрейме.-1.1\"><span class=\"toc-item-num\">1.1&nbsp;&nbsp;</span>Выведите первые строки каждого набора данных. Изучите общую информацию о каждом датафрейме.</a></span></li></ul></li><li><span><a href=\"#Шаг.-Предобработка-данных\" data-toc-modified-id=\"Шаг.-Предобработка-данных-2\"><span class=\"toc-item-num\">2&nbsp;&nbsp;</span>Шаг. Предобработка данных</a></span><ul class=\"toc-item\"><li><span><a href=\"#Приведите-столбец-date-к-типу-даты-pandas.\" data-toc-modified-id=\"Приведите-столбец-date-к-типу-даты-pandas.-2.1\"><span class=\"toc-item-num\">2.1&nbsp;&nbsp;</span>Приведите столбец date к типу даты pandas.</a></span></li><li><span><a href=\"#Создайте-новый-столбец-с-номером-месяца-на-основе-столбца-date.\" data-toc-modified-id=\"Создайте-новый-столбец-с-номером-месяца-на-основе-столбца-date.-2.2\"><span class=\"toc-item-num\">2.2&nbsp;&nbsp;</span>Создайте новый столбец с номером месяца на основе столбца date.</a></span></li><li><span><a href=\"#Проверьте-наличие-пропущенных-значений-и-дубликатов-в-датафреймах.-Обработайте-их,-если-такие-значения-присутствуют.\" data-toc-modified-id=\"Проверьте-наличие-пропущенных-значений-и-дубликатов-в-датафреймах.-Обработайте-их,-если-такие-значения-присутствуют.-2.3\"><span class=\"toc-item-num\">2.3&nbsp;&nbsp;</span>Проверьте наличие пропущенных значений и дубликатов в датафреймах. Обработайте их, если такие значения присутствуют.</a></span></li></ul></li><li><span><a href=\"#Шаг.-Исследовательский-анализ-данных\" data-toc-modified-id=\"Шаг.-Исследовательский-анализ-данных-3\"><span class=\"toc-item-num\">3&nbsp;&nbsp;</span>Шаг. Исследовательский анализ данных</a></span><ul class=\"toc-item\"><li><span><a href=\"#Частота-встречаемости-городов\" data-toc-modified-id=\"Частота-встречаемости-городов-3.1\"><span class=\"toc-item-num\">3.1&nbsp;&nbsp;</span>Частота встречаемости городов</a></span></li><li><span><a href=\"#Соотношение-пользователей-с-подпиской-и-без-подписки;\" data-toc-modified-id=\"Соотношение-пользователей-с-подпиской-и-без-подписки;-3.2\"><span class=\"toc-item-num\">3.2&nbsp;&nbsp;</span>Соотношение пользователей с подпиской и без подписки;</a></span></li><li><span><a href=\"#Возраст-пользователей\" data-toc-modified-id=\"Возраст-пользователей-3.3\"><span class=\"toc-item-num\">3.3&nbsp;&nbsp;</span>Возраст пользователей</a></span></li><li><span><a href=\"#Расстояние,-которое-пользователь-преодолел-за-одну-поездку\" data-toc-modified-id=\"Расстояние,-которое-пользователь-преодолел-за-одну-поездку-3.4\"><span class=\"toc-item-num\">3.4&nbsp;&nbsp;</span>Расстояние, которое пользователь преодолел за одну поездку</a></span></li><li><span><a href=\"#Продолжительность-поездок\" data-toc-modified-id=\"Продолжительность-поездок-3.5\"><span class=\"toc-item-num\">3.5&nbsp;&nbsp;</span>Продолжительность поездок</a></span></li><li><span><a href=\"#Возраст-пользователей\" data-toc-modified-id=\"Возраст-пользователей-3.6\"><span class=\"toc-item-num\">3.6&nbsp;&nbsp;</span>Возраст пользователей</a></span></li></ul></li><li><span><a href=\"#Шаг.-Объединение-данных\" data-toc-modified-id=\"Шаг.-Объединение-данных-4\"><span class=\"toc-item-num\">4&nbsp;&nbsp;</span>Шаг. Объединение данных</a></span><ul class=\"toc-item\"><li><span><a href=\"#Объедините-данные-о-пользователях,-поездках-и-подписках-в-один-датафрейм.-Для-этого-воспользуйтесь-методом-merge().\" data-toc-modified-id=\"Объедините-данные-о-пользователях,-поездках-и-подписках-в-один-датафрейм.-Для-этого-воспользуйтесь-методом-merge().-4.1\"><span class=\"toc-item-num\">4.1&nbsp;&nbsp;</span>Объедините данные о пользователях, поездках и подписках в один датафрейм. Для этого воспользуйтесь методом merge().</a></span></li><li><span><a href=\"#Создайте-ещё-два-датафрейма-из-датафрейма,-созданного-на-этапе-4.1:\" data-toc-modified-id=\"Создайте-ещё-два-датафрейма-из-датафрейма,-созданного-на-этапе-4.1:-4.2\"><span class=\"toc-item-num\">4.2&nbsp;&nbsp;</span>Создайте ещё два датафрейма из датафрейма, созданного на этапе 4.1:</a></span></li><li><span><a href=\"#Визуализируйте-информацию-о-расстоянии-и-времени-поездок-для-пользователей-обеих-категорий.\" data-toc-modified-id=\"Визуализируйте-информацию-о-расстоянии-и-времени-поездок-для-пользователей-обеих-категорий.-4.3\"><span class=\"toc-item-num\">4.3&nbsp;&nbsp;</span>Визуализируйте информацию о расстоянии и времени поездок для пользователей обеих категорий.</a></span><ul class=\"toc-item\"><li><span><a href=\"#Среднее-расстояние,-которое-пользователь-преодолевает-за-одну-поездку\" data-toc-modified-id=\"Среднее-расстояние,-которое-пользователь-преодолевает-за-одну-поездку-4.3.1\"><span class=\"toc-item-num\">4.3.1&nbsp;&nbsp;</span>Среднее расстояние, которое пользователь преодолевает за одну поездку</a></span></li><li><span><a href=\"#Распределение-длительности-поездки-для-обоих-групп\" data-toc-modified-id=\"Распределение-длительности-поездки-для-обоих-групп-4.3.2\"><span class=\"toc-item-num\">4.3.2&nbsp;&nbsp;</span>Распределение длительности поездки для обоих групп</a></span></li><li><span><a href=\"#Распределение-дистанций-пользователей-для-обоих-групп\" data-toc-modified-id=\"Распределение-дистанций-пользователей-для-обоих-групп-4.3.3\"><span class=\"toc-item-num\">4.3.3&nbsp;&nbsp;</span>Распределение дистанций пользователей для обоих групп</a></span></li></ul></li></ul></li><li><span><a href=\"#Шаг.-Подсчёт-выручки\" data-toc-modified-id=\"Шаг.-Подсчёт-выручки-5\"><span class=\"toc-item-num\">5&nbsp;&nbsp;</span>Шаг. Подсчёт выручки</a></span><ul class=\"toc-item\"><li><span><a href=\"#Создайте-датафрейм-с-агрегированными-данными-о-поездках-на-основе-датафрейма-с-объединёнными-данными-из-шага-4:-найдите-суммарное-расстояние,-количество-поездок-и-суммарное-время-для-каждого-пользователя-за-каждый-месяц.\" data-toc-modified-id=\"Создайте-датафрейм-с-агрегированными-данными-о-поездках-на-основе-датафрейма-с-объединёнными-данными-из-шага-4:-найдите-суммарное-расстояние,-количество-поездок-и-суммарное-время-для-каждого-пользователя-за-каждый-месяц.-5.1\"><span class=\"toc-item-num\">5.1&nbsp;&nbsp;</span>Создайте датафрейм с агрегированными данными о поездках на основе датафрейма с объединёнными данными из шага 4: найдите суммарное расстояние, количество поездок и суммарное время для каждого пользователя за каждый месяц.</a></span></li><li><span><a href=\"#В-этот-же-датафрейм-добавьте-столбец-с-помесячной-выручкой,-которую-принёс-каждый-пользователь.-Для-этого-обратитесь-к-информации-об-условиях-оплаты-для-подписчиков-и-тех,-у-кого-нет-подписки.-Продолжительность-каждой-поездки-в-каждой-строке-исходного-датафрейма-для-подсчёта-стоимости-округляется-до-следующего-целого-числа:-например,-значения-25.3,25.5-и-26.0-должны-быть-преобразованы-к-26\" data-toc-modified-id=\"В-этот-же-датафрейм-добавьте-столбец-с-помесячной-выручкой,-которую-принёс-каждый-пользователь.-Для-этого-обратитесь-к-информации-об-условиях-оплаты-для-подписчиков-и-тех,-у-кого-нет-подписки.-Продолжительность-каждой-поездки-в-каждой-строке-исходного-датафрейма-для-подсчёта-стоимости-округляется-до-следующего-целого-числа:-например,-значения-25.3,25.5-и-26.0-должны-быть-преобразованы-к-26-5.2\"><span class=\"toc-item-num\">5.2&nbsp;&nbsp;</span>В этот же датафрейм добавьте столбец с помесячной выручкой, которую принёс каждый пользователь. Для этого обратитесь к информации об условиях оплаты для подписчиков и тех, у кого нет подписки. Продолжительность каждой поездки в каждой строке исходного датафрейма для подсчёта стоимости округляется до следующего целого числа: например, значения 25.3,25.5 и 26.0 должны быть преобразованы к 26</a></span></li></ul></li><li><span><a href=\"#Шаг.-Проверка-гипотез\" data-toc-modified-id=\"Шаг.-Проверка-гипотез-6\"><span class=\"toc-item-num\">6&nbsp;&nbsp;</span>Шаг. Проверка гипотез</a></span><ul class=\"toc-item\"><li><span><a href=\"#Важно-понять,-тратят-ли-пользователи-с-подпиской-больше-времени-на-поездки?-Если-да,-то-пользователи-с-подпиской-могут-быть-«выгоднее»-для-компании.-Проверьте-гипотезу.-Используйте-исходные-данные-о-продолжительности-каждой-сессии-—-отдельно-для-подписчиков-и-тех,-у-кого-нет-подписки.\" data-toc-modified-id=\"Важно-понять,-тратят-ли-пользователи-с-подпиской-больше-времени-на-поездки?-Если-да,-то-пользователи-с-подпиской-могут-быть-«выгоднее»-для-компании.-Проверьте-гипотезу.-Используйте-исходные-данные-о-продолжительности-каждой-сессии-—-отдельно-для-подписчиков-и-тех,-у-кого-нет-подписки.-6.1\"><span class=\"toc-item-num\">6.1&nbsp;&nbsp;</span>Важно понять, тратят ли пользователи с подпиской больше времени на поездки? Если да, то пользователи с подпиской могут быть «выгоднее» для компании. Проверьте гипотезу. Используйте исходные данные о продолжительности каждой сессии — отдельно для подписчиков и тех, у кого нет подписки.</a></span></li><li><span><a href=\"#Расстояние-одной-поездки-в-3130-метров-—-оптимальное-с-точки-зрения-износа-самоката.-Можно-ли-сказать,-что-среднее-расстояние,-которое-проезжают-пользователи-с-подпиской-за-одну-поездку,-не-превышает-3130-метров?-Проверьте-гипотезу-и-сделайте-выводы.\" data-toc-modified-id=\"Расстояние-одной-поездки-в-3130-метров-—-оптимальное-с-точки-зрения-износа-самоката.-Можно-ли-сказать,-что-среднее-расстояние,-которое-проезжают-пользователи-с-подпиской-за-одну-поездку,-не-превышает-3130-метров?-Проверьте-гипотезу-и-сделайте-выводы.-6.2\"><span class=\"toc-item-num\">6.2&nbsp;&nbsp;</span>Расстояние одной поездки в 3130 метров — оптимальное с точки зрения износа самоката. Можно ли сказать, что среднее расстояние, которое проезжают пользователи с подпиской за одну поездку, не превышает 3130 метров? Проверьте гипотезу и сделайте выводы.</a></span></li><li><span><a href=\"#Проверьте-гипотезу-о-том,-будет-ли-помесячная-выручка-от-пользователей-с-подпиской-по-месяцам-выше,-чем-выручка-от-пользователей-без-подписки.-Сделайте-вывод.\" data-toc-modified-id=\"Проверьте-гипотезу-о-том,-будет-ли-помесячная-выручка-от-пользователей-с-подпиской-по-месяцам-выше,-чем-выручка-от-пользователей-без-подписки.-Сделайте-вывод.-6.3\"><span class=\"toc-item-num\">6.3&nbsp;&nbsp;</span>Проверьте гипотезу о том, будет ли помесячная выручка от пользователей с подпиской по месяцам выше, чем выручка от пользователей без подписки. Сделайте вывод.</a></span></li></ul></li><li><span><a href=\"#Вывод\" data-toc-modified-id=\"Вывод-7\"><span class=\"toc-item-num\">7&nbsp;&nbsp;</span>Вывод</a></span><ul class=\"toc-item\"><li><span><a href=\"#Представьте-такую-ситуацию:-техническая-команда-сервиса-обновила-сервера,-с-которыми-взаимодействует-мобильное-приложение.-Она-надеется,-что-из-за-этого-количество-обращений-в-техподдержку-значимо-снизилось.-Некоторый-файл-содержит-для-каждого-пользователя-данные-о-количестве-обращений-до-обновления-и-после-него.-Какой-тест-вам-понадобился-бы-для-проверки-этой-гипотезы?\" data-toc-modified-id=\"Представьте-такую-ситуацию:-техническая-команда-сервиса-обновила-сервера,-с-которыми-взаимодействует-мобильное-приложение.-Она-надеется,-что-из-за-этого-количество-обращений-в-техподдержку-значимо-снизилось.-Некоторый-файл-содержит-для-каждого-пользователя-данные-о-количестве-обращений-до-обновления-и-после-него.-Какой-тест-вам-понадобился-бы-для-проверки-этой-гипотезы?-7.1\"><span class=\"toc-item-num\">7.1&nbsp;&nbsp;</span>Представьте такую ситуацию: техническая команда сервиса обновила сервера, с которыми взаимодействует мобильное приложение. Она надеется, что из-за этого количество обращений в техподдержку значимо снизилось. Некоторый файл содержит для каждого пользователя данные о количестве обращений до обновления и после него. Какой тест вам понадобился бы для проверки этой гипотезы?</a></span><ul class=\"toc-item\"><li><span><a href=\"#Шаг-7.-Распределения\" data-toc-modified-id=\"Шаг-7.-Распределения-7.1.1\"><span class=\"toc-item-num\">7.1.1&nbsp;&nbsp;</span>Шаг 7. Распределения</a></span></li></ul></li></ul></li></ul></div>"
   ]
  },
  {
   "cell_type": "markdown",
   "id": "8b1c9f78-19a3-443b-955a-0a783c9e0338",
   "metadata": {},
   "source": [
    "## Шаг. Импорты библиотек"
   ]
  },
  {
   "cell_type": "code",
   "execution_count": 1,
   "id": "72576667",
   "metadata": {},
   "outputs": [],
   "source": [
    "import pandas as pd\n",
    "import numpy as np\n",
    "import matplotlib.pyplot as plt\n",
    "from datetime import datetime\n",
    "from scipy import stats as st\n",
    "import seaborn as sns"
   ]
  },
  {
   "cell_type": "markdown",
   "id": "c42cbe00",
   "metadata": {},
   "source": [
    "## Шаг . Загрузка данных"
   ]
  },
  {
   "cell_type": "code",
   "execution_count": 2,
   "id": "eff9f206",
   "metadata": {},
   "outputs": [],
   "source": [
    "users=pd.read_csv('/datasets/users_go.csv')"
   ]
  },
  {
   "cell_type": "code",
   "execution_count": 3,
   "id": "c03968ce",
   "metadata": {},
   "outputs": [],
   "source": [
    "rides=pd.read_csv('/datasets/rides_go.csv')"
   ]
  },
  {
   "cell_type": "code",
   "execution_count": 4,
   "id": "5bc23fe4",
   "metadata": {},
   "outputs": [],
   "source": [
    "subscriptions= pd.read_csv('/datasets/subscriptions_go.csv')"
   ]
  },
  {
   "cell_type": "markdown",
   "id": "fce7ea04",
   "metadata": {},
   "source": [
    "### Выведите первые строки каждого набора данных. Изучите общую информацию о каждом датафрейме."
   ]
  },
  {
   "cell_type": "code",
   "execution_count": 5,
   "id": "44455b6d",
   "metadata": {},
   "outputs": [
    {
     "data": {
      "text/html": [
       "<div>\n",
       "<style scoped>\n",
       "    .dataframe tbody tr th:only-of-type {\n",
       "        vertical-align: middle;\n",
       "    }\n",
       "\n",
       "    .dataframe tbody tr th {\n",
       "        vertical-align: top;\n",
       "    }\n",
       "\n",
       "    .dataframe thead th {\n",
       "        text-align: right;\n",
       "    }\n",
       "</style>\n",
       "<table border=\"1\" class=\"dataframe\">\n",
       "  <thead>\n",
       "    <tr style=\"text-align: right;\">\n",
       "      <th></th>\n",
       "      <th>user_id</th>\n",
       "      <th>name</th>\n",
       "      <th>age</th>\n",
       "      <th>city</th>\n",
       "      <th>subscription_type</th>\n",
       "    </tr>\n",
       "  </thead>\n",
       "  <tbody>\n",
       "    <tr>\n",
       "      <th>0</th>\n",
       "      <td>1</td>\n",
       "      <td>Кира</td>\n",
       "      <td>22</td>\n",
       "      <td>Тюмень</td>\n",
       "      <td>ultra</td>\n",
       "    </tr>\n",
       "    <tr>\n",
       "      <th>1</th>\n",
       "      <td>2</td>\n",
       "      <td>Станислав</td>\n",
       "      <td>31</td>\n",
       "      <td>Омск</td>\n",
       "      <td>ultra</td>\n",
       "    </tr>\n",
       "    <tr>\n",
       "      <th>2</th>\n",
       "      <td>3</td>\n",
       "      <td>Алексей</td>\n",
       "      <td>20</td>\n",
       "      <td>Москва</td>\n",
       "      <td>ultra</td>\n",
       "    </tr>\n",
       "    <tr>\n",
       "      <th>3</th>\n",
       "      <td>4</td>\n",
       "      <td>Константин</td>\n",
       "      <td>26</td>\n",
       "      <td>Ростов-на-Дону</td>\n",
       "      <td>ultra</td>\n",
       "    </tr>\n",
       "    <tr>\n",
       "      <th>4</th>\n",
       "      <td>5</td>\n",
       "      <td>Адель</td>\n",
       "      <td>28</td>\n",
       "      <td>Омск</td>\n",
       "      <td>ultra</td>\n",
       "    </tr>\n",
       "  </tbody>\n",
       "</table>\n",
       "</div>"
      ],
      "text/plain": [
       "   user_id        name  age            city subscription_type\n",
       "0        1        Кира   22          Тюмень             ultra\n",
       "1        2   Станислав   31            Омск             ultra\n",
       "2        3     Алексей   20          Москва             ultra\n",
       "3        4  Константин   26  Ростов-на-Дону             ultra\n",
       "4        5       Адель   28            Омск             ultra"
      ]
     },
     "metadata": {},
     "output_type": "display_data"
    },
    {
     "name": "stdout",
     "output_type": "stream",
     "text": [
      "<class 'pandas.core.frame.DataFrame'>\n",
      "RangeIndex: 1565 entries, 0 to 1564\n",
      "Data columns (total 5 columns):\n",
      " #   Column             Non-Null Count  Dtype \n",
      "---  ------             --------------  ----- \n",
      " 0   user_id            1565 non-null   int64 \n",
      " 1   name               1565 non-null   object\n",
      " 2   age                1565 non-null   int64 \n",
      " 3   city               1565 non-null   object\n",
      " 4   subscription_type  1565 non-null   object\n",
      "dtypes: int64(2), object(3)\n",
      "memory usage: 61.3+ KB\n"
     ]
    },
    {
     "data": {
      "text/html": [
       "<div>\n",
       "<style scoped>\n",
       "    .dataframe tbody tr th:only-of-type {\n",
       "        vertical-align: middle;\n",
       "    }\n",
       "\n",
       "    .dataframe tbody tr th {\n",
       "        vertical-align: top;\n",
       "    }\n",
       "\n",
       "    .dataframe thead th {\n",
       "        text-align: right;\n",
       "    }\n",
       "</style>\n",
       "<table border=\"1\" class=\"dataframe\">\n",
       "  <thead>\n",
       "    <tr style=\"text-align: right;\">\n",
       "      <th></th>\n",
       "      <th>user_id</th>\n",
       "      <th>distance</th>\n",
       "      <th>duration</th>\n",
       "      <th>date</th>\n",
       "    </tr>\n",
       "  </thead>\n",
       "  <tbody>\n",
       "    <tr>\n",
       "      <th>0</th>\n",
       "      <td>1</td>\n",
       "      <td>4409.919140</td>\n",
       "      <td>25.599769</td>\n",
       "      <td>2021-01-01</td>\n",
       "    </tr>\n",
       "    <tr>\n",
       "      <th>1</th>\n",
       "      <td>1</td>\n",
       "      <td>2617.592153</td>\n",
       "      <td>15.816871</td>\n",
       "      <td>2021-01-18</td>\n",
       "    </tr>\n",
       "    <tr>\n",
       "      <th>2</th>\n",
       "      <td>1</td>\n",
       "      <td>754.159807</td>\n",
       "      <td>6.232113</td>\n",
       "      <td>2021-04-20</td>\n",
       "    </tr>\n",
       "    <tr>\n",
       "      <th>3</th>\n",
       "      <td>1</td>\n",
       "      <td>2694.783254</td>\n",
       "      <td>18.511000</td>\n",
       "      <td>2021-08-11</td>\n",
       "    </tr>\n",
       "    <tr>\n",
       "      <th>4</th>\n",
       "      <td>1</td>\n",
       "      <td>4028.687306</td>\n",
       "      <td>26.265803</td>\n",
       "      <td>2021-08-28</td>\n",
       "    </tr>\n",
       "  </tbody>\n",
       "</table>\n",
       "</div>"
      ],
      "text/plain": [
       "   user_id     distance   duration        date\n",
       "0        1  4409.919140  25.599769  2021-01-01\n",
       "1        1  2617.592153  15.816871  2021-01-18\n",
       "2        1   754.159807   6.232113  2021-04-20\n",
       "3        1  2694.783254  18.511000  2021-08-11\n",
       "4        1  4028.687306  26.265803  2021-08-28"
      ]
     },
     "metadata": {},
     "output_type": "display_data"
    },
    {
     "name": "stdout",
     "output_type": "stream",
     "text": [
      "<class 'pandas.core.frame.DataFrame'>\n",
      "RangeIndex: 18068 entries, 0 to 18067\n",
      "Data columns (total 4 columns):\n",
      " #   Column    Non-Null Count  Dtype  \n",
      "---  ------    --------------  -----  \n",
      " 0   user_id   18068 non-null  int64  \n",
      " 1   distance  18068 non-null  float64\n",
      " 2   duration  18068 non-null  float64\n",
      " 3   date      18068 non-null  object \n",
      "dtypes: float64(2), int64(1), object(1)\n",
      "memory usage: 564.8+ KB\n"
     ]
    },
    {
     "data": {
      "text/html": [
       "<div>\n",
       "<style scoped>\n",
       "    .dataframe tbody tr th:only-of-type {\n",
       "        vertical-align: middle;\n",
       "    }\n",
       "\n",
       "    .dataframe tbody tr th {\n",
       "        vertical-align: top;\n",
       "    }\n",
       "\n",
       "    .dataframe thead th {\n",
       "        text-align: right;\n",
       "    }\n",
       "</style>\n",
       "<table border=\"1\" class=\"dataframe\">\n",
       "  <thead>\n",
       "    <tr style=\"text-align: right;\">\n",
       "      <th></th>\n",
       "      <th>subscription_type</th>\n",
       "      <th>minute_price</th>\n",
       "      <th>start_ride_price</th>\n",
       "      <th>subscription_fee</th>\n",
       "    </tr>\n",
       "  </thead>\n",
       "  <tbody>\n",
       "    <tr>\n",
       "      <th>0</th>\n",
       "      <td>free</td>\n",
       "      <td>8</td>\n",
       "      <td>50</td>\n",
       "      <td>0</td>\n",
       "    </tr>\n",
       "    <tr>\n",
       "      <th>1</th>\n",
       "      <td>ultra</td>\n",
       "      <td>6</td>\n",
       "      <td>0</td>\n",
       "      <td>199</td>\n",
       "    </tr>\n",
       "  </tbody>\n",
       "</table>\n",
       "</div>"
      ],
      "text/plain": [
       "  subscription_type  minute_price  start_ride_price  subscription_fee\n",
       "0              free             8                50                 0\n",
       "1             ultra             6                 0               199"
      ]
     },
     "metadata": {},
     "output_type": "display_data"
    },
    {
     "name": "stdout",
     "output_type": "stream",
     "text": [
      "<class 'pandas.core.frame.DataFrame'>\n",
      "RangeIndex: 2 entries, 0 to 1\n",
      "Data columns (total 4 columns):\n",
      " #   Column             Non-Null Count  Dtype \n",
      "---  ------             --------------  ----- \n",
      " 0   subscription_type  2 non-null      object\n",
      " 1   minute_price       2 non-null      int64 \n",
      " 2   start_ride_price   2 non-null      int64 \n",
      " 3   subscription_fee   2 non-null      int64 \n",
      "dtypes: int64(3), object(1)\n",
      "memory usage: 192.0+ bytes\n"
     ]
    }
   ],
   "source": [
    "#Изучим данные из трех датафреймов\n",
    "display(users.head())\n",
    "users.info()\n",
    "\n",
    "display(rides.head())\n",
    "rides.info()\n",
    "\n",
    "display(subscriptions.head())\n",
    "subscriptions.info()"
   ]
  },
  {
   "cell_type": "markdown",
   "id": "867aace6",
   "metadata": {},
   "source": [
    "В итоге, у нас 1564 уникальных пользователя, которые совершили 18067 поездок. Это подтверждает и столбец user_id\n",
    "типы данных в целом совпадают, кроме даты, наименования столбцов нас удовлетворяют."
   ]
  },
  {
   "cell_type": "markdown",
   "id": "e95ebca7",
   "metadata": {},
   "source": [
    "## Шаг. Предобработка данных"
   ]
  },
  {
   "cell_type": "markdown",
   "id": "830ecb38",
   "metadata": {},
   "source": [
    "### Приведите столбец date к типу даты pandas.\n"
   ]
  },
  {
   "cell_type": "code",
   "execution_count": 6,
   "id": "393d3641",
   "metadata": {},
   "outputs": [
    {
     "name": "stdout",
     "output_type": "stream",
     "text": [
      "<class 'pandas.core.frame.DataFrame'>\n",
      "RangeIndex: 18068 entries, 0 to 18067\n",
      "Data columns (total 4 columns):\n",
      " #   Column    Non-Null Count  Dtype         \n",
      "---  ------    --------------  -----         \n",
      " 0   user_id   18068 non-null  int64         \n",
      " 1   distance  18068 non-null  float64       \n",
      " 2   duration  18068 non-null  float64       \n",
      " 3   date      18068 non-null  datetime64[ns]\n",
      "dtypes: datetime64[ns](1), float64(2), int64(1)\n",
      "memory usage: 564.8 KB\n"
     ]
    },
    {
     "data": {
      "text/plain": [
       "None"
      ]
     },
     "metadata": {},
     "output_type": "display_data"
    }
   ],
   "source": [
    "rides['date'] = pd.to_datetime(rides['date'], errors='coerce')\n",
    "display(rides.info())"
   ]
  },
  {
   "cell_type": "markdown",
   "id": "272ae0e3",
   "metadata": {},
   "source": [
    "Теперь столбец с датой имеет подходящий формат"
   ]
  },
  {
   "cell_type": "markdown",
   "id": "44e2484e",
   "metadata": {},
   "source": [
    "### Создайте новый столбец с номером месяца на основе столбца date.\n"
   ]
  },
  {
   "cell_type": "code",
   "execution_count": 7,
   "id": "a86bf541",
   "metadata": {},
   "outputs": [
    {
     "data": {
      "text/html": [
       "<div>\n",
       "<style scoped>\n",
       "    .dataframe tbody tr th:only-of-type {\n",
       "        vertical-align: middle;\n",
       "    }\n",
       "\n",
       "    .dataframe tbody tr th {\n",
       "        vertical-align: top;\n",
       "    }\n",
       "\n",
       "    .dataframe thead th {\n",
       "        text-align: right;\n",
       "    }\n",
       "</style>\n",
       "<table border=\"1\" class=\"dataframe\">\n",
       "  <thead>\n",
       "    <tr style=\"text-align: right;\">\n",
       "      <th></th>\n",
       "      <th>user_id</th>\n",
       "      <th>distance</th>\n",
       "      <th>duration</th>\n",
       "      <th>date</th>\n",
       "      <th>month</th>\n",
       "      <th>year</th>\n",
       "    </tr>\n",
       "  </thead>\n",
       "  <tbody>\n",
       "    <tr>\n",
       "      <th>0</th>\n",
       "      <td>1</td>\n",
       "      <td>4409.919140</td>\n",
       "      <td>25.599769</td>\n",
       "      <td>2021-01-01</td>\n",
       "      <td>1</td>\n",
       "      <td>2021</td>\n",
       "    </tr>\n",
       "    <tr>\n",
       "      <th>1</th>\n",
       "      <td>1</td>\n",
       "      <td>2617.592153</td>\n",
       "      <td>15.816871</td>\n",
       "      <td>2021-01-18</td>\n",
       "      <td>1</td>\n",
       "      <td>2021</td>\n",
       "    </tr>\n",
       "    <tr>\n",
       "      <th>2</th>\n",
       "      <td>1</td>\n",
       "      <td>754.159807</td>\n",
       "      <td>6.232113</td>\n",
       "      <td>2021-04-20</td>\n",
       "      <td>4</td>\n",
       "      <td>2021</td>\n",
       "    </tr>\n",
       "    <tr>\n",
       "      <th>3</th>\n",
       "      <td>1</td>\n",
       "      <td>2694.783254</td>\n",
       "      <td>18.511000</td>\n",
       "      <td>2021-08-11</td>\n",
       "      <td>8</td>\n",
       "      <td>2021</td>\n",
       "    </tr>\n",
       "    <tr>\n",
       "      <th>4</th>\n",
       "      <td>1</td>\n",
       "      <td>4028.687306</td>\n",
       "      <td>26.265803</td>\n",
       "      <td>2021-08-28</td>\n",
       "      <td>8</td>\n",
       "      <td>2021</td>\n",
       "    </tr>\n",
       "  </tbody>\n",
       "</table>\n",
       "</div>"
      ],
      "text/plain": [
       "   user_id     distance   duration       date  month  year\n",
       "0        1  4409.919140  25.599769 2021-01-01      1  2021\n",
       "1        1  2617.592153  15.816871 2021-01-18      1  2021\n",
       "2        1   754.159807   6.232113 2021-04-20      4  2021\n",
       "3        1  2694.783254  18.511000 2021-08-11      8  2021\n",
       "4        1  4028.687306  26.265803 2021-08-28      8  2021"
      ]
     },
     "metadata": {},
     "output_type": "display_data"
    }
   ],
   "source": [
    "rides['month'] = rides['date'].dt.month\n",
    "rides['year'] = rides['date'].dt.year\n",
    "\n",
    "display(rides.head())"
   ]
  },
  {
   "cell_type": "code",
   "execution_count": 8,
   "id": "ad03ab13",
   "metadata": {},
   "outputs": [
    {
     "data": {
      "text/plain": [
       "array([2021])"
      ]
     },
     "metadata": {},
     "output_type": "display_data"
    }
   ],
   "source": [
    "data_year=rides['year'].unique()\n",
    "display(data_year)"
   ]
  },
  {
   "cell_type": "markdown",
   "id": "5dd897c5",
   "metadata": {},
   "source": [
    "Уникальных значений нет, данные от 2021 года. Отдельно выделены столбцы с месяуем, указан порядковый номер месяца, а также выделен год. "
   ]
  },
  {
   "cell_type": "markdown",
   "id": "d651fd3a",
   "metadata": {},
   "source": [
    "### Проверьте наличие пропущенных значений и дубликатов в датафреймах. Обработайте их, если такие значения присутствуют."
   ]
  },
  {
   "cell_type": "markdown",
   "id": "fa7cf481",
   "metadata": {},
   "source": [
    "#Ищем пропуски\n",
    "Я посмотрела методом info, пропусков нет :)"
   ]
  },
  {
   "cell_type": "code",
   "execution_count": 9,
   "id": "d2e89ad9",
   "metadata": {},
   "outputs": [
    {
     "data": {
      "text/plain": [
       "user_id              0\n",
       "name                 0\n",
       "age                  0\n",
       "city                 0\n",
       "subscription_type    0\n",
       "dtype: int64"
      ]
     },
     "metadata": {},
     "output_type": "display_data"
    },
    {
     "data": {
      "text/plain": [
       "user_id     0\n",
       "distance    0\n",
       "duration    0\n",
       "date        0\n",
       "month       0\n",
       "year        0\n",
       "dtype: int64"
      ]
     },
     "metadata": {},
     "output_type": "display_data"
    },
    {
     "data": {
      "text/plain": [
       "subscription_type    0\n",
       "minute_price         0\n",
       "start_ride_price     0\n",
       "subscription_fee     0\n",
       "dtype: int64"
      ]
     },
     "metadata": {},
     "output_type": "display_data"
    }
   ],
   "source": [
    "missing_values_users = users.isnull().sum()\n",
    "missing_values_rides = rides.isnull().sum()\n",
    "missing_values_subscriptions= subscriptions.isnull().sum()\n",
    "display(missing_values_users)\n",
    "\n",
    "display(missing_values_rides)\n",
    "\n",
    "display(missing_values_subscriptions)"
   ]
  },
  {
   "cell_type": "markdown",
   "id": "48ee5045",
   "metadata": {},
   "source": [
    "**Ищем дубликаты**"
   ]
  },
  {
   "cell_type": "code",
   "execution_count": 10,
   "id": "b2064fb3",
   "metadata": {},
   "outputs": [
    {
     "data": {
      "text/plain": [
       "31"
      ]
     },
     "metadata": {},
     "output_type": "display_data"
    },
    {
     "data": {
      "text/plain": [
       "0"
      ]
     },
     "metadata": {},
     "output_type": "display_data"
    },
    {
     "data": {
      "text/plain": [
       "0"
      ]
     },
     "metadata": {},
     "output_type": "display_data"
    }
   ],
   "source": [
    "\n",
    "duplicates_users = users.duplicated().sum()\n",
    "duplicates_rides = rides.duplicated().sum()\n",
    "duplicates_subscriptions = subscriptions.duplicated().sum()\n",
    "\n",
    "display(duplicates_users)\n",
    "\n",
    "display(duplicates_rides)\n",
    "\n",
    "display(duplicates_subscriptions)"
   ]
  },
  {
   "cell_type": "code",
   "execution_count": 11,
   "id": "c3540b01",
   "metadata": {},
   "outputs": [
    {
     "data": {
      "text/plain": [
       "'Все дубликаты:'"
      ]
     },
     "metadata": {},
     "output_type": "display_data"
    },
    {
     "data": {
      "text/html": [
       "<div>\n",
       "<style scoped>\n",
       "    .dataframe tbody tr th:only-of-type {\n",
       "        vertical-align: middle;\n",
       "    }\n",
       "\n",
       "    .dataframe tbody tr th {\n",
       "        vertical-align: top;\n",
       "    }\n",
       "\n",
       "    .dataframe thead th {\n",
       "        text-align: right;\n",
       "    }\n",
       "</style>\n",
       "<table border=\"1\" class=\"dataframe\">\n",
       "  <thead>\n",
       "    <tr style=\"text-align: right;\">\n",
       "      <th></th>\n",
       "      <th>user_id</th>\n",
       "      <th>name</th>\n",
       "      <th>age</th>\n",
       "      <th>city</th>\n",
       "      <th>subscription_type</th>\n",
       "    </tr>\n",
       "  </thead>\n",
       "  <tbody>\n",
       "    <tr>\n",
       "      <th>1534</th>\n",
       "      <td>293</td>\n",
       "      <td>Агата</td>\n",
       "      <td>26</td>\n",
       "      <td>Краснодар</td>\n",
       "      <td>ultra</td>\n",
       "    </tr>\n",
       "    <tr>\n",
       "      <th>1535</th>\n",
       "      <td>16</td>\n",
       "      <td>Амалия</td>\n",
       "      <td>27</td>\n",
       "      <td>Краснодар</td>\n",
       "      <td>ultra</td>\n",
       "    </tr>\n",
       "    <tr>\n",
       "      <th>1536</th>\n",
       "      <td>909</td>\n",
       "      <td>Константин</td>\n",
       "      <td>20</td>\n",
       "      <td>Екатеринбург</td>\n",
       "      <td>free</td>\n",
       "    </tr>\n",
       "    <tr>\n",
       "      <th>1537</th>\n",
       "      <td>403</td>\n",
       "      <td>Полина</td>\n",
       "      <td>19</td>\n",
       "      <td>Сочи</td>\n",
       "      <td>ultra</td>\n",
       "    </tr>\n",
       "    <tr>\n",
       "      <th>1538</th>\n",
       "      <td>908</td>\n",
       "      <td>Рустам</td>\n",
       "      <td>30</td>\n",
       "      <td>Тюмень</td>\n",
       "      <td>free</td>\n",
       "    </tr>\n",
       "    <tr>\n",
       "      <th>1539</th>\n",
       "      <td>43</td>\n",
       "      <td>Стефания</td>\n",
       "      <td>22</td>\n",
       "      <td>Омск</td>\n",
       "      <td>ultra</td>\n",
       "    </tr>\n",
       "    <tr>\n",
       "      <th>1540</th>\n",
       "      <td>127</td>\n",
       "      <td>Павел</td>\n",
       "      <td>25</td>\n",
       "      <td>Пятигорск</td>\n",
       "      <td>ultra</td>\n",
       "    </tr>\n",
       "    <tr>\n",
       "      <th>1541</th>\n",
       "      <td>659</td>\n",
       "      <td>Злата</td>\n",
       "      <td>27</td>\n",
       "      <td>Ростов-на-Дону</td>\n",
       "      <td>ultra</td>\n",
       "    </tr>\n",
       "    <tr>\n",
       "      <th>1542</th>\n",
       "      <td>204</td>\n",
       "      <td>Руслан</td>\n",
       "      <td>30</td>\n",
       "      <td>Пятигорск</td>\n",
       "      <td>ultra</td>\n",
       "    </tr>\n",
       "    <tr>\n",
       "      <th>1543</th>\n",
       "      <td>153</td>\n",
       "      <td>Герман</td>\n",
       "      <td>23</td>\n",
       "      <td>Москва</td>\n",
       "      <td>ultra</td>\n",
       "    </tr>\n",
       "    <tr>\n",
       "      <th>1544</th>\n",
       "      <td>1245</td>\n",
       "      <td>Регина</td>\n",
       "      <td>27</td>\n",
       "      <td>Пятигорск</td>\n",
       "      <td>free</td>\n",
       "    </tr>\n",
       "    <tr>\n",
       "      <th>1545</th>\n",
       "      <td>807</td>\n",
       "      <td>Александр</td>\n",
       "      <td>28</td>\n",
       "      <td>Екатеринбург</td>\n",
       "      <td>free</td>\n",
       "    </tr>\n",
       "    <tr>\n",
       "      <th>1546</th>\n",
       "      <td>924</td>\n",
       "      <td>Мария</td>\n",
       "      <td>23</td>\n",
       "      <td>Пятигорск</td>\n",
       "      <td>free</td>\n",
       "    </tr>\n",
       "    <tr>\n",
       "      <th>1547</th>\n",
       "      <td>635</td>\n",
       "      <td>Герман</td>\n",
       "      <td>21</td>\n",
       "      <td>Москва</td>\n",
       "      <td>ultra</td>\n",
       "    </tr>\n",
       "    <tr>\n",
       "      <th>1548</th>\n",
       "      <td>136</td>\n",
       "      <td>Марсель</td>\n",
       "      <td>25</td>\n",
       "      <td>Тюмень</td>\n",
       "      <td>ultra</td>\n",
       "    </tr>\n",
       "    <tr>\n",
       "      <th>1549</th>\n",
       "      <td>108</td>\n",
       "      <td>Влада</td>\n",
       "      <td>29</td>\n",
       "      <td>Тюмень</td>\n",
       "      <td>ultra</td>\n",
       "    </tr>\n",
       "    <tr>\n",
       "      <th>1550</th>\n",
       "      <td>737</td>\n",
       "      <td>Мелания</td>\n",
       "      <td>27</td>\n",
       "      <td>Ростов-на-Дону</td>\n",
       "      <td>free</td>\n",
       "    </tr>\n",
       "    <tr>\n",
       "      <th>1551</th>\n",
       "      <td>666</td>\n",
       "      <td>Зарина</td>\n",
       "      <td>29</td>\n",
       "      <td>Москва</td>\n",
       "      <td>ultra</td>\n",
       "    </tr>\n",
       "    <tr>\n",
       "      <th>1552</th>\n",
       "      <td>297</td>\n",
       "      <td>Егор</td>\n",
       "      <td>33</td>\n",
       "      <td>Пятигорск</td>\n",
       "      <td>ultra</td>\n",
       "    </tr>\n",
       "    <tr>\n",
       "      <th>1553</th>\n",
       "      <td>121</td>\n",
       "      <td>Алина</td>\n",
       "      <td>25</td>\n",
       "      <td>Пятигорск</td>\n",
       "      <td>ultra</td>\n",
       "    </tr>\n",
       "    <tr>\n",
       "      <th>1554</th>\n",
       "      <td>1198</td>\n",
       "      <td>Демид</td>\n",
       "      <td>29</td>\n",
       "      <td>Ростов-на-Дону</td>\n",
       "      <td>free</td>\n",
       "    </tr>\n",
       "    <tr>\n",
       "      <th>1555</th>\n",
       "      <td>72</td>\n",
       "      <td>Никита</td>\n",
       "      <td>25</td>\n",
       "      <td>Москва</td>\n",
       "      <td>ultra</td>\n",
       "    </tr>\n",
       "    <tr>\n",
       "      <th>1556</th>\n",
       "      <td>422</td>\n",
       "      <td>Кирилл</td>\n",
       "      <td>27</td>\n",
       "      <td>Сочи</td>\n",
       "      <td>ultra</td>\n",
       "    </tr>\n",
       "    <tr>\n",
       "      <th>1557</th>\n",
       "      <td>611</td>\n",
       "      <td>Владимир</td>\n",
       "      <td>28</td>\n",
       "      <td>Омск</td>\n",
       "      <td>ultra</td>\n",
       "    </tr>\n",
       "    <tr>\n",
       "      <th>1558</th>\n",
       "      <td>1237</td>\n",
       "      <td>Евгения</td>\n",
       "      <td>23</td>\n",
       "      <td>Тюмень</td>\n",
       "      <td>free</td>\n",
       "    </tr>\n",
       "    <tr>\n",
       "      <th>1559</th>\n",
       "      <td>209</td>\n",
       "      <td>Андрей</td>\n",
       "      <td>23</td>\n",
       "      <td>Омск</td>\n",
       "      <td>ultra</td>\n",
       "    </tr>\n",
       "    <tr>\n",
       "      <th>1560</th>\n",
       "      <td>829</td>\n",
       "      <td>Федор</td>\n",
       "      <td>29</td>\n",
       "      <td>Пятигорск</td>\n",
       "      <td>free</td>\n",
       "    </tr>\n",
       "    <tr>\n",
       "      <th>1561</th>\n",
       "      <td>809</td>\n",
       "      <td>Юрий</td>\n",
       "      <td>26</td>\n",
       "      <td>Сочи</td>\n",
       "      <td>free</td>\n",
       "    </tr>\n",
       "    <tr>\n",
       "      <th>1562</th>\n",
       "      <td>307</td>\n",
       "      <td>Ясмина</td>\n",
       "      <td>19</td>\n",
       "      <td>Краснодар</td>\n",
       "      <td>ultra</td>\n",
       "    </tr>\n",
       "    <tr>\n",
       "      <th>1563</th>\n",
       "      <td>47</td>\n",
       "      <td>Юрий</td>\n",
       "      <td>28</td>\n",
       "      <td>Тюмень</td>\n",
       "      <td>ultra</td>\n",
       "    </tr>\n",
       "    <tr>\n",
       "      <th>1564</th>\n",
       "      <td>1045</td>\n",
       "      <td>Артемий</td>\n",
       "      <td>28</td>\n",
       "      <td>Ростов-на-Дону</td>\n",
       "      <td>free</td>\n",
       "    </tr>\n",
       "  </tbody>\n",
       "</table>\n",
       "</div>"
      ],
      "text/plain": [
       "      user_id        name  age            city subscription_type\n",
       "1534      293       Агата   26       Краснодар             ultra\n",
       "1535       16      Амалия   27       Краснодар             ultra\n",
       "1536      909  Константин   20    Екатеринбург              free\n",
       "1537      403      Полина   19            Сочи             ultra\n",
       "1538      908      Рустам   30          Тюмень              free\n",
       "1539       43    Стефания   22            Омск             ultra\n",
       "1540      127       Павел   25       Пятигорск             ultra\n",
       "1541      659       Злата   27  Ростов-на-Дону             ultra\n",
       "1542      204      Руслан   30       Пятигорск             ultra\n",
       "1543      153      Герман   23          Москва             ultra\n",
       "1544     1245      Регина   27       Пятигорск              free\n",
       "1545      807   Александр   28    Екатеринбург              free\n",
       "1546      924       Мария   23       Пятигорск              free\n",
       "1547      635      Герман   21          Москва             ultra\n",
       "1548      136     Марсель   25          Тюмень             ultra\n",
       "1549      108       Влада   29          Тюмень             ultra\n",
       "1550      737     Мелания   27  Ростов-на-Дону              free\n",
       "1551      666      Зарина   29          Москва             ultra\n",
       "1552      297        Егор   33       Пятигорск             ultra\n",
       "1553      121       Алина   25       Пятигорск             ultra\n",
       "1554     1198       Демид   29  Ростов-на-Дону              free\n",
       "1555       72      Никита   25          Москва             ultra\n",
       "1556      422      Кирилл   27            Сочи             ultra\n",
       "1557      611    Владимир   28            Омск             ultra\n",
       "1558     1237     Евгения   23          Тюмень              free\n",
       "1559      209      Андрей   23            Омск             ultra\n",
       "1560      829       Федор   29       Пятигорск              free\n",
       "1561      809        Юрий   26            Сочи              free\n",
       "1562      307      Ясмина   19       Краснодар             ultra\n",
       "1563       47        Юрий   28          Тюмень             ultra\n",
       "1564     1045     Артемий   28  Ростов-на-Дону              free"
      ]
     },
     "metadata": {},
     "output_type": "display_data"
    }
   ],
   "source": [
    "duplicates_users = users[users.duplicated()]\n",
    "display('Все дубликаты:', duplicates_users.head(31))"
   ]
  },
  {
   "cell_type": "code",
   "execution_count": 12,
   "id": "5ed66ee2",
   "metadata": {},
   "outputs": [
    {
     "data": {
      "text/plain": [
       "0"
      ]
     },
     "metadata": {},
     "output_type": "display_data"
    }
   ],
   "source": [
    "#Избавляемся от дубликатов\n",
    "users = users.drop_duplicates()\n",
    "duplicates_users = users.duplicated().sum()\n",
    "display(duplicates_users)"
   ]
  },
  {
   "cell_type": "markdown",
   "id": "e3252a8b",
   "metadata": {},
   "source": [
    "Пропуски не обнаружены, выявленные дубликаты удалены"
   ]
  },
  {
   "cell_type": "markdown",
   "id": "212593c7",
   "metadata": {},
   "source": [
    "## Шаг. Исследовательский анализ данных"
   ]
  },
  {
   "cell_type": "markdown",
   "id": "ff15fa3d",
   "metadata": {},
   "source": [
    "Опишите и визуализируйте общую информацию о пользователях и поездках:"
   ]
  },
  {
   "cell_type": "markdown",
   "id": "5dc9017f",
   "metadata": {},
   "source": [
    "### Частота встречаемости городов"
   ]
  },
  {
   "cell_type": "code",
   "execution_count": 13,
   "id": "4cade571",
   "metadata": {},
   "outputs": [
    {
     "data": {
      "image/png": "[encoded data removed]",
      "text/plain": [
       "<Figure size 720x432 with 1 Axes>"
      ]
     },
     "metadata": {
      "needs_background": "light"
     },
     "output_type": "display_data"
    },
    {
     "data": {
      "text/plain": [
       "'Процентное соотношение городов в таблице:'"
      ]
     },
     "metadata": {},
     "output_type": "display_data"
    },
    {
     "data": {
      "text/plain": [
       "Пятигорск         14.276402\n",
       "Екатеринбург      13.298566\n",
       "Ростов-на-Дону    12.907432\n",
       "Краснодар         12.581486\n",
       "Сочи              12.320730\n",
       "Омск              11.929596\n",
       "Тюмень            11.734029\n",
       "Москва            10.951760\n",
       "Name: city, dtype: float64"
      ]
     },
     "metadata": {},
     "output_type": "display_data"
    }
   ],
   "source": [
    "city_counts = users['city'].value_counts()\n",
    "plt.figure(figsize=(10, 6))\n",
    "city_counts.plot(kind='bar', color='skyblue')\n",
    "total_users = users.shape[0]\n",
    "city_percentage = (city_counts / total_users) * 100\n",
    "\n",
    "ax = city_counts.plot(kind='bar', color='skyblue')\n",
    "plt.title('Частота встречаемости городов')\n",
    "plt.xlabel('Города')\n",
    "plt.xticks(rotation=45)\n",
    "plt.grid(axis='y')\n",
    "for idx, value in enumerate(city_counts):\n",
    "    ax.text(idx, value, str(value), ha='center', va='bottom')\n",
    "plt.show()\n",
    "\n",
    "display('Процентное соотношение городов в таблице:', \n",
    "      city_percentage)"
   ]
  },
  {
   "cell_type": "markdown",
   "id": "fd6e2dfc",
   "metadata": {},
   "source": [
    "Больше всего пользователей наблюдается в южном городе Пятигорске"
   ]
  },
  {
   "cell_type": "markdown",
   "id": "0de4f937",
   "metadata": {},
   "source": [
    "### Соотношение пользователей с подпиской и без подписки;"
   ]
  },
  {
   "cell_type": "code",
   "execution_count": 14,
   "id": "94b8a714",
   "metadata": {},
   "outputs": [
    {
     "data": {
      "image/png": "[encoded data removed]",
      "text/plain": [
       "<Figure size 576x360 with 1 Axes>"
      ]
     },
     "metadata": {
      "needs_background": "light"
     },
     "output_type": "display_data"
    },
    {
     "data": {
      "text/plain": [
       "'Процентное соотношение пользователей с подпиской и без нее:'"
      ]
     },
     "metadata": {},
     "output_type": "display_data"
    },
    {
     "data": {
      "text/plain": [
       "free     54.432855\n",
       "ultra    45.567145\n",
       "Name: subscription_type, dtype: float64"
      ]
     },
     "metadata": {},
     "output_type": "display_data"
    }
   ],
   "source": [
    "subscription_counts = users['subscription_type'].value_counts()\n",
    "plt.figure(figsize=(8, 5))\n",
    "\n",
    "total_subscription = users.shape[0] #Считаем процентное соотношение пользователей с подпиской и без нее\n",
    "\n",
    "subscription_percentage = (subscription_counts / total_subscription) * 100\n",
    "ax = subscription_counts.plot(kind='bar', color=['skyblue', 'green'])\n",
    "\n",
    "\n",
    "plt.title('Соотношение пользователей с подпиской и без подписки')\n",
    "plt.xlabel('Тип подписки')\n",
    "plt.ylabel('Количество пользователей')\n",
    "plt.xticks(rotation=0)\n",
    "plt.grid(axis='y')\n",
    "\n",
    "for idx, value in enumerate(subscription_counts):\n",
    "    ax.text(idx, value + 0.1, f\"{subscription_percentage[idx]:.1f}%\", ha='center', va='bottom')\n",
    "plt.show()\n",
    "\n",
    "display('Процентное соотношение пользователей с подпиской и без нее:',subscription_percentage)"
   ]
  },
  {
   "cell_type": "markdown",
   "id": "01d3eb27",
   "metadata": {},
   "source": [
    "Больше половины пользователей всё еще не готовы платить за подписку"
   ]
  },
  {
   "cell_type": "markdown",
   "id": "a29249dc",
   "metadata": {},
   "source": [
    "### Возраст пользователей\n",
    "\n",
    "Рассмотрим средний возраст всех пользователей вне зависимости от наличия у них подписки"
   ]
  },
  {
   "cell_type": "code",
   "execution_count": 15,
   "id": "afa77ac5",
   "metadata": {},
   "outputs": [
    {
     "data": {
      "image/png": "[encoded data removed]",
      "text/plain": [
       "<Figure size 720x432 with 1 Axes>"
      ]
     },
     "metadata": {
      "needs_background": "light"
     },
     "output_type": "display_data"
    },
    {
     "data": {
      "image/png": "[encoded data removed]",
      "text/plain": [
       "<Figure size 720x432 with 1 Axes>"
      ]
     },
     "metadata": {
      "needs_background": "light"
     },
     "output_type": "display_data"
    },
    {
     "data": {
      "text/plain": [
       "count    1534.000000\n",
       "mean       24.903520\n",
       "std         4.572367\n",
       "min        12.000000\n",
       "25%        22.000000\n",
       "50%        25.000000\n",
       "75%        28.000000\n",
       "max        43.000000\n",
       "Name: age, dtype: float64"
      ]
     },
     "metadata": {},
     "output_type": "display_data"
    }
   ],
   "source": [
    "#Для этого построим гистограмму\n",
    "plt.figure(figsize=(10, 6))\n",
    "\n",
    "plt.hist(users['age'], bins=15, color='pink', edgecolor='red')\n",
    "\n",
    "plt.title('Распределение возрастов пользователей')\n",
    "plt.xlabel('Возраст')\n",
    "plt.ylabel('Количество пользователей')\n",
    "plt.grid(axis='y', alpha=0.5)\n",
    "plt.show()\n",
    "\n",
    "#И диаграмму ящик с усами\n",
    "plt.figure(figsize=(10, 6))\n",
    "plt.boxplot(users['age'], patch_artist=True)\n",
    "plt.show()\n",
    "\n",
    "display(users['age'].describe())"
   ]
  },
  {
   "cell_type": "markdown",
   "id": "981f0e54",
   "metadata": {},
   "source": [
    "Видим несколько выбросов. В среднем, пользователям самокатов ~25 лет. Обратила внимание на самого молодого пользователя, ему 12 лет, самому взрослоу пользователю - 43 года."
   ]
  },
  {
   "cell_type": "markdown",
   "id": "dc3aa4aa",
   "metadata": {},
   "source": [
    "### Расстояние, которое пользователь преодолел за одну поездку\n",
    "В данном разделе рассмотрим среднее расстояние, которое пользователь преодолевает за одну поездку.\n",
    "Тоже пока без разделения на ultra и free\n"
   ]
  },
  {
   "cell_type": "code",
   "execution_count": 16,
   "id": "bd19850b",
   "metadata": {},
   "outputs": [
    {
     "data": {
      "image/png": "[encoded data removed]",
      "text/plain": [
       "<Figure size 720x432 with 1 Axes>"
      ]
     },
     "metadata": {
      "needs_background": "light"
     },
     "output_type": "display_data"
    },
    {
     "data": {
      "image/png": "[encoded data removed]",
      "text/plain": [
       "<Figure size 720x432 with 1 Axes>"
      ]
     },
     "metadata": {
      "needs_background": "light"
     },
     "output_type": "display_data"
    },
    {
     "name": "stdout",
     "output_type": "stream",
     "text": [
      "count    18068.000000\n",
      "mean      3070.659976\n",
      "std       1116.831209\n",
      "min          0.855683\n",
      "25%       2543.226360\n",
      "50%       3133.609994\n",
      "75%       3776.222735\n",
      "max       7211.007745\n",
      "Name: distance, dtype: float64\n"
     ]
    }
   ],
   "source": [
    "#Для этого построим гистограмму\n",
    "plt.figure(figsize=(10, 6))\n",
    "\n",
    "plt.hist(rides['distance'], bins=15, color='salmon', edgecolor='red')\n",
    "\n",
    "plt.title('Распределение дистанций пользователей')\n",
    "plt.xlabel('Длина каждой поездки в метрах')\n",
    "plt.ylabel('Количество пользователей')\n",
    "plt.grid(axis='y', alpha=0.5)\n",
    "plt.show()\n",
    "\n",
    "#И диаграмму ящик с усами\n",
    "plt.figure(figsize=(10, 6))\n",
    "plt.boxplot(rides['distance'], patch_artist=True)\n",
    "plt.show()\n",
    "\n",
    "print(rides['distance'].describe())"
   ]
  },
  {
   "cell_type": "markdown",
   "id": "71f80bf2",
   "metadata": {},
   "source": [
    "Наблюдается много выбросов, но в среднем, пользователи берут самокаты на расстояния около 3 км, медианное значние - 3133 метра (или 3,233 км), среднее значение 3070 метров."
   ]
  },
  {
   "cell_type": "markdown",
   "id": "25e2a9e1",
   "metadata": {},
   "source": [
    "### Продолжительность поездок\n",
    "Посмотрим среднюю продолжительность поездок вне зависимости от типа подпсики\n"
   ]
  },
  {
   "cell_type": "code",
   "execution_count": 17,
   "id": "069bee09",
   "metadata": {},
   "outputs": [
    {
     "data": {
      "image/png": "[encoded data removed]",
      "text/plain": [
       "<Figure size 720x432 with 1 Axes>"
      ]
     },
     "metadata": {
      "needs_background": "light"
     },
     "output_type": "display_data"
    },
    {
     "data": {
      "image/png": "[encoded data removed]",
      "text/plain": [
       "<Figure size 720x432 with 1 Axes>"
      ]
     },
     "metadata": {
      "needs_background": "light"
     },
     "output_type": "display_data"
    },
    {
     "name": "stdout",
     "output_type": "stream",
     "text": [
      "count    18068.000000\n",
      "mean        17.805011\n",
      "std          6.091051\n",
      "min          0.500000\n",
      "25%         13.597563\n",
      "50%         17.678395\n",
      "75%         21.724800\n",
      "max         40.823963\n",
      "Name: duration, dtype: float64\n"
     ]
    }
   ],
   "source": [
    "#Для этого построим гистограмму\n",
    "plt.figure(figsize=(10, 6))\n",
    "\n",
    "plt.hist(rides['duration'], bins=15, color='blue', edgecolor='black')\n",
    "\n",
    "plt.title('Распределение длительности поездки')\n",
    "plt.xlabel('Длительность поездки')\n",
    "plt.ylabel('Количество пользователей')\n",
    "plt.grid(axis='y', alpha=0.5)\n",
    "plt.show()\n",
    "\n",
    "#И диаграмму ящик с усами\n",
    "plt.figure(figsize=(10, 6))\n",
    "plt.boxplot(rides['duration'], patch_artist=True)\n",
    "plt.show()\n",
    "\n",
    "print(rides['duration'].describe())"
   ]
  },
  {
   "cell_type": "markdown",
   "id": "3452b291",
   "metadata": {},
   "source": [
    "Средняя продолжительность поездки составляет ~17,7 минут. Стандартное отклонениет составляет 6,09 - можно сказать, что данные достаточно варьируются."
   ]
  },
  {
   "cell_type": "markdown",
   "id": "2a5a8e71",
   "metadata": {},
   "source": [
    "**Средняя скорость пользователей**\n",
    "\n",
    "Попробуем рассчитать скорость"
   ]
  },
  {
   "cell_type": "markdown",
   "id": "16d97ae4",
   "metadata": {},
   "source": [
    "### Возраст пользователей"
   ]
  },
  {
   "cell_type": "code",
   "execution_count": 18,
   "id": "e97ee4c6",
   "metadata": {},
   "outputs": [
    {
     "data": {
      "image/png": "[encoded data removed]",
      "text/plain": [
       "<Figure size 720x432 with 1 Axes>"
      ]
     },
     "metadata": {
      "needs_background": "light"
     },
     "output_type": "display_data"
    },
    {
     "data": {
      "image/png": "[encoded data removed]",
      "text/plain": [
       "<Figure size 720x432 with 1 Axes>"
      ]
     },
     "metadata": {
      "needs_background": "light"
     },
     "output_type": "display_data"
    },
    {
     "data": {
      "text/plain": [
       "count    1534.000000\n",
       "mean       24.903520\n",
       "std         4.572367\n",
       "min        12.000000\n",
       "25%        22.000000\n",
       "50%        25.000000\n",
       "75%        28.000000\n",
       "max        43.000000\n",
       "Name: age, dtype: float64"
      ]
     },
     "metadata": {},
     "output_type": "display_data"
    }
   ],
   "source": [
    "#Для этого построим гистограмму\n",
    "plt.figure(figsize=(10, 6))\n",
    "\n",
    "plt.hist(users['age'], bins=15, color='pink', edgecolor='red')\n",
    "\n",
    "plt.title('Распределение возрастов пользователей')\n",
    "plt.xlabel('Возраст')\n",
    "plt.ylabel('Количество пользователей')\n",
    "plt.grid(axis='y', alpha=0.5)\n",
    "plt.show()\n",
    "\n",
    "#И диаграмму ящик с усами\n",
    "plt.figure(figsize=(10, 6))\n",
    "plt.boxplot(users['age'], patch_artist=True)\n",
    "plt.show()\n",
    "\n",
    "display(users['age'].describe())"
   ]
  },
  {
   "cell_type": "markdown",
   "id": "4ef51331",
   "metadata": {},
   "source": [
    "## Шаг. Объединение данных"
   ]
  },
  {
   "cell_type": "markdown",
   "id": "d9a07771",
   "metadata": {},
   "source": [
    "### Объедините данные о пользователях, поездках и подписках в один датафрейм. Для этого воспользуйтесь методом merge()."
   ]
  },
  {
   "cell_type": "code",
   "execution_count": 19,
   "id": "701d3e10",
   "metadata": {},
   "outputs": [
    {
     "data": {
      "text/html": [
       "<div>\n",
       "<style scoped>\n",
       "    .dataframe tbody tr th:only-of-type {\n",
       "        vertical-align: middle;\n",
       "    }\n",
       "\n",
       "    .dataframe tbody tr th {\n",
       "        vertical-align: top;\n",
       "    }\n",
       "\n",
       "    .dataframe thead th {\n",
       "        text-align: right;\n",
       "    }\n",
       "</style>\n",
       "<table border=\"1\" class=\"dataframe\">\n",
       "  <thead>\n",
       "    <tr style=\"text-align: right;\">\n",
       "      <th></th>\n",
       "      <th>user_id</th>\n",
       "      <th>name</th>\n",
       "      <th>age</th>\n",
       "      <th>city</th>\n",
       "      <th>subscription_type</th>\n",
       "      <th>minute_price</th>\n",
       "      <th>start_ride_price</th>\n",
       "      <th>subscription_fee</th>\n",
       "      <th>distance</th>\n",
       "      <th>duration</th>\n",
       "      <th>date</th>\n",
       "      <th>month</th>\n",
       "      <th>year</th>\n",
       "    </tr>\n",
       "  </thead>\n",
       "  <tbody>\n",
       "    <tr>\n",
       "      <th>0</th>\n",
       "      <td>1</td>\n",
       "      <td>Кира</td>\n",
       "      <td>22</td>\n",
       "      <td>Тюмень</td>\n",
       "      <td>ultra</td>\n",
       "      <td>6</td>\n",
       "      <td>0</td>\n",
       "      <td>199</td>\n",
       "      <td>4409.919140</td>\n",
       "      <td>25.599769</td>\n",
       "      <td>2021-01-01</td>\n",
       "      <td>1</td>\n",
       "      <td>2021</td>\n",
       "    </tr>\n",
       "    <tr>\n",
       "      <th>1</th>\n",
       "      <td>1</td>\n",
       "      <td>Кира</td>\n",
       "      <td>22</td>\n",
       "      <td>Тюмень</td>\n",
       "      <td>ultra</td>\n",
       "      <td>6</td>\n",
       "      <td>0</td>\n",
       "      <td>199</td>\n",
       "      <td>2617.592153</td>\n",
       "      <td>15.816871</td>\n",
       "      <td>2021-01-18</td>\n",
       "      <td>1</td>\n",
       "      <td>2021</td>\n",
       "    </tr>\n",
       "    <tr>\n",
       "      <th>2</th>\n",
       "      <td>1</td>\n",
       "      <td>Кира</td>\n",
       "      <td>22</td>\n",
       "      <td>Тюмень</td>\n",
       "      <td>ultra</td>\n",
       "      <td>6</td>\n",
       "      <td>0</td>\n",
       "      <td>199</td>\n",
       "      <td>754.159807</td>\n",
       "      <td>6.232113</td>\n",
       "      <td>2021-04-20</td>\n",
       "      <td>4</td>\n",
       "      <td>2021</td>\n",
       "    </tr>\n",
       "    <tr>\n",
       "      <th>3</th>\n",
       "      <td>1</td>\n",
       "      <td>Кира</td>\n",
       "      <td>22</td>\n",
       "      <td>Тюмень</td>\n",
       "      <td>ultra</td>\n",
       "      <td>6</td>\n",
       "      <td>0</td>\n",
       "      <td>199</td>\n",
       "      <td>2694.783254</td>\n",
       "      <td>18.511000</td>\n",
       "      <td>2021-08-11</td>\n",
       "      <td>8</td>\n",
       "      <td>2021</td>\n",
       "    </tr>\n",
       "    <tr>\n",
       "      <th>4</th>\n",
       "      <td>1</td>\n",
       "      <td>Кира</td>\n",
       "      <td>22</td>\n",
       "      <td>Тюмень</td>\n",
       "      <td>ultra</td>\n",
       "      <td>6</td>\n",
       "      <td>0</td>\n",
       "      <td>199</td>\n",
       "      <td>4028.687306</td>\n",
       "      <td>26.265803</td>\n",
       "      <td>2021-08-28</td>\n",
       "      <td>8</td>\n",
       "      <td>2021</td>\n",
       "    </tr>\n",
       "    <tr>\n",
       "      <th>5</th>\n",
       "      <td>1</td>\n",
       "      <td>Кира</td>\n",
       "      <td>22</td>\n",
       "      <td>Тюмень</td>\n",
       "      <td>ultra</td>\n",
       "      <td>6</td>\n",
       "      <td>0</td>\n",
       "      <td>199</td>\n",
       "      <td>2770.890808</td>\n",
       "      <td>16.650138</td>\n",
       "      <td>2021-10-09</td>\n",
       "      <td>10</td>\n",
       "      <td>2021</td>\n",
       "    </tr>\n",
       "    <tr>\n",
       "      <th>6</th>\n",
       "      <td>1</td>\n",
       "      <td>Кира</td>\n",
       "      <td>22</td>\n",
       "      <td>Тюмень</td>\n",
       "      <td>ultra</td>\n",
       "      <td>6</td>\n",
       "      <td>0</td>\n",
       "      <td>199</td>\n",
       "      <td>3039.020292</td>\n",
       "      <td>14.927879</td>\n",
       "      <td>2021-10-19</td>\n",
       "      <td>10</td>\n",
       "      <td>2021</td>\n",
       "    </tr>\n",
       "    <tr>\n",
       "      <th>7</th>\n",
       "      <td>1</td>\n",
       "      <td>Кира</td>\n",
       "      <td>22</td>\n",
       "      <td>Тюмень</td>\n",
       "      <td>ultra</td>\n",
       "      <td>6</td>\n",
       "      <td>0</td>\n",
       "      <td>199</td>\n",
       "      <td>2842.118050</td>\n",
       "      <td>23.117468</td>\n",
       "      <td>2021-11-06</td>\n",
       "      <td>11</td>\n",
       "      <td>2021</td>\n",
       "    </tr>\n",
       "    <tr>\n",
       "      <th>8</th>\n",
       "      <td>1</td>\n",
       "      <td>Кира</td>\n",
       "      <td>22</td>\n",
       "      <td>Тюмень</td>\n",
       "      <td>ultra</td>\n",
       "      <td>6</td>\n",
       "      <td>0</td>\n",
       "      <td>199</td>\n",
       "      <td>3412.690668</td>\n",
       "      <td>15.238072</td>\n",
       "      <td>2021-11-14</td>\n",
       "      <td>11</td>\n",
       "      <td>2021</td>\n",
       "    </tr>\n",
       "    <tr>\n",
       "      <th>9</th>\n",
       "      <td>1</td>\n",
       "      <td>Кира</td>\n",
       "      <td>22</td>\n",
       "      <td>Тюмень</td>\n",
       "      <td>ultra</td>\n",
       "      <td>6</td>\n",
       "      <td>0</td>\n",
       "      <td>199</td>\n",
       "      <td>748.690645</td>\n",
       "      <td>15.041884</td>\n",
       "      <td>2021-11-22</td>\n",
       "      <td>11</td>\n",
       "      <td>2021</td>\n",
       "    </tr>\n",
       "    <tr>\n",
       "      <th>10</th>\n",
       "      <td>1</td>\n",
       "      <td>Кира</td>\n",
       "      <td>22</td>\n",
       "      <td>Тюмень</td>\n",
       "      <td>ultra</td>\n",
       "      <td>6</td>\n",
       "      <td>0</td>\n",
       "      <td>199</td>\n",
       "      <td>4031.020195</td>\n",
       "      <td>17.674448</td>\n",
       "      <td>2021-12-14</td>\n",
       "      <td>12</td>\n",
       "      <td>2021</td>\n",
       "    </tr>\n",
       "    <tr>\n",
       "      <th>11</th>\n",
       "      <td>1</td>\n",
       "      <td>Кира</td>\n",
       "      <td>22</td>\n",
       "      <td>Тюмень</td>\n",
       "      <td>ultra</td>\n",
       "      <td>6</td>\n",
       "      <td>0</td>\n",
       "      <td>199</td>\n",
       "      <td>2720.609748</td>\n",
       "      <td>9.529463</td>\n",
       "      <td>2021-12-22</td>\n",
       "      <td>12</td>\n",
       "      <td>2021</td>\n",
       "    </tr>\n",
       "    <tr>\n",
       "      <th>12</th>\n",
       "      <td>2</td>\n",
       "      <td>Станислав</td>\n",
       "      <td>31</td>\n",
       "      <td>Омск</td>\n",
       "      <td>ultra</td>\n",
       "      <td>6</td>\n",
       "      <td>0</td>\n",
       "      <td>199</td>\n",
       "      <td>3105.086678</td>\n",
       "      <td>24.307514</td>\n",
       "      <td>2021-03-15</td>\n",
       "      <td>3</td>\n",
       "      <td>2021</td>\n",
       "    </tr>\n",
       "    <tr>\n",
       "      <th>13</th>\n",
       "      <td>2</td>\n",
       "      <td>Станислав</td>\n",
       "      <td>31</td>\n",
       "      <td>Омск</td>\n",
       "      <td>ultra</td>\n",
       "      <td>6</td>\n",
       "      <td>0</td>\n",
       "      <td>199</td>\n",
       "      <td>3053.519401</td>\n",
       "      <td>11.543256</td>\n",
       "      <td>2021-03-18</td>\n",
       "      <td>3</td>\n",
       "      <td>2021</td>\n",
       "    </tr>\n",
       "    <tr>\n",
       "      <th>14</th>\n",
       "      <td>2</td>\n",
       "      <td>Станислав</td>\n",
       "      <td>31</td>\n",
       "      <td>Омск</td>\n",
       "      <td>ultra</td>\n",
       "      <td>6</td>\n",
       "      <td>0</td>\n",
       "      <td>199</td>\n",
       "      <td>4029.116927</td>\n",
       "      <td>25.109188</td>\n",
       "      <td>2021-03-23</td>\n",
       "      <td>3</td>\n",
       "      <td>2021</td>\n",
       "    </tr>\n",
       "  </tbody>\n",
       "</table>\n",
       "</div>"
      ],
      "text/plain": [
       "    user_id       name  age    city subscription_type  minute_price  \\\n",
       "0         1       Кира   22  Тюмень             ultra             6   \n",
       "1         1       Кира   22  Тюмень             ultra             6   \n",
       "2         1       Кира   22  Тюмень             ultra             6   \n",
       "3         1       Кира   22  Тюмень             ultra             6   \n",
       "4         1       Кира   22  Тюмень             ultra             6   \n",
       "5         1       Кира   22  Тюмень             ultra             6   \n",
       "6         1       Кира   22  Тюмень             ultra             6   \n",
       "7         1       Кира   22  Тюмень             ultra             6   \n",
       "8         1       Кира   22  Тюмень             ultra             6   \n",
       "9         1       Кира   22  Тюмень             ultra             6   \n",
       "10        1       Кира   22  Тюмень             ultra             6   \n",
       "11        1       Кира   22  Тюмень             ultra             6   \n",
       "12        2  Станислав   31    Омск             ultra             6   \n",
       "13        2  Станислав   31    Омск             ultra             6   \n",
       "14        2  Станислав   31    Омск             ultra             6   \n",
       "\n",
       "    start_ride_price  subscription_fee     distance   duration       date  \\\n",
       "0                  0               199  4409.919140  25.599769 2021-01-01   \n",
       "1                  0               199  2617.592153  15.816871 2021-01-18   \n",
       "2                  0               199   754.159807   6.232113 2021-04-20   \n",
       "3                  0               199  2694.783254  18.511000 2021-08-11   \n",
       "4                  0               199  4028.687306  26.265803 2021-08-28   \n",
       "5                  0               199  2770.890808  16.650138 2021-10-09   \n",
       "6                  0               199  3039.020292  14.927879 2021-10-19   \n",
       "7                  0               199  2842.118050  23.117468 2021-11-06   \n",
       "8                  0               199  3412.690668  15.238072 2021-11-14   \n",
       "9                  0               199   748.690645  15.041884 2021-11-22   \n",
       "10                 0               199  4031.020195  17.674448 2021-12-14   \n",
       "11                 0               199  2720.609748   9.529463 2021-12-22   \n",
       "12                 0               199  3105.086678  24.307514 2021-03-15   \n",
       "13                 0               199  3053.519401  11.543256 2021-03-18   \n",
       "14                 0               199  4029.116927  25.109188 2021-03-23   \n",
       "\n",
       "    month  year  \n",
       "0       1  2021  \n",
       "1       1  2021  \n",
       "2       4  2021  \n",
       "3       8  2021  \n",
       "4       8  2021  \n",
       "5      10  2021  \n",
       "6      10  2021  \n",
       "7      11  2021  \n",
       "8      11  2021  \n",
       "9      11  2021  \n",
       "10     12  2021  \n",
       "11     12  2021  \n",
       "12      3  2021  \n",
       "13      3  2021  \n",
       "14      3  2021  "
      ]
     },
     "metadata": {},
     "output_type": "display_data"
    }
   ],
   "source": [
    "merged_result = pd.merge(users, subscriptions, on='subscription_type', how='left') #Объединяем пользователей с подписками\n",
    "merged_df = pd.merge(merged_result, rides, on='user_id', how='left') #Добавляем к первой таблице информацию о поездках\n",
    "\n",
    "display(merged_df.head(15))"
   ]
  },
  {
   "cell_type": "markdown",
   "id": "620f95e1",
   "metadata": {},
   "source": [
    "### Создайте ещё два датафрейма из датафрейма, созданного на этапе 4.1:\n",
    "c данными о пользователях без подписки;\n",
    "с данными о пользователях с подпиской."
   ]
  },
  {
   "cell_type": "code",
   "execution_count": 20,
   "id": "5dd23609",
   "metadata": {},
   "outputs": [
    {
     "data": {
      "text/html": [
       "<div>\n",
       "<style scoped>\n",
       "    .dataframe tbody tr th:only-of-type {\n",
       "        vertical-align: middle;\n",
       "    }\n",
       "\n",
       "    .dataframe tbody tr th {\n",
       "        vertical-align: top;\n",
       "    }\n",
       "\n",
       "    .dataframe thead th {\n",
       "        text-align: right;\n",
       "    }\n",
       "</style>\n",
       "<table border=\"1\" class=\"dataframe\">\n",
       "  <thead>\n",
       "    <tr style=\"text-align: right;\">\n",
       "      <th></th>\n",
       "      <th>user_id</th>\n",
       "      <th>name</th>\n",
       "      <th>age</th>\n",
       "      <th>city</th>\n",
       "      <th>subscription_type</th>\n",
       "      <th>minute_price</th>\n",
       "      <th>start_ride_price</th>\n",
       "      <th>subscription_fee</th>\n",
       "      <th>distance</th>\n",
       "      <th>duration</th>\n",
       "      <th>date</th>\n",
       "      <th>month</th>\n",
       "      <th>year</th>\n",
       "    </tr>\n",
       "  </thead>\n",
       "  <tbody>\n",
       "    <tr>\n",
       "      <th>6500</th>\n",
       "      <td>700</td>\n",
       "      <td>Айдар</td>\n",
       "      <td>22</td>\n",
       "      <td>Омск</td>\n",
       "      <td>free</td>\n",
       "      <td>8</td>\n",
       "      <td>50</td>\n",
       "      <td>0</td>\n",
       "      <td>2515.690719</td>\n",
       "      <td>14.944286</td>\n",
       "      <td>2021-01-02</td>\n",
       "      <td>1</td>\n",
       "      <td>2021</td>\n",
       "    </tr>\n",
       "    <tr>\n",
       "      <th>6501</th>\n",
       "      <td>700</td>\n",
       "      <td>Айдар</td>\n",
       "      <td>22</td>\n",
       "      <td>Омск</td>\n",
       "      <td>free</td>\n",
       "      <td>8</td>\n",
       "      <td>50</td>\n",
       "      <td>0</td>\n",
       "      <td>846.932642</td>\n",
       "      <td>16.234663</td>\n",
       "      <td>2021-02-01</td>\n",
       "      <td>2</td>\n",
       "      <td>2021</td>\n",
       "    </tr>\n",
       "    <tr>\n",
       "      <th>6502</th>\n",
       "      <td>700</td>\n",
       "      <td>Айдар</td>\n",
       "      <td>22</td>\n",
       "      <td>Омск</td>\n",
       "      <td>free</td>\n",
       "      <td>8</td>\n",
       "      <td>50</td>\n",
       "      <td>0</td>\n",
       "      <td>4004.434142</td>\n",
       "      <td>20.016628</td>\n",
       "      <td>2021-02-04</td>\n",
       "      <td>2</td>\n",
       "      <td>2021</td>\n",
       "    </tr>\n",
       "    <tr>\n",
       "      <th>6503</th>\n",
       "      <td>700</td>\n",
       "      <td>Айдар</td>\n",
       "      <td>22</td>\n",
       "      <td>Омск</td>\n",
       "      <td>free</td>\n",
       "      <td>8</td>\n",
       "      <td>50</td>\n",
       "      <td>0</td>\n",
       "      <td>1205.911290</td>\n",
       "      <td>9.782872</td>\n",
       "      <td>2021-02-10</td>\n",
       "      <td>2</td>\n",
       "      <td>2021</td>\n",
       "    </tr>\n",
       "    <tr>\n",
       "      <th>6504</th>\n",
       "      <td>700</td>\n",
       "      <td>Айдар</td>\n",
       "      <td>22</td>\n",
       "      <td>Омск</td>\n",
       "      <td>free</td>\n",
       "      <td>8</td>\n",
       "      <td>50</td>\n",
       "      <td>0</td>\n",
       "      <td>3047.379435</td>\n",
       "      <td>17.427673</td>\n",
       "      <td>2021-02-14</td>\n",
       "      <td>2</td>\n",
       "      <td>2021</td>\n",
       "    </tr>\n",
       "  </tbody>\n",
       "</table>\n",
       "</div>"
      ],
      "text/plain": [
       "      user_id   name  age  city subscription_type  minute_price  \\\n",
       "6500      700  Айдар   22  Омск              free             8   \n",
       "6501      700  Айдар   22  Омск              free             8   \n",
       "6502      700  Айдар   22  Омск              free             8   \n",
       "6503      700  Айдар   22  Омск              free             8   \n",
       "6504      700  Айдар   22  Омск              free             8   \n",
       "\n",
       "      start_ride_price  subscription_fee     distance   duration       date  \\\n",
       "6500                50                 0  2515.690719  14.944286 2021-01-02   \n",
       "6501                50                 0   846.932642  16.234663 2021-02-01   \n",
       "6502                50                 0  4004.434142  20.016628 2021-02-04   \n",
       "6503                50                 0  1205.911290   9.782872 2021-02-10   \n",
       "6504                50                 0  3047.379435  17.427673 2021-02-14   \n",
       "\n",
       "      month  year  \n",
       "6500      1  2021  \n",
       "6501      2  2021  \n",
       "6502      2  2021  \n",
       "6503      2  2021  \n",
       "6504      2  2021  "
      ]
     },
     "metadata": {},
     "output_type": "display_data"
    }
   ],
   "source": [
    "users_without = merged_df[merged_df['subscription_type'] == 'free']\n",
    "display(users_without.head())"
   ]
  },
  {
   "cell_type": "code",
   "execution_count": 21,
   "id": "fed6fb4f",
   "metadata": {},
   "outputs": [
    {
     "data": {
      "text/html": [
       "<div>\n",
       "<style scoped>\n",
       "    .dataframe tbody tr th:only-of-type {\n",
       "        vertical-align: middle;\n",
       "    }\n",
       "\n",
       "    .dataframe tbody tr th {\n",
       "        vertical-align: top;\n",
       "    }\n",
       "\n",
       "    .dataframe thead th {\n",
       "        text-align: right;\n",
       "    }\n",
       "</style>\n",
       "<table border=\"1\" class=\"dataframe\">\n",
       "  <thead>\n",
       "    <tr style=\"text-align: right;\">\n",
       "      <th></th>\n",
       "      <th>user_id</th>\n",
       "      <th>name</th>\n",
       "      <th>age</th>\n",
       "      <th>city</th>\n",
       "      <th>subscription_type</th>\n",
       "      <th>minute_price</th>\n",
       "      <th>start_ride_price</th>\n",
       "      <th>subscription_fee</th>\n",
       "      <th>distance</th>\n",
       "      <th>duration</th>\n",
       "      <th>date</th>\n",
       "      <th>month</th>\n",
       "      <th>year</th>\n",
       "    </tr>\n",
       "  </thead>\n",
       "  <tbody>\n",
       "    <tr>\n",
       "      <th>0</th>\n",
       "      <td>1</td>\n",
       "      <td>Кира</td>\n",
       "      <td>22</td>\n",
       "      <td>Тюмень</td>\n",
       "      <td>ultra</td>\n",
       "      <td>6</td>\n",
       "      <td>0</td>\n",
       "      <td>199</td>\n",
       "      <td>4409.919140</td>\n",
       "      <td>25.599769</td>\n",
       "      <td>2021-01-01</td>\n",
       "      <td>1</td>\n",
       "      <td>2021</td>\n",
       "    </tr>\n",
       "    <tr>\n",
       "      <th>1</th>\n",
       "      <td>1</td>\n",
       "      <td>Кира</td>\n",
       "      <td>22</td>\n",
       "      <td>Тюмень</td>\n",
       "      <td>ultra</td>\n",
       "      <td>6</td>\n",
       "      <td>0</td>\n",
       "      <td>199</td>\n",
       "      <td>2617.592153</td>\n",
       "      <td>15.816871</td>\n",
       "      <td>2021-01-18</td>\n",
       "      <td>1</td>\n",
       "      <td>2021</td>\n",
       "    </tr>\n",
       "    <tr>\n",
       "      <th>2</th>\n",
       "      <td>1</td>\n",
       "      <td>Кира</td>\n",
       "      <td>22</td>\n",
       "      <td>Тюмень</td>\n",
       "      <td>ultra</td>\n",
       "      <td>6</td>\n",
       "      <td>0</td>\n",
       "      <td>199</td>\n",
       "      <td>754.159807</td>\n",
       "      <td>6.232113</td>\n",
       "      <td>2021-04-20</td>\n",
       "      <td>4</td>\n",
       "      <td>2021</td>\n",
       "    </tr>\n",
       "    <tr>\n",
       "      <th>3</th>\n",
       "      <td>1</td>\n",
       "      <td>Кира</td>\n",
       "      <td>22</td>\n",
       "      <td>Тюмень</td>\n",
       "      <td>ultra</td>\n",
       "      <td>6</td>\n",
       "      <td>0</td>\n",
       "      <td>199</td>\n",
       "      <td>2694.783254</td>\n",
       "      <td>18.511000</td>\n",
       "      <td>2021-08-11</td>\n",
       "      <td>8</td>\n",
       "      <td>2021</td>\n",
       "    </tr>\n",
       "    <tr>\n",
       "      <th>4</th>\n",
       "      <td>1</td>\n",
       "      <td>Кира</td>\n",
       "      <td>22</td>\n",
       "      <td>Тюмень</td>\n",
       "      <td>ultra</td>\n",
       "      <td>6</td>\n",
       "      <td>0</td>\n",
       "      <td>199</td>\n",
       "      <td>4028.687306</td>\n",
       "      <td>26.265803</td>\n",
       "      <td>2021-08-28</td>\n",
       "      <td>8</td>\n",
       "      <td>2021</td>\n",
       "    </tr>\n",
       "  </tbody>\n",
       "</table>\n",
       "</div>"
      ],
      "text/plain": [
       "   user_id  name  age    city subscription_type  minute_price  \\\n",
       "0        1  Кира   22  Тюмень             ultra             6   \n",
       "1        1  Кира   22  Тюмень             ultra             6   \n",
       "2        1  Кира   22  Тюмень             ultra             6   \n",
       "3        1  Кира   22  Тюмень             ultra             6   \n",
       "4        1  Кира   22  Тюмень             ultra             6   \n",
       "\n",
       "   start_ride_price  subscription_fee     distance   duration       date  \\\n",
       "0                 0               199  4409.919140  25.599769 2021-01-01   \n",
       "1                 0               199  2617.592153  15.816871 2021-01-18   \n",
       "2                 0               199   754.159807   6.232113 2021-04-20   \n",
       "3                 0               199  2694.783254  18.511000 2021-08-11   \n",
       "4                 0               199  4028.687306  26.265803 2021-08-28   \n",
       "\n",
       "   month  year  \n",
       "0      1  2021  \n",
       "1      1  2021  \n",
       "2      4  2021  \n",
       "3      8  2021  \n",
       "4      8  2021  "
      ]
     },
     "metadata": {},
     "output_type": "display_data"
    }
   ],
   "source": [
    "users_with_fees = merged_df[merged_df['subscription_type'] == 'ultra']\n",
    "display(users_with_fees.head())"
   ]
  },
  {
   "cell_type": "markdown",
   "id": "e3964345",
   "metadata": {},
   "source": [
    "Теперь у нас есть два датафрейма, можно было разделить по subscription_fee еще"
   ]
  },
  {
   "cell_type": "markdown",
   "id": "ae79df35",
   "metadata": {},
   "source": [
    "### Визуализируйте информацию о расстоянии и времени поездок для пользователей обеих категорий.\n"
   ]
  },
  {
   "cell_type": "markdown",
   "id": "f48b7dbc",
   "metadata": {},
   "source": [
    "#### Среднее расстояние, которое пользователь преодолевает за одну поездку"
   ]
  },
  {
   "cell_type": "code",
   "execution_count": 22,
   "id": "37a64820",
   "metadata": {},
   "outputs": [
    {
     "data": {
      "image/png": "[encoded data removed]",
      "text/plain": [
       "<Figure size 720x432 with 1 Axes>"
      ]
     },
     "metadata": {
      "needs_background": "light"
     },
     "output_type": "display_data"
    },
    {
     "data": {
      "image/png": "[encoded data removed]",
      "text/plain": [
       "<Figure size 720x432 with 1 Axes>"
      ]
     },
     "metadata": {
      "needs_background": "light"
     },
     "output_type": "display_data"
    },
    {
     "name": "stdout",
     "output_type": "stream",
     "text": [
      "count    18068.000000\n",
      "mean      3070.659976\n",
      "std       1116.831209\n",
      "min          0.855683\n",
      "25%       2543.226360\n",
      "50%       3133.609994\n",
      "75%       3776.222735\n",
      "max       7211.007745\n",
      "Name: distance, dtype: float64\n"
     ]
    }
   ],
   "source": [
    "#Для этого построим гистограмму\n",
    "plt.figure(figsize=(10, 6))\n",
    "\n",
    "plt.hist(rides['distance'], bins=15, color='salmon', edgecolor='red')\n",
    "\n",
    "plt.title('Распределение дистанций пользователей')\n",
    "plt.xlabel('Длина каждой поездки в метрах')\n",
    "plt.ylabel('Количество пользователей')\n",
    "plt.grid(axis='y', alpha=0.5)\n",
    "plt.show()\n",
    "\n",
    "#И диаграмму ящик с усами\n",
    "plt.figure(figsize=(10, 6))\n",
    "plt.boxplot(rides['distance'], patch_artist=True)\n",
    "plt.show()\n",
    "\n",
    "print(rides['distance'].describe())"
   ]
  },
  {
   "cell_type": "markdown",
   "id": "dfa5c1ba",
   "metadata": {},
   "source": []
  },
  {
   "cell_type": "markdown",
   "id": "dd7f3776",
   "metadata": {},
   "source": []
  },
  {
   "cell_type": "markdown",
   "id": "bd518855",
   "metadata": {},
   "source": [
    "#### Распределение длительности поездки для обоих групп"
   ]
  },
  {
   "cell_type": "code",
   "execution_count": 23,
   "id": "794cf29d",
   "metadata": {},
   "outputs": [
    {
     "data": {
      "image/png": "[encoded data removed]",
      "text/plain": [
       "<Figure size 432x288 with 1 Axes>"
      ]
     },
     "metadata": {
      "needs_background": "light"
     },
     "output_type": "display_data"
    },
    {
     "data": {
      "text/plain": [
       "'Без подписки'"
      ]
     },
     "metadata": {},
     "output_type": "display_data"
    },
    {
     "data": {
      "text/plain": [
       "count    11568.000000\n",
       "mean        17.390909\n",
       "std          6.326803\n",
       "min          0.500000\n",
       "25%         12.958437\n",
       "50%         17.326890\n",
       "75%         21.594071\n",
       "max         34.948498\n",
       "Name: duration, dtype: float64"
      ]
     },
     "metadata": {},
     "output_type": "display_data"
    },
    {
     "data": {
      "text/plain": [
       "'С подпиской'"
      ]
     },
     "metadata": {},
     "output_type": "display_data"
    },
    {
     "data": {
      "text/plain": [
       "count    6500.000000\n",
       "mean       18.541985\n",
       "std         5.572048\n",
       "min         3.760353\n",
       "25%        14.524654\n",
       "50%        18.178153\n",
       "75%        21.884129\n",
       "max        40.823963\n",
       "Name: duration, dtype: float64"
      ]
     },
     "metadata": {},
     "output_type": "display_data"
    }
   ],
   "source": [
    "# распределение 1 (в label указываем название группы, которое отразится в легенде, alpha - прозрачность заливки)\n",
    "users_with_fees['duration'].hist(bins=20, label = 'ultra', alpha=0.5)    \n",
    "\n",
    "# распределение 2\n",
    "users_without['duration'].hist(bins=20, label = 'free', alpha=0.5)    \n",
    "\n",
    "# выводим легенду\n",
    "plt.legend()\n",
    "plt.ylabel('Распределение длительности поездки')\n",
    "# выводим график без технических строк\n",
    "plt.show()\n",
    "\n",
    "display('Без подписки',users_without['duration'].describe())\n",
    "display('С подпиской', users_with_fees['duration'].describe())"
   ]
  },
  {
   "cell_type": "markdown",
   "id": "faeda5fa",
   "metadata": {},
   "source": [
    "Построим диаграмму \"ящик с усами\""
   ]
  },
  {
   "cell_type": "code",
   "execution_count": 24,
   "id": "e578c9b1",
   "metadata": {},
   "outputs": [
    {
     "data": {
      "image/png": "[encoded data removed]",
      "text/plain": [
       "<Figure size 576x432 with 1 Axes>"
      ]
     },
     "metadata": {
      "needs_background": "light"
     },
     "output_type": "display_data"
    }
   ],
   "source": [
    "# Пример данных\n",
    "data1 = users_with_fees['duration']\n",
    "data2 = users_without['duration']\n",
    "\n",
    "# Создание графика с двумя boxplot\n",
    "plt.figure(figsize=(8, 6))\n",
    "\n",
    "# Первый boxplot\n",
    "plt.boxplot(data1, positions=[1], widths=0.6, patch_artist=True, boxprops=dict(facecolor=\"skyblue\"))\n",
    "\n",
    "# Второй boxplot\n",
    "plt.boxplot(data2, positions=[2], widths=0.6, patch_artist=True, boxprops=dict(facecolor=\"pink\"))\n",
    "\n",
    "# Настройка осей и меток\n",
    "plt.xticks([1, 2], ['ultra', 'free'])\n",
    "plt.ylabel('Длительность поездок в минутах')\n",
    "plt.title('Сравненеие длительностей поездок пользователей с подпиской и без нее')\n",
    "\n",
    "plt.show()"
   ]
  },
  {
   "cell_type": "markdown",
   "id": "c78b2eff",
   "metadata": {},
   "source": [
    "Наблюдается много выбросов для подписчиков ультры, то есть они чаще выбирают использовать самокаты для длительных поездок"
   ]
  },
  {
   "cell_type": "markdown",
   "id": "26b0d47f",
   "metadata": {},
   "source": [
    "Средняя продолжительность поездки пользователей с подпиской выше (18,54 мин), чем у пользователей без подписки (17,39 мин)"
   ]
  },
  {
   "cell_type": "markdown",
   "id": "86980470",
   "metadata": {},
   "source": [
    "#### Распределение дистанций пользователей для обоих групп"
   ]
  },
  {
   "cell_type": "code",
   "execution_count": 25,
   "id": "6ecf0db4",
   "metadata": {},
   "outputs": [
    {
     "data": {
      "image/png": "[encoded data removed]",
      "text/plain": [
       "<Figure size 432x288 with 1 Axes>"
      ]
     },
     "metadata": {
      "needs_background": "light"
     },
     "output_type": "display_data"
    },
    {
     "data": {
      "text/plain": [
       "'Без подписки'"
      ]
     },
     "metadata": {},
     "output_type": "display_data"
    },
    {
     "data": {
      "text/plain": [
       "count    11568.000000\n",
       "mean      3045.495282\n",
       "std       1246.173806\n",
       "min          0.855683\n",
       "25%       2366.562689\n",
       "50%       3114.648465\n",
       "75%       3905.697894\n",
       "max       7211.007745\n",
       "Name: distance, dtype: float64"
      ]
     },
     "metadata": {},
     "output_type": "display_data"
    },
    {
     "data": {
      "text/plain": [
       "'С подпиской'"
      ]
     },
     "metadata": {},
     "output_type": "display_data"
    },
    {
     "data": {
      "text/plain": [
       "count    6500.000000\n",
       "mean     3115.445388\n",
       "std       836.895330\n",
       "min       244.210438\n",
       "25%      2785.444017\n",
       "50%      3148.637229\n",
       "75%      3560.574425\n",
       "max      5699.769662\n",
       "Name: distance, dtype: float64"
      ]
     },
     "metadata": {},
     "output_type": "display_data"
    }
   ],
   "source": [
    "# распределение 1 (в label указываем название группы, которое отразится в легенде, alpha - прозрачность заливки)\n",
    "users_with_fees['distance'].hist(bins=20, label = 'ultra', alpha=0.5)    \n",
    "\n",
    "# распределение 2\n",
    "users_without['distance'].hist(bins=20, label = 'free', alpha=0.5)    \n",
    "\n",
    "plt.legend()\n",
    "plt.ylabel('Распределение дистанций пользователей')\n",
    "\n",
    "plt.show()\n",
    "\n",
    "display('Без подписки',users_without['distance'].describe())\n",
    "display('С подпиской', users_with_fees['distance'].describe())"
   ]
  },
  {
   "cell_type": "markdown",
   "id": "db2e4b25",
   "metadata": {},
   "source": [
    "В среднем пользователи без подписки преодолевают на самокате меньшее расстояние (3045 метров), чем пользователи с подпиской (3115,5 метров). Если посмотреть на значения стандартного отклонения, то можно сделать вывод, что длительности у пользователей без подписки больше варьируются, чем у пользователей с подпиской. То есть чаще их берут на короткие и очень длинные дистанции."
   ]
  },
  {
   "cell_type": "markdown",
   "id": "d3051248",
   "metadata": {},
   "source": [
    "Среднее время использования самокатов пользователями без подписки составляет 18.18 мин, средняя протяженность поездки составляет  3148.64 метров"
   ]
  },
  {
   "cell_type": "markdown",
   "id": "100add56",
   "metadata": {},
   "source": [
    "Можно сделать промежуточный вывод: действительно, у пользователей с подпиской длительность поездок больше и протяженность поездок немного выше\n",
    "\n",
    "\n",
    "Среднее время использования самокатов пользователями без подписки составляет 17.33 мин, средняя протяженность поездки составляет 3114.66 метров \n",
    "\n",
    "Среднее время использования самокатов пользователями без подписки составляет 18.18 мин, средняя протяженность поездки составляет  3148.64 метров"
   ]
  },
  {
   "cell_type": "code",
   "execution_count": 26,
   "id": "eaba3323",
   "metadata": {},
   "outputs": [
    {
     "name": "stdout",
     "output_type": "stream",
     "text": [
      "<class 'pandas.core.frame.DataFrame'>\n",
      "Int64Index: 18068 entries, 0 to 18067\n",
      "Data columns (total 13 columns):\n",
      " #   Column             Non-Null Count  Dtype         \n",
      "---  ------             --------------  -----         \n",
      " 0   user_id            18068 non-null  int64         \n",
      " 1   name               18068 non-null  object        \n",
      " 2   age                18068 non-null  int64         \n",
      " 3   city               18068 non-null  object        \n",
      " 4   subscription_type  18068 non-null  object        \n",
      " 5   minute_price       18068 non-null  int64         \n",
      " 6   start_ride_price   18068 non-null  int64         \n",
      " 7   subscription_fee   18068 non-null  int64         \n",
      " 8   distance           18068 non-null  float64       \n",
      " 9   duration           18068 non-null  float64       \n",
      " 10  date               18068 non-null  datetime64[ns]\n",
      " 11  month              18068 non-null  int64         \n",
      " 12  year               18068 non-null  int64         \n",
      "dtypes: datetime64[ns](1), float64(2), int64(7), object(3)\n",
      "memory usage: 1.9+ MB\n",
      "None\n"
     ]
    }
   ],
   "source": [
    "print(merged_df.info())"
   ]
  },
  {
   "cell_type": "code",
   "execution_count": 27,
   "id": "9e638849",
   "metadata": {},
   "outputs": [],
   "source": [
    "#Округлим длительность до следующего целого числа\n",
    "merged_df['duration'] = np.ceil(merged_df['duration'])\n",
    "merged_df['duration'] = merged_df['duration'].astype('int') #Округлена только продолжиьельность\n",
    "\n"
   ]
  },
  {
   "cell_type": "markdown",
   "id": "79d11996",
   "metadata": {},
   "source": [
    "## Шаг. Подсчёт выручки"
   ]
  },
  {
   "cell_type": "markdown",
   "id": "0c25539f",
   "metadata": {},
   "source": [
    "### Создайте датафрейм с агрегированными данными о поездках на основе датафрейма с объединёнными данными из шага 4: найдите суммарное расстояние, количество поездок и суммарное время для каждого пользователя за каждый месяц."
   ]
  },
  {
   "cell_type": "code",
   "execution_count": 28,
   "id": "7564be1d",
   "metadata": {},
   "outputs": [
    {
     "data": {
      "text/html": [
       "<div>\n",
       "<style scoped>\n",
       "    .dataframe tbody tr th:only-of-type {\n",
       "        vertical-align: middle;\n",
       "    }\n",
       "\n",
       "    .dataframe tbody tr th {\n",
       "        vertical-align: top;\n",
       "    }\n",
       "\n",
       "    .dataframe thead th {\n",
       "        text-align: right;\n",
       "    }\n",
       "</style>\n",
       "<table border=\"1\" class=\"dataframe\">\n",
       "  <thead>\n",
       "    <tr style=\"text-align: right;\">\n",
       "      <th></th>\n",
       "      <th>user_id</th>\n",
       "      <th>month</th>\n",
       "      <th>subscription_type</th>\n",
       "      <th>total_distance</th>\n",
       "      <th>total_rides</th>\n",
       "      <th>total_duration</th>\n",
       "    </tr>\n",
       "  </thead>\n",
       "  <tbody>\n",
       "    <tr>\n",
       "      <th>0</th>\n",
       "      <td>1</td>\n",
       "      <td>1</td>\n",
       "      <td>ultra</td>\n",
       "      <td>7027.511294</td>\n",
       "      <td>2</td>\n",
       "      <td>42</td>\n",
       "    </tr>\n",
       "    <tr>\n",
       "      <th>1</th>\n",
       "      <td>1</td>\n",
       "      <td>4</td>\n",
       "      <td>ultra</td>\n",
       "      <td>754.159807</td>\n",
       "      <td>1</td>\n",
       "      <td>7</td>\n",
       "    </tr>\n",
       "    <tr>\n",
       "      <th>2</th>\n",
       "      <td>1</td>\n",
       "      <td>8</td>\n",
       "      <td>ultra</td>\n",
       "      <td>6723.470560</td>\n",
       "      <td>2</td>\n",
       "      <td>46</td>\n",
       "    </tr>\n",
       "    <tr>\n",
       "      <th>3</th>\n",
       "      <td>1</td>\n",
       "      <td>10</td>\n",
       "      <td>ultra</td>\n",
       "      <td>5809.911100</td>\n",
       "      <td>2</td>\n",
       "      <td>32</td>\n",
       "    </tr>\n",
       "    <tr>\n",
       "      <th>4</th>\n",
       "      <td>1</td>\n",
       "      <td>11</td>\n",
       "      <td>ultra</td>\n",
       "      <td>7003.499363</td>\n",
       "      <td>3</td>\n",
       "      <td>56</td>\n",
       "    </tr>\n",
       "    <tr>\n",
       "      <th>5</th>\n",
       "      <td>1</td>\n",
       "      <td>12</td>\n",
       "      <td>ultra</td>\n",
       "      <td>6751.629942</td>\n",
       "      <td>2</td>\n",
       "      <td>28</td>\n",
       "    </tr>\n",
       "    <tr>\n",
       "      <th>6</th>\n",
       "      <td>2</td>\n",
       "      <td>3</td>\n",
       "      <td>ultra</td>\n",
       "      <td>10187.723006</td>\n",
       "      <td>3</td>\n",
       "      <td>63</td>\n",
       "    </tr>\n",
       "    <tr>\n",
       "      <th>7</th>\n",
       "      <td>2</td>\n",
       "      <td>4</td>\n",
       "      <td>ultra</td>\n",
       "      <td>6164.381824</td>\n",
       "      <td>2</td>\n",
       "      <td>40</td>\n",
       "    </tr>\n",
       "    <tr>\n",
       "      <th>8</th>\n",
       "      <td>2</td>\n",
       "      <td>6</td>\n",
       "      <td>ultra</td>\n",
       "      <td>3255.338202</td>\n",
       "      <td>1</td>\n",
       "      <td>14</td>\n",
       "    </tr>\n",
       "    <tr>\n",
       "      <th>9</th>\n",
       "      <td>2</td>\n",
       "      <td>7</td>\n",
       "      <td>ultra</td>\n",
       "      <td>6780.722964</td>\n",
       "      <td>2</td>\n",
       "      <td>48</td>\n",
       "    </tr>\n",
       "  </tbody>\n",
       "</table>\n",
       "</div>"
      ],
      "text/plain": [
       "   user_id  month subscription_type  total_distance  total_rides  \\\n",
       "0        1      1             ultra     7027.511294            2   \n",
       "1        1      4             ultra      754.159807            1   \n",
       "2        1      8             ultra     6723.470560            2   \n",
       "3        1     10             ultra     5809.911100            2   \n",
       "4        1     11             ultra     7003.499363            3   \n",
       "5        1     12             ultra     6751.629942            2   \n",
       "6        2      3             ultra    10187.723006            3   \n",
       "7        2      4             ultra     6164.381824            2   \n",
       "8        2      6             ultra     3255.338202            1   \n",
       "9        2      7             ultra     6780.722964            2   \n",
       "\n",
       "   total_duration  \n",
       "0              42  \n",
       "1               7  \n",
       "2              46  \n",
       "3              32  \n",
       "4              56  \n",
       "5              28  \n",
       "6              63  \n",
       "7              40  \n",
       "8              14  \n",
       "9              48  "
      ]
     },
     "metadata": {},
     "output_type": "display_data"
    }
   ],
   "source": [
    "# Создаем агрегированный DataFrame\n",
    "aggregated_df = merged_df.groupby(['user_id','month', 'subscription_type']).agg(\n",
    "    total_distance=('distance', 'sum'),\n",
    "    total_rides=('user_id', 'count'),  \n",
    "    total_duration=('duration', 'sum')\n",
    ").reset_index()\n",
    "\n",
    "display(aggregated_df.head(10))"
   ]
  },
  {
   "cell_type": "code",
   "execution_count": 29,
   "id": "0923a486",
   "metadata": {},
   "outputs": [
    {
     "name": "stdout",
     "output_type": "stream",
     "text": [
      "<class 'pandas.core.frame.DataFrame'>\n",
      "RangeIndex: 11331 entries, 0 to 11330\n",
      "Data columns (total 6 columns):\n",
      " #   Column             Non-Null Count  Dtype  \n",
      "---  ------             --------------  -----  \n",
      " 0   user_id            11331 non-null  int64  \n",
      " 1   month              11331 non-null  int64  \n",
      " 2   subscription_type  11331 non-null  object \n",
      " 3   total_distance     11331 non-null  float64\n",
      " 4   total_rides        11331 non-null  int64  \n",
      " 5   total_duration     11331 non-null  int64  \n",
      "dtypes: float64(1), int64(4), object(1)\n",
      "memory usage: 531.3+ KB\n"
     ]
    },
    {
     "data": {
      "text/plain": [
       "None"
      ]
     },
     "metadata": {},
     "output_type": "display_data"
    }
   ],
   "source": [
    "display(aggregated_df.info())"
   ]
  },
  {
   "cell_type": "markdown",
   "id": "c5b4f801",
   "metadata": {},
   "source": [
    "В эту таблицу добавили суммарное расстояние, количество поездок и суммарное время для каждого пользователя за каждый месяц"
   ]
  },
  {
   "cell_type": "markdown",
   "id": "a27e3786",
   "metadata": {},
   "source": [
    "### В этот же датафрейм добавьте столбец с помесячной выручкой, которую принёс каждый пользователь. Для этого обратитесь к информации об условиях оплаты для подписчиков и тех, у кого нет подписки. Продолжительность каждой поездки в каждой строке исходного датафрейма для подсчёта стоимости округляется до следующего целого числа: например, значения 25.3,25.5 и 26.0 должны быть преобразованы к 26\n"
   ]
  },
  {
   "cell_type": "markdown",
   "id": "ce02bb1a",
   "metadata": {},
   "source": [
    "Посчитаем помесячную выручку. Создадим столбец с помесячной выручкой. Из таблице merged_df подтянем информацию об условиях и стоимости подписок"
   ]
  },
  {
   "cell_type": "code",
   "execution_count": 30,
   "id": "9503c50d",
   "metadata": {},
   "outputs": [
    {
     "data": {
      "text/html": [
       "<div>\n",
       "<style scoped>\n",
       "    .dataframe tbody tr th:only-of-type {\n",
       "        vertical-align: middle;\n",
       "    }\n",
       "\n",
       "    .dataframe tbody tr th {\n",
       "        vertical-align: top;\n",
       "    }\n",
       "\n",
       "    .dataframe thead th {\n",
       "        text-align: right;\n",
       "    }\n",
       "</style>\n",
       "<table border=\"1\" class=\"dataframe\">\n",
       "  <thead>\n",
       "    <tr style=\"text-align: right;\">\n",
       "      <th></th>\n",
       "      <th>user_id</th>\n",
       "      <th>month</th>\n",
       "      <th>subscription_type</th>\n",
       "      <th>total_distance</th>\n",
       "      <th>total_rides</th>\n",
       "      <th>total_duration</th>\n",
       "      <th>minute_price</th>\n",
       "      <th>start_ride_price</th>\n",
       "      <th>subscription_fee</th>\n",
       "    </tr>\n",
       "  </thead>\n",
       "  <tbody>\n",
       "    <tr>\n",
       "      <th>0</th>\n",
       "      <td>1</td>\n",
       "      <td>1</td>\n",
       "      <td>ultra</td>\n",
       "      <td>7027.511294</td>\n",
       "      <td>2</td>\n",
       "      <td>42</td>\n",
       "      <td>6</td>\n",
       "      <td>0</td>\n",
       "      <td>199</td>\n",
       "    </tr>\n",
       "    <tr>\n",
       "      <th>1</th>\n",
       "      <td>1</td>\n",
       "      <td>4</td>\n",
       "      <td>ultra</td>\n",
       "      <td>754.159807</td>\n",
       "      <td>1</td>\n",
       "      <td>7</td>\n",
       "      <td>6</td>\n",
       "      <td>0</td>\n",
       "      <td>199</td>\n",
       "    </tr>\n",
       "    <tr>\n",
       "      <th>2</th>\n",
       "      <td>1</td>\n",
       "      <td>8</td>\n",
       "      <td>ultra</td>\n",
       "      <td>6723.470560</td>\n",
       "      <td>2</td>\n",
       "      <td>46</td>\n",
       "      <td>6</td>\n",
       "      <td>0</td>\n",
       "      <td>199</td>\n",
       "    </tr>\n",
       "    <tr>\n",
       "      <th>3</th>\n",
       "      <td>1</td>\n",
       "      <td>10</td>\n",
       "      <td>ultra</td>\n",
       "      <td>5809.911100</td>\n",
       "      <td>2</td>\n",
       "      <td>32</td>\n",
       "      <td>6</td>\n",
       "      <td>0</td>\n",
       "      <td>199</td>\n",
       "    </tr>\n",
       "    <tr>\n",
       "      <th>4</th>\n",
       "      <td>1</td>\n",
       "      <td>11</td>\n",
       "      <td>ultra</td>\n",
       "      <td>7003.499363</td>\n",
       "      <td>3</td>\n",
       "      <td>56</td>\n",
       "      <td>6</td>\n",
       "      <td>0</td>\n",
       "      <td>199</td>\n",
       "    </tr>\n",
       "  </tbody>\n",
       "</table>\n",
       "</div>"
      ],
      "text/plain": [
       "   user_id  month subscription_type  total_distance  total_rides  \\\n",
       "0        1      1             ultra     7027.511294            2   \n",
       "1        1      4             ultra      754.159807            1   \n",
       "2        1      8             ultra     6723.470560            2   \n",
       "3        1     10             ultra     5809.911100            2   \n",
       "4        1     11             ultra     7003.499363            3   \n",
       "\n",
       "   total_duration  minute_price  start_ride_price  subscription_fee  \n",
       "0              42             6                 0               199  \n",
       "1               7             6                 0               199  \n",
       "2              46             6                 0               199  \n",
       "3              32             6                 0               199  \n",
       "4              56             6                 0               199  "
      ]
     },
     "metadata": {},
     "output_type": "display_data"
    }
   ],
   "source": [
    "# дополняем таблицу данными о стоимости тарифов для расчетов\n",
    "aggregated_df = aggregated_df.merge(subscriptions, on='subscription_type', how='left')\n",
    "display(aggregated_df.head(5))"
   ]
  },
  {
   "cell_type": "code",
   "execution_count": 31,
   "id": "008ea79f",
   "metadata": {
    "scrolled": true
   },
   "outputs": [
    {
     "data": {
      "text/html": [
       "<div>\n",
       "<style scoped>\n",
       "    .dataframe tbody tr th:only-of-type {\n",
       "        vertical-align: middle;\n",
       "    }\n",
       "\n",
       "    .dataframe tbody tr th {\n",
       "        vertical-align: top;\n",
       "    }\n",
       "\n",
       "    .dataframe thead th {\n",
       "        text-align: right;\n",
       "    }\n",
       "</style>\n",
       "<table border=\"1\" class=\"dataframe\">\n",
       "  <thead>\n",
       "    <tr style=\"text-align: right;\">\n",
       "      <th></th>\n",
       "      <th>user_id</th>\n",
       "      <th>month</th>\n",
       "      <th>subscription_type</th>\n",
       "      <th>total_distance</th>\n",
       "      <th>total_rides</th>\n",
       "      <th>total_duration</th>\n",
       "      <th>minute_price</th>\n",
       "      <th>start_ride_price</th>\n",
       "      <th>subscription_fee</th>\n",
       "      <th>revenue</th>\n",
       "    </tr>\n",
       "  </thead>\n",
       "  <tbody>\n",
       "    <tr>\n",
       "      <th>0</th>\n",
       "      <td>1</td>\n",
       "      <td>1</td>\n",
       "      <td>ultra</td>\n",
       "      <td>7027.511294</td>\n",
       "      <td>2</td>\n",
       "      <td>42</td>\n",
       "      <td>6</td>\n",
       "      <td>0</td>\n",
       "      <td>199</td>\n",
       "      <td>451</td>\n",
       "    </tr>\n",
       "    <tr>\n",
       "      <th>1</th>\n",
       "      <td>1</td>\n",
       "      <td>4</td>\n",
       "      <td>ultra</td>\n",
       "      <td>754.159807</td>\n",
       "      <td>1</td>\n",
       "      <td>7</td>\n",
       "      <td>6</td>\n",
       "      <td>0</td>\n",
       "      <td>199</td>\n",
       "      <td>241</td>\n",
       "    </tr>\n",
       "    <tr>\n",
       "      <th>2</th>\n",
       "      <td>1</td>\n",
       "      <td>8</td>\n",
       "      <td>ultra</td>\n",
       "      <td>6723.470560</td>\n",
       "      <td>2</td>\n",
       "      <td>46</td>\n",
       "      <td>6</td>\n",
       "      <td>0</td>\n",
       "      <td>199</td>\n",
       "      <td>475</td>\n",
       "    </tr>\n",
       "    <tr>\n",
       "      <th>3</th>\n",
       "      <td>1</td>\n",
       "      <td>10</td>\n",
       "      <td>ultra</td>\n",
       "      <td>5809.911100</td>\n",
       "      <td>2</td>\n",
       "      <td>32</td>\n",
       "      <td>6</td>\n",
       "      <td>0</td>\n",
       "      <td>199</td>\n",
       "      <td>391</td>\n",
       "    </tr>\n",
       "    <tr>\n",
       "      <th>4</th>\n",
       "      <td>1</td>\n",
       "      <td>11</td>\n",
       "      <td>ultra</td>\n",
       "      <td>7003.499363</td>\n",
       "      <td>3</td>\n",
       "      <td>56</td>\n",
       "      <td>6</td>\n",
       "      <td>0</td>\n",
       "      <td>199</td>\n",
       "      <td>535</td>\n",
       "    </tr>\n",
       "    <tr>\n",
       "      <th>5</th>\n",
       "      <td>1</td>\n",
       "      <td>12</td>\n",
       "      <td>ultra</td>\n",
       "      <td>6751.629942</td>\n",
       "      <td>2</td>\n",
       "      <td>28</td>\n",
       "      <td>6</td>\n",
       "      <td>0</td>\n",
       "      <td>199</td>\n",
       "      <td>367</td>\n",
       "    </tr>\n",
       "    <tr>\n",
       "      <th>6</th>\n",
       "      <td>2</td>\n",
       "      <td>3</td>\n",
       "      <td>ultra</td>\n",
       "      <td>10187.723006</td>\n",
       "      <td>3</td>\n",
       "      <td>63</td>\n",
       "      <td>6</td>\n",
       "      <td>0</td>\n",
       "      <td>199</td>\n",
       "      <td>577</td>\n",
       "    </tr>\n",
       "    <tr>\n",
       "      <th>7</th>\n",
       "      <td>2</td>\n",
       "      <td>4</td>\n",
       "      <td>ultra</td>\n",
       "      <td>6164.381824</td>\n",
       "      <td>2</td>\n",
       "      <td>40</td>\n",
       "      <td>6</td>\n",
       "      <td>0</td>\n",
       "      <td>199</td>\n",
       "      <td>439</td>\n",
       "    </tr>\n",
       "    <tr>\n",
       "      <th>8</th>\n",
       "      <td>2</td>\n",
       "      <td>6</td>\n",
       "      <td>ultra</td>\n",
       "      <td>3255.338202</td>\n",
       "      <td>1</td>\n",
       "      <td>14</td>\n",
       "      <td>6</td>\n",
       "      <td>0</td>\n",
       "      <td>199</td>\n",
       "      <td>283</td>\n",
       "    </tr>\n",
       "    <tr>\n",
       "      <th>9</th>\n",
       "      <td>2</td>\n",
       "      <td>7</td>\n",
       "      <td>ultra</td>\n",
       "      <td>6780.722964</td>\n",
       "      <td>2</td>\n",
       "      <td>48</td>\n",
       "      <td>6</td>\n",
       "      <td>0</td>\n",
       "      <td>199</td>\n",
       "      <td>487</td>\n",
       "    </tr>\n",
       "    <tr>\n",
       "      <th>10</th>\n",
       "      <td>2</td>\n",
       "      <td>8</td>\n",
       "      <td>ultra</td>\n",
       "      <td>923.007439</td>\n",
       "      <td>1</td>\n",
       "      <td>7</td>\n",
       "      <td>6</td>\n",
       "      <td>0</td>\n",
       "      <td>199</td>\n",
       "      <td>241</td>\n",
       "    </tr>\n",
       "    <tr>\n",
       "      <th>11</th>\n",
       "      <td>2</td>\n",
       "      <td>10</td>\n",
       "      <td>ultra</td>\n",
       "      <td>2824.636598</td>\n",
       "      <td>1</td>\n",
       "      <td>19</td>\n",
       "      <td>6</td>\n",
       "      <td>0</td>\n",
       "      <td>199</td>\n",
       "      <td>313</td>\n",
       "    </tr>\n",
       "    <tr>\n",
       "      <th>12</th>\n",
       "      <td>2</td>\n",
       "      <td>12</td>\n",
       "      <td>ultra</td>\n",
       "      <td>3828.248580</td>\n",
       "      <td>1</td>\n",
       "      <td>12</td>\n",
       "      <td>6</td>\n",
       "      <td>0</td>\n",
       "      <td>199</td>\n",
       "      <td>271</td>\n",
       "    </tr>\n",
       "    <tr>\n",
       "      <th>13</th>\n",
       "      <td>3</td>\n",
       "      <td>1</td>\n",
       "      <td>ultra</td>\n",
       "      <td>3061.777147</td>\n",
       "      <td>1</td>\n",
       "      <td>13</td>\n",
       "      <td>6</td>\n",
       "      <td>0</td>\n",
       "      <td>199</td>\n",
       "      <td>277</td>\n",
       "    </tr>\n",
       "    <tr>\n",
       "      <th>14</th>\n",
       "      <td>3</td>\n",
       "      <td>2</td>\n",
       "      <td>ultra</td>\n",
       "      <td>5421.152016</td>\n",
       "      <td>2</td>\n",
       "      <td>39</td>\n",
       "      <td>6</td>\n",
       "      <td>0</td>\n",
       "      <td>199</td>\n",
       "      <td>433</td>\n",
       "    </tr>\n",
       "    <tr>\n",
       "      <th>15</th>\n",
       "      <td>3</td>\n",
       "      <td>4</td>\n",
       "      <td>ultra</td>\n",
       "      <td>2956.651632</td>\n",
       "      <td>1</td>\n",
       "      <td>21</td>\n",
       "      <td>6</td>\n",
       "      <td>0</td>\n",
       "      <td>199</td>\n",
       "      <td>325</td>\n",
       "    </tr>\n",
       "    <tr>\n",
       "      <th>16</th>\n",
       "      <td>3</td>\n",
       "      <td>5</td>\n",
       "      <td>ultra</td>\n",
       "      <td>9064.026918</td>\n",
       "      <td>3</td>\n",
       "      <td>63</td>\n",
       "      <td>6</td>\n",
       "      <td>0</td>\n",
       "      <td>199</td>\n",
       "      <td>577</td>\n",
       "    </tr>\n",
       "    <tr>\n",
       "      <th>17</th>\n",
       "      <td>3</td>\n",
       "      <td>7</td>\n",
       "      <td>ultra</td>\n",
       "      <td>10919.595403</td>\n",
       "      <td>3</td>\n",
       "      <td>67</td>\n",
       "      <td>6</td>\n",
       "      <td>0</td>\n",
       "      <td>199</td>\n",
       "      <td>601</td>\n",
       "    </tr>\n",
       "    <tr>\n",
       "      <th>18</th>\n",
       "      <td>3</td>\n",
       "      <td>9</td>\n",
       "      <td>ultra</td>\n",
       "      <td>2891.012822</td>\n",
       "      <td>1</td>\n",
       "      <td>23</td>\n",
       "      <td>6</td>\n",
       "      <td>0</td>\n",
       "      <td>199</td>\n",
       "      <td>337</td>\n",
       "    </tr>\n",
       "    <tr>\n",
       "      <th>19</th>\n",
       "      <td>3</td>\n",
       "      <td>12</td>\n",
       "      <td>ultra</td>\n",
       "      <td>2593.381928</td>\n",
       "      <td>1</td>\n",
       "      <td>13</td>\n",
       "      <td>6</td>\n",
       "      <td>0</td>\n",
       "      <td>199</td>\n",
       "      <td>277</td>\n",
       "    </tr>\n",
       "  </tbody>\n",
       "</table>\n",
       "</div>"
      ],
      "text/plain": [
       "    user_id  month subscription_type  total_distance  total_rides  \\\n",
       "0         1      1             ultra     7027.511294            2   \n",
       "1         1      4             ultra      754.159807            1   \n",
       "2         1      8             ultra     6723.470560            2   \n",
       "3         1     10             ultra     5809.911100            2   \n",
       "4         1     11             ultra     7003.499363            3   \n",
       "5         1     12             ultra     6751.629942            2   \n",
       "6         2      3             ultra    10187.723006            3   \n",
       "7         2      4             ultra     6164.381824            2   \n",
       "8         2      6             ultra     3255.338202            1   \n",
       "9         2      7             ultra     6780.722964            2   \n",
       "10        2      8             ultra      923.007439            1   \n",
       "11        2     10             ultra     2824.636598            1   \n",
       "12        2     12             ultra     3828.248580            1   \n",
       "13        3      1             ultra     3061.777147            1   \n",
       "14        3      2             ultra     5421.152016            2   \n",
       "15        3      4             ultra     2956.651632            1   \n",
       "16        3      5             ultra     9064.026918            3   \n",
       "17        3      7             ultra    10919.595403            3   \n",
       "18        3      9             ultra     2891.012822            1   \n",
       "19        3     12             ultra     2593.381928            1   \n",
       "\n",
       "    total_duration  minute_price  start_ride_price  subscription_fee  revenue  \n",
       "0               42             6                 0               199      451  \n",
       "1                7             6                 0               199      241  \n",
       "2               46             6                 0               199      475  \n",
       "3               32             6                 0               199      391  \n",
       "4               56             6                 0               199      535  \n",
       "5               28             6                 0               199      367  \n",
       "6               63             6                 0               199      577  \n",
       "7               40             6                 0               199      439  \n",
       "8               14             6                 0               199      283  \n",
       "9               48             6                 0               199      487  \n",
       "10               7             6                 0               199      241  \n",
       "11              19             6                 0               199      313  \n",
       "12              12             6                 0               199      271  \n",
       "13              13             6                 0               199      277  \n",
       "14              39             6                 0               199      433  \n",
       "15              21             6                 0               199      325  \n",
       "16              63             6                 0               199      577  \n",
       "17              67             6                 0               199      601  \n",
       "18              23             6                 0               199      337  \n",
       "19              13             6                 0               199      277  "
      ]
     },
     "metadata": {},
     "output_type": "display_data"
    }
   ],
   "source": [
    "aggregated_df['revenue']=aggregated_df['start_ride_price']*aggregated_df['total_rides']+aggregated_df['minute_price']*aggregated_df['total_duration']+aggregated_df['subscription_fee']\n",
    "display(aggregated_df.head(20))"
   ]
  },
  {
   "cell_type": "markdown",
   "id": "8faba4c2",
   "metadata": {},
   "source": [
    "Мы посчитали помесячную стоимость для каждого уникального пользователя"
   ]
  },
  {
   "cell_type": "code",
   "execution_count": 32,
   "id": "97091472",
   "metadata": {},
   "outputs": [
    {
     "data": {
      "text/html": [
       "<div>\n",
       "<style scoped>\n",
       "    .dataframe tbody tr th:only-of-type {\n",
       "        vertical-align: middle;\n",
       "    }\n",
       "\n",
       "    .dataframe tbody tr th {\n",
       "        vertical-align: top;\n",
       "    }\n",
       "\n",
       "    .dataframe thead th {\n",
       "        text-align: right;\n",
       "    }\n",
       "</style>\n",
       "<table border=\"1\" class=\"dataframe\">\n",
       "  <thead>\n",
       "    <tr style=\"text-align: right;\">\n",
       "      <th></th>\n",
       "      <th>user_id</th>\n",
       "      <th>month</th>\n",
       "      <th>subscription_type</th>\n",
       "      <th>total_distance</th>\n",
       "      <th>total_rides</th>\n",
       "      <th>total_duration</th>\n",
       "      <th>minute_price</th>\n",
       "      <th>start_ride_price</th>\n",
       "      <th>subscription_fee</th>\n",
       "      <th>revenue</th>\n",
       "    </tr>\n",
       "  </thead>\n",
       "  <tbody>\n",
       "    <tr>\n",
       "      <th>4595</th>\n",
       "      <td>707</td>\n",
       "      <td>9</td>\n",
       "      <td>free</td>\n",
       "      <td>4123.609673</td>\n",
       "      <td>2</td>\n",
       "      <td>42</td>\n",
       "      <td>8</td>\n",
       "      <td>50</td>\n",
       "      <td>0</td>\n",
       "      <td>436</td>\n",
       "    </tr>\n",
       "    <tr>\n",
       "      <th>4596</th>\n",
       "      <td>707</td>\n",
       "      <td>10</td>\n",
       "      <td>free</td>\n",
       "      <td>8289.869610</td>\n",
       "      <td>3</td>\n",
       "      <td>46</td>\n",
       "      <td>8</td>\n",
       "      <td>50</td>\n",
       "      <td>0</td>\n",
       "      <td>518</td>\n",
       "    </tr>\n",
       "    <tr>\n",
       "      <th>4597</th>\n",
       "      <td>708</td>\n",
       "      <td>3</td>\n",
       "      <td>free</td>\n",
       "      <td>2598.877350</td>\n",
       "      <td>1</td>\n",
       "      <td>20</td>\n",
       "      <td>8</td>\n",
       "      <td>50</td>\n",
       "      <td>0</td>\n",
       "      <td>210</td>\n",
       "    </tr>\n",
       "    <tr>\n",
       "      <th>4598</th>\n",
       "      <td>708</td>\n",
       "      <td>4</td>\n",
       "      <td>free</td>\n",
       "      <td>9548.725911</td>\n",
       "      <td>3</td>\n",
       "      <td>60</td>\n",
       "      <td>8</td>\n",
       "      <td>50</td>\n",
       "      <td>0</td>\n",
       "      <td>630</td>\n",
       "    </tr>\n",
       "    <tr>\n",
       "      <th>4599</th>\n",
       "      <td>708</td>\n",
       "      <td>5</td>\n",
       "      <td>free</td>\n",
       "      <td>2521.745876</td>\n",
       "      <td>1</td>\n",
       "      <td>13</td>\n",
       "      <td>8</td>\n",
       "      <td>50</td>\n",
       "      <td>0</td>\n",
       "      <td>154</td>\n",
       "    </tr>\n",
       "  </tbody>\n",
       "</table>\n",
       "</div>"
      ],
      "text/plain": [
       "      user_id  month subscription_type  total_distance  total_rides  \\\n",
       "4595      707      9              free     4123.609673            2   \n",
       "4596      707     10              free     8289.869610            3   \n",
       "4597      708      3              free     2598.877350            1   \n",
       "4598      708      4              free     9548.725911            3   \n",
       "4599      708      5              free     2521.745876            1   \n",
       "\n",
       "      total_duration  minute_price  start_ride_price  subscription_fee  \\\n",
       "4595              42             8                50                 0   \n",
       "4596              46             8                50                 0   \n",
       "4597              20             8                50                 0   \n",
       "4598              60             8                50                 0   \n",
       "4599              13             8                50                 0   \n",
       "\n",
       "      revenue  \n",
       "4595      436  \n",
       "4596      518  \n",
       "4597      210  \n",
       "4598      630  \n",
       "4599      154  "
      ]
     },
     "execution_count": 32,
     "metadata": {},
     "output_type": "execute_result"
    }
   ],
   "source": [
    "# код ревьюера\n",
    "aggregated_df[4595:4600]"
   ]
  },
  {
   "cell_type": "code",
   "execution_count": 33,
   "id": "1b9c918f",
   "metadata": {
    "scrolled": true
   },
   "outputs": [
    {
     "data": {
      "text/html": [
       "<div>\n",
       "<style scoped>\n",
       "    .dataframe tbody tr th:only-of-type {\n",
       "        vertical-align: middle;\n",
       "    }\n",
       "\n",
       "    .dataframe tbody tr th {\n",
       "        vertical-align: top;\n",
       "    }\n",
       "\n",
       "    .dataframe thead th {\n",
       "        text-align: right;\n",
       "    }\n",
       "</style>\n",
       "<table border=\"1\" class=\"dataframe\">\n",
       "  <thead>\n",
       "    <tr style=\"text-align: right;\">\n",
       "      <th></th>\n",
       "      <th>user_id</th>\n",
       "      <th>name</th>\n",
       "      <th>age</th>\n",
       "      <th>city</th>\n",
       "      <th>subscription_type</th>\n",
       "      <th>minute_price</th>\n",
       "      <th>start_ride_price</th>\n",
       "      <th>subscription_fee</th>\n",
       "      <th>distance</th>\n",
       "      <th>duration</th>\n",
       "      <th>date</th>\n",
       "      <th>month</th>\n",
       "      <th>year</th>\n",
       "    </tr>\n",
       "  </thead>\n",
       "  <tbody>\n",
       "    <tr>\n",
       "      <th>4595</th>\n",
       "      <td>496</td>\n",
       "      <td>Иван</td>\n",
       "      <td>28</td>\n",
       "      <td>Омск</td>\n",
       "      <td>ultra</td>\n",
       "      <td>6</td>\n",
       "      <td>0</td>\n",
       "      <td>199</td>\n",
       "      <td>923.278777</td>\n",
       "      <td>13</td>\n",
       "      <td>2021-06-14</td>\n",
       "      <td>6</td>\n",
       "      <td>2021</td>\n",
       "    </tr>\n",
       "  </tbody>\n",
       "</table>\n",
       "</div>"
      ],
      "text/plain": [
       "      user_id  name  age  city subscription_type  minute_price  \\\n",
       "4595      496  Иван   28  Омск             ultra             6   \n",
       "\n",
       "      start_ride_price  subscription_fee    distance  duration       date  \\\n",
       "4595                 0               199  923.278777        13 2021-06-14   \n",
       "\n",
       "      month  year  \n",
       "4595      6  2021  "
      ]
     },
     "execution_count": 33,
     "metadata": {},
     "output_type": "execute_result"
    }
   ],
   "source": [
    "# код ревьюера\n",
    "merged_df[4595:4596]"
   ]
  },
  {
   "cell_type": "markdown",
   "id": "a0762c53",
   "metadata": {},
   "source": [
    "Уже сейчас видно, что доход от пользователей с подпиской ultra меньше, чем от пользователей с подпиской free, но нам это предстоит еще доказать"
   ]
  },
  {
   "cell_type": "markdown",
   "id": "41545ac0",
   "metadata": {},
   "source": [
    "## Шаг. Проверка гипотез"
   ]
  },
  {
   "cell_type": "markdown",
   "id": "bf4de578",
   "metadata": {},
   "source": [
    "### Важно понять, тратят ли пользователи с подпиской больше времени на поездки? Если да, то пользователи с подпиской могут быть «выгоднее» для компании. Проверьте гипотезу. Используйте исходные данные о продолжительности каждой сессии — отдельно для подписчиков и тех, у кого нет подписки."
   ]
  },
  {
   "cell_type": "code",
   "execution_count": 37,
   "id": "44ba13da",
   "metadata": {
    "scrolled": true
   },
   "outputs": [
    {
     "data": {
      "text/plain": [
       "'Информация о пользователях с подпиской'"
      ]
     },
     "metadata": {},
     "output_type": "display_data"
    },
    {
     "data": {
      "text/html": [
       "<div>\n",
       "<style scoped>\n",
       "    .dataframe tbody tr th:only-of-type {\n",
       "        vertical-align: middle;\n",
       "    }\n",
       "\n",
       "    .dataframe tbody tr th {\n",
       "        vertical-align: top;\n",
       "    }\n",
       "\n",
       "    .dataframe thead th {\n",
       "        text-align: right;\n",
       "    }\n",
       "</style>\n",
       "<table border=\"1\" class=\"dataframe\">\n",
       "  <thead>\n",
       "    <tr style=\"text-align: right;\">\n",
       "      <th></th>\n",
       "      <th>user_id</th>\n",
       "      <th>age</th>\n",
       "      <th>minute_price</th>\n",
       "      <th>start_ride_price</th>\n",
       "      <th>subscription_fee</th>\n",
       "      <th>distance</th>\n",
       "      <th>duration</th>\n",
       "      <th>month</th>\n",
       "      <th>year</th>\n",
       "    </tr>\n",
       "  </thead>\n",
       "  <tbody>\n",
       "    <tr>\n",
       "      <th>count</th>\n",
       "      <td>6500.000000</td>\n",
       "      <td>6500.000000</td>\n",
       "      <td>6500.0</td>\n",
       "      <td>6500.0</td>\n",
       "      <td>6500.0</td>\n",
       "      <td>6500.000000</td>\n",
       "      <td>6500.000000</td>\n",
       "      <td>6500.000000</td>\n",
       "      <td>6500.0</td>\n",
       "    </tr>\n",
       "    <tr>\n",
       "      <th>mean</th>\n",
       "      <td>348.725385</td>\n",
       "      <td>24.892615</td>\n",
       "      <td>6.0</td>\n",
       "      <td>0.0</td>\n",
       "      <td>199.0</td>\n",
       "      <td>3115.445388</td>\n",
       "      <td>19.037692</td>\n",
       "      <td>6.422308</td>\n",
       "      <td>2021.0</td>\n",
       "    </tr>\n",
       "    <tr>\n",
       "      <th>std</th>\n",
       "      <td>201.099339</td>\n",
       "      <td>4.757208</td>\n",
       "      <td>0.0</td>\n",
       "      <td>0.0</td>\n",
       "      <td>0.0</td>\n",
       "      <td>836.895330</td>\n",
       "      <td>5.577439</td>\n",
       "      <td>3.414616</td>\n",
       "      <td>0.0</td>\n",
       "    </tr>\n",
       "    <tr>\n",
       "      <th>min</th>\n",
       "      <td>1.000000</td>\n",
       "      <td>12.000000</td>\n",
       "      <td>6.0</td>\n",
       "      <td>0.0</td>\n",
       "      <td>199.0</td>\n",
       "      <td>244.210438</td>\n",
       "      <td>4.000000</td>\n",
       "      <td>1.000000</td>\n",
       "      <td>2021.0</td>\n",
       "    </tr>\n",
       "    <tr>\n",
       "      <th>25%</th>\n",
       "      <td>175.000000</td>\n",
       "      <td>22.000000</td>\n",
       "      <td>6.0</td>\n",
       "      <td>0.0</td>\n",
       "      <td>199.0</td>\n",
       "      <td>2785.444017</td>\n",
       "      <td>15.000000</td>\n",
       "      <td>4.000000</td>\n",
       "      <td>2021.0</td>\n",
       "    </tr>\n",
       "    <tr>\n",
       "      <th>50%</th>\n",
       "      <td>351.000000</td>\n",
       "      <td>25.000000</td>\n",
       "      <td>6.0</td>\n",
       "      <td>0.0</td>\n",
       "      <td>199.0</td>\n",
       "      <td>3148.637229</td>\n",
       "      <td>19.000000</td>\n",
       "      <td>6.000000</td>\n",
       "      <td>2021.0</td>\n",
       "    </tr>\n",
       "    <tr>\n",
       "      <th>75%</th>\n",
       "      <td>525.000000</td>\n",
       "      <td>28.000000</td>\n",
       "      <td>6.0</td>\n",
       "      <td>0.0</td>\n",
       "      <td>199.0</td>\n",
       "      <td>3560.574425</td>\n",
       "      <td>22.000000</td>\n",
       "      <td>9.000000</td>\n",
       "      <td>2021.0</td>\n",
       "    </tr>\n",
       "    <tr>\n",
       "      <th>max</th>\n",
       "      <td>699.000000</td>\n",
       "      <td>38.000000</td>\n",
       "      <td>6.0</td>\n",
       "      <td>0.0</td>\n",
       "      <td>199.0</td>\n",
       "      <td>5699.769662</td>\n",
       "      <td>41.000000</td>\n",
       "      <td>12.000000</td>\n",
       "      <td>2021.0</td>\n",
       "    </tr>\n",
       "  </tbody>\n",
       "</table>\n",
       "</div>"
      ],
      "text/plain": [
       "           user_id          age  minute_price  start_ride_price  \\\n",
       "count  6500.000000  6500.000000        6500.0            6500.0   \n",
       "mean    348.725385    24.892615           6.0               0.0   \n",
       "std     201.099339     4.757208           0.0               0.0   \n",
       "min       1.000000    12.000000           6.0               0.0   \n",
       "25%     175.000000    22.000000           6.0               0.0   \n",
       "50%     351.000000    25.000000           6.0               0.0   \n",
       "75%     525.000000    28.000000           6.0               0.0   \n",
       "max     699.000000    38.000000           6.0               0.0   \n",
       "\n",
       "       subscription_fee     distance     duration        month    year  \n",
       "count            6500.0  6500.000000  6500.000000  6500.000000  6500.0  \n",
       "mean              199.0  3115.445388    19.037692     6.422308  2021.0  \n",
       "std                 0.0   836.895330     5.577439     3.414616     0.0  \n",
       "min               199.0   244.210438     4.000000     1.000000  2021.0  \n",
       "25%               199.0  2785.444017    15.000000     4.000000  2021.0  \n",
       "50%               199.0  3148.637229    19.000000     6.000000  2021.0  \n",
       "75%               199.0  3560.574425    22.000000     9.000000  2021.0  \n",
       "max               199.0  5699.769662    41.000000    12.000000  2021.0  "
      ]
     },
     "metadata": {},
     "output_type": "display_data"
    },
    {
     "data": {
      "text/plain": [
       "'Информация о пользователях без подписки'"
      ]
     },
     "metadata": {},
     "output_type": "display_data"
    },
    {
     "data": {
      "text/html": [
       "<div>\n",
       "<style scoped>\n",
       "    .dataframe tbody tr th:only-of-type {\n",
       "        vertical-align: middle;\n",
       "    }\n",
       "\n",
       "    .dataframe tbody tr th {\n",
       "        vertical-align: top;\n",
       "    }\n",
       "\n",
       "    .dataframe thead th {\n",
       "        text-align: right;\n",
       "    }\n",
       "</style>\n",
       "<table border=\"1\" class=\"dataframe\">\n",
       "  <thead>\n",
       "    <tr style=\"text-align: right;\">\n",
       "      <th></th>\n",
       "      <th>user_id</th>\n",
       "      <th>age</th>\n",
       "      <th>minute_price</th>\n",
       "      <th>start_ride_price</th>\n",
       "      <th>subscription_fee</th>\n",
       "      <th>distance</th>\n",
       "      <th>duration</th>\n",
       "      <th>month</th>\n",
       "      <th>year</th>\n",
       "    </tr>\n",
       "  </thead>\n",
       "  <tbody>\n",
       "    <tr>\n",
       "      <th>count</th>\n",
       "      <td>11568.000000</td>\n",
       "      <td>11568.000000</td>\n",
       "      <td>11568.0</td>\n",
       "      <td>11568.0</td>\n",
       "      <td>11568.0</td>\n",
       "      <td>11568.000000</td>\n",
       "      <td>11568.000000</td>\n",
       "      <td>11568.000000</td>\n",
       "      <td>11568.0</td>\n",
       "    </tr>\n",
       "    <tr>\n",
       "      <th>mean</th>\n",
       "      <td>1120.527230</td>\n",
       "      <td>24.893326</td>\n",
       "      <td>8.0</td>\n",
       "      <td>50.0</td>\n",
       "      <td>0.0</td>\n",
       "      <td>3045.495282</td>\n",
       "      <td>17.890992</td>\n",
       "      <td>6.522994</td>\n",
       "      <td>2021.0</td>\n",
       "    </tr>\n",
       "    <tr>\n",
       "      <th>std</th>\n",
       "      <td>241.165628</td>\n",
       "      <td>4.481100</td>\n",
       "      <td>0.0</td>\n",
       "      <td>0.0</td>\n",
       "      <td>0.0</td>\n",
       "      <td>1246.173806</td>\n",
       "      <td>6.330250</td>\n",
       "      <td>3.449770</td>\n",
       "      <td>0.0</td>\n",
       "    </tr>\n",
       "    <tr>\n",
       "      <th>min</th>\n",
       "      <td>700.000000</td>\n",
       "      <td>12.000000</td>\n",
       "      <td>8.0</td>\n",
       "      <td>50.0</td>\n",
       "      <td>0.0</td>\n",
       "      <td>0.855683</td>\n",
       "      <td>1.000000</td>\n",
       "      <td>1.000000</td>\n",
       "      <td>2021.0</td>\n",
       "    </tr>\n",
       "    <tr>\n",
       "      <th>25%</th>\n",
       "      <td>915.000000</td>\n",
       "      <td>22.000000</td>\n",
       "      <td>8.0</td>\n",
       "      <td>50.0</td>\n",
       "      <td>0.0</td>\n",
       "      <td>2366.562689</td>\n",
       "      <td>13.000000</td>\n",
       "      <td>4.000000</td>\n",
       "      <td>2021.0</td>\n",
       "    </tr>\n",
       "    <tr>\n",
       "      <th>50%</th>\n",
       "      <td>1123.000000</td>\n",
       "      <td>25.000000</td>\n",
       "      <td>8.0</td>\n",
       "      <td>50.0</td>\n",
       "      <td>0.0</td>\n",
       "      <td>3114.648465</td>\n",
       "      <td>18.000000</td>\n",
       "      <td>7.000000</td>\n",
       "      <td>2021.0</td>\n",
       "    </tr>\n",
       "    <tr>\n",
       "      <th>75%</th>\n",
       "      <td>1328.000000</td>\n",
       "      <td>28.000000</td>\n",
       "      <td>8.0</td>\n",
       "      <td>50.0</td>\n",
       "      <td>0.0</td>\n",
       "      <td>3905.697894</td>\n",
       "      <td>22.000000</td>\n",
       "      <td>9.000000</td>\n",
       "      <td>2021.0</td>\n",
       "    </tr>\n",
       "    <tr>\n",
       "      <th>max</th>\n",
       "      <td>1534.000000</td>\n",
       "      <td>43.000000</td>\n",
       "      <td>8.0</td>\n",
       "      <td>50.0</td>\n",
       "      <td>0.0</td>\n",
       "      <td>7211.007745</td>\n",
       "      <td>35.000000</td>\n",
       "      <td>12.000000</td>\n",
       "      <td>2021.0</td>\n",
       "    </tr>\n",
       "  </tbody>\n",
       "</table>\n",
       "</div>"
      ],
      "text/plain": [
       "            user_id           age  minute_price  start_ride_price  \\\n",
       "count  11568.000000  11568.000000       11568.0           11568.0   \n",
       "mean    1120.527230     24.893326           8.0              50.0   \n",
       "std      241.165628      4.481100           0.0               0.0   \n",
       "min      700.000000     12.000000           8.0              50.0   \n",
       "25%      915.000000     22.000000           8.0              50.0   \n",
       "50%     1123.000000     25.000000           8.0              50.0   \n",
       "75%     1328.000000     28.000000           8.0              50.0   \n",
       "max     1534.000000     43.000000           8.0              50.0   \n",
       "\n",
       "       subscription_fee      distance      duration         month     year  \n",
       "count           11568.0  11568.000000  11568.000000  11568.000000  11568.0  \n",
       "mean                0.0   3045.495282     17.890992      6.522994   2021.0  \n",
       "std                 0.0   1246.173806      6.330250      3.449770      0.0  \n",
       "min                 0.0      0.855683      1.000000      1.000000   2021.0  \n",
       "25%                 0.0   2366.562689     13.000000      4.000000   2021.0  \n",
       "50%                 0.0   3114.648465     18.000000      7.000000   2021.0  \n",
       "75%                 0.0   3905.697894     22.000000      9.000000   2021.0  \n",
       "max                 0.0   7211.007745     35.000000     12.000000   2021.0  "
      ]
     },
     "metadata": {},
     "output_type": "display_data"
    }
   ],
   "source": [
    "# Разделяем данные на две группы по типу подписки\n",
    "ultra_duration = merged_df[merged_df['subscription_type'] == 'ultra']\n",
    "free_duration = merged_df[merged_df['subscription_type'] == 'free']\n",
    "\n",
    "display('Информация о пользователях с подпиской',ultra_duration.describe())\n",
    "\n",
    "display('Информация о пользователях без подписки',free_duration.describe())"
   ]
  },
  {
   "cell_type": "markdown",
   "id": "52bac23e",
   "metadata": {},
   "source": [
    "Имеем два датафрейма.\n",
    "У нас две независимые выборки (пользователи с подпиской и без подписки), поэтому используем использовать t-критерий Стьюдента. Еще у нас выборки разного размера\n",
    "\n",
    "- **H0: Средняя продолжительность поездок у пользователей с подпиской и без равна**\n",
    "- **H1: Средняя продолжительность поездок у пользователей с подпиской больше**"
   ]
  },
  {
   "cell_type": "code",
   "execution_count": 38,
   "id": "61b6337a",
   "metadata": {},
   "outputs": [
    {
     "name": "stdout",
     "output_type": "stream",
     "text": [
      "Результаты t-теста: 2.4959453720736625e-34\n",
      "Отвергаем нулевую гипотезу: есть основания полагать, что пользователи с подпиской 'ultra' тратят больше времени на поездки.\n"
     ]
    }
   ],
   "source": [
    "ultra_duration = merged_df[merged_df['subscription_type'] == 'ultra']['duration']\n",
    "free_duration = merged_df[merged_df['subscription_type'] == 'free']['duration']\n",
    "\n",
    "# Проверяем гипотезу с помощью t-теста\n",
    "\n",
    "# Уровень значимости\n",
    "alpha = 0.05\n",
    "\n",
    "results = st.ttest_ind(ultra_duration, free_duration, alternative='greater')\n",
    "\n",
    "\n",
    "# Выводим результаты\n",
    "print('Результаты t-теста:', results.pvalue)\n",
    "\n",
    "# Интерпретация результата\n",
    "if results.pvalue < alpha:\n",
    "    print(\"Отвергаем нулевую гипотезу: есть основания полагать, что пользователи с подпиской 'ultra' тратят больше времени на поездки.\")\n",
    "else:\n",
    "    print(\"Не можем отвергнуть нулевую гипотезу: нет достаточных доказательств, что пользователи с подпиской 'ultra' тратят больше времени.\")"
   ]
  },
  {
   "cell_type": "markdown",
   "id": "27c0eebd",
   "metadata": {},
   "source": [
    "### Расстояние одной поездки в 3130 метров — оптимальное с точки зрения износа самоката. Можно ли сказать, что среднее расстояние, которое проезжают пользователи с подпиской за одну поездку, не превышает 3130 метров? Проверьте гипотезу и сделайте выводы."
   ]
  },
  {
   "cell_type": "markdown",
   "id": "be6c95c9",
   "metadata": {},
   "source": [
    "- **Нулевая гипотеза (H₀)**:Среднее расстояние поездок пользователей с подпиской (μ) не превышает 3130 метров, то есть μ ≤ 3130.\n",
    "- **Альтернативная гипотеза (H₁)**:Среднее расстояние поездок пользователей с подпиской больше 3130 метров, то есть μ > 3130.\n",
    "\n",
    "Это односторонний тест, так как нас интересует, не превышает ли среднее оптимальное значение 3130 метров"
   ]
  },
  {
   "cell_type": "code",
   "execution_count": 39,
   "id": "628ae642",
   "metadata": {},
   "outputs": [
    {
     "name": "stdout",
     "output_type": "stream",
     "text": [
      "p-значение одновыборочного t-теста: 0.9999999999995223\n",
      "Не отвергаем H₀: нет оснований считать, что среднее расстояние превышает 3130 метров (p ≥ 0.05).\n"
     ]
    }
   ],
   "source": [
    "# Фильтруем данные только для пользователей с подпиской\n",
    "subscribed_users = merged_df[merged_df['subscription_type'] == 'ultra']\n",
    "distances = merged_df['distance'].values  # Извлекаем расстояния в массив\n",
    "\n",
    "# Задаем уровень значимости и оптимальное расстояние\n",
    "alpha = 0.05\n",
    "optimal_distance = 3130\n",
    "\n",
    "# Рассчитываем среднее и стандартное отклонение выборки\n",
    "mean_distance = np.mean(distances)\n",
    "std_distance = np.std(distances, ddof=1)  # ddof=1 для выборочного стандартного отклонения\n",
    "n = len(distances)\n",
    "\n",
    "# Проводим одновыборочный t-тест\n",
    "results = st.ttest_1samp(distances, optimal_distance, alternative= 'greater')\n",
    "\n",
    "# Корректируем p-значение для одностороннего теста (H₁: μ > 3130)\n",
    "\n",
    "\n",
    "print('p-значение одновыборочного t-теста:', results.pvalue)\n",
    "\n",
    "# Проверяем гипотезу\n",
    "if results.pvalue  < alpha:\n",
    "    print(f\"Отвергаем H₀: среднее расстояние превышает {optimal_distance} метров (p < {alpha}).\")\n",
    "else:\n",
    "    print(f\"Не отвергаем H₀: нет оснований считать, что среднее расстояние превышает {optimal_distance} метров (p ≥ {alpha}).\")"
   ]
  },
  {
   "cell_type": "markdown",
   "id": "fc104b4e",
   "metadata": {},
   "source": [
    "Мы можем сказать, что в среднее расстояние, которое преодолевоют пользователи на самокатах ниже заданных 3130 метров"
   ]
  },
  {
   "cell_type": "markdown",
   "id": "85ebbcba",
   "metadata": {},
   "source": [
    "### Проверьте гипотезу о том, будет ли помесячная выручка от пользователей с подпиской по месяцам выше, чем выручка от пользователей без подписки. Сделайте вывод."
   ]
  },
  {
   "cell_type": "markdown",
   "id": "026fd16a",
   "metadata": {},
   "source": [
    "- **H0:помесячная выручка от пользователей с подпиской статистически значимо выше, чем от пользователей без подписки**\n",
    "- **H1:нет достаточных оснований считать, что помесячная выручка от пользователей с подпиской выше, чем от пользователей без подписки**"
   ]
  },
  {
   "cell_type": "code",
   "execution_count": 40,
   "id": "63d601db",
   "metadata": {},
   "outputs": [
    {
     "name": "stdout",
     "output_type": "stream",
     "text": [
      "Средняя выручка (подписчики 'ultra'): 362.79\n",
      "Средняя выручка (без подписки 'free'): 328.64\n",
      "Стандартное отклонение (подписчики 'ultra'): 88.26\n",
      "Стандартное отклонение (без подписки 'free'): 183.87\n",
      "\n",
      "Результаты t-теста: p-value = 0.0000\n",
      "Отвергаем H₀: помесячная выручка от пользователей с подпиской статистически значимо выше, чем от пользователей без подписки (p < 0.05).\n"
     ]
    }
   ],
   "source": [
    "# Разделяем данные по типу подписки\n",
    "users_free = aggregated_df[aggregated_df['subscription_type'] == 'free']\n",
    "users_ultra = aggregated_df[aggregated_df['subscription_type'] == 'ultra']\n",
    "\n",
    "mean_ultra = np.mean(users_ultra['revenue'])  # Замените 'revenue' на имя столбца с выручкой\n",
    "mean_free = np.mean(users_free['revenue'])    # Замените 'revenue' на имя столбца с выручкой\n",
    "std_ultra = np.std(users_ultra['revenue'], ddof=1)\n",
    "std_free = np.std(users_free['revenue'], ddof=1)\n",
    "\n",
    "\n",
    "print(f\"Средняя выручка (подписчики 'ultra'): {mean_ultra:.2f}\")\n",
    "print(f\"Средняя выручка (без подписки 'free'): {mean_free:.2f}\")\n",
    "print(f\"Стандартное отклонение (подписчики 'ultra'): {std_ultra:.2f}\")\n",
    "print(f\"Стандартное отклонение (без подписки 'free'): {std_free:.2f}\")\n",
    "\n",
    "alpha = 0.05\n",
    "\n",
    "\n",
    "results = st.ttest_ind(users_ultra['revenue'], users_free['revenue'], alternative='greater')\n",
    "\n",
    "print(f\"\\nРезультаты t-теста: p-value = {results.pvalue:.4f}\")\n",
    "\n",
    "if results.pvalue < alpha:\n",
    "    print(f\"Отвергаем H₀: помесячная выручка от пользователей с подпиской статистически значимо выше, чем от пользователей без подписки (p < {alpha}).\")\n",
    "else:\n",
    "    print(f\"Не отвергаем H₀: нет достаточных оснований считать, что помесячная выручка от пользователей с подпиской выше, чем от пользователей без подписки (p ≥ {alpha}).\")"
   ]
  },
  {
   "cell_type": "markdown",
   "id": "7b1bca58",
   "metadata": {},
   "source": [
    "## Вывод\n",
    "\n",
    "Мы провели анализ данных пользователей, пользующихся самокатами по подписки и без нее и можем предоставить некоторые выводы,\n",
    "\n",
    "- Больше всего пользователей наблюдается в Пятигорске\n",
    "- Чаще всего пользователи выбирают пользоваться сервисом без оформления подписки. С подпиской 'free'- 54,4% , 'ultra' -45,6%. \n",
    "- Средний возраст пользователей составляет 25 лет\n",
    "- В среднем пользователь тратит на одну поездку 17,7 минут (вне зависимости от наличия подписки)\n",
    "- Средняя длина одной поездки составляет 3070 метров, а медианная - 3133\n",
    "- Среднее время одной поездки по подписке 'free' - 17,4 минут а длина поездки - 3045 м, по подпсике 'ultra' - 18,4 мин и 3115 м. Если посмотреть на значения стандартного отклонения, то можно сделать вывод, что длительности у пользователей без подписки больше варьируются, чем у пользователей с подпиской. То есть чаще их берут на короткие и очень длинные дистанции.\n",
    "\n",
    "- **Пришли к выводу, что пользователи с подпиской 'ultra' используют самокаты на более длинные дистанции.**\n",
    "- **Выявили,что с высокой долей вероятности, протяженность поездки (в среднем) не превышает 3130 метров.**\n",
    "- **Высокая вероятность, что помесячная выручка от пользователей с подпиской статистически значимо выше, чем от пользователей без подписки.**"
   ]
  },
  {
   "cell_type": "markdown",
   "id": "6c6dbab8",
   "metadata": {},
   "source": [
    "### Представьте такую ситуацию: техническая команда сервиса обновила сервера, с которыми взаимодействует мобильное приложение. Она надеется, что из-за этого количество обращений в техподдержку значимо снизилось. Некоторый файл содержит для каждого пользователя данные о количестве обращений до обновления и после него. Какой тест вам понадобился бы для проверки этой гипотезы?"
   ]
  },
  {
   "cell_type": "markdown",
   "id": "aafc09e2",
   "metadata": {},
   "source": [
    "Для проверки гипотезы о том, что обновление серверов значимо снизило количество обращений в техподдержку, \n",
    "нужно выбрать статистический тест, который подходит для сравнения данных до и после обновления для одной \n",
    "и той же группы пользователей. \n",
    "\n",
    "Поскольку данные относятся к одним и тем же пользователям, их можно назвать зависимыми, это парное наблюдение, и размер выборки одинаковый, и предполагается, что количество обращений — это количественная переменная.\n",
    "\n",
    "Если данные меют нормальное распределение, то наиболее подходящим тестом в данном случае будет **двухвыборочный t-тест**.\n",
    "Попробуем сформулировать гипотезы:\n",
    "- **Нулевая гипотеза H0** Обновление серверов не повлияло на количество обращений\n",
    "- **Альтернативная H1** гипотеза Обновление серверов статистически значимо снизила количество обращений\n",
    "\n",
    "- 1) Да, надо использовать тест для зависимых выборок\n",
    "- 2) Мы должны использовать метод st.ttest_rel\n",
    "- 3) alternative= 'less' - потому мы проверяем левостороннюю гипотезу\n",
    "\n",
    "- **4) Порядок передачи массивов:** сначала передаем массив \"до обновления\", потом массив \"после обновления\". обновления. **Потому что мы ожидаем, что после обновленя количество обращений будет меньше, чем было до.**\n"
   ]
  }
 ],
 "metadata": {
  "ExecuteTimeLog": [
   {
    "duration": 46,
    "start_time": "2025-03-01T18:35:06.343Z"
   },
   {
    "duration": 5,
    "start_time": "2025-03-01T18:35:13.112Z"
   },
   {
    "duration": 1275,
    "start_time": "2025-03-01T18:35:19.156Z"
   },
   {
    "duration": 18,
    "start_time": "2025-03-01T18:35:20.433Z"
   },
   {
    "duration": 56,
    "start_time": "2025-03-01T18:35:20.809Z"
   },
   {
    "duration": 9,
    "start_time": "2025-03-01T18:35:21.338Z"
   },
   {
    "duration": 10,
    "start_time": "2025-03-01T18:35:29.132Z"
   },
   {
    "duration": 1183,
    "start_time": "2025-03-01T18:35:35.852Z"
   },
   {
    "duration": 17,
    "start_time": "2025-03-01T18:35:37.037Z"
   },
   {
    "duration": 99,
    "start_time": "2025-03-01T18:35:37.056Z"
   },
   {
    "duration": 0,
    "start_time": "2025-03-01T18:35:37.157Z"
   },
   {
    "duration": 0,
    "start_time": "2025-03-01T18:35:37.158Z"
   },
   {
    "duration": 0,
    "start_time": "2025-03-01T18:35:37.159Z"
   },
   {
    "duration": 0,
    "start_time": "2025-03-01T18:35:37.162Z"
   },
   {
    "duration": 0,
    "start_time": "2025-03-01T18:35:37.163Z"
   },
   {
    "duration": 0,
    "start_time": "2025-03-01T18:35:37.164Z"
   },
   {
    "duration": 0,
    "start_time": "2025-03-01T18:35:37.165Z"
   },
   {
    "duration": 0,
    "start_time": "2025-03-01T18:35:37.166Z"
   },
   {
    "duration": 0,
    "start_time": "2025-03-01T18:35:37.167Z"
   },
   {
    "duration": 0,
    "start_time": "2025-03-01T18:35:37.168Z"
   },
   {
    "duration": 0,
    "start_time": "2025-03-01T18:35:37.170Z"
   },
   {
    "duration": 0,
    "start_time": "2025-03-01T18:35:37.170Z"
   },
   {
    "duration": 0,
    "start_time": "2025-03-01T18:35:37.172Z"
   },
   {
    "duration": 0,
    "start_time": "2025-03-01T18:35:37.173Z"
   },
   {
    "duration": 0,
    "start_time": "2025-03-01T18:35:37.174Z"
   },
   {
    "duration": 0,
    "start_time": "2025-03-01T18:35:37.175Z"
   },
   {
    "duration": 0,
    "start_time": "2025-03-01T18:35:37.176Z"
   },
   {
    "duration": 28,
    "start_time": "2025-03-01T18:36:04.754Z"
   },
   {
    "duration": 26,
    "start_time": "2025-03-01T18:36:05.331Z"
   },
   {
    "duration": 8,
    "start_time": "2025-03-01T18:36:06.050Z"
   },
   {
    "duration": 15,
    "start_time": "2025-03-01T18:36:19.453Z"
   },
   {
    "duration": 21,
    "start_time": "2025-03-01T18:36:21.519Z"
   },
   {
    "duration": 38,
    "start_time": "2025-03-01T18:37:52.918Z"
   },
   {
    "duration": 8,
    "start_time": "2025-03-01T19:01:18.057Z"
   },
   {
    "duration": 19,
    "start_time": "2025-03-01T19:02:11.404Z"
   },
   {
    "duration": 23,
    "start_time": "2025-03-01T19:02:37.818Z"
   },
   {
    "duration": 21,
    "start_time": "2025-03-01T19:02:46.346Z"
   },
   {
    "duration": 20,
    "start_time": "2025-03-01T19:02:53.002Z"
   },
   {
    "duration": 9,
    "start_time": "2025-03-01T19:07:11.151Z"
   },
   {
    "duration": 11,
    "start_time": "2025-03-01T19:07:23.367Z"
   },
   {
    "duration": 13,
    "start_time": "2025-03-01T19:17:33.326Z"
   },
   {
    "duration": 10,
    "start_time": "2025-03-01T19:17:49.646Z"
   },
   {
    "duration": 9,
    "start_time": "2025-03-01T19:17:54.814Z"
   },
   {
    "duration": 12,
    "start_time": "2025-03-01T19:18:18.431Z"
   },
   {
    "duration": 15,
    "start_time": "2025-03-01T19:24:53.971Z"
   },
   {
    "duration": 10,
    "start_time": "2025-03-01T19:25:13.685Z"
   },
   {
    "duration": 14,
    "start_time": "2025-03-01T19:25:36.504Z"
   },
   {
    "duration": 15,
    "start_time": "2025-03-01T19:25:52.736Z"
   },
   {
    "duration": 12,
    "start_time": "2025-03-01T19:26:06.827Z"
   },
   {
    "duration": 12,
    "start_time": "2025-03-01T19:26:25.281Z"
   },
   {
    "duration": 9,
    "start_time": "2025-03-01T19:27:47.864Z"
   },
   {
    "duration": 9,
    "start_time": "2025-03-01T19:28:00.885Z"
   },
   {
    "duration": 8,
    "start_time": "2025-03-01T19:28:10.984Z"
   },
   {
    "duration": 9,
    "start_time": "2025-03-01T19:33:01.143Z"
   },
   {
    "duration": 9,
    "start_time": "2025-03-01T19:37:08.128Z"
   },
   {
    "duration": 7,
    "start_time": "2025-03-01T19:39:06.377Z"
   },
   {
    "duration": 15,
    "start_time": "2025-03-01T19:49:08.190Z"
   },
   {
    "duration": 12,
    "start_time": "2025-03-01T19:52:45.844Z"
   },
   {
    "duration": 152,
    "start_time": "2025-03-01T19:54:00.488Z"
   },
   {
    "duration": 140,
    "start_time": "2025-03-01T19:54:26.687Z"
   },
   {
    "duration": 148,
    "start_time": "2025-03-01T19:55:46.984Z"
   },
   {
    "duration": 150,
    "start_time": "2025-03-01T19:56:08.902Z"
   },
   {
    "duration": 223,
    "start_time": "2025-03-01T19:57:16.855Z"
   },
   {
    "duration": 166,
    "start_time": "2025-03-01T19:57:51.351Z"
   },
   {
    "duration": 219,
    "start_time": "2025-03-01T20:12:27.961Z"
   },
   {
    "duration": 99,
    "start_time": "2025-03-01T20:16:46.022Z"
   },
   {
    "duration": 192,
    "start_time": "2025-03-01T20:16:56.475Z"
   },
   {
    "duration": 103,
    "start_time": "2025-03-01T20:17:08.241Z"
   },
   {
    "duration": 192,
    "start_time": "2025-03-01T20:17:20.626Z"
   },
   {
    "duration": 188,
    "start_time": "2025-03-01T20:17:39.226Z"
   },
   {
    "duration": 129,
    "start_time": "2025-03-01T20:22:18.455Z"
   },
   {
    "duration": 130,
    "start_time": "2025-03-01T20:22:40.519Z"
   },
   {
    "duration": 183,
    "start_time": "2025-03-01T20:24:58.369Z"
   },
   {
    "duration": 141,
    "start_time": "2025-03-01T20:25:22.075Z"
   },
   {
    "duration": 14,
    "start_time": "2025-03-01T20:28:27.611Z"
   },
   {
    "duration": 14,
    "start_time": "2025-03-01T20:28:43.030Z"
   },
   {
    "duration": 13,
    "start_time": "2025-03-01T20:28:52.496Z"
   },
   {
    "duration": 15,
    "start_time": "2025-03-01T20:29:11.426Z"
   },
   {
    "duration": 9,
    "start_time": "2025-03-01T20:30:45.316Z"
   },
   {
    "duration": 13,
    "start_time": "2025-03-01T20:32:10.548Z"
   },
   {
    "duration": 208,
    "start_time": "2025-03-01T20:33:11.699Z"
   },
   {
    "duration": 152,
    "start_time": "2025-03-01T20:37:15.461Z"
   },
   {
    "duration": 151,
    "start_time": "2025-03-01T20:37:24.363Z"
   },
   {
    "duration": 162,
    "start_time": "2025-03-01T20:37:35.302Z"
   },
   {
    "duration": 166,
    "start_time": "2025-03-01T20:37:43.360Z"
   },
   {
    "duration": 144,
    "start_time": "2025-03-01T20:37:53.644Z"
   },
   {
    "duration": 138,
    "start_time": "2025-03-01T20:38:24.613Z"
   },
   {
    "duration": 155,
    "start_time": "2025-03-01T20:39:29.712Z"
   },
   {
    "duration": 153,
    "start_time": "2025-03-01T20:39:49.413Z"
   },
   {
    "duration": 218,
    "start_time": "2025-03-01T20:41:04.793Z"
   },
   {
    "duration": 316,
    "start_time": "2025-03-01T20:41:31.682Z"
   },
   {
    "duration": 230,
    "start_time": "2025-03-01T20:41:46.194Z"
   },
   {
    "duration": 8,
    "start_time": "2025-03-01T21:41:28.307Z"
   },
   {
    "duration": 271,
    "start_time": "2025-03-01T21:44:10.225Z"
   },
   {
    "duration": 402,
    "start_time": "2025-03-01T21:45:30.127Z"
   },
   {
    "duration": 257,
    "start_time": "2025-03-01T21:48:54.350Z"
   },
   {
    "duration": 1089,
    "start_time": "2025-03-01T21:56:39.039Z"
   },
   {
    "duration": 18,
    "start_time": "2025-03-01T21:56:40.130Z"
   },
   {
    "duration": 28,
    "start_time": "2025-03-01T21:56:40.149Z"
   },
   {
    "duration": 15,
    "start_time": "2025-03-01T21:56:40.179Z"
   },
   {
    "duration": 43,
    "start_time": "2025-03-01T21:56:40.195Z"
   },
   {
    "duration": 80,
    "start_time": "2025-03-01T21:56:40.239Z"
   },
   {
    "duration": 0,
    "start_time": "2025-03-01T21:56:40.320Z"
   },
   {
    "duration": 0,
    "start_time": "2025-03-01T21:56:40.322Z"
   },
   {
    "duration": 0,
    "start_time": "2025-03-01T21:56:40.323Z"
   },
   {
    "duration": 0,
    "start_time": "2025-03-01T21:56:40.323Z"
   },
   {
    "duration": 0,
    "start_time": "2025-03-01T21:56:40.324Z"
   },
   {
    "duration": 0,
    "start_time": "2025-03-01T21:56:40.325Z"
   },
   {
    "duration": 0,
    "start_time": "2025-03-01T21:56:40.326Z"
   },
   {
    "duration": 0,
    "start_time": "2025-03-01T21:56:40.327Z"
   },
   {
    "duration": 0,
    "start_time": "2025-03-01T21:56:40.328Z"
   },
   {
    "duration": 0,
    "start_time": "2025-03-01T21:56:40.329Z"
   },
   {
    "duration": 0,
    "start_time": "2025-03-01T21:56:40.330Z"
   },
   {
    "duration": 0,
    "start_time": "2025-03-01T21:56:40.331Z"
   },
   {
    "duration": 0,
    "start_time": "2025-03-01T21:56:40.332Z"
   },
   {
    "duration": 0,
    "start_time": "2025-03-01T21:56:40.333Z"
   },
   {
    "duration": 0,
    "start_time": "2025-03-01T21:56:40.334Z"
   },
   {
    "duration": 0,
    "start_time": "2025-03-01T21:56:40.335Z"
   },
   {
    "duration": 0,
    "start_time": "2025-03-01T21:56:40.336Z"
   },
   {
    "duration": 0,
    "start_time": "2025-03-01T21:56:40.337Z"
   },
   {
    "duration": 0,
    "start_time": "2025-03-01T21:56:40.338Z"
   },
   {
    "duration": 0,
    "start_time": "2025-03-01T21:56:40.338Z"
   },
   {
    "duration": 0,
    "start_time": "2025-03-01T21:56:40.339Z"
   },
   {
    "duration": 0,
    "start_time": "2025-03-01T21:56:40.340Z"
   },
   {
    "duration": 0,
    "start_time": "2025-03-01T21:56:40.341Z"
   },
   {
    "duration": 1159,
    "start_time": "2025-03-01T21:57:29.656Z"
   },
   {
    "duration": 19,
    "start_time": "2025-03-01T21:57:30.817Z"
   },
   {
    "duration": 28,
    "start_time": "2025-03-01T21:57:30.837Z"
   },
   {
    "duration": 252,
    "start_time": "2025-03-01T21:57:30.867Z"
   },
   {
    "duration": 60,
    "start_time": "2025-03-01T21:57:31.121Z"
   },
   {
    "duration": 85,
    "start_time": "2025-03-01T21:57:31.183Z"
   },
   {
    "duration": 0,
    "start_time": "2025-03-01T21:57:31.271Z"
   },
   {
    "duration": 0,
    "start_time": "2025-03-01T21:57:31.273Z"
   },
   {
    "duration": 0,
    "start_time": "2025-03-01T21:57:31.274Z"
   },
   {
    "duration": 0,
    "start_time": "2025-03-01T21:57:31.275Z"
   },
   {
    "duration": 0,
    "start_time": "2025-03-01T21:57:31.277Z"
   },
   {
    "duration": 0,
    "start_time": "2025-03-01T21:57:31.278Z"
   },
   {
    "duration": 0,
    "start_time": "2025-03-01T21:57:31.279Z"
   },
   {
    "duration": 0,
    "start_time": "2025-03-01T21:57:31.280Z"
   },
   {
    "duration": 0,
    "start_time": "2025-03-01T21:57:31.282Z"
   },
   {
    "duration": 0,
    "start_time": "2025-03-01T21:57:31.283Z"
   },
   {
    "duration": 0,
    "start_time": "2025-03-01T21:57:31.285Z"
   },
   {
    "duration": 0,
    "start_time": "2025-03-01T21:57:31.286Z"
   },
   {
    "duration": 0,
    "start_time": "2025-03-01T21:57:31.288Z"
   },
   {
    "duration": 0,
    "start_time": "2025-03-01T21:57:31.289Z"
   },
   {
    "duration": 0,
    "start_time": "2025-03-01T21:57:31.290Z"
   },
   {
    "duration": 0,
    "start_time": "2025-03-01T21:57:31.292Z"
   },
   {
    "duration": 0,
    "start_time": "2025-03-01T21:57:31.293Z"
   },
   {
    "duration": 0,
    "start_time": "2025-03-01T21:57:31.294Z"
   },
   {
    "duration": 0,
    "start_time": "2025-03-01T21:57:31.295Z"
   },
   {
    "duration": 0,
    "start_time": "2025-03-01T21:57:31.296Z"
   },
   {
    "duration": 0,
    "start_time": "2025-03-01T21:57:31.298Z"
   },
   {
    "duration": 0,
    "start_time": "2025-03-01T21:57:31.299Z"
   },
   {
    "duration": 0,
    "start_time": "2025-03-01T21:57:31.300Z"
   },
   {
    "duration": 14,
    "start_time": "2025-03-01T21:57:52.570Z"
   },
   {
    "duration": 77,
    "start_time": "2025-03-01T21:57:53.586Z"
   },
   {
    "duration": 10,
    "start_time": "2025-03-01T21:57:59.264Z"
   },
   {
    "duration": 12,
    "start_time": "2025-03-01T21:58:02.054Z"
   },
   {
    "duration": 13,
    "start_time": "2025-03-01T21:58:02.538Z"
   },
   {
    "duration": 9,
    "start_time": "2025-03-01T21:58:03.102Z"
   },
   {
    "duration": 9,
    "start_time": "2025-03-01T21:58:03.486Z"
   },
   {
    "duration": 100,
    "start_time": "2025-03-01T21:58:04.537Z"
   },
   {
    "duration": 194,
    "start_time": "2025-03-01T21:58:04.746Z"
   },
   {
    "duration": 93,
    "start_time": "2025-03-01T21:58:05.386Z"
   },
   {
    "duration": 151,
    "start_time": "2025-03-01T21:58:05.650Z"
   },
   {
    "duration": 131,
    "start_time": "2025-03-01T21:58:06.104Z"
   },
   {
    "duration": 236,
    "start_time": "2025-03-01T21:58:06.294Z"
   },
   {
    "duration": 266,
    "start_time": "2025-03-01T21:58:07.338Z"
   },
   {
    "duration": 266,
    "start_time": "2025-03-01T21:58:07.733Z"
   },
   {
    "duration": 86,
    "start_time": "2025-03-01T21:58:09.422Z"
   },
   {
    "duration": 274,
    "start_time": "2025-03-01T21:58:09.940Z"
   },
   {
    "duration": 103,
    "start_time": "2025-03-01T22:00:11.394Z"
   },
   {
    "duration": 12,
    "start_time": "2025-03-01T22:03:26.933Z"
   },
   {
    "duration": 20,
    "start_time": "2025-03-01T22:03:39.051Z"
   },
   {
    "duration": 29,
    "start_time": "2025-03-01T22:03:47.499Z"
   },
   {
    "duration": 33,
    "start_time": "2025-03-01T22:04:43.358Z"
   },
   {
    "duration": 7,
    "start_time": "2025-03-01T22:08:13.788Z"
   },
   {
    "duration": 14,
    "start_time": "2025-03-01T22:08:32.608Z"
   },
   {
    "duration": 15,
    "start_time": "2025-03-01T22:09:43.671Z"
   },
   {
    "duration": 14,
    "start_time": "2025-03-01T22:17:15.426Z"
   },
   {
    "duration": 353,
    "start_time": "2025-03-01T22:20:05.698Z"
   },
   {
    "duration": 247,
    "start_time": "2025-03-01T22:20:16.101Z"
   },
   {
    "duration": 274,
    "start_time": "2025-03-01T22:21:12.792Z"
   },
   {
    "duration": 8,
    "start_time": "2025-03-01T22:29:17.808Z"
   },
   {
    "duration": 1263,
    "start_time": "2025-03-01T22:29:32.534Z"
   },
   {
    "duration": 1236,
    "start_time": "2025-03-01T22:30:51.120Z"
   },
   {
    "duration": 12,
    "start_time": "2025-03-01T22:31:42.256Z"
   },
   {
    "duration": 10,
    "start_time": "2025-03-01T22:32:03.628Z"
   },
   {
    "duration": 9,
    "start_time": "2025-03-01T22:32:26.335Z"
   },
   {
    "duration": 1252,
    "start_time": "2025-03-01T22:33:27.715Z"
   },
   {
    "duration": 9,
    "start_time": "2025-03-01T22:34:35.836Z"
   },
   {
    "duration": 6,
    "start_time": "2025-03-01T22:34:52.833Z"
   },
   {
    "duration": 275,
    "start_time": "2025-03-01T22:38:02.976Z"
   },
   {
    "duration": 3,
    "start_time": "2025-03-01T22:39:18.250Z"
   },
   {
    "duration": 537,
    "start_time": "2025-03-01T22:41:15.572Z"
   },
   {
    "duration": 576,
    "start_time": "2025-03-01T22:41:34.289Z"
   },
   {
    "duration": 258,
    "start_time": "2025-03-01T22:41:48.339Z"
   },
   {
    "duration": 486,
    "start_time": "2025-03-01T22:42:08.249Z"
   },
   {
    "duration": 7,
    "start_time": "2025-03-01T22:43:10.317Z"
   },
   {
    "duration": 1409,
    "start_time": "2025-03-02T10:48:20.194Z"
   },
   {
    "duration": 29,
    "start_time": "2025-03-02T10:48:21.605Z"
   },
   {
    "duration": 27,
    "start_time": "2025-03-02T10:48:21.636Z"
   },
   {
    "duration": 16,
    "start_time": "2025-03-02T10:48:21.665Z"
   },
   {
    "duration": 56,
    "start_time": "2025-03-02T10:48:21.683Z"
   },
   {
    "duration": 17,
    "start_time": "2025-03-02T10:48:21.741Z"
   },
   {
    "duration": 20,
    "start_time": "2025-03-02T10:48:21.759Z"
   },
   {
    "duration": 35,
    "start_time": "2025-03-02T10:48:21.780Z"
   },
   {
    "duration": 23,
    "start_time": "2025-03-02T10:48:21.817Z"
   },
   {
    "duration": 8,
    "start_time": "2025-03-02T10:48:21.841Z"
   },
   {
    "duration": 25,
    "start_time": "2025-03-02T10:48:21.851Z"
   },
   {
    "duration": 74,
    "start_time": "2025-03-02T10:48:21.878Z"
   },
   {
    "duration": 0,
    "start_time": "2025-03-02T10:48:21.954Z"
   },
   {
    "duration": 0,
    "start_time": "2025-03-02T10:48:21.955Z"
   },
   {
    "duration": 0,
    "start_time": "2025-03-02T10:48:21.956Z"
   },
   {
    "duration": 0,
    "start_time": "2025-03-02T10:48:21.957Z"
   },
   {
    "duration": 0,
    "start_time": "2025-03-02T10:48:21.959Z"
   },
   {
    "duration": 0,
    "start_time": "2025-03-02T10:48:21.960Z"
   },
   {
    "duration": 0,
    "start_time": "2025-03-02T10:48:21.961Z"
   },
   {
    "duration": 0,
    "start_time": "2025-03-02T10:48:21.962Z"
   },
   {
    "duration": 0,
    "start_time": "2025-03-02T10:48:21.963Z"
   },
   {
    "duration": 0,
    "start_time": "2025-03-02T10:48:21.964Z"
   },
   {
    "duration": 0,
    "start_time": "2025-03-02T10:48:21.966Z"
   },
   {
    "duration": 0,
    "start_time": "2025-03-02T10:48:21.967Z"
   },
   {
    "duration": 0,
    "start_time": "2025-03-02T10:48:21.968Z"
   },
   {
    "duration": 0,
    "start_time": "2025-03-02T10:48:21.969Z"
   },
   {
    "duration": 0,
    "start_time": "2025-03-02T10:48:21.970Z"
   },
   {
    "duration": 0,
    "start_time": "2025-03-02T10:48:21.971Z"
   },
   {
    "duration": 0,
    "start_time": "2025-03-02T10:48:21.972Z"
   },
   {
    "duration": 0,
    "start_time": "2025-03-02T10:48:21.974Z"
   },
   {
    "duration": 0,
    "start_time": "2025-03-02T10:48:21.975Z"
   },
   {
    "duration": 0,
    "start_time": "2025-03-02T10:48:21.976Z"
   },
   {
    "duration": 0,
    "start_time": "2025-03-02T10:48:21.977Z"
   },
   {
    "duration": 0,
    "start_time": "2025-03-02T10:48:21.978Z"
   },
   {
    "duration": 0,
    "start_time": "2025-03-02T10:48:21.979Z"
   },
   {
    "duration": 1194,
    "start_time": "2025-03-02T10:49:12.830Z"
   },
   {
    "duration": 29,
    "start_time": "2025-03-02T10:49:14.027Z"
   },
   {
    "duration": 31,
    "start_time": "2025-03-02T10:49:14.058Z"
   },
   {
    "duration": 16,
    "start_time": "2025-03-02T10:49:14.091Z"
   },
   {
    "duration": 55,
    "start_time": "2025-03-02T10:49:14.108Z"
   },
   {
    "duration": 14,
    "start_time": "2025-03-02T10:49:14.164Z"
   },
   {
    "duration": 41,
    "start_time": "2025-03-02T10:49:14.179Z"
   },
   {
    "duration": 18,
    "start_time": "2025-03-02T10:49:14.222Z"
   },
   {
    "duration": 14,
    "start_time": "2025-03-02T10:49:14.241Z"
   },
   {
    "duration": 8,
    "start_time": "2025-03-02T10:49:14.257Z"
   },
   {
    "duration": 71,
    "start_time": "2025-03-02T10:49:14.267Z"
   },
   {
    "duration": 232,
    "start_time": "2025-03-02T10:49:14.340Z"
   },
   {
    "duration": 76,
    "start_time": "2025-03-02T10:49:14.573Z"
   },
   {
    "duration": 0,
    "start_time": "2025-03-02T10:49:14.652Z"
   },
   {
    "duration": 0,
    "start_time": "2025-03-02T10:49:14.653Z"
   },
   {
    "duration": 0,
    "start_time": "2025-03-02T10:49:14.654Z"
   },
   {
    "duration": 0,
    "start_time": "2025-03-02T10:49:14.655Z"
   },
   {
    "duration": 0,
    "start_time": "2025-03-02T10:49:14.656Z"
   },
   {
    "duration": 0,
    "start_time": "2025-03-02T10:49:14.657Z"
   },
   {
    "duration": 0,
    "start_time": "2025-03-02T10:49:14.658Z"
   },
   {
    "duration": 0,
    "start_time": "2025-03-02T10:49:14.659Z"
   },
   {
    "duration": 0,
    "start_time": "2025-03-02T10:49:14.660Z"
   },
   {
    "duration": 0,
    "start_time": "2025-03-02T10:49:14.661Z"
   },
   {
    "duration": 0,
    "start_time": "2025-03-02T10:49:14.662Z"
   },
   {
    "duration": 0,
    "start_time": "2025-03-02T10:49:14.663Z"
   },
   {
    "duration": 0,
    "start_time": "2025-03-02T10:49:14.664Z"
   },
   {
    "duration": 0,
    "start_time": "2025-03-02T10:49:14.665Z"
   },
   {
    "duration": 0,
    "start_time": "2025-03-02T10:49:14.666Z"
   },
   {
    "duration": 0,
    "start_time": "2025-03-02T10:49:14.667Z"
   },
   {
    "duration": 0,
    "start_time": "2025-03-02T10:49:14.668Z"
   },
   {
    "duration": 0,
    "start_time": "2025-03-02T10:49:14.669Z"
   },
   {
    "duration": 0,
    "start_time": "2025-03-02T10:49:14.670Z"
   },
   {
    "duration": 0,
    "start_time": "2025-03-02T10:49:14.671Z"
   },
   {
    "duration": 0,
    "start_time": "2025-03-02T10:49:14.672Z"
   },
   {
    "duration": 163,
    "start_time": "2025-03-02T10:49:52.388Z"
   },
   {
    "duration": 67,
    "start_time": "2025-03-02T10:49:55.195Z"
   },
   {
    "duration": 267,
    "start_time": "2025-03-02T10:49:55.737Z"
   },
   {
    "duration": 77,
    "start_time": "2025-03-02T10:50:01.829Z"
   },
   {
    "duration": 333,
    "start_time": "2025-03-02T10:50:02.267Z"
   },
   {
    "duration": 64,
    "start_time": "2025-03-02T10:50:03.218Z"
   },
   {
    "duration": 331,
    "start_time": "2025-03-02T10:50:03.622Z"
   },
   {
    "duration": 31,
    "start_time": "2025-03-02T10:50:05.240Z"
   },
   {
    "duration": 71,
    "start_time": "2025-03-02T10:50:05.771Z"
   },
   {
    "duration": 147,
    "start_time": "2025-03-02T10:50:06.300Z"
   },
   {
    "duration": 16,
    "start_time": "2025-03-02T10:50:07.080Z"
   },
   {
    "duration": 68,
    "start_time": "2025-03-02T10:50:08.453Z"
   },
   {
    "duration": 66,
    "start_time": "2025-03-02T10:50:11.669Z"
   },
   {
    "duration": 429,
    "start_time": "2025-03-02T10:50:12.939Z"
   },
   {
    "duration": 369,
    "start_time": "2025-03-02T10:50:14.321Z"
   },
   {
    "duration": 7,
    "start_time": "2025-03-02T10:50:15.369Z"
   },
   {
    "duration": 656,
    "start_time": "2025-03-02T10:50:22.025Z"
   },
   {
    "duration": 11,
    "start_time": "2025-03-02T10:50:23.315Z"
   },
   {
    "duration": 2,
    "start_time": "2025-03-02T10:52:12.004Z"
   },
   {
    "duration": 19,
    "start_time": "2025-03-02T10:52:12.621Z"
   },
   {
    "duration": 28,
    "start_time": "2025-03-02T10:52:12.812Z"
   },
   {
    "duration": 15,
    "start_time": "2025-03-02T10:52:12.993Z"
   },
   {
    "duration": 42,
    "start_time": "2025-03-02T10:52:13.385Z"
   },
   {
    "duration": 16,
    "start_time": "2025-03-02T10:52:14.185Z"
   },
   {
    "duration": 16,
    "start_time": "2025-03-02T10:52:14.603Z"
   },
   {
    "duration": 13,
    "start_time": "2025-03-02T10:52:15.598Z"
   },
   {
    "duration": 13,
    "start_time": "2025-03-02T10:52:15.792Z"
   },
   {
    "duration": 13,
    "start_time": "2025-03-02T10:52:16.012Z"
   },
   {
    "duration": 9,
    "start_time": "2025-03-02T10:52:16.337Z"
   },
   {
    "duration": 209,
    "start_time": "2025-03-02T10:52:17.587Z"
   },
   {
    "duration": 65,
    "start_time": "2025-03-02T10:52:18.006Z"
   },
   {
    "duration": 159,
    "start_time": "2025-03-02T10:52:18.740Z"
   },
   {
    "duration": 72,
    "start_time": "2025-03-02T10:52:19.960Z"
   },
   {
    "duration": 266,
    "start_time": "2025-03-02T10:52:21.954Z"
   },
   {
    "duration": 70,
    "start_time": "2025-03-02T10:52:23.345Z"
   },
   {
    "duration": 384,
    "start_time": "2025-03-02T10:52:23.886Z"
   },
   {
    "duration": 67,
    "start_time": "2025-03-02T10:52:24.936Z"
   },
   {
    "duration": 314,
    "start_time": "2025-03-02T10:52:25.429Z"
   },
   {
    "duration": 26,
    "start_time": "2025-03-02T10:52:27.478Z"
   },
   {
    "duration": 69,
    "start_time": "2025-03-02T10:52:28.182Z"
   },
   {
    "duration": 13,
    "start_time": "2025-03-02T10:52:28.634Z"
   },
   {
    "duration": 14,
    "start_time": "2025-03-02T10:53:05.287Z"
   },
   {
    "duration": 14,
    "start_time": "2025-03-02T10:53:06.955Z"
   },
   {
    "duration": 1141,
    "start_time": "2025-03-02T10:54:12.349Z"
   },
   {
    "duration": 19,
    "start_time": "2025-03-02T10:54:13.492Z"
   },
   {
    "duration": 34,
    "start_time": "2025-03-02T10:54:13.513Z"
   },
   {
    "duration": 56,
    "start_time": "2025-03-02T10:54:13.549Z"
   },
   {
    "duration": 52,
    "start_time": "2025-03-02T10:54:13.606Z"
   },
   {
    "duration": 14,
    "start_time": "2025-03-02T10:54:13.659Z"
   },
   {
    "duration": 37,
    "start_time": "2025-03-02T10:54:13.674Z"
   },
   {
    "duration": 48,
    "start_time": "2025-03-02T10:54:13.713Z"
   },
   {
    "duration": 63,
    "start_time": "2025-03-02T10:54:13.762Z"
   },
   {
    "duration": 12,
    "start_time": "2025-03-02T10:54:13.830Z"
   },
   {
    "duration": 7,
    "start_time": "2025-03-02T10:54:13.844Z"
   },
   {
    "duration": 262,
    "start_time": "2025-03-02T10:54:13.853Z"
   },
   {
    "duration": 80,
    "start_time": "2025-03-02T10:54:14.117Z"
   },
   {
    "duration": 0,
    "start_time": "2025-03-02T10:54:14.198Z"
   },
   {
    "duration": 0,
    "start_time": "2025-03-02T10:54:14.199Z"
   },
   {
    "duration": 0,
    "start_time": "2025-03-02T10:54:14.200Z"
   },
   {
    "duration": 0,
    "start_time": "2025-03-02T10:54:14.201Z"
   },
   {
    "duration": 0,
    "start_time": "2025-03-02T10:54:14.202Z"
   },
   {
    "duration": 0,
    "start_time": "2025-03-02T10:54:14.203Z"
   },
   {
    "duration": 0,
    "start_time": "2025-03-02T10:54:14.205Z"
   },
   {
    "duration": 0,
    "start_time": "2025-03-02T10:54:14.206Z"
   },
   {
    "duration": 0,
    "start_time": "2025-03-02T10:54:14.207Z"
   },
   {
    "duration": 0,
    "start_time": "2025-03-02T10:54:14.208Z"
   },
   {
    "duration": 0,
    "start_time": "2025-03-02T10:54:14.217Z"
   },
   {
    "duration": 0,
    "start_time": "2025-03-02T10:54:14.219Z"
   },
   {
    "duration": 1,
    "start_time": "2025-03-02T10:54:14.221Z"
   },
   {
    "duration": 0,
    "start_time": "2025-03-02T10:54:14.223Z"
   },
   {
    "duration": 0,
    "start_time": "2025-03-02T10:54:14.224Z"
   },
   {
    "duration": 0,
    "start_time": "2025-03-02T10:54:14.226Z"
   },
   {
    "duration": 0,
    "start_time": "2025-03-02T10:54:14.227Z"
   },
   {
    "duration": 0,
    "start_time": "2025-03-02T10:54:14.229Z"
   },
   {
    "duration": 143,
    "start_time": "2025-03-02T10:54:36.001Z"
   },
   {
    "duration": 85,
    "start_time": "2025-03-02T10:54:37.186Z"
   },
   {
    "duration": 272,
    "start_time": "2025-03-02T10:54:37.827Z"
   },
   {
    "duration": 69,
    "start_time": "2025-03-02T10:54:39.444Z"
   },
   {
    "duration": 310,
    "start_time": "2025-03-02T10:54:39.952Z"
   },
   {
    "duration": 98,
    "start_time": "2025-03-02T10:54:40.835Z"
   },
   {
    "duration": 321,
    "start_time": "2025-03-02T10:54:41.202Z"
   },
   {
    "duration": 40,
    "start_time": "2025-03-02T10:54:43.102Z"
   },
   {
    "duration": 16,
    "start_time": "2025-03-02T10:54:43.784Z"
   },
   {
    "duration": 27,
    "start_time": "2025-03-02T10:54:44.102Z"
   },
   {
    "duration": 112,
    "start_time": "2025-03-02T10:54:46.330Z"
   },
   {
    "duration": 18,
    "start_time": "2025-03-02T10:54:47.504Z"
   },
   {
    "duration": 9,
    "start_time": "2025-03-02T10:54:48.781Z"
   },
   {
    "duration": 48,
    "start_time": "2025-03-02T10:54:58.987Z"
   },
   {
    "duration": 99,
    "start_time": "2025-03-02T10:55:00.269Z"
   },
   {
    "duration": 16,
    "start_time": "2025-03-02T10:55:00.719Z"
   },
   {
    "duration": 13,
    "start_time": "2025-03-02T10:55:01.769Z"
   },
   {
    "duration": 13,
    "start_time": "2025-03-02T10:55:01.975Z"
   },
   {
    "duration": 7,
    "start_time": "2025-03-02T10:55:02.157Z"
   },
   {
    "duration": 7,
    "start_time": "2025-03-02T10:55:02.377Z"
   },
   {
    "duration": 191,
    "start_time": "2025-03-02T10:55:03.387Z"
   },
   {
    "duration": 166,
    "start_time": "2025-03-02T10:55:03.994Z"
   },
   {
    "duration": 263,
    "start_time": "2025-03-02T10:55:10.585Z"
   },
   {
    "duration": 305,
    "start_time": "2025-03-02T10:55:15.372Z"
   },
   {
    "duration": 71,
    "start_time": "2025-03-02T10:55:16.985Z"
   },
   {
    "duration": 332,
    "start_time": "2025-03-02T10:55:22.418Z"
   },
   {
    "duration": 45,
    "start_time": "2025-03-02T10:55:24.420Z"
   },
   {
    "duration": 16,
    "start_time": "2025-03-02T10:55:25.634Z"
   },
   {
    "duration": 20,
    "start_time": "2025-03-02T10:55:26.151Z"
   },
   {
    "duration": 12,
    "start_time": "2025-03-02T10:55:28.173Z"
   },
   {
    "duration": 15,
    "start_time": "2025-03-02T10:55:53.749Z"
   },
   {
    "duration": 15,
    "start_time": "2025-03-02T10:55:54.351Z"
   },
   {
    "duration": 362,
    "start_time": "2025-03-02T10:55:55.962Z"
   },
   {
    "duration": 323,
    "start_time": "2025-03-02T10:55:57.286Z"
   },
   {
    "duration": 11,
    "start_time": "2025-03-02T10:55:58.619Z"
   },
   {
    "duration": 608,
    "start_time": "2025-03-02T10:56:00.739Z"
   },
   {
    "duration": 592,
    "start_time": "2025-03-02T10:56:23.273Z"
   },
   {
    "duration": 9,
    "start_time": "2025-03-02T10:56:24.025Z"
   },
   {
    "duration": 14,
    "start_time": "2025-03-02T11:02:07.153Z"
   },
   {
    "duration": 14,
    "start_time": "2025-03-02T11:03:03.784Z"
   },
   {
    "duration": 110,
    "start_time": "2025-03-02T11:05:42.885Z"
   },
   {
    "duration": 24,
    "start_time": "2025-03-02T11:05:47.068Z"
   },
   {
    "duration": 37,
    "start_time": "2025-03-02T11:06:08.221Z"
   },
   {
    "duration": 22,
    "start_time": "2025-03-02T11:06:31.585Z"
   },
   {
    "duration": 26,
    "start_time": "2025-03-02T11:06:38.348Z"
   },
   {
    "duration": 5,
    "start_time": "2025-03-02T11:12:15.017Z"
   },
   {
    "duration": 10,
    "start_time": "2025-03-02T11:12:21.169Z"
   },
   {
    "duration": 18,
    "start_time": "2025-03-02T11:12:43.635Z"
   },
   {
    "duration": 18,
    "start_time": "2025-03-02T11:12:53.033Z"
   },
   {
    "duration": 23,
    "start_time": "2025-03-02T11:13:35.365Z"
   },
   {
    "duration": 29,
    "start_time": "2025-03-02T11:17:51.461Z"
   },
   {
    "duration": 24,
    "start_time": "2025-03-02T11:17:59.629Z"
   },
   {
    "duration": 27,
    "start_time": "2025-03-02T11:19:17.501Z"
   },
   {
    "duration": 26,
    "start_time": "2025-03-02T11:20:04.306Z"
   },
   {
    "duration": 26,
    "start_time": "2025-03-02T11:21:00.104Z"
   },
   {
    "duration": 44,
    "start_time": "2025-03-02T11:24:38.968Z"
   },
   {
    "duration": 51,
    "start_time": "2025-03-02T11:25:01.751Z"
   },
   {
    "duration": 21,
    "start_time": "2025-03-02T11:31:51.594Z"
   },
   {
    "duration": 54,
    "start_time": "2025-03-02T11:32:26.167Z"
   },
   {
    "duration": 54,
    "start_time": "2025-03-02T11:37:12.400Z"
   },
   {
    "duration": 47,
    "start_time": "2025-03-02T11:37:48.373Z"
   },
   {
    "duration": 59,
    "start_time": "2025-03-02T11:39:52.199Z"
   },
   {
    "duration": 49,
    "start_time": "2025-03-02T11:40:55.701Z"
   },
   {
    "duration": 46,
    "start_time": "2025-03-02T11:52:43.377Z"
   },
   {
    "duration": 47,
    "start_time": "2025-03-02T11:53:47.592Z"
   },
   {
    "duration": 48,
    "start_time": "2025-03-02T11:54:51.441Z"
   },
   {
    "duration": 35,
    "start_time": "2025-03-02T11:55:54.259Z"
   },
   {
    "duration": 52,
    "start_time": "2025-03-02T11:57:12.210Z"
   },
   {
    "duration": 76,
    "start_time": "2025-03-02T11:59:04.407Z"
   },
   {
    "duration": 44,
    "start_time": "2025-03-02T11:59:16.039Z"
   },
   {
    "duration": 19,
    "start_time": "2025-03-02T12:00:36.883Z"
   },
   {
    "duration": 46,
    "start_time": "2025-03-02T12:05:24.122Z"
   },
   {
    "duration": 45,
    "start_time": "2025-03-02T12:05:34.752Z"
   },
   {
    "duration": 1186,
    "start_time": "2025-03-02T12:11:13.815Z"
   },
   {
    "duration": 44,
    "start_time": "2025-03-02T12:12:11.454Z"
   },
   {
    "duration": 1120,
    "start_time": "2025-03-02T12:12:42.501Z"
   },
   {
    "duration": 45,
    "start_time": "2025-03-02T12:13:06.049Z"
   },
   {
    "duration": 43,
    "start_time": "2025-03-02T12:13:29.437Z"
   },
   {
    "duration": 39,
    "start_time": "2025-03-02T12:13:47.322Z"
   },
   {
    "duration": 43,
    "start_time": "2025-03-02T12:13:53.671Z"
   },
   {
    "duration": 1038,
    "start_time": "2025-03-02T12:14:46.632Z"
   },
   {
    "duration": 18,
    "start_time": "2025-03-02T12:14:47.672Z"
   },
   {
    "duration": 28,
    "start_time": "2025-03-02T12:14:47.691Z"
   },
   {
    "duration": 15,
    "start_time": "2025-03-02T12:14:47.720Z"
   },
   {
    "duration": 42,
    "start_time": "2025-03-02T12:14:47.737Z"
   },
   {
    "duration": 29,
    "start_time": "2025-03-02T12:14:47.780Z"
   },
   {
    "duration": 11,
    "start_time": "2025-03-02T12:14:47.811Z"
   },
   {
    "duration": 10,
    "start_time": "2025-03-02T12:14:47.824Z"
   },
   {
    "duration": 19,
    "start_time": "2025-03-02T12:14:47.836Z"
   },
   {
    "duration": 8,
    "start_time": "2025-03-02T12:14:47.856Z"
   },
   {
    "duration": 7,
    "start_time": "2025-03-02T12:14:47.865Z"
   },
   {
    "duration": 284,
    "start_time": "2025-03-02T12:14:47.874Z"
   },
   {
    "duration": 146,
    "start_time": "2025-03-02T12:14:48.160Z"
   },
   {
    "duration": 250,
    "start_time": "2025-03-02T12:14:48.309Z"
   },
   {
    "duration": 301,
    "start_time": "2025-03-02T12:14:48.561Z"
   },
   {
    "duration": 288,
    "start_time": "2025-03-02T12:14:48.864Z"
   },
   {
    "duration": 28,
    "start_time": "2025-03-02T12:14:49.154Z"
   },
   {
    "duration": 31,
    "start_time": "2025-03-02T12:14:49.183Z"
   },
   {
    "duration": 12,
    "start_time": "2025-03-02T12:14:49.216Z"
   },
   {
    "duration": 349,
    "start_time": "2025-03-02T12:14:49.229Z"
   },
   {
    "duration": 288,
    "start_time": "2025-03-02T12:14:49.579Z"
   },
   {
    "duration": 7,
    "start_time": "2025-03-02T12:14:49.868Z"
   },
   {
    "duration": 639,
    "start_time": "2025-03-02T12:14:49.877Z"
   },
   {
    "duration": 6,
    "start_time": "2025-03-02T12:14:50.518Z"
   },
   {
    "duration": 15,
    "start_time": "2025-03-02T12:14:50.526Z"
   },
   {
    "duration": 30,
    "start_time": "2025-03-02T12:14:50.543Z"
   },
   {
    "duration": 71,
    "start_time": "2025-03-02T12:14:50.574Z"
   },
   {
    "duration": 67,
    "start_time": "2025-03-02T12:14:50.647Z"
   },
   {
    "duration": 0,
    "start_time": "2025-03-02T12:14:50.715Z"
   },
   {
    "duration": 0,
    "start_time": "2025-03-02T12:14:50.716Z"
   },
   {
    "duration": 16,
    "start_time": "2025-03-02T12:18:49.515Z"
   },
   {
    "duration": 32,
    "start_time": "2025-03-02T12:19:48.732Z"
   },
   {
    "duration": 19,
    "start_time": "2025-03-02T12:20:02.132Z"
   },
   {
    "duration": 41,
    "start_time": "2025-03-02T12:39:02.344Z"
   },
   {
    "duration": 31,
    "start_time": "2025-03-02T12:39:50.625Z"
   },
   {
    "duration": 24,
    "start_time": "2025-03-02T12:40:03.605Z"
   },
   {
    "duration": 53,
    "start_time": "2025-03-02T12:41:17.513Z"
   },
   {
    "duration": 53,
    "start_time": "2025-03-02T12:42:24.643Z"
   },
   {
    "duration": 51,
    "start_time": "2025-03-02T12:42:54.205Z"
   },
   {
    "duration": 23,
    "start_time": "2025-03-02T12:50:46.390Z"
   },
   {
    "duration": 26,
    "start_time": "2025-03-02T12:51:03.139Z"
   },
   {
    "duration": 93,
    "start_time": "2025-03-02T12:52:31.674Z"
   },
   {
    "duration": 1276,
    "start_time": "2025-03-02T12:52:46.897Z"
   },
   {
    "duration": 3,
    "start_time": "2025-03-02T12:53:26.031Z"
   },
   {
    "duration": 4,
    "start_time": "2025-03-02T12:53:43.423Z"
   },
   {
    "duration": 49,
    "start_time": "2025-03-02T12:54:52.017Z"
   },
   {
    "duration": 43,
    "start_time": "2025-03-02T12:55:59.410Z"
   },
   {
    "duration": 42,
    "start_time": "2025-03-02T12:58:40.441Z"
   },
   {
    "duration": 8,
    "start_time": "2025-03-02T12:59:19.022Z"
   },
   {
    "duration": 14,
    "start_time": "2025-03-02T13:01:25.698Z"
   },
   {
    "duration": 16,
    "start_time": "2025-03-02T13:02:17.155Z"
   },
   {
    "duration": 1028,
    "start_time": "2025-03-02T13:02:27.337Z"
   },
   {
    "duration": 18,
    "start_time": "2025-03-02T13:02:28.367Z"
   },
   {
    "duration": 33,
    "start_time": "2025-03-02T13:02:28.386Z"
   },
   {
    "duration": 58,
    "start_time": "2025-03-02T13:02:28.421Z"
   },
   {
    "duration": 44,
    "start_time": "2025-03-02T13:02:28.481Z"
   },
   {
    "duration": 15,
    "start_time": "2025-03-02T13:02:28.527Z"
   },
   {
    "duration": 11,
    "start_time": "2025-03-02T13:02:28.544Z"
   },
   {
    "duration": 11,
    "start_time": "2025-03-02T13:02:28.556Z"
   },
   {
    "duration": 49,
    "start_time": "2025-03-02T13:02:28.569Z"
   },
   {
    "duration": 11,
    "start_time": "2025-03-02T13:02:28.620Z"
   },
   {
    "duration": 10,
    "start_time": "2025-03-02T13:02:28.633Z"
   },
   {
    "duration": 263,
    "start_time": "2025-03-02T13:02:28.647Z"
   },
   {
    "duration": 155,
    "start_time": "2025-03-02T13:02:28.912Z"
   },
   {
    "duration": 265,
    "start_time": "2025-03-02T13:02:29.070Z"
   },
   {
    "duration": 287,
    "start_time": "2025-03-02T13:02:29.336Z"
   },
   {
    "duration": 290,
    "start_time": "2025-03-02T13:02:29.624Z"
   },
   {
    "duration": 27,
    "start_time": "2025-03-02T13:02:29.915Z"
   },
   {
    "duration": 16,
    "start_time": "2025-03-02T13:02:29.944Z"
   },
   {
    "duration": 13,
    "start_time": "2025-03-02T13:02:29.961Z"
   },
   {
    "duration": 372,
    "start_time": "2025-03-02T13:02:29.975Z"
   },
   {
    "duration": 283,
    "start_time": "2025-03-02T13:02:30.348Z"
   },
   {
    "duration": 6,
    "start_time": "2025-03-02T13:02:30.632Z"
   },
   {
    "duration": 539,
    "start_time": "2025-03-02T13:02:30.639Z"
   },
   {
    "duration": 5,
    "start_time": "2025-03-02T13:02:31.180Z"
   },
   {
    "duration": 25,
    "start_time": "2025-03-02T13:02:31.186Z"
   },
   {
    "duration": 25,
    "start_time": "2025-03-02T13:02:31.212Z"
   },
   {
    "duration": 57,
    "start_time": "2025-03-02T13:02:31.239Z"
   },
   {
    "duration": 62,
    "start_time": "2025-03-02T13:02:31.298Z"
   },
   {
    "duration": 0,
    "start_time": "2025-03-02T13:02:31.362Z"
   },
   {
    "duration": 0,
    "start_time": "2025-03-02T13:02:31.363Z"
   },
   {
    "duration": 46,
    "start_time": "2025-03-02T13:02:45.331Z"
   },
   {
    "duration": 99,
    "start_time": "2025-03-02T13:02:46.700Z"
   },
   {
    "duration": 17,
    "start_time": "2025-03-02T13:03:21.953Z"
   },
   {
    "duration": 11,
    "start_time": "2025-03-02T13:04:52.622Z"
   },
   {
    "duration": 24,
    "start_time": "2025-03-02T13:50:29.258Z"
   },
   {
    "duration": 1155,
    "start_time": "2025-03-02T13:50:39.373Z"
   },
   {
    "duration": 18,
    "start_time": "2025-03-02T13:50:40.530Z"
   },
   {
    "duration": 113,
    "start_time": "2025-03-02T13:50:40.550Z"
   },
   {
    "duration": 15,
    "start_time": "2025-03-02T13:50:40.665Z"
   },
   {
    "duration": 50,
    "start_time": "2025-03-02T13:50:40.681Z"
   },
   {
    "duration": 20,
    "start_time": "2025-03-02T13:50:40.733Z"
   },
   {
    "duration": 10,
    "start_time": "2025-03-02T13:50:40.755Z"
   },
   {
    "duration": 12,
    "start_time": "2025-03-02T13:50:40.766Z"
   },
   {
    "duration": 41,
    "start_time": "2025-03-02T13:50:40.780Z"
   },
   {
    "duration": 11,
    "start_time": "2025-03-02T13:50:40.825Z"
   },
   {
    "duration": 9,
    "start_time": "2025-03-02T13:50:40.838Z"
   },
   {
    "duration": 238,
    "start_time": "2025-03-02T13:50:40.849Z"
   },
   {
    "duration": 171,
    "start_time": "2025-03-02T13:50:41.089Z"
   },
   {
    "duration": 291,
    "start_time": "2025-03-02T13:50:41.262Z"
   },
   {
    "duration": 303,
    "start_time": "2025-03-02T13:50:41.554Z"
   },
   {
    "duration": 305,
    "start_time": "2025-03-02T13:50:41.858Z"
   },
   {
    "duration": 27,
    "start_time": "2025-03-02T13:50:42.164Z"
   },
   {
    "duration": 36,
    "start_time": "2025-03-02T13:50:42.193Z"
   },
   {
    "duration": 16,
    "start_time": "2025-03-02T13:50:42.230Z"
   },
   {
    "duration": 408,
    "start_time": "2025-03-02T13:50:42.248Z"
   },
   {
    "duration": 307,
    "start_time": "2025-03-02T13:50:42.658Z"
   },
   {
    "duration": 7,
    "start_time": "2025-03-02T13:50:42.968Z"
   },
   {
    "duration": 707,
    "start_time": "2025-03-02T13:50:42.977Z"
   },
   {
    "duration": 7,
    "start_time": "2025-03-02T13:50:43.686Z"
   },
   {
    "duration": 22,
    "start_time": "2025-03-02T13:50:43.710Z"
   },
   {
    "duration": 34,
    "start_time": "2025-03-02T13:50:43.734Z"
   },
   {
    "duration": 73,
    "start_time": "2025-03-02T13:50:43.770Z"
   },
   {
    "duration": 62,
    "start_time": "2025-03-02T13:50:43.846Z"
   },
   {
    "duration": 121,
    "start_time": "2025-03-02T13:50:43.910Z"
   },
   {
    "duration": 2,
    "start_time": "2025-03-02T13:51:07.485Z"
   },
   {
    "duration": 19,
    "start_time": "2025-03-02T13:51:08.401Z"
   },
   {
    "duration": 34,
    "start_time": "2025-03-02T13:51:08.595Z"
   },
   {
    "duration": 17,
    "start_time": "2025-03-02T13:51:08.777Z"
   },
   {
    "duration": 40,
    "start_time": "2025-03-02T13:51:09.149Z"
   },
   {
    "duration": 15,
    "start_time": "2025-03-02T13:51:09.832Z"
   },
   {
    "duration": 11,
    "start_time": "2025-03-02T13:51:10.174Z"
   },
   {
    "duration": 13,
    "start_time": "2025-03-02T13:51:11.080Z"
   },
   {
    "duration": 13,
    "start_time": "2025-03-02T13:51:11.257Z"
   },
   {
    "duration": 8,
    "start_time": "2025-03-02T13:51:11.459Z"
   },
   {
    "duration": 9,
    "start_time": "2025-03-02T13:51:11.625Z"
   },
   {
    "duration": 202,
    "start_time": "2025-03-02T13:51:12.535Z"
   },
   {
    "duration": 160,
    "start_time": "2025-03-02T13:51:13.093Z"
   },
   {
    "duration": 253,
    "start_time": "2025-03-02T13:51:13.938Z"
   },
   {
    "duration": 382,
    "start_time": "2025-03-02T13:51:14.735Z"
   },
   {
    "duration": 310,
    "start_time": "2025-03-02T13:51:15.308Z"
   },
   {
    "duration": 36,
    "start_time": "2025-03-02T13:51:16.135Z"
   },
   {
    "duration": 21,
    "start_time": "2025-03-02T13:51:16.903Z"
   },
   {
    "duration": 15,
    "start_time": "2025-03-02T13:51:17.092Z"
   },
   {
    "duration": 287,
    "start_time": "2025-03-02T13:51:17.848Z"
   },
   {
    "duration": 309,
    "start_time": "2025-03-02T13:51:18.137Z"
   },
   {
    "duration": 7,
    "start_time": "2025-03-02T13:51:18.448Z"
   },
   {
    "duration": 656,
    "start_time": "2025-03-02T13:51:18.886Z"
   },
   {
    "duration": 6,
    "start_time": "2025-03-02T13:51:19.544Z"
   },
   {
    "duration": 15,
    "start_time": "2025-03-02T13:51:20.720Z"
   },
   {
    "duration": 31,
    "start_time": "2025-03-02T13:51:24.189Z"
   },
   {
    "duration": 59,
    "start_time": "2025-03-02T13:51:27.691Z"
   },
   {
    "duration": 53,
    "start_time": "2025-03-02T13:51:29.386Z"
   },
   {
    "duration": 23,
    "start_time": "2025-03-02T13:51:30.788Z"
   },
   {
    "duration": 16,
    "start_time": "2025-03-02T13:51:48.724Z"
   },
   {
    "duration": 19,
    "start_time": "2025-03-02T13:53:13.497Z"
   },
   {
    "duration": 22,
    "start_time": "2025-03-02T13:53:22.298Z"
   },
   {
    "duration": 16,
    "start_time": "2025-03-02T13:54:01.082Z"
   },
   {
    "duration": 17,
    "start_time": "2025-03-02T13:54:24.973Z"
   },
   {
    "duration": 20,
    "start_time": "2025-03-02T13:56:30.706Z"
   },
   {
    "duration": 12,
    "start_time": "2025-03-02T13:58:12.164Z"
   },
   {
    "duration": 98,
    "start_time": "2025-03-02T14:01:30.191Z"
   },
   {
    "duration": 112,
    "start_time": "2025-03-02T14:08:58.930Z"
   },
   {
    "duration": 13,
    "start_time": "2025-03-02T14:09:15.458Z"
   },
   {
    "duration": 14,
    "start_time": "2025-03-02T14:22:19.242Z"
   },
   {
    "duration": 13,
    "start_time": "2025-03-02T14:22:42.682Z"
   },
   {
    "duration": 14,
    "start_time": "2025-03-02T14:23:49.257Z"
   },
   {
    "duration": 21,
    "start_time": "2025-03-02T14:30:54.364Z"
   },
   {
    "duration": 19,
    "start_time": "2025-03-02T14:31:13.213Z"
   },
   {
    "duration": 14,
    "start_time": "2025-03-02T14:32:58.436Z"
   },
   {
    "duration": 15,
    "start_time": "2025-03-02T14:33:11.121Z"
   },
   {
    "duration": 16,
    "start_time": "2025-03-02T14:33:25.737Z"
   },
   {
    "duration": 9,
    "start_time": "2025-03-02T14:33:40.643Z"
   },
   {
    "duration": 11,
    "start_time": "2025-03-02T14:35:10.081Z"
   },
   {
    "duration": 8,
    "start_time": "2025-03-02T14:35:26.543Z"
   },
   {
    "duration": 39,
    "start_time": "2025-03-02T14:36:01.148Z"
   },
   {
    "duration": 16,
    "start_time": "2025-03-02T15:48:15.822Z"
   },
   {
    "duration": 21,
    "start_time": "2025-03-02T15:53:26.866Z"
   },
   {
    "duration": 29,
    "start_time": "2025-03-02T15:53:42.524Z"
   },
   {
    "duration": 29,
    "start_time": "2025-03-02T15:55:09.438Z"
   },
   {
    "duration": 61,
    "start_time": "2025-03-02T15:57:53.365Z"
   },
   {
    "duration": 55,
    "start_time": "2025-03-02T15:59:23.758Z"
   },
   {
    "duration": 46,
    "start_time": "2025-03-02T16:01:08.028Z"
   },
   {
    "duration": 47,
    "start_time": "2025-03-02T16:01:59.520Z"
   },
   {
    "duration": 1530,
    "start_time": "2025-03-02T16:06:56.664Z"
   },
   {
    "duration": 1308,
    "start_time": "2025-03-02T16:12:04.510Z"
   },
   {
    "duration": 1522,
    "start_time": "2025-03-02T16:12:35.642Z"
   },
   {
    "duration": 47,
    "start_time": "2025-03-02T16:13:22.358Z"
   },
   {
    "duration": 49,
    "start_time": "2025-03-02T16:13:45.875Z"
   },
   {
    "duration": 58,
    "start_time": "2025-03-02T16:21:03.891Z"
   },
   {
    "duration": 53,
    "start_time": "2025-03-02T16:25:28.573Z"
   },
   {
    "duration": 49,
    "start_time": "2025-03-02T16:27:53.750Z"
   },
   {
    "duration": 14,
    "start_time": "2025-03-02T16:35:44.919Z"
   },
   {
    "duration": 11,
    "start_time": "2025-03-02T16:37:09.963Z"
   },
   {
    "duration": 1270,
    "start_time": "2025-03-02T16:47:36.569Z"
   },
   {
    "duration": 42,
    "start_time": "2025-03-02T16:50:26.193Z"
   },
   {
    "duration": 53,
    "start_time": "2025-03-02T16:50:42.984Z"
   },
   {
    "duration": 47,
    "start_time": "2025-03-02T16:51:09.962Z"
   },
   {
    "duration": 15,
    "start_time": "2025-03-02T16:51:22.895Z"
   },
   {
    "duration": 55,
    "start_time": "2025-03-02T16:58:34.848Z"
   },
   {
    "duration": 15,
    "start_time": "2025-03-02T17:00:07.406Z"
   },
   {
    "duration": 40,
    "start_time": "2025-03-02T17:00:23.522Z"
   },
   {
    "duration": 6,
    "start_time": "2025-03-02T17:01:57.258Z"
   },
   {
    "duration": 18,
    "start_time": "2025-03-02T17:04:31.255Z"
   },
   {
    "duration": 19,
    "start_time": "2025-03-02T17:04:39.387Z"
   },
   {
    "duration": 20,
    "start_time": "2025-03-02T17:05:08.959Z"
   },
   {
    "duration": 12,
    "start_time": "2025-03-02T17:06:06.121Z"
   },
   {
    "duration": 104,
    "start_time": "2025-03-02T17:10:50.755Z"
   },
   {
    "duration": 112,
    "start_time": "2025-03-02T17:11:17.472Z"
   },
   {
    "duration": 71,
    "start_time": "2025-03-02T17:12:42.885Z"
   },
   {
    "duration": 17,
    "start_time": "2025-03-02T17:12:44.599Z"
   },
   {
    "duration": 29,
    "start_time": "2025-03-02T17:12:44.960Z"
   },
   {
    "duration": 16,
    "start_time": "2025-03-02T17:12:45.208Z"
   },
   {
    "duration": 43,
    "start_time": "2025-03-02T17:12:45.645Z"
   },
   {
    "duration": 17,
    "start_time": "2025-03-02T17:12:46.567Z"
   },
   {
    "duration": 11,
    "start_time": "2025-03-02T17:12:47.063Z"
   },
   {
    "duration": 12,
    "start_time": "2025-03-02T17:12:48.335Z"
   },
   {
    "duration": 12,
    "start_time": "2025-03-02T17:12:48.575Z"
   },
   {
    "duration": 12,
    "start_time": "2025-03-02T17:12:48.809Z"
   },
   {
    "duration": 10,
    "start_time": "2025-03-02T17:12:49.022Z"
   },
   {
    "duration": 199,
    "start_time": "2025-03-02T17:12:50.125Z"
   },
   {
    "duration": 145,
    "start_time": "2025-03-02T17:12:50.819Z"
   },
   {
    "duration": 254,
    "start_time": "2025-03-02T17:12:51.479Z"
   },
   {
    "duration": 291,
    "start_time": "2025-03-02T17:12:52.460Z"
   },
   {
    "duration": 363,
    "start_time": "2025-03-02T17:12:53.121Z"
   },
   {
    "duration": 26,
    "start_time": "2025-03-02T17:12:54.041Z"
   },
   {
    "duration": 15,
    "start_time": "2025-03-02T17:12:55.133Z"
   },
   {
    "duration": 15,
    "start_time": "2025-03-02T17:12:55.543Z"
   },
   {
    "duration": 282,
    "start_time": "2025-03-02T17:12:57.197Z"
   },
   {
    "duration": 312,
    "start_time": "2025-03-02T17:12:57.482Z"
   },
   {
    "duration": 16,
    "start_time": "2025-03-02T17:12:57.797Z"
   },
   {
    "duration": 568,
    "start_time": "2025-03-02T17:12:58.569Z"
   },
   {
    "duration": 6,
    "start_time": "2025-03-02T17:12:59.139Z"
   },
   {
    "duration": 13,
    "start_time": "2025-03-02T17:12:59.560Z"
   },
   {
    "duration": 30,
    "start_time": "2025-03-02T17:13:00.637Z"
   },
   {
    "duration": 55,
    "start_time": "2025-03-02T17:13:01.439Z"
   },
   {
    "duration": 51,
    "start_time": "2025-03-02T17:13:02.945Z"
   },
   {
    "duration": 12,
    "start_time": "2025-03-02T17:13:03.619Z"
   },
   {
    "duration": 10,
    "start_time": "2025-03-02T17:13:05.166Z"
   },
   {
    "duration": 12,
    "start_time": "2025-03-02T17:13:06.569Z"
   },
   {
    "duration": 117,
    "start_time": "2025-03-02T17:13:09.594Z"
   },
   {
    "duration": 195,
    "start_time": "2025-03-02T17:15:05.829Z"
   },
   {
    "duration": 76,
    "start_time": "2025-03-02T17:22:50.193Z"
   },
   {
    "duration": 1189,
    "start_time": "2025-03-02T17:38:29.349Z"
   },
   {
    "duration": 18,
    "start_time": "2025-03-02T17:38:30.540Z"
   },
   {
    "duration": 113,
    "start_time": "2025-03-02T17:38:30.560Z"
   },
   {
    "duration": 16,
    "start_time": "2025-03-02T17:38:30.674Z"
   },
   {
    "duration": 46,
    "start_time": "2025-03-02T17:38:30.692Z"
   },
   {
    "duration": 15,
    "start_time": "2025-03-02T17:38:30.740Z"
   },
   {
    "duration": 10,
    "start_time": "2025-03-02T17:38:30.757Z"
   },
   {
    "duration": 45,
    "start_time": "2025-03-02T17:38:30.769Z"
   },
   {
    "duration": 13,
    "start_time": "2025-03-02T17:38:30.816Z"
   },
   {
    "duration": 15,
    "start_time": "2025-03-02T17:38:30.831Z"
   },
   {
    "duration": 22,
    "start_time": "2025-03-02T17:38:30.848Z"
   },
   {
    "duration": 248,
    "start_time": "2025-03-02T17:38:30.871Z"
   },
   {
    "duration": 156,
    "start_time": "2025-03-02T17:38:31.121Z"
   },
   {
    "duration": 265,
    "start_time": "2025-03-02T17:38:31.280Z"
   },
   {
    "duration": 292,
    "start_time": "2025-03-02T17:38:31.546Z"
   },
   {
    "duration": 291,
    "start_time": "2025-03-02T17:38:31.840Z"
   },
   {
    "duration": 27,
    "start_time": "2025-03-02T17:38:32.133Z"
   },
   {
    "duration": 17,
    "start_time": "2025-03-02T17:38:32.162Z"
   },
   {
    "duration": 35,
    "start_time": "2025-03-02T17:38:32.180Z"
   },
   {
    "duration": 396,
    "start_time": "2025-03-02T17:38:32.216Z"
   },
   {
    "duration": 304,
    "start_time": "2025-03-02T17:38:32.613Z"
   },
   {
    "duration": 9,
    "start_time": "2025-03-02T17:38:32.919Z"
   },
   {
    "duration": 598,
    "start_time": "2025-03-02T17:38:32.930Z"
   },
   {
    "duration": 6,
    "start_time": "2025-03-02T17:38:33.530Z"
   },
   {
    "duration": 18,
    "start_time": "2025-03-02T17:38:33.537Z"
   },
   {
    "duration": 43,
    "start_time": "2025-03-02T17:38:33.556Z"
   },
   {
    "duration": 61,
    "start_time": "2025-03-02T17:38:33.600Z"
   },
   {
    "duration": 67,
    "start_time": "2025-03-02T17:38:33.662Z"
   },
   {
    "duration": 11,
    "start_time": "2025-03-02T17:38:33.731Z"
   },
   {
    "duration": 30,
    "start_time": "2025-03-02T17:38:33.744Z"
   },
   {
    "duration": 14,
    "start_time": "2025-03-02T17:38:33.776Z"
   },
   {
    "duration": 1185,
    "start_time": "2025-03-02T18:09:06.846Z"
   },
   {
    "duration": 29,
    "start_time": "2025-03-02T18:09:08.033Z"
   },
   {
    "duration": 34,
    "start_time": "2025-03-02T18:09:08.064Z"
   },
   {
    "duration": 16,
    "start_time": "2025-03-02T18:09:08.100Z"
   },
   {
    "duration": 62,
    "start_time": "2025-03-02T18:09:08.118Z"
   },
   {
    "duration": 30,
    "start_time": "2025-03-02T18:09:08.182Z"
   },
   {
    "duration": 12,
    "start_time": "2025-03-02T18:09:08.214Z"
   },
   {
    "duration": 15,
    "start_time": "2025-03-02T18:09:08.228Z"
   },
   {
    "duration": 18,
    "start_time": "2025-03-02T18:09:08.245Z"
   },
   {
    "duration": 48,
    "start_time": "2025-03-02T18:09:08.266Z"
   },
   {
    "duration": 9,
    "start_time": "2025-03-02T18:09:08.315Z"
   },
   {
    "duration": 291,
    "start_time": "2025-03-02T18:09:08.325Z"
   },
   {
    "duration": 168,
    "start_time": "2025-03-02T18:09:08.617Z"
   },
   {
    "duration": 341,
    "start_time": "2025-03-02T18:09:08.786Z"
   },
   {
    "duration": 335,
    "start_time": "2025-03-02T18:09:09.129Z"
   },
   {
    "duration": 310,
    "start_time": "2025-03-02T18:09:09.465Z"
   },
   {
    "duration": 42,
    "start_time": "2025-03-02T18:09:09.777Z"
   },
   {
    "duration": 17,
    "start_time": "2025-03-02T18:09:09.821Z"
   },
   {
    "duration": 17,
    "start_time": "2025-03-02T18:09:09.840Z"
   },
   {
    "duration": 415,
    "start_time": "2025-03-02T18:09:09.858Z"
   },
   {
    "duration": 305,
    "start_time": "2025-03-02T18:09:10.275Z"
   },
   {
    "duration": 598,
    "start_time": "2025-03-02T18:09:10.582Z"
   },
   {
    "duration": 38,
    "start_time": "2025-03-02T18:09:11.182Z"
   },
   {
    "duration": 30,
    "start_time": "2025-03-02T18:09:11.223Z"
   },
   {
    "duration": 76,
    "start_time": "2025-03-02T18:09:11.254Z"
   },
   {
    "duration": 78,
    "start_time": "2025-03-02T18:09:11.332Z"
   },
   {
    "duration": 15,
    "start_time": "2025-03-02T18:09:11.412Z"
   },
   {
    "duration": 10,
    "start_time": "2025-03-02T18:09:11.431Z"
   },
   {
    "duration": 12,
    "start_time": "2025-03-02T18:09:11.443Z"
   },
   {
    "duration": 4,
    "start_time": "2025-03-02T18:11:52.395Z"
   },
   {
    "duration": 1238,
    "start_time": "2025-03-02T18:12:00.985Z"
   },
   {
    "duration": 20,
    "start_time": "2025-03-02T18:12:02.225Z"
   },
   {
    "duration": 29,
    "start_time": "2025-03-02T18:12:02.250Z"
   },
   {
    "duration": 21,
    "start_time": "2025-03-02T18:12:02.282Z"
   },
   {
    "duration": 97,
    "start_time": "2025-03-02T18:12:02.305Z"
   },
   {
    "duration": 22,
    "start_time": "2025-03-02T18:12:02.405Z"
   },
   {
    "duration": 16,
    "start_time": "2025-03-02T18:12:02.429Z"
   },
   {
    "duration": 12,
    "start_time": "2025-03-02T18:12:02.446Z"
   },
   {
    "duration": 14,
    "start_time": "2025-03-02T18:12:02.460Z"
   },
   {
    "duration": 38,
    "start_time": "2025-03-02T18:12:02.477Z"
   },
   {
    "duration": 15,
    "start_time": "2025-03-02T18:12:02.518Z"
   },
   {
    "duration": 254,
    "start_time": "2025-03-02T18:12:02.535Z"
   },
   {
    "duration": 181,
    "start_time": "2025-03-02T18:12:02.791Z"
   },
   {
    "duration": 352,
    "start_time": "2025-03-02T18:12:02.974Z"
   },
   {
    "duration": 338,
    "start_time": "2025-03-02T18:12:03.327Z"
   },
   {
    "duration": 366,
    "start_time": "2025-03-02T18:12:03.667Z"
   },
   {
    "duration": 42,
    "start_time": "2025-03-02T18:12:04.034Z"
   },
   {
    "duration": 45,
    "start_time": "2025-03-02T18:12:04.078Z"
   },
   {
    "duration": 23,
    "start_time": "2025-03-02T18:12:04.125Z"
   },
   {
    "duration": 430,
    "start_time": "2025-03-02T18:12:04.150Z"
   },
   {
    "duration": 352,
    "start_time": "2025-03-02T18:12:04.582Z"
   },
   {
    "duration": 632,
    "start_time": "2025-03-02T18:12:04.936Z"
   },
   {
    "duration": 14,
    "start_time": "2025-03-02T18:12:05.569Z"
   },
   {
    "duration": 80,
    "start_time": "2025-03-02T18:12:05.584Z"
   },
   {
    "duration": 102,
    "start_time": "2025-03-02T18:12:05.666Z"
   },
   {
    "duration": 81,
    "start_time": "2025-03-02T18:12:05.770Z"
   },
   {
    "duration": 13,
    "start_time": "2025-03-02T18:12:05.853Z"
   },
   {
    "duration": 27,
    "start_time": "2025-03-02T18:12:05.869Z"
   },
   {
    "duration": 42,
    "start_time": "2025-03-02T18:12:05.898Z"
   },
   {
    "duration": 14,
    "start_time": "2025-03-02T18:16:52.633Z"
   },
   {
    "duration": 1226,
    "start_time": "2025-03-02T18:16:59.433Z"
   },
   {
    "duration": 19,
    "start_time": "2025-03-02T18:17:00.661Z"
   },
   {
    "duration": 36,
    "start_time": "2025-03-02T18:17:00.681Z"
   },
   {
    "duration": 19,
    "start_time": "2025-03-02T18:17:00.721Z"
   },
   {
    "duration": 57,
    "start_time": "2025-03-02T18:17:00.742Z"
   },
   {
    "duration": 29,
    "start_time": "2025-03-02T18:17:00.802Z"
   },
   {
    "duration": 12,
    "start_time": "2025-03-02T18:17:00.832Z"
   },
   {
    "duration": 14,
    "start_time": "2025-03-02T18:17:00.845Z"
   },
   {
    "duration": 16,
    "start_time": "2025-03-02T18:17:00.861Z"
   },
   {
    "duration": 11,
    "start_time": "2025-03-02T18:17:00.911Z"
   },
   {
    "duration": 13,
    "start_time": "2025-03-02T18:17:00.924Z"
   },
   {
    "duration": 256,
    "start_time": "2025-03-02T18:17:00.938Z"
   },
   {
    "duration": 182,
    "start_time": "2025-03-02T18:17:01.196Z"
   },
   {
    "duration": 305,
    "start_time": "2025-03-02T18:17:01.380Z"
   },
   {
    "duration": 329,
    "start_time": "2025-03-02T18:17:01.686Z"
   },
   {
    "duration": 365,
    "start_time": "2025-03-02T18:17:02.023Z"
   },
   {
    "duration": 53,
    "start_time": "2025-03-02T18:17:02.390Z"
   },
   {
    "duration": 21,
    "start_time": "2025-03-02T18:17:02.445Z"
   },
   {
    "duration": 15,
    "start_time": "2025-03-02T18:17:02.467Z"
   },
   {
    "duration": 408,
    "start_time": "2025-03-02T18:17:02.484Z"
   },
   {
    "duration": 342,
    "start_time": "2025-03-02T18:17:02.894Z"
   },
   {
    "duration": 605,
    "start_time": "2025-03-02T18:17:03.237Z"
   },
   {
    "duration": 13,
    "start_time": "2025-03-02T18:17:03.844Z"
   },
   {
    "duration": 29,
    "start_time": "2025-03-02T18:17:03.859Z"
   },
   {
    "duration": 65,
    "start_time": "2025-03-02T18:17:03.909Z"
   },
   {
    "duration": 77,
    "start_time": "2025-03-02T18:17:03.975Z"
   },
   {
    "duration": 66,
    "start_time": "2025-03-02T18:17:04.053Z"
   },
   {
    "duration": 32,
    "start_time": "2025-03-02T18:17:04.125Z"
   },
   {
    "duration": 35,
    "start_time": "2025-03-02T18:17:04.159Z"
   },
   {
    "duration": 1439,
    "start_time": "2025-03-02T18:37:56.642Z"
   },
   {
    "duration": 31,
    "start_time": "2025-03-02T18:37:58.083Z"
   },
   {
    "duration": 71,
    "start_time": "2025-03-02T18:37:58.116Z"
   },
   {
    "duration": 44,
    "start_time": "2025-03-02T18:37:58.189Z"
   },
   {
    "duration": 49,
    "start_time": "2025-03-02T18:37:58.235Z"
   },
   {
    "duration": 15,
    "start_time": "2025-03-02T18:37:58.286Z"
   },
   {
    "duration": 11,
    "start_time": "2025-03-02T18:37:58.303Z"
   },
   {
    "duration": 28,
    "start_time": "2025-03-02T18:37:58.315Z"
   },
   {
    "duration": 13,
    "start_time": "2025-03-02T18:37:58.345Z"
   },
   {
    "duration": 13,
    "start_time": "2025-03-02T18:37:58.359Z"
   },
   {
    "duration": 7,
    "start_time": "2025-03-02T18:37:58.374Z"
   },
   {
    "duration": 230,
    "start_time": "2025-03-02T18:37:58.401Z"
   },
   {
    "duration": 164,
    "start_time": "2025-03-02T18:37:58.632Z"
   },
   {
    "duration": 280,
    "start_time": "2025-03-02T18:37:58.804Z"
   },
   {
    "duration": 319,
    "start_time": "2025-03-02T18:37:59.085Z"
   },
   {
    "duration": 326,
    "start_time": "2025-03-02T18:37:59.405Z"
   },
   {
    "duration": 32,
    "start_time": "2025-03-02T18:37:59.732Z"
   },
   {
    "duration": 38,
    "start_time": "2025-03-02T18:37:59.765Z"
   },
   {
    "duration": 74,
    "start_time": "2025-03-02T18:37:59.805Z"
   },
   {
    "duration": 372,
    "start_time": "2025-03-02T18:37:59.880Z"
   },
   {
    "duration": 310,
    "start_time": "2025-03-02T18:38:00.254Z"
   },
   {
    "duration": 583,
    "start_time": "2025-03-02T18:38:00.566Z"
   },
   {
    "duration": 14,
    "start_time": "2025-03-02T18:38:01.150Z"
   },
   {
    "duration": 45,
    "start_time": "2025-03-02T18:38:01.165Z"
   },
   {
    "duration": 88,
    "start_time": "2025-03-02T18:38:01.212Z"
   },
   {
    "duration": 51,
    "start_time": "2025-03-02T18:38:01.302Z"
   },
   {
    "duration": 11,
    "start_time": "2025-03-02T18:38:01.354Z"
   },
   {
    "duration": 71,
    "start_time": "2025-03-02T18:38:01.367Z"
   },
   {
    "duration": 11,
    "start_time": "2025-03-02T18:38:01.440Z"
   },
   {
    "duration": 1250,
    "start_time": "2025-03-02T19:49:36.385Z"
   },
   {
    "duration": 18,
    "start_time": "2025-03-02T19:49:37.637Z"
   },
   {
    "duration": 41,
    "start_time": "2025-03-02T19:49:37.657Z"
   },
   {
    "duration": 16,
    "start_time": "2025-03-02T19:49:37.700Z"
   },
   {
    "duration": 63,
    "start_time": "2025-03-02T19:49:37.718Z"
   },
   {
    "duration": 16,
    "start_time": "2025-03-02T19:49:37.782Z"
   },
   {
    "duration": 12,
    "start_time": "2025-03-02T19:49:37.799Z"
   },
   {
    "duration": 37,
    "start_time": "2025-03-02T19:49:37.813Z"
   },
   {
    "duration": 41,
    "start_time": "2025-03-02T19:49:37.852Z"
   },
   {
    "duration": 123,
    "start_time": "2025-03-02T19:49:37.895Z"
   },
   {
    "duration": 9,
    "start_time": "2025-03-02T19:49:38.019Z"
   },
   {
    "duration": 222,
    "start_time": "2025-03-02T19:49:38.029Z"
   },
   {
    "duration": 163,
    "start_time": "2025-03-02T19:49:38.253Z"
   },
   {
    "duration": 272,
    "start_time": "2025-03-02T19:49:38.419Z"
   },
   {
    "duration": 312,
    "start_time": "2025-03-02T19:49:38.693Z"
   },
   {
    "duration": 302,
    "start_time": "2025-03-02T19:49:39.007Z"
   },
   {
    "duration": 29,
    "start_time": "2025-03-02T19:49:39.310Z"
   },
   {
    "duration": 17,
    "start_time": "2025-03-02T19:49:39.341Z"
   },
   {
    "duration": 43,
    "start_time": "2025-03-02T19:49:39.359Z"
   },
   {
    "duration": 372,
    "start_time": "2025-03-02T19:49:39.404Z"
   },
   {
    "duration": 302,
    "start_time": "2025-03-02T19:49:39.777Z"
   },
   {
    "duration": 576,
    "start_time": "2025-03-02T19:49:40.081Z"
   },
   {
    "duration": 15,
    "start_time": "2025-03-02T19:49:40.659Z"
   },
   {
    "duration": 45,
    "start_time": "2025-03-02T19:49:40.676Z"
   },
   {
    "duration": 56,
    "start_time": "2025-03-02T19:49:40.722Z"
   },
   {
    "duration": 68,
    "start_time": "2025-03-02T19:49:40.779Z"
   },
   {
    "duration": 10,
    "start_time": "2025-03-02T19:49:40.849Z"
   },
   {
    "duration": 33,
    "start_time": "2025-03-02T19:49:40.861Z"
   },
   {
    "duration": 22,
    "start_time": "2025-03-02T19:49:40.896Z"
   },
   {
    "duration": 1193,
    "start_time": "2025-03-02T20:03:39.926Z"
   },
   {
    "duration": 20,
    "start_time": "2025-03-02T20:03:41.121Z"
   },
   {
    "duration": 30,
    "start_time": "2025-03-02T20:03:41.142Z"
   },
   {
    "duration": 15,
    "start_time": "2025-03-02T20:03:41.174Z"
   },
   {
    "duration": 51,
    "start_time": "2025-03-02T20:03:41.192Z"
   },
   {
    "duration": 17,
    "start_time": "2025-03-02T20:03:41.245Z"
   },
   {
    "duration": 42,
    "start_time": "2025-03-02T20:03:41.264Z"
   },
   {
    "duration": 14,
    "start_time": "2025-03-02T20:03:41.308Z"
   },
   {
    "duration": 19,
    "start_time": "2025-03-02T20:03:41.324Z"
   },
   {
    "duration": 10,
    "start_time": "2025-03-02T20:03:41.345Z"
   },
   {
    "duration": 46,
    "start_time": "2025-03-02T20:03:41.357Z"
   },
   {
    "duration": 231,
    "start_time": "2025-03-02T20:03:41.405Z"
   },
   {
    "duration": 165,
    "start_time": "2025-03-02T20:03:41.638Z"
   },
   {
    "duration": 272,
    "start_time": "2025-03-02T20:03:41.806Z"
   },
   {
    "duration": 324,
    "start_time": "2025-03-02T20:03:42.080Z"
   },
   {
    "duration": 303,
    "start_time": "2025-03-02T20:03:42.406Z"
   },
   {
    "duration": 28,
    "start_time": "2025-03-02T20:03:42.710Z"
   },
   {
    "duration": 16,
    "start_time": "2025-03-02T20:03:42.739Z"
   },
   {
    "duration": 14,
    "start_time": "2025-03-02T20:03:42.757Z"
   },
   {
    "duration": 371,
    "start_time": "2025-03-02T20:03:42.801Z"
   },
   {
    "duration": 298,
    "start_time": "2025-03-02T20:03:43.173Z"
   },
   {
    "duration": 583,
    "start_time": "2025-03-02T20:03:43.472Z"
   },
   {
    "duration": 13,
    "start_time": "2025-03-02T20:03:44.056Z"
   },
   {
    "duration": 46,
    "start_time": "2025-03-02T20:03:44.070Z"
   },
   {
    "duration": 53,
    "start_time": "2025-03-02T20:03:44.117Z"
   },
   {
    "duration": 103,
    "start_time": "2025-03-02T20:03:44.171Z"
   },
   {
    "duration": 11,
    "start_time": "2025-03-02T20:03:44.275Z"
   },
   {
    "duration": 8,
    "start_time": "2025-03-02T20:03:44.288Z"
   },
   {
    "duration": 11,
    "start_time": "2025-03-02T20:03:44.298Z"
   },
   {
    "duration": 108,
    "start_time": "2025-03-02T22:07:32.525Z"
   },
   {
    "duration": 1389,
    "start_time": "2025-03-03T08:04:50.905Z"
   },
   {
    "duration": 20,
    "start_time": "2025-03-03T08:04:52.296Z"
   },
   {
    "duration": 30,
    "start_time": "2025-03-03T08:04:52.317Z"
   },
   {
    "duration": 16,
    "start_time": "2025-03-03T08:04:52.348Z"
   },
   {
    "duration": 216,
    "start_time": "2025-03-03T08:04:52.366Z"
   },
   {
    "duration": 15,
    "start_time": "2025-03-03T08:04:52.584Z"
   },
   {
    "duration": 46,
    "start_time": "2025-03-03T08:04:52.601Z"
   },
   {
    "duration": 36,
    "start_time": "2025-03-03T08:04:52.650Z"
   },
   {
    "duration": 48,
    "start_time": "2025-03-03T08:04:52.687Z"
   },
   {
    "duration": 19,
    "start_time": "2025-03-03T08:04:52.737Z"
   },
   {
    "duration": 21,
    "start_time": "2025-03-03T08:04:52.758Z"
   },
   {
    "duration": 224,
    "start_time": "2025-03-03T08:04:52.780Z"
   },
   {
    "duration": 158,
    "start_time": "2025-03-03T08:04:53.005Z"
   },
   {
    "duration": 530,
    "start_time": "2025-03-03T08:04:53.165Z"
   },
   {
    "duration": 296,
    "start_time": "2025-03-03T08:04:53.696Z"
   },
   {
    "duration": 294,
    "start_time": "2025-03-03T08:04:53.993Z"
   },
   {
    "duration": 41,
    "start_time": "2025-03-03T08:04:54.288Z"
   },
   {
    "duration": 39,
    "start_time": "2025-03-03T08:04:54.332Z"
   },
   {
    "duration": 92,
    "start_time": "2025-03-03T08:04:54.373Z"
   },
   {
    "duration": 372,
    "start_time": "2025-03-03T08:04:54.467Z"
   },
   {
    "duration": 297,
    "start_time": "2025-03-03T08:04:54.841Z"
   },
   {
    "duration": 555,
    "start_time": "2025-03-03T08:04:55.140Z"
   },
   {
    "duration": 14,
    "start_time": "2025-03-03T08:04:55.697Z"
   },
   {
    "duration": 42,
    "start_time": "2025-03-03T08:04:55.713Z"
   },
   {
    "duration": 81,
    "start_time": "2025-03-03T08:04:55.762Z"
   },
   {
    "duration": 66,
    "start_time": "2025-03-03T08:04:55.845Z"
   },
   {
    "duration": 10,
    "start_time": "2025-03-03T08:04:55.913Z"
   },
   {
    "duration": 276,
    "start_time": "2025-03-03T08:04:55.926Z"
   },
   {
    "duration": 40,
    "start_time": "2025-03-03T08:04:56.203Z"
   },
   {
    "duration": 30,
    "start_time": "2025-03-03T09:21:36.801Z"
   },
   {
    "duration": 65,
    "start_time": "2025-03-03T09:26:13.322Z"
   },
   {
    "duration": 64,
    "start_time": "2025-03-03T09:26:37.259Z"
   },
   {
    "duration": 83,
    "start_time": "2025-03-03T09:26:53.961Z"
   },
   {
    "duration": 94,
    "start_time": "2025-03-03T09:26:58.518Z"
   },
   {
    "duration": 84,
    "start_time": "2025-03-03T09:27:14.693Z"
   },
   {
    "duration": 53,
    "start_time": "2025-03-03T09:27:21.009Z"
   },
   {
    "duration": 52,
    "start_time": "2025-03-03T09:27:30.310Z"
   },
   {
    "duration": 50,
    "start_time": "2025-03-03T09:48:18.598Z"
   },
   {
    "duration": 21,
    "start_time": "2025-03-03T09:49:54.986Z"
   },
   {
    "duration": 100,
    "start_time": "2025-03-03T09:55:56.099Z"
   },
   {
    "duration": 13,
    "start_time": "2025-03-03T10:02:20.784Z"
   },
   {
    "duration": 50,
    "start_time": "2025-03-03T10:02:31.828Z"
   },
   {
    "duration": 45,
    "start_time": "2025-03-03T10:04:12.240Z"
   },
   {
    "duration": 46,
    "start_time": "2025-03-03T10:07:18.493Z"
   },
   {
    "duration": 19,
    "start_time": "2025-03-03T10:09:19.588Z"
   },
   {
    "duration": 17,
    "start_time": "2025-03-03T10:10:28.080Z"
   },
   {
    "duration": 26,
    "start_time": "2025-03-03T10:10:59.857Z"
   },
   {
    "duration": 18,
    "start_time": "2025-03-03T10:11:13.828Z"
   },
   {
    "duration": 30,
    "start_time": "2025-03-03T10:11:14.706Z"
   },
   {
    "duration": 17,
    "start_time": "2025-03-03T10:11:15.392Z"
   },
   {
    "duration": 34,
    "start_time": "2025-03-03T10:24:02.752Z"
   },
   {
    "duration": 44,
    "start_time": "2025-03-03T10:31:36.791Z"
   },
   {
    "duration": 17,
    "start_time": "2025-03-03T10:32:48.265Z"
   },
   {
    "duration": 17,
    "start_time": "2025-03-03T10:33:13.231Z"
   },
   {
    "duration": 17,
    "start_time": "2025-03-03T10:44:04.717Z"
   },
   {
    "duration": 52,
    "start_time": "2025-03-03T10:44:37.642Z"
   },
   {
    "duration": 7,
    "start_time": "2025-03-03T12:42:19.522Z"
   },
   {
    "duration": 17,
    "start_time": "2025-03-03T12:43:17.546Z"
   },
   {
    "duration": 25,
    "start_time": "2025-03-03T12:43:36.707Z"
   },
   {
    "duration": 7,
    "start_time": "2025-03-03T12:45:19.706Z"
   },
   {
    "duration": 28,
    "start_time": "2025-03-03T12:45:22.379Z"
   },
   {
    "duration": 7,
    "start_time": "2025-03-03T12:45:22.898Z"
   },
   {
    "duration": 17,
    "start_time": "2025-03-03T12:45:23.844Z"
   },
   {
    "duration": 9,
    "start_time": "2025-03-03T12:46:19.818Z"
   },
   {
    "duration": 24,
    "start_time": "2025-03-03T13:20:07.979Z"
   },
   {
    "duration": 23,
    "start_time": "2025-03-03T13:23:09.704Z"
   },
   {
    "duration": 16,
    "start_time": "2025-03-03T13:35:38.703Z"
   },
   {
    "duration": 1110,
    "start_time": "2025-03-03T13:36:59.955Z"
   },
   {
    "duration": 18,
    "start_time": "2025-03-03T13:37:01.067Z"
   },
   {
    "duration": 126,
    "start_time": "2025-03-03T13:37:01.087Z"
   },
   {
    "duration": 16,
    "start_time": "2025-03-03T13:37:01.214Z"
   },
   {
    "duration": 61,
    "start_time": "2025-03-03T13:37:01.232Z"
   },
   {
    "duration": 13,
    "start_time": "2025-03-03T13:37:01.295Z"
   },
   {
    "duration": 32,
    "start_time": "2025-03-03T13:37:01.310Z"
   },
   {
    "duration": 21,
    "start_time": "2025-03-03T13:37:01.343Z"
   },
   {
    "duration": 76,
    "start_time": "2025-03-03T13:37:01.365Z"
   },
   {
    "duration": 11,
    "start_time": "2025-03-03T13:37:01.442Z"
   },
   {
    "duration": 43,
    "start_time": "2025-03-03T13:37:01.455Z"
   },
   {
    "duration": 225,
    "start_time": "2025-03-03T13:37:01.500Z"
   },
   {
    "duration": 147,
    "start_time": "2025-03-03T13:37:01.727Z"
   },
   {
    "duration": 254,
    "start_time": "2025-03-03T13:37:01.877Z"
   },
   {
    "duration": 289,
    "start_time": "2025-03-03T13:37:02.133Z"
   },
   {
    "duration": 277,
    "start_time": "2025-03-03T13:37:02.424Z"
   },
   {
    "duration": 225,
    "start_time": "2025-03-03T13:37:02.703Z"
   },
   {
    "duration": 36,
    "start_time": "2025-03-03T13:37:02.930Z"
   },
   {
    "duration": 46,
    "start_time": "2025-03-03T13:37:02.967Z"
   },
   {
    "duration": 503,
    "start_time": "2025-03-03T13:37:03.014Z"
   },
   {
    "duration": 285,
    "start_time": "2025-03-03T13:37:03.519Z"
   },
   {
    "duration": 530,
    "start_time": "2025-03-03T13:37:03.805Z"
   },
   {
    "duration": 13,
    "start_time": "2025-03-03T13:37:04.337Z"
   },
   {
    "duration": 104,
    "start_time": "2025-03-03T13:37:04.363Z"
   },
   {
    "duration": 0,
    "start_time": "2025-03-03T13:37:04.468Z"
   },
   {
    "duration": 0,
    "start_time": "2025-03-03T13:37:04.469Z"
   },
   {
    "duration": 0,
    "start_time": "2025-03-03T13:37:04.471Z"
   },
   {
    "duration": 0,
    "start_time": "2025-03-03T13:37:04.472Z"
   },
   {
    "duration": 0,
    "start_time": "2025-03-03T13:37:04.473Z"
   },
   {
    "duration": 0,
    "start_time": "2025-03-03T13:37:04.474Z"
   },
   {
    "duration": 0,
    "start_time": "2025-03-03T13:37:04.475Z"
   },
   {
    "duration": 0,
    "start_time": "2025-03-03T13:37:04.476Z"
   },
   {
    "duration": 0,
    "start_time": "2025-03-03T13:37:04.478Z"
   },
   {
    "duration": 0,
    "start_time": "2025-03-03T13:37:04.479Z"
   },
   {
    "duration": 0,
    "start_time": "2025-03-03T13:37:04.480Z"
   },
   {
    "duration": 0,
    "start_time": "2025-03-03T13:37:04.481Z"
   },
   {
    "duration": 1109,
    "start_time": "2025-03-03T13:42:49.284Z"
   },
   {
    "duration": 19,
    "start_time": "2025-03-03T13:42:50.395Z"
   },
   {
    "duration": 29,
    "start_time": "2025-03-03T13:42:50.415Z"
   },
   {
    "duration": 15,
    "start_time": "2025-03-03T13:42:50.446Z"
   },
   {
    "duration": 407,
    "start_time": "2025-03-03T13:42:50.463Z"
   },
   {
    "duration": 47,
    "start_time": "2025-03-03T13:42:50.872Z"
   },
   {
    "duration": 40,
    "start_time": "2025-03-03T13:42:50.921Z"
   },
   {
    "duration": 30,
    "start_time": "2025-03-03T13:42:50.963Z"
   },
   {
    "duration": 27,
    "start_time": "2025-03-03T13:42:50.995Z"
   },
   {
    "duration": 92,
    "start_time": "2025-03-03T13:42:51.024Z"
   },
   {
    "duration": 31,
    "start_time": "2025-03-03T13:42:51.118Z"
   },
   {
    "duration": 202,
    "start_time": "2025-03-03T13:42:51.151Z"
   },
   {
    "duration": 146,
    "start_time": "2025-03-03T13:42:51.362Z"
   },
   {
    "duration": 254,
    "start_time": "2025-03-03T13:42:51.511Z"
   },
   {
    "duration": 284,
    "start_time": "2025-03-03T13:42:51.767Z"
   },
   {
    "duration": 284,
    "start_time": "2025-03-03T13:42:52.053Z"
   },
   {
    "duration": 36,
    "start_time": "2025-03-03T13:42:52.339Z"
   },
   {
    "duration": 47,
    "start_time": "2025-03-03T13:42:52.377Z"
   },
   {
    "duration": 14,
    "start_time": "2025-03-03T13:42:52.426Z"
   },
   {
    "duration": 472,
    "start_time": "2025-03-03T13:42:52.441Z"
   },
   {
    "duration": 288,
    "start_time": "2025-03-03T13:42:52.915Z"
   },
   {
    "duration": 558,
    "start_time": "2025-03-03T13:42:53.205Z"
   },
   {
    "duration": 12,
    "start_time": "2025-03-03T13:42:53.765Z"
   },
   {
    "duration": 114,
    "start_time": "2025-03-03T13:42:53.779Z"
   },
   {
    "duration": 0,
    "start_time": "2025-03-03T13:42:53.895Z"
   },
   {
    "duration": 1,
    "start_time": "2025-03-03T13:42:53.895Z"
   },
   {
    "duration": 0,
    "start_time": "2025-03-03T13:42:53.896Z"
   },
   {
    "duration": 0,
    "start_time": "2025-03-03T13:42:53.897Z"
   },
   {
    "duration": 0,
    "start_time": "2025-03-03T13:42:53.898Z"
   },
   {
    "duration": 0,
    "start_time": "2025-03-03T13:42:53.899Z"
   },
   {
    "duration": 0,
    "start_time": "2025-03-03T13:42:53.900Z"
   },
   {
    "duration": 0,
    "start_time": "2025-03-03T13:42:53.901Z"
   },
   {
    "duration": 0,
    "start_time": "2025-03-03T13:42:53.902Z"
   },
   {
    "duration": 0,
    "start_time": "2025-03-03T13:42:53.903Z"
   },
   {
    "duration": 0,
    "start_time": "2025-03-03T13:42:53.904Z"
   },
   {
    "duration": 0,
    "start_time": "2025-03-03T13:42:53.905Z"
   },
   {
    "duration": 24,
    "start_time": "2025-03-03T13:43:15.294Z"
   },
   {
    "duration": 21,
    "start_time": "2025-03-03T14:35:25.912Z"
   },
   {
    "duration": 13,
    "start_time": "2025-03-03T14:42:57.423Z"
   },
   {
    "duration": 48,
    "start_time": "2025-03-03T14:43:38.039Z"
   },
   {
    "duration": 45,
    "start_time": "2025-03-03T14:44:00.378Z"
   },
   {
    "duration": 129,
    "start_time": "2025-03-03T14:44:10.661Z"
   },
   {
    "duration": 34,
    "start_time": "2025-03-03T14:44:57.142Z"
   },
   {
    "duration": 1116,
    "start_time": "2025-03-03T14:45:13.203Z"
   },
   {
    "duration": 18,
    "start_time": "2025-03-03T14:45:14.321Z"
   },
   {
    "duration": 42,
    "start_time": "2025-03-03T14:45:14.341Z"
   },
   {
    "duration": 15,
    "start_time": "2025-03-03T14:45:14.384Z"
   },
   {
    "duration": 64,
    "start_time": "2025-03-03T14:45:14.402Z"
   },
   {
    "duration": 17,
    "start_time": "2025-03-03T14:45:14.469Z"
   },
   {
    "duration": 19,
    "start_time": "2025-03-03T14:45:14.488Z"
   },
   {
    "duration": 60,
    "start_time": "2025-03-03T14:45:14.509Z"
   },
   {
    "duration": 90,
    "start_time": "2025-03-03T14:45:14.571Z"
   },
   {
    "duration": 39,
    "start_time": "2025-03-03T14:45:14.663Z"
   },
   {
    "duration": 31,
    "start_time": "2025-03-03T14:45:14.704Z"
   },
   {
    "duration": 255,
    "start_time": "2025-03-03T14:45:14.737Z"
   },
   {
    "duration": 173,
    "start_time": "2025-03-03T14:45:14.994Z"
   },
   {
    "duration": 375,
    "start_time": "2025-03-03T14:45:15.170Z"
   },
   {
    "duration": 486,
    "start_time": "2025-03-03T14:45:15.546Z"
   },
   {
    "duration": 289,
    "start_time": "2025-03-03T14:45:16.034Z"
   },
   {
    "duration": 40,
    "start_time": "2025-03-03T14:45:16.325Z"
   },
   {
    "duration": 16,
    "start_time": "2025-03-03T14:45:16.366Z"
   },
   {
    "duration": 13,
    "start_time": "2025-03-03T14:45:16.384Z"
   },
   {
    "duration": 388,
    "start_time": "2025-03-03T14:45:16.399Z"
   },
   {
    "duration": 286,
    "start_time": "2025-03-03T14:45:16.789Z"
   },
   {
    "duration": 568,
    "start_time": "2025-03-03T14:45:17.076Z"
   },
   {
    "duration": 27,
    "start_time": "2025-03-03T14:45:17.646Z"
   },
   {
    "duration": 67,
    "start_time": "2025-03-03T14:45:17.675Z"
   },
   {
    "duration": 20,
    "start_time": "2025-03-03T14:45:17.743Z"
   },
   {
    "duration": 114,
    "start_time": "2025-03-03T14:45:17.764Z"
   },
   {
    "duration": 0,
    "start_time": "2025-03-03T14:45:17.879Z"
   },
   {
    "duration": 0,
    "start_time": "2025-03-03T14:45:17.880Z"
   },
   {
    "duration": 0,
    "start_time": "2025-03-03T14:45:17.881Z"
   },
   {
    "duration": 0,
    "start_time": "2025-03-03T14:45:17.882Z"
   },
   {
    "duration": 0,
    "start_time": "2025-03-03T14:45:17.883Z"
   },
   {
    "duration": 0,
    "start_time": "2025-03-03T14:45:17.884Z"
   },
   {
    "duration": 0,
    "start_time": "2025-03-03T14:45:17.885Z"
   },
   {
    "duration": 0,
    "start_time": "2025-03-03T14:45:17.886Z"
   },
   {
    "duration": 0,
    "start_time": "2025-03-03T14:45:17.887Z"
   },
   {
    "duration": 0,
    "start_time": "2025-03-03T14:45:17.888Z"
   },
   {
    "duration": 0,
    "start_time": "2025-03-03T14:45:17.889Z"
   },
   {
    "duration": 0,
    "start_time": "2025-03-03T14:45:17.890Z"
   },
   {
    "duration": 85,
    "start_time": "2025-03-03T14:46:31.052Z"
   },
   {
    "duration": 24,
    "start_time": "2025-03-03T14:46:40.152Z"
   },
   {
    "duration": 25,
    "start_time": "2025-03-03T14:47:00.161Z"
   },
   {
    "duration": 22,
    "start_time": "2025-03-03T14:48:35.784Z"
   },
   {
    "duration": 15,
    "start_time": "2025-03-03T14:50:42.598Z"
   },
   {
    "duration": 22,
    "start_time": "2025-03-03T14:57:35.050Z"
   },
   {
    "duration": 21,
    "start_time": "2025-03-03T14:57:54.390Z"
   },
   {
    "duration": 23,
    "start_time": "2025-03-03T14:59:20.195Z"
   },
   {
    "duration": 19,
    "start_time": "2025-03-03T15:00:04.087Z"
   },
   {
    "duration": 1378,
    "start_time": "2025-03-03T15:00:42.677Z"
   },
   {
    "duration": 21,
    "start_time": "2025-03-03T15:02:28.766Z"
   },
   {
    "duration": 20,
    "start_time": "2025-03-03T15:02:45.430Z"
   },
   {
    "duration": 215,
    "start_time": "2025-03-03T15:03:30.601Z"
   },
   {
    "duration": 22,
    "start_time": "2025-03-03T15:09:15.691Z"
   },
   {
    "duration": 1064,
    "start_time": "2025-03-03T15:09:40.806Z"
   },
   {
    "duration": 18,
    "start_time": "2025-03-03T15:09:41.872Z"
   },
   {
    "duration": 28,
    "start_time": "2025-03-03T15:09:41.892Z"
   },
   {
    "duration": 14,
    "start_time": "2025-03-03T15:09:41.921Z"
   },
   {
    "duration": 43,
    "start_time": "2025-03-03T15:09:41.937Z"
   },
   {
    "duration": 14,
    "start_time": "2025-03-03T15:09:41.981Z"
   },
   {
    "duration": 30,
    "start_time": "2025-03-03T15:09:41.996Z"
   },
   {
    "duration": 37,
    "start_time": "2025-03-03T15:09:42.028Z"
   },
   {
    "duration": 14,
    "start_time": "2025-03-03T15:09:42.067Z"
   },
   {
    "duration": 25,
    "start_time": "2025-03-03T15:09:42.083Z"
   },
   {
    "duration": 10,
    "start_time": "2025-03-03T15:09:42.110Z"
   },
   {
    "duration": 230,
    "start_time": "2025-03-03T15:09:42.121Z"
   },
   {
    "duration": 158,
    "start_time": "2025-03-03T15:09:42.363Z"
   },
   {
    "duration": 266,
    "start_time": "2025-03-03T15:09:42.524Z"
   },
   {
    "duration": 300,
    "start_time": "2025-03-03T15:09:42.792Z"
   },
   {
    "duration": 306,
    "start_time": "2025-03-03T15:09:43.093Z"
   },
   {
    "duration": 23,
    "start_time": "2025-03-03T15:09:43.401Z"
   },
   {
    "duration": 38,
    "start_time": "2025-03-03T15:09:43.425Z"
   },
   {
    "duration": 14,
    "start_time": "2025-03-03T15:09:43.464Z"
   },
   {
    "duration": 450,
    "start_time": "2025-03-03T15:09:43.480Z"
   },
   {
    "duration": 287,
    "start_time": "2025-03-03T15:09:43.932Z"
   },
   {
    "duration": 552,
    "start_time": "2025-03-03T15:09:44.221Z"
   },
   {
    "duration": 14,
    "start_time": "2025-03-03T15:09:44.774Z"
   },
   {
    "duration": 26,
    "start_time": "2025-03-03T15:09:44.789Z"
   },
   {
    "duration": 59,
    "start_time": "2025-03-03T15:09:44.817Z"
   },
   {
    "duration": 1423,
    "start_time": "2025-03-03T15:09:44.877Z"
   },
   {
    "duration": 0,
    "start_time": "2025-03-03T15:09:46.301Z"
   },
   {
    "duration": 0,
    "start_time": "2025-03-03T15:09:46.303Z"
   },
   {
    "duration": 0,
    "start_time": "2025-03-03T15:09:46.303Z"
   },
   {
    "duration": 0,
    "start_time": "2025-03-03T15:09:46.305Z"
   },
   {
    "duration": 1478,
    "start_time": "2025-03-03T15:10:46.330Z"
   },
   {
    "duration": 20,
    "start_time": "2025-03-03T15:11:00.908Z"
   },
   {
    "duration": 19,
    "start_time": "2025-03-03T15:11:47.612Z"
   },
   {
    "duration": 7,
    "start_time": "2025-03-03T15:12:30.221Z"
   },
   {
    "duration": 11,
    "start_time": "2025-03-03T15:12:39.579Z"
   },
   {
    "duration": 10,
    "start_time": "2025-03-03T15:14:24.460Z"
   },
   {
    "duration": 1417,
    "start_time": "2025-03-03T15:14:30.186Z"
   },
   {
    "duration": 21,
    "start_time": "2025-03-03T15:14:47.154Z"
   },
   {
    "duration": 22,
    "start_time": "2025-03-03T15:15:09.433Z"
   },
   {
    "duration": 30,
    "start_time": "2025-03-03T15:17:38.831Z"
   },
   {
    "duration": 1243,
    "start_time": "2025-03-03T15:18:38.509Z"
   },
   {
    "duration": 31,
    "start_time": "2025-03-03T15:24:03.168Z"
   },
   {
    "duration": 20,
    "start_time": "2025-03-03T15:27:21.161Z"
   },
   {
    "duration": 193,
    "start_time": "2025-03-03T15:29:24.306Z"
   },
   {
    "duration": 223,
    "start_time": "2025-03-03T15:29:55.619Z"
   },
   {
    "duration": 165,
    "start_time": "2025-03-03T15:32:13.775Z"
   },
   {
    "duration": 32,
    "start_time": "2025-03-03T15:39:16.436Z"
   },
   {
    "duration": 197,
    "start_time": "2025-03-03T15:39:47.328Z"
   },
   {
    "duration": 11,
    "start_time": "2025-03-03T15:40:09.702Z"
   },
   {
    "duration": 11,
    "start_time": "2025-03-03T15:40:26.830Z"
   },
   {
    "duration": 35,
    "start_time": "2025-03-03T15:40:33.675Z"
   },
   {
    "duration": 47,
    "start_time": "2025-03-03T15:43:13.372Z"
   },
   {
    "duration": 33,
    "start_time": "2025-03-03T15:43:22.349Z"
   },
   {
    "duration": 30,
    "start_time": "2025-03-03T15:56:55.976Z"
   },
   {
    "duration": 19,
    "start_time": "2025-03-03T15:58:55.635Z"
   },
   {
    "duration": 18,
    "start_time": "2025-03-03T15:59:04.446Z"
   },
   {
    "duration": 22,
    "start_time": "2025-03-03T16:00:44.970Z"
   },
   {
    "duration": 21,
    "start_time": "2025-03-03T16:00:59.924Z"
   },
   {
    "duration": 11,
    "start_time": "2025-03-03T16:01:58.848Z"
   },
   {
    "duration": 27,
    "start_time": "2025-03-03T16:03:30.130Z"
   },
   {
    "duration": 30,
    "start_time": "2025-03-03T16:03:38.253Z"
   },
   {
    "duration": 11,
    "start_time": "2025-03-03T16:03:53.981Z"
   },
   {
    "duration": 11,
    "start_time": "2025-03-03T16:04:21.875Z"
   },
   {
    "duration": 1110,
    "start_time": "2025-03-03T16:04:31.276Z"
   },
   {
    "duration": 19,
    "start_time": "2025-03-03T16:04:32.388Z"
   },
   {
    "duration": 36,
    "start_time": "2025-03-03T16:04:32.410Z"
   },
   {
    "duration": 16,
    "start_time": "2025-03-03T16:04:32.448Z"
   },
   {
    "duration": 55,
    "start_time": "2025-03-03T16:04:32.466Z"
   },
   {
    "duration": 14,
    "start_time": "2025-03-03T16:04:32.522Z"
   },
   {
    "duration": 11,
    "start_time": "2025-03-03T16:04:32.561Z"
   },
   {
    "duration": 11,
    "start_time": "2025-03-03T16:04:32.574Z"
   },
   {
    "duration": 16,
    "start_time": "2025-03-03T16:04:32.586Z"
   },
   {
    "duration": 26,
    "start_time": "2025-03-03T16:04:32.603Z"
   },
   {
    "duration": 74,
    "start_time": "2025-03-03T16:04:32.631Z"
   },
   {
    "duration": 210,
    "start_time": "2025-03-03T16:04:32.707Z"
   },
   {
    "duration": 157,
    "start_time": "2025-03-03T16:04:32.921Z"
   },
   {
    "duration": 265,
    "start_time": "2025-03-03T16:04:33.079Z"
   },
   {
    "duration": 293,
    "start_time": "2025-03-03T16:04:33.346Z"
   },
   {
    "duration": 295,
    "start_time": "2025-03-03T16:04:33.641Z"
   },
   {
    "duration": 40,
    "start_time": "2025-03-03T16:04:33.938Z"
   },
   {
    "duration": 59,
    "start_time": "2025-03-03T16:04:33.980Z"
   },
   {
    "duration": 16,
    "start_time": "2025-03-03T16:04:34.041Z"
   },
   {
    "duration": 404,
    "start_time": "2025-03-03T16:04:34.058Z"
   },
   {
    "duration": 288,
    "start_time": "2025-03-03T16:04:34.464Z"
   },
   {
    "duration": 555,
    "start_time": "2025-03-03T16:04:34.762Z"
   },
   {
    "duration": 12,
    "start_time": "2025-03-03T16:04:35.318Z"
   },
   {
    "duration": 56,
    "start_time": "2025-03-03T16:04:35.331Z"
   },
   {
    "duration": 48,
    "start_time": "2025-03-03T16:04:35.389Z"
   },
   {
    "duration": 204,
    "start_time": "2025-03-03T16:04:35.438Z"
   },
   {
    "duration": 141,
    "start_time": "2025-03-03T16:04:35.643Z"
   },
   {
    "duration": 0,
    "start_time": "2025-03-03T16:04:35.785Z"
   },
   {
    "duration": 0,
    "start_time": "2025-03-03T16:04:35.787Z"
   },
   {
    "duration": 0,
    "start_time": "2025-03-03T16:04:35.788Z"
   },
   {
    "duration": 0,
    "start_time": "2025-03-03T16:04:35.789Z"
   },
   {
    "duration": 0,
    "start_time": "2025-03-03T16:04:35.790Z"
   },
   {
    "duration": 0,
    "start_time": "2025-03-03T16:04:35.791Z"
   },
   {
    "duration": 0,
    "start_time": "2025-03-03T16:04:35.792Z"
   },
   {
    "duration": 1256,
    "start_time": "2025-03-03T16:06:06.415Z"
   },
   {
    "duration": 10,
    "start_time": "2025-03-03T16:06:43.424Z"
   },
   {
    "duration": 10,
    "start_time": "2025-03-03T16:09:38.621Z"
   },
   {
    "duration": 10,
    "start_time": "2025-03-03T16:12:18.500Z"
   },
   {
    "duration": 11,
    "start_time": "2025-03-03T16:12:27.520Z"
   },
   {
    "duration": 10,
    "start_time": "2025-03-03T16:12:51.388Z"
   },
   {
    "duration": 1266,
    "start_time": "2025-03-03T16:12:55.818Z"
   },
   {
    "duration": 11,
    "start_time": "2025-03-03T16:15:18.868Z"
   },
   {
    "duration": 12,
    "start_time": "2025-03-03T16:16:00.947Z"
   },
   {
    "duration": 11,
    "start_time": "2025-03-03T16:16:24.383Z"
   },
   {
    "duration": 28,
    "start_time": "2025-03-03T16:16:46.013Z"
   },
   {
    "duration": 23,
    "start_time": "2025-03-03T16:19:27.015Z"
   },
   {
    "duration": 1314,
    "start_time": "2025-03-03T16:20:12.186Z"
   },
   {
    "duration": 223,
    "start_time": "2025-03-03T16:20:59.662Z"
   },
   {
    "duration": 215,
    "start_time": "2025-03-03T16:21:13.207Z"
   },
   {
    "duration": 1815,
    "start_time": "2025-03-03T16:22:30.701Z"
   },
   {
    "duration": 215,
    "start_time": "2025-03-03T16:22:42.454Z"
   },
   {
    "duration": 230,
    "start_time": "2025-03-03T16:23:12.378Z"
   },
   {
    "duration": 29,
    "start_time": "2025-03-03T16:24:07.754Z"
   },
   {
    "duration": 8,
    "start_time": "2025-03-03T16:24:32.726Z"
   },
   {
    "duration": 15,
    "start_time": "2025-03-03T16:25:06.680Z"
   },
   {
    "duration": 218,
    "start_time": "2025-03-03T16:25:26.997Z"
   },
   {
    "duration": 16,
    "start_time": "2025-03-03T16:25:28.450Z"
   },
   {
    "duration": 27,
    "start_time": "2025-03-03T16:26:39.349Z"
   },
   {
    "duration": 228,
    "start_time": "2025-03-03T16:26:46.602Z"
   },
   {
    "duration": 16,
    "start_time": "2025-03-03T16:26:50.710Z"
   },
   {
    "duration": 210,
    "start_time": "2025-03-03T16:30:28.775Z"
   },
   {
    "duration": 16,
    "start_time": "2025-03-03T16:30:32.654Z"
   },
   {
    "duration": 26,
    "start_time": "2025-03-03T16:31:27.255Z"
   },
   {
    "duration": 29,
    "start_time": "2025-03-03T16:31:44.412Z"
   },
   {
    "duration": 28,
    "start_time": "2025-03-03T16:31:56.666Z"
   },
   {
    "duration": 14,
    "start_time": "2025-03-03T16:32:10.226Z"
   },
   {
    "duration": 1368,
    "start_time": "2025-03-03T16:32:15.842Z"
   },
   {
    "duration": 28,
    "start_time": "2025-03-03T16:33:53.371Z"
   },
   {
    "duration": 20,
    "start_time": "2025-03-03T16:35:29.669Z"
   },
   {
    "duration": 17,
    "start_time": "2025-03-03T16:36:00.926Z"
   },
   {
    "duration": 17,
    "start_time": "2025-03-03T16:36:10.114Z"
   },
   {
    "duration": 1149,
    "start_time": "2025-03-03T16:36:40.269Z"
   },
   {
    "duration": 19,
    "start_time": "2025-03-03T16:36:41.420Z"
   },
   {
    "duration": 27,
    "start_time": "2025-03-03T16:36:41.441Z"
   },
   {
    "duration": 15,
    "start_time": "2025-03-03T16:36:41.470Z"
   },
   {
    "duration": 41,
    "start_time": "2025-03-03T16:36:41.486Z"
   },
   {
    "duration": 37,
    "start_time": "2025-03-03T16:36:41.529Z"
   },
   {
    "duration": 73,
    "start_time": "2025-03-03T16:36:41.568Z"
   },
   {
    "duration": 14,
    "start_time": "2025-03-03T16:36:41.642Z"
   },
   {
    "duration": 15,
    "start_time": "2025-03-03T16:36:41.658Z"
   },
   {
    "duration": 168,
    "start_time": "2025-03-03T16:36:41.675Z"
   },
   {
    "duration": 41,
    "start_time": "2025-03-03T16:36:41.845Z"
   },
   {
    "duration": 202,
    "start_time": "2025-03-03T16:36:41.888Z"
   },
   {
    "duration": 160,
    "start_time": "2025-03-03T16:36:42.091Z"
   },
   {
    "duration": 266,
    "start_time": "2025-03-03T16:36:42.262Z"
   },
   {
    "duration": 296,
    "start_time": "2025-03-03T16:36:42.530Z"
   },
   {
    "duration": 300,
    "start_time": "2025-03-03T16:36:42.827Z"
   },
   {
    "duration": 42,
    "start_time": "2025-03-03T16:36:43.129Z"
   },
   {
    "duration": 19,
    "start_time": "2025-03-03T16:36:43.172Z"
   },
   {
    "duration": 15,
    "start_time": "2025-03-03T16:36:43.193Z"
   },
   {
    "duration": 395,
    "start_time": "2025-03-03T16:36:43.210Z"
   },
   {
    "duration": 313,
    "start_time": "2025-03-03T16:36:43.607Z"
   },
   {
    "duration": 560,
    "start_time": "2025-03-03T16:36:43.922Z"
   },
   {
    "duration": 12,
    "start_time": "2025-03-03T16:36:44.484Z"
   },
   {
    "duration": 222,
    "start_time": "2025-03-03T16:36:44.498Z"
   },
   {
    "duration": 98,
    "start_time": "2025-03-03T16:36:44.721Z"
   },
   {
    "duration": 0,
    "start_time": "2025-03-03T16:36:44.820Z"
   },
   {
    "duration": 0,
    "start_time": "2025-03-03T16:36:44.821Z"
   },
   {
    "duration": 0,
    "start_time": "2025-03-03T16:36:44.822Z"
   },
   {
    "duration": 0,
    "start_time": "2025-03-03T16:36:44.824Z"
   },
   {
    "duration": 0,
    "start_time": "2025-03-03T16:36:44.824Z"
   },
   {
    "duration": 0,
    "start_time": "2025-03-03T16:36:44.825Z"
   },
   {
    "duration": 0,
    "start_time": "2025-03-03T16:36:44.827Z"
   },
   {
    "duration": 21,
    "start_time": "2025-03-03T16:37:41.116Z"
   },
   {
    "duration": 17,
    "start_time": "2025-03-03T16:38:00.067Z"
   },
   {
    "duration": 1300,
    "start_time": "2025-03-03T16:38:51.965Z"
   },
   {
    "duration": 18,
    "start_time": "2025-03-03T16:39:54.402Z"
   },
   {
    "duration": 38,
    "start_time": "2025-03-03T16:40:00.271Z"
   },
   {
    "duration": 1330,
    "start_time": "2025-03-03T16:40:03.550Z"
   },
   {
    "duration": 39,
    "start_time": "2025-03-03T16:41:01.838Z"
   },
   {
    "duration": 37,
    "start_time": "2025-03-03T16:41:32.079Z"
   },
   {
    "duration": 26,
    "start_time": "2025-03-03T16:41:45.858Z"
   },
   {
    "duration": 17,
    "start_time": "2025-03-03T16:41:47.879Z"
   },
   {
    "duration": 14,
    "start_time": "2025-03-03T16:41:48.103Z"
   },
   {
    "duration": 362,
    "start_time": "2025-03-03T16:41:49.373Z"
   },
   {
    "duration": 307,
    "start_time": "2025-03-03T16:41:49.737Z"
   },
   {
    "duration": 520,
    "start_time": "2025-03-03T16:41:50.893Z"
   },
   {
    "duration": 14,
    "start_time": "2025-03-03T16:41:52.915Z"
   },
   {
    "duration": 24,
    "start_time": "2025-03-03T16:41:54.642Z"
   },
   {
    "duration": 1295,
    "start_time": "2025-03-03T16:42:04.585Z"
   },
   {
    "duration": 1209,
    "start_time": "2025-03-03T16:42:43.329Z"
   },
   {
    "duration": 20,
    "start_time": "2025-03-03T16:43:54.095Z"
   },
   {
    "duration": 16,
    "start_time": "2025-03-03T16:44:06.372Z"
   },
   {
    "duration": 1181,
    "start_time": "2025-03-03T16:44:13.785Z"
   },
   {
    "duration": 18,
    "start_time": "2025-03-03T16:44:14.968Z"
   },
   {
    "duration": 118,
    "start_time": "2025-03-03T16:44:14.987Z"
   },
   {
    "duration": 42,
    "start_time": "2025-03-03T16:44:15.106Z"
   },
   {
    "duration": 46,
    "start_time": "2025-03-03T16:44:15.150Z"
   },
   {
    "duration": 49,
    "start_time": "2025-03-03T16:44:15.197Z"
   },
   {
    "duration": 43,
    "start_time": "2025-03-03T16:44:15.247Z"
   },
   {
    "duration": 65,
    "start_time": "2025-03-03T16:44:15.291Z"
   },
   {
    "duration": 73,
    "start_time": "2025-03-03T16:44:15.357Z"
   },
   {
    "duration": 25,
    "start_time": "2025-03-03T16:44:15.432Z"
   },
   {
    "duration": 35,
    "start_time": "2025-03-03T16:44:15.459Z"
   },
   {
    "duration": 240,
    "start_time": "2025-03-03T16:44:15.496Z"
   },
   {
    "duration": 175,
    "start_time": "2025-03-03T16:44:15.738Z"
   },
   {
    "duration": 275,
    "start_time": "2025-03-03T16:44:15.916Z"
   },
   {
    "duration": 297,
    "start_time": "2025-03-03T16:44:16.193Z"
   },
   {
    "duration": 291,
    "start_time": "2025-03-03T16:44:16.492Z"
   },
   {
    "duration": 24,
    "start_time": "2025-03-03T16:44:16.784Z"
   },
   {
    "duration": 16,
    "start_time": "2025-03-03T16:44:16.809Z"
   },
   {
    "duration": 41,
    "start_time": "2025-03-03T16:44:16.827Z"
   },
   {
    "duration": 370,
    "start_time": "2025-03-03T16:44:16.869Z"
   },
   {
    "duration": 327,
    "start_time": "2025-03-03T16:44:17.241Z"
   },
   {
    "duration": 536,
    "start_time": "2025-03-03T16:44:17.569Z"
   },
   {
    "duration": 12,
    "start_time": "2025-03-03T16:44:18.106Z"
   },
   {
    "duration": 47,
    "start_time": "2025-03-03T16:44:18.120Z"
   },
   {
    "duration": 220,
    "start_time": "2025-03-03T16:44:18.168Z"
   },
   {
    "duration": 110,
    "start_time": "2025-03-03T16:44:18.390Z"
   },
   {
    "duration": 0,
    "start_time": "2025-03-03T16:44:18.501Z"
   },
   {
    "duration": 0,
    "start_time": "2025-03-03T16:44:18.503Z"
   },
   {
    "duration": 0,
    "start_time": "2025-03-03T16:44:18.504Z"
   },
   {
    "duration": 0,
    "start_time": "2025-03-03T16:44:18.505Z"
   },
   {
    "duration": 0,
    "start_time": "2025-03-03T16:44:18.506Z"
   },
   {
    "duration": 0,
    "start_time": "2025-03-03T16:44:18.508Z"
   },
   {
    "duration": 0,
    "start_time": "2025-03-03T16:44:18.509Z"
   },
   {
    "duration": 1265,
    "start_time": "2025-03-03T16:44:54.700Z"
   },
   {
    "duration": 1147,
    "start_time": "2025-03-03T16:45:02.332Z"
   },
   {
    "duration": 19,
    "start_time": "2025-03-03T16:45:03.481Z"
   },
   {
    "duration": 42,
    "start_time": "2025-03-03T16:45:03.502Z"
   },
   {
    "duration": 15,
    "start_time": "2025-03-03T16:45:03.546Z"
   },
   {
    "duration": 49,
    "start_time": "2025-03-03T16:45:03.564Z"
   },
   {
    "duration": 113,
    "start_time": "2025-03-03T16:45:03.614Z"
   },
   {
    "duration": 34,
    "start_time": "2025-03-03T16:45:03.729Z"
   },
   {
    "duration": 137,
    "start_time": "2025-03-03T16:45:03.765Z"
   },
   {
    "duration": 22,
    "start_time": "2025-03-03T16:45:03.903Z"
   },
   {
    "duration": 18,
    "start_time": "2025-03-03T16:45:03.926Z"
   },
   {
    "duration": 25,
    "start_time": "2025-03-03T16:45:03.946Z"
   },
   {
    "duration": 375,
    "start_time": "2025-03-03T16:45:03.973Z"
   },
   {
    "duration": 156,
    "start_time": "2025-03-03T16:45:04.362Z"
   },
   {
    "duration": 282,
    "start_time": "2025-03-03T16:45:04.522Z"
   },
   {
    "duration": 304,
    "start_time": "2025-03-03T16:45:04.806Z"
   },
   {
    "duration": 298,
    "start_time": "2025-03-03T16:45:05.112Z"
   },
   {
    "duration": 26,
    "start_time": "2025-03-03T16:45:05.412Z"
   },
   {
    "duration": 19,
    "start_time": "2025-03-03T16:45:05.461Z"
   },
   {
    "duration": 44,
    "start_time": "2025-03-03T16:45:05.482Z"
   },
   {
    "duration": 400,
    "start_time": "2025-03-03T16:45:05.528Z"
   },
   {
    "duration": 285,
    "start_time": "2025-03-03T16:45:05.930Z"
   },
   {
    "duration": 531,
    "start_time": "2025-03-03T16:45:06.217Z"
   },
   {
    "duration": 13,
    "start_time": "2025-03-03T16:45:06.761Z"
   },
   {
    "duration": 159,
    "start_time": "2025-03-03T16:45:06.775Z"
   },
   {
    "duration": 1474,
    "start_time": "2025-03-03T16:45:06.935Z"
   },
   {
    "duration": 0,
    "start_time": "2025-03-03T16:45:08.411Z"
   },
   {
    "duration": 0,
    "start_time": "2025-03-03T16:45:08.412Z"
   },
   {
    "duration": 0,
    "start_time": "2025-03-03T16:45:08.413Z"
   },
   {
    "duration": 0,
    "start_time": "2025-03-03T16:45:08.414Z"
   },
   {
    "duration": 0,
    "start_time": "2025-03-03T16:45:08.415Z"
   },
   {
    "duration": 0,
    "start_time": "2025-03-03T16:45:08.416Z"
   },
   {
    "duration": 0,
    "start_time": "2025-03-03T16:45:08.417Z"
   },
   {
    "duration": 0,
    "start_time": "2025-03-03T16:45:08.419Z"
   },
   {
    "duration": 25,
    "start_time": "2025-03-03T16:45:28.716Z"
   },
   {
    "duration": 222,
    "start_time": "2025-03-03T16:45:30.843Z"
   },
   {
    "duration": 1281,
    "start_time": "2025-03-03T16:45:45.302Z"
   },
   {
    "duration": 25,
    "start_time": "2025-03-03T16:46:19.201Z"
   },
   {
    "duration": 211,
    "start_time": "2025-03-03T16:46:20.932Z"
   },
   {
    "duration": 212,
    "start_time": "2025-03-03T16:46:35.806Z"
   },
   {
    "duration": 217,
    "start_time": "2025-03-03T16:46:43.628Z"
   },
   {
    "duration": 1581,
    "start_time": "2025-03-03T16:49:48.629Z"
   },
   {
    "duration": 24,
    "start_time": "2025-03-03T16:49:54.488Z"
   },
   {
    "duration": 1345,
    "start_time": "2025-03-03T16:49:56.030Z"
   },
   {
    "duration": 1424,
    "start_time": "2025-03-03T16:50:36.319Z"
   },
   {
    "duration": 223,
    "start_time": "2025-03-03T16:51:02.131Z"
   },
   {
    "duration": 215,
    "start_time": "2025-03-03T16:51:13.471Z"
   },
   {
    "duration": 18,
    "start_time": "2025-03-03T16:52:09.806Z"
   },
   {
    "duration": 39,
    "start_time": "2025-03-03T16:56:12.275Z"
   },
   {
    "duration": 2,
    "start_time": "2025-03-03T16:56:52.913Z"
   },
   {
    "duration": 37,
    "start_time": "2025-03-03T16:56:53.600Z"
   },
   {
    "duration": 26,
    "start_time": "2025-03-03T16:57:03.044Z"
   },
   {
    "duration": 218,
    "start_time": "2025-03-03T16:57:04.818Z"
   },
   {
    "duration": 2,
    "start_time": "2025-03-03T16:57:05.050Z"
   },
   {
    "duration": 40,
    "start_time": "2025-03-03T16:57:05.723Z"
   },
   {
    "duration": 17,
    "start_time": "2025-03-03T16:57:59.540Z"
   },
   {
    "duration": 239,
    "start_time": "2025-03-03T16:58:25.680Z"
   },
   {
    "duration": 14,
    "start_time": "2025-03-03T16:59:52.176Z"
   },
   {
    "duration": 17,
    "start_time": "2025-03-03T16:59:59.103Z"
   },
   {
    "duration": 17,
    "start_time": "2025-03-03T17:00:39.891Z"
   },
   {
    "duration": 22,
    "start_time": "2025-03-03T17:02:17.114Z"
   },
   {
    "duration": 22,
    "start_time": "2025-03-03T17:02:29.571Z"
   },
   {
    "duration": 9,
    "start_time": "2025-03-03T17:05:38.976Z"
   },
   {
    "duration": 1430,
    "start_time": "2025-03-03T17:05:53.249Z"
   },
   {
    "duration": 27,
    "start_time": "2025-03-03T17:06:02.157Z"
   },
   {
    "duration": 12,
    "start_time": "2025-03-03T17:06:39.462Z"
   },
   {
    "duration": 18,
    "start_time": "2025-03-03T17:09:02.317Z"
   },
   {
    "duration": 23,
    "start_time": "2025-03-03T17:16:09.481Z"
   },
   {
    "duration": 25,
    "start_time": "2025-03-03T17:16:12.692Z"
   },
   {
    "duration": 40,
    "start_time": "2025-03-03T17:16:51.223Z"
   },
   {
    "duration": 42,
    "start_time": "2025-03-03T17:18:25.926Z"
   },
   {
    "duration": 42,
    "start_time": "2025-03-03T17:19:13.584Z"
   },
   {
    "duration": 10,
    "start_time": "2025-03-03T17:20:01.123Z"
   },
   {
    "duration": 9,
    "start_time": "2025-03-03T17:20:12.189Z"
   },
   {
    "duration": 54,
    "start_time": "2025-03-03T17:20:36.133Z"
   },
   {
    "duration": 9,
    "start_time": "2025-03-03T17:21:57.961Z"
   },
   {
    "duration": 9,
    "start_time": "2025-03-03T17:26:11.170Z"
   },
   {
    "duration": 11,
    "start_time": "2025-03-03T17:28:27.719Z"
   },
   {
    "duration": 1084,
    "start_time": "2025-03-03T17:28:52.098Z"
   },
   {
    "duration": 18,
    "start_time": "2025-03-03T17:28:53.184Z"
   },
   {
    "duration": 40,
    "start_time": "2025-03-03T17:28:53.203Z"
   },
   {
    "duration": 101,
    "start_time": "2025-03-03T17:28:53.245Z"
   },
   {
    "duration": 74,
    "start_time": "2025-03-03T17:28:53.347Z"
   },
   {
    "duration": 14,
    "start_time": "2025-03-03T17:28:53.423Z"
   },
   {
    "duration": 30,
    "start_time": "2025-03-03T17:28:53.438Z"
   },
   {
    "duration": 33,
    "start_time": "2025-03-03T17:28:53.470Z"
   },
   {
    "duration": 34,
    "start_time": "2025-03-03T17:28:53.505Z"
   },
   {
    "duration": 25,
    "start_time": "2025-03-03T17:28:53.541Z"
   },
   {
    "duration": 32,
    "start_time": "2025-03-03T17:28:53.568Z"
   },
   {
    "duration": 242,
    "start_time": "2025-03-03T17:28:53.601Z"
   },
   {
    "duration": 170,
    "start_time": "2025-03-03T17:28:53.844Z"
   },
   {
    "duration": 265,
    "start_time": "2025-03-03T17:28:54.016Z"
   },
   {
    "duration": 298,
    "start_time": "2025-03-03T17:28:54.282Z"
   },
   {
    "duration": 289,
    "start_time": "2025-03-03T17:28:54.581Z"
   },
   {
    "duration": 22,
    "start_time": "2025-03-03T17:28:54.872Z"
   },
   {
    "duration": 74,
    "start_time": "2025-03-03T17:28:54.896Z"
   },
   {
    "duration": 37,
    "start_time": "2025-03-03T17:28:54.971Z"
   },
   {
    "duration": 360,
    "start_time": "2025-03-03T17:28:55.010Z"
   },
   {
    "duration": 300,
    "start_time": "2025-03-03T17:28:55.371Z"
   },
   {
    "duration": 571,
    "start_time": "2025-03-03T17:28:55.673Z"
   },
   {
    "duration": 23,
    "start_time": "2025-03-03T17:28:56.246Z"
   },
   {
    "duration": 85,
    "start_time": "2025-03-03T17:28:56.271Z"
   },
   {
    "duration": 244,
    "start_time": "2025-03-03T17:28:56.358Z"
   },
   {
    "duration": 15,
    "start_time": "2025-03-03T17:28:56.604Z"
   },
   {
    "duration": 44,
    "start_time": "2025-03-03T17:28:56.621Z"
   },
   {
    "duration": 23,
    "start_time": "2025-03-03T17:28:56.669Z"
   },
   {
    "duration": 55,
    "start_time": "2025-03-03T17:28:56.693Z"
   },
   {
    "duration": 55,
    "start_time": "2025-03-03T17:28:56.750Z"
   },
   {
    "duration": 9,
    "start_time": "2025-03-03T17:28:56.806Z"
   },
   {
    "duration": 19,
    "start_time": "2025-03-03T17:28:56.816Z"
   },
   {
    "duration": 62,
    "start_time": "2025-03-03T17:28:56.837Z"
   },
   {
    "duration": 333,
    "start_time": "2025-03-03T17:30:42.549Z"
   },
   {
    "duration": 423,
    "start_time": "2025-03-03T17:31:57.915Z"
   },
   {
    "duration": 331,
    "start_time": "2025-03-03T17:33:04.311Z"
   },
   {
    "duration": 201,
    "start_time": "2025-03-03T17:35:25.432Z"
   },
   {
    "duration": 102,
    "start_time": "2025-03-03T17:36:34.235Z"
   },
   {
    "duration": 113,
    "start_time": "2025-03-03T17:37:25.395Z"
   },
   {
    "duration": 139,
    "start_time": "2025-03-03T17:37:42.989Z"
   },
   {
    "duration": 77,
    "start_time": "2025-03-03T17:39:01.026Z"
   },
   {
    "duration": 222,
    "start_time": "2025-03-03T17:39:11.604Z"
   },
   {
    "duration": 207,
    "start_time": "2025-03-03T17:39:37.761Z"
   },
   {
    "duration": 229,
    "start_time": "2025-03-03T17:40:04.415Z"
   },
   {
    "duration": 222,
    "start_time": "2025-03-03T17:40:12.881Z"
   },
   {
    "duration": 221,
    "start_time": "2025-03-03T17:41:18.868Z"
   },
   {
    "duration": 78,
    "start_time": "2025-03-03T17:44:07.780Z"
   },
   {
    "duration": 347,
    "start_time": "2025-03-03T17:44:12.400Z"
   },
   {
    "duration": 8,
    "start_time": "2025-03-03T17:45:20.518Z"
   },
   {
    "duration": 206,
    "start_time": "2025-03-03T17:46:27.606Z"
   },
   {
    "duration": 13,
    "start_time": "2025-03-03T17:47:21.357Z"
   },
   {
    "duration": 13,
    "start_time": "2025-03-03T17:47:37.183Z"
   },
   {
    "duration": 72,
    "start_time": "2025-03-03T17:48:14.744Z"
   },
   {
    "duration": 8,
    "start_time": "2025-03-03T17:48:20.729Z"
   },
   {
    "duration": 11,
    "start_time": "2025-03-03T17:49:01.023Z"
   },
   {
    "duration": 273,
    "start_time": "2025-03-03T17:49:10.693Z"
   },
   {
    "duration": 275,
    "start_time": "2025-03-03T17:51:32.758Z"
   },
   {
    "duration": 293,
    "start_time": "2025-03-03T17:52:52.155Z"
   },
   {
    "duration": 212,
    "start_time": "2025-03-03T18:00:32.591Z"
   },
   {
    "duration": 15,
    "start_time": "2025-03-03T18:00:34.790Z"
   },
   {
    "duration": 16,
    "start_time": "2025-03-03T18:02:38.798Z"
   },
   {
    "duration": 14,
    "start_time": "2025-03-03T18:10:52.818Z"
   },
   {
    "duration": 44,
    "start_time": "2025-03-03T18:12:49.856Z"
   },
   {
    "duration": 19,
    "start_time": "2025-03-03T18:14:04.047Z"
   },
   {
    "duration": 1354,
    "start_time": "2025-03-03T18:14:23.324Z"
   },
   {
    "duration": 1243,
    "start_time": "2025-03-03T18:14:27.342Z"
   },
   {
    "duration": 29,
    "start_time": "2025-03-03T18:14:28.587Z"
   },
   {
    "duration": 29,
    "start_time": "2025-03-03T18:14:28.618Z"
   },
   {
    "duration": 18,
    "start_time": "2025-03-03T18:14:28.648Z"
   },
   {
    "duration": 44,
    "start_time": "2025-03-03T18:14:28.668Z"
   },
   {
    "duration": 50,
    "start_time": "2025-03-03T18:14:28.714Z"
   },
   {
    "duration": 21,
    "start_time": "2025-03-03T18:14:28.766Z"
   },
   {
    "duration": 19,
    "start_time": "2025-03-03T18:14:28.789Z"
   },
   {
    "duration": 15,
    "start_time": "2025-03-03T18:14:28.809Z"
   },
   {
    "duration": 50,
    "start_time": "2025-03-03T18:14:28.825Z"
   },
   {
    "duration": 9,
    "start_time": "2025-03-03T18:14:28.877Z"
   },
   {
    "duration": 248,
    "start_time": "2025-03-03T18:14:28.888Z"
   },
   {
    "duration": 171,
    "start_time": "2025-03-03T18:14:29.138Z"
   },
   {
    "duration": 277,
    "start_time": "2025-03-03T18:14:29.312Z"
   },
   {
    "duration": 314,
    "start_time": "2025-03-03T18:14:29.591Z"
   },
   {
    "duration": 334,
    "start_time": "2025-03-03T18:14:29.907Z"
   },
   {
    "duration": 356,
    "start_time": "2025-03-03T18:14:30.243Z"
   },
   {
    "duration": 105,
    "start_time": "2025-03-03T18:14:30.601Z"
   },
   {
    "duration": 41,
    "start_time": "2025-03-03T18:14:30.708Z"
   },
   {
    "duration": 18,
    "start_time": "2025-03-03T18:14:30.751Z"
   },
   {
    "duration": 341,
    "start_time": "2025-03-03T18:14:30.771Z"
   },
   {
    "duration": 316,
    "start_time": "2025-03-03T18:14:31.113Z"
   },
   {
    "duration": 246,
    "start_time": "2025-03-03T18:14:31.431Z"
   },
   {
    "duration": 234,
    "start_time": "2025-03-03T18:14:31.678Z"
   },
   {
    "duration": 16,
    "start_time": "2025-03-03T18:14:31.914Z"
   },
   {
    "duration": 183,
    "start_time": "2025-03-03T18:14:31.931Z"
   },
   {
    "duration": 17,
    "start_time": "2025-03-03T18:14:32.116Z"
   },
   {
    "duration": 45,
    "start_time": "2025-03-03T18:14:32.135Z"
   },
   {
    "duration": 240,
    "start_time": "2025-03-03T18:14:32.182Z"
   },
   {
    "duration": 42,
    "start_time": "2025-03-03T18:14:32.425Z"
   },
   {
    "duration": 101,
    "start_time": "2025-03-03T18:14:32.470Z"
   },
   {
    "duration": 16,
    "start_time": "2025-03-03T18:14:32.572Z"
   },
   {
    "duration": 149,
    "start_time": "2025-03-03T18:14:32.589Z"
   },
   {
    "duration": 148,
    "start_time": "2025-03-03T18:14:32.740Z"
   },
   {
    "duration": 36,
    "start_time": "2025-03-03T18:14:32.890Z"
   },
   {
    "duration": 30,
    "start_time": "2025-03-03T18:14:32.927Z"
   },
   {
    "duration": 48,
    "start_time": "2025-03-03T18:14:32.959Z"
   },
   {
    "duration": 43,
    "start_time": "2025-03-03T18:15:02.312Z"
   },
   {
    "duration": 57,
    "start_time": "2025-03-03T18:15:05.942Z"
   },
   {
    "duration": 10,
    "start_time": "2025-03-03T18:15:07.116Z"
   },
   {
    "duration": 8,
    "start_time": "2025-03-03T18:15:08.547Z"
   },
   {
    "duration": 11,
    "start_time": "2025-03-03T18:15:11.067Z"
   },
   {
    "duration": 1258,
    "start_time": "2025-03-04T00:50:50.365Z"
   },
   {
    "duration": 19,
    "start_time": "2025-03-04T00:50:51.625Z"
   },
   {
    "duration": 98,
    "start_time": "2025-03-04T00:50:51.646Z"
   },
   {
    "duration": 41,
    "start_time": "2025-03-04T00:50:51.745Z"
   },
   {
    "duration": 60,
    "start_time": "2025-03-04T00:50:51.788Z"
   },
   {
    "duration": 16,
    "start_time": "2025-03-04T00:50:51.850Z"
   },
   {
    "duration": 23,
    "start_time": "2025-03-04T00:50:51.869Z"
   },
   {
    "duration": 22,
    "start_time": "2025-03-04T00:50:51.894Z"
   },
   {
    "duration": 15,
    "start_time": "2025-03-04T00:50:51.918Z"
   },
   {
    "duration": 15,
    "start_time": "2025-03-04T00:50:51.934Z"
   },
   {
    "duration": 22,
    "start_time": "2025-03-04T00:50:51.950Z"
   },
   {
    "duration": 223,
    "start_time": "2025-03-04T00:50:51.974Z"
   },
   {
    "duration": 167,
    "start_time": "2025-03-04T00:50:52.198Z"
   },
   {
    "duration": 255,
    "start_time": "2025-03-04T00:50:52.368Z"
   },
   {
    "duration": 291,
    "start_time": "2025-03-04T00:50:52.624Z"
   },
   {
    "duration": 292,
    "start_time": "2025-03-04T00:50:52.916Z"
   },
   {
    "duration": 339,
    "start_time": "2025-03-04T00:50:53.210Z"
   },
   {
    "duration": 31,
    "start_time": "2025-03-04T00:50:53.551Z"
   },
   {
    "duration": 18,
    "start_time": "2025-03-04T00:50:53.584Z"
   },
   {
    "duration": 13,
    "start_time": "2025-03-04T00:50:53.604Z"
   },
   {
    "duration": 324,
    "start_time": "2025-03-04T00:50:53.618Z"
   },
   {
    "duration": 278,
    "start_time": "2025-03-04T00:50:53.943Z"
   },
   {
    "duration": 215,
    "start_time": "2025-03-04T00:50:54.223Z"
   },
   {
    "duration": 210,
    "start_time": "2025-03-04T00:50:54.440Z"
   },
   {
    "duration": 16,
    "start_time": "2025-03-04T00:50:54.651Z"
   },
   {
    "duration": 13,
    "start_time": "2025-03-04T00:50:54.668Z"
   },
   {
    "duration": 43,
    "start_time": "2025-03-04T00:50:54.682Z"
   },
   {
    "duration": 47,
    "start_time": "2025-03-04T00:50:54.726Z"
   },
   {
    "duration": 231,
    "start_time": "2025-03-04T00:50:54.775Z"
   },
   {
    "duration": 16,
    "start_time": "2025-03-04T00:50:55.008Z"
   },
   {
    "duration": 54,
    "start_time": "2025-03-04T00:50:55.026Z"
   },
   {
    "duration": 16,
    "start_time": "2025-03-04T00:50:55.081Z"
   },
   {
    "duration": 45,
    "start_time": "2025-03-04T00:50:55.099Z"
   },
   {
    "duration": 62,
    "start_time": "2025-03-04T00:50:55.145Z"
   },
   {
    "duration": 8,
    "start_time": "2025-03-04T00:50:55.208Z"
   },
   {
    "duration": 7,
    "start_time": "2025-03-04T00:50:55.218Z"
   },
   {
    "duration": 43,
    "start_time": "2025-03-04T00:50:55.226Z"
   },
   {
    "duration": 20,
    "start_time": "2025-03-04T01:01:06.261Z"
   },
   {
    "duration": 15,
    "start_time": "2025-03-04T01:05:47.084Z"
   },
   {
    "duration": 1145,
    "start_time": "2025-03-04T01:07:23.323Z"
   },
   {
    "duration": 18,
    "start_time": "2025-03-04T01:07:24.470Z"
   },
   {
    "duration": 36,
    "start_time": "2025-03-04T01:07:24.489Z"
   },
   {
    "duration": 14,
    "start_time": "2025-03-04T01:07:24.527Z"
   },
   {
    "duration": 41,
    "start_time": "2025-03-04T01:07:24.543Z"
   },
   {
    "duration": 13,
    "start_time": "2025-03-04T01:07:24.585Z"
   },
   {
    "duration": 11,
    "start_time": "2025-03-04T01:07:24.600Z"
   },
   {
    "duration": 30,
    "start_time": "2025-03-04T01:07:24.613Z"
   },
   {
    "duration": 26,
    "start_time": "2025-03-04T01:07:24.644Z"
   },
   {
    "duration": 9,
    "start_time": "2025-03-04T01:07:24.671Z"
   },
   {
    "duration": 7,
    "start_time": "2025-03-04T01:07:24.682Z"
   },
   {
    "duration": 221,
    "start_time": "2025-03-04T01:07:24.691Z"
   },
   {
    "duration": 161,
    "start_time": "2025-03-04T01:07:24.913Z"
   },
   {
    "duration": 266,
    "start_time": "2025-03-04T01:07:25.077Z"
   },
   {
    "duration": 299,
    "start_time": "2025-03-04T01:07:25.345Z"
   },
   {
    "duration": 282,
    "start_time": "2025-03-04T01:07:25.645Z"
   },
   {
    "duration": 352,
    "start_time": "2025-03-04T01:07:25.929Z"
   },
   {
    "duration": 22,
    "start_time": "2025-03-04T01:07:26.282Z"
   },
   {
    "duration": 14,
    "start_time": "2025-03-04T01:07:26.305Z"
   },
   {
    "duration": 13,
    "start_time": "2025-03-04T01:07:26.320Z"
   },
   {
    "duration": 311,
    "start_time": "2025-03-04T01:07:26.334Z"
   },
   {
    "duration": 281,
    "start_time": "2025-03-04T01:07:26.647Z"
   },
   {
    "duration": 217,
    "start_time": "2025-03-04T01:07:26.929Z"
   },
   {
    "duration": 214,
    "start_time": "2025-03-04T01:07:27.147Z"
   },
   {
    "duration": 14,
    "start_time": "2025-03-04T01:07:27.363Z"
   },
   {
    "duration": 13,
    "start_time": "2025-03-04T01:07:27.378Z"
   },
   {
    "duration": 14,
    "start_time": "2025-03-04T01:07:27.392Z"
   },
   {
    "duration": 61,
    "start_time": "2025-03-04T01:07:27.407Z"
   },
   {
    "duration": 238,
    "start_time": "2025-03-04T01:07:27.470Z"
   },
   {
    "duration": 16,
    "start_time": "2025-03-04T01:07:27.709Z"
   },
   {
    "duration": 54,
    "start_time": "2025-03-04T01:07:27.727Z"
   },
   {
    "duration": 25,
    "start_time": "2025-03-04T01:07:27.782Z"
   },
   {
    "duration": 15,
    "start_time": "2025-03-04T01:07:27.808Z"
   },
   {
    "duration": 60,
    "start_time": "2025-03-04T01:07:27.824Z"
   },
   {
    "duration": 48,
    "start_time": "2025-03-04T01:07:27.885Z"
   },
   {
    "duration": 29,
    "start_time": "2025-03-04T01:07:27.935Z"
   },
   {
    "duration": 8,
    "start_time": "2025-03-04T01:07:27.966Z"
   },
   {
    "duration": 13,
    "start_time": "2025-03-04T01:07:27.975Z"
   },
   {
    "duration": 1145,
    "start_time": "2025-03-04T01:09:26.024Z"
   },
   {
    "duration": 18,
    "start_time": "2025-03-04T01:09:27.171Z"
   },
   {
    "duration": 28,
    "start_time": "2025-03-04T01:09:27.190Z"
   },
   {
    "duration": 14,
    "start_time": "2025-03-04T01:09:27.220Z"
   },
   {
    "duration": 41,
    "start_time": "2025-03-04T01:09:27.236Z"
   },
   {
    "duration": 12,
    "start_time": "2025-03-04T01:09:27.279Z"
   },
   {
    "duration": 15,
    "start_time": "2025-03-04T01:09:27.292Z"
   },
   {
    "duration": 10,
    "start_time": "2025-03-04T01:09:27.309Z"
   },
   {
    "duration": 18,
    "start_time": "2025-03-04T01:09:27.320Z"
   },
   {
    "duration": 8,
    "start_time": "2025-03-04T01:09:27.361Z"
   },
   {
    "duration": 15,
    "start_time": "2025-03-04T01:09:27.370Z"
   },
   {
    "duration": 219,
    "start_time": "2025-03-04T01:09:27.386Z"
   },
   {
    "duration": 160,
    "start_time": "2025-03-04T01:09:27.606Z"
   },
   {
    "duration": 269,
    "start_time": "2025-03-04T01:09:27.768Z"
   },
   {
    "duration": 299,
    "start_time": "2025-03-04T01:09:28.039Z"
   },
   {
    "duration": 285,
    "start_time": "2025-03-04T01:09:28.340Z"
   },
   {
    "duration": 325,
    "start_time": "2025-03-04T01:09:28.627Z"
   },
   {
    "duration": 22,
    "start_time": "2025-03-04T01:09:28.962Z"
   },
   {
    "duration": 15,
    "start_time": "2025-03-04T01:09:28.985Z"
   },
   {
    "duration": 15,
    "start_time": "2025-03-04T01:09:29.002Z"
   },
   {
    "duration": 313,
    "start_time": "2025-03-04T01:09:29.019Z"
   },
   {
    "duration": 287,
    "start_time": "2025-03-04T01:09:29.334Z"
   },
   {
    "duration": 226,
    "start_time": "2025-03-04T01:09:29.622Z"
   },
   {
    "duration": 252,
    "start_time": "2025-03-04T01:09:29.850Z"
   },
   {
    "duration": 15,
    "start_time": "2025-03-04T01:09:30.103Z"
   },
   {
    "duration": 59,
    "start_time": "2025-03-04T01:09:30.119Z"
   },
   {
    "duration": 47,
    "start_time": "2025-03-04T01:09:30.179Z"
   },
   {
    "duration": 50,
    "start_time": "2025-03-04T01:09:30.228Z"
   },
   {
    "duration": 274,
    "start_time": "2025-03-04T01:09:30.280Z"
   },
   {
    "duration": 18,
    "start_time": "2025-03-04T01:09:30.556Z"
   },
   {
    "duration": 33,
    "start_time": "2025-03-04T01:09:30.576Z"
   },
   {
    "duration": 62,
    "start_time": "2025-03-04T01:09:30.611Z"
   },
   {
    "duration": 16,
    "start_time": "2025-03-04T01:09:30.675Z"
   },
   {
    "duration": 79,
    "start_time": "2025-03-04T01:09:30.693Z"
   },
   {
    "duration": 97,
    "start_time": "2025-03-04T01:09:30.774Z"
   },
   {
    "duration": 9,
    "start_time": "2025-03-04T01:09:30.873Z"
   },
   {
    "duration": 8,
    "start_time": "2025-03-04T01:09:30.884Z"
   },
   {
    "duration": 71,
    "start_time": "2025-03-04T01:09:30.894Z"
   },
   {
    "duration": 16,
    "start_time": "2025-03-04T01:10:41.904Z"
   },
   {
    "duration": 1272,
    "start_time": "2025-03-04T01:11:54.057Z"
   },
   {
    "duration": 20,
    "start_time": "2025-03-04T01:11:55.331Z"
   },
   {
    "duration": 31,
    "start_time": "2025-03-04T01:11:55.353Z"
   },
   {
    "duration": 16,
    "start_time": "2025-03-04T01:11:55.386Z"
   },
   {
    "duration": 57,
    "start_time": "2025-03-04T01:11:55.404Z"
   },
   {
    "duration": 16,
    "start_time": "2025-03-04T01:11:55.463Z"
   },
   {
    "duration": 53,
    "start_time": "2025-03-04T01:11:55.480Z"
   },
   {
    "duration": 12,
    "start_time": "2025-03-04T01:11:55.535Z"
   },
   {
    "duration": 59,
    "start_time": "2025-03-04T01:11:55.549Z"
   },
   {
    "duration": 77,
    "start_time": "2025-03-04T01:11:55.611Z"
   },
   {
    "duration": 24,
    "start_time": "2025-03-04T01:11:55.689Z"
   },
   {
    "duration": 224,
    "start_time": "2025-03-04T01:11:55.715Z"
   },
   {
    "duration": 184,
    "start_time": "2025-03-04T01:11:55.941Z"
   },
   {
    "duration": 284,
    "start_time": "2025-03-04T01:11:56.127Z"
   },
   {
    "duration": 319,
    "start_time": "2025-03-04T01:11:56.413Z"
   },
   {
    "duration": 296,
    "start_time": "2025-03-04T01:11:56.735Z"
   },
   {
    "duration": 366,
    "start_time": "2025-03-04T01:11:57.033Z"
   },
   {
    "duration": 24,
    "start_time": "2025-03-04T01:11:57.400Z"
   },
   {
    "duration": 39,
    "start_time": "2025-03-04T01:11:57.426Z"
   },
   {
    "duration": 71,
    "start_time": "2025-03-04T01:11:57.467Z"
   },
   {
    "duration": 311,
    "start_time": "2025-03-04T01:11:57.540Z"
   },
   {
    "duration": 310,
    "start_time": "2025-03-04T01:11:57.852Z"
   },
   {
    "duration": 239,
    "start_time": "2025-03-04T01:11:58.165Z"
   },
   {
    "duration": 236,
    "start_time": "2025-03-04T01:11:58.406Z"
   },
   {
    "duration": 26,
    "start_time": "2025-03-04T01:11:58.644Z"
   },
   {
    "duration": 17,
    "start_time": "2025-03-04T01:11:58.672Z"
   },
   {
    "duration": 14,
    "start_time": "2025-03-04T01:11:58.691Z"
   },
   {
    "duration": 64,
    "start_time": "2025-03-04T01:11:58.710Z"
   },
   {
    "duration": 247,
    "start_time": "2025-03-04T01:11:58.777Z"
   },
   {
    "duration": 18,
    "start_time": "2025-03-04T01:11:59.026Z"
   },
   {
    "duration": 39,
    "start_time": "2025-03-04T01:11:59.047Z"
   },
   {
    "duration": 18,
    "start_time": "2025-03-04T01:11:59.088Z"
   },
   {
    "duration": 74,
    "start_time": "2025-03-04T01:11:59.108Z"
   },
   {
    "duration": 55,
    "start_time": "2025-03-04T01:11:59.184Z"
   },
   {
    "duration": 28,
    "start_time": "2025-03-04T01:11:59.240Z"
   },
   {
    "duration": 8,
    "start_time": "2025-03-04T01:11:59.270Z"
   },
   {
    "duration": 14,
    "start_time": "2025-03-04T01:11:59.280Z"
   },
   {
    "duration": 87,
    "start_time": "2025-03-04T05:04:45.317Z"
   },
   {
    "duration": 82,
    "start_time": "2025-03-04T05:07:33.534Z"
   },
   {
    "duration": 84,
    "start_time": "2025-03-04T05:09:34.333Z"
   },
   {
    "duration": 1329,
    "start_time": "2025-03-04T07:42:47.794Z"
   },
   {
    "duration": 31,
    "start_time": "2025-03-04T07:42:49.125Z"
   },
   {
    "duration": 29,
    "start_time": "2025-03-04T07:42:49.314Z"
   },
   {
    "duration": 15,
    "start_time": "2025-03-04T07:42:49.556Z"
   },
   {
    "duration": 76,
    "start_time": "2025-03-04T07:42:50.740Z"
   },
   {
    "duration": 42,
    "start_time": "2025-03-04T07:43:01.926Z"
   },
   {
    "duration": 78,
    "start_time": "2025-03-04T07:43:22.862Z"
   },
   {
    "duration": 37,
    "start_time": "2025-03-04T07:43:41.077Z"
   },
   {
    "duration": 101,
    "start_time": "2025-03-04T07:47:40.943Z"
   },
   {
    "duration": 15,
    "start_time": "2025-03-04T07:47:46.590Z"
   },
   {
    "duration": 1289,
    "start_time": "2025-03-04T07:47:48.663Z"
   },
   {
    "duration": 1806,
    "start_time": "2025-03-04T07:49:01.575Z"
   },
   {
    "duration": 15,
    "start_time": "2025-03-04T07:49:14.667Z"
   },
   {
    "duration": 4,
    "start_time": "2025-03-04T07:50:26.929Z"
   },
   {
    "duration": 221,
    "start_time": "2025-03-04T07:50:58.745Z"
   },
   {
    "duration": 12,
    "start_time": "2025-03-04T07:51:05.584Z"
   },
   {
    "duration": 15,
    "start_time": "2025-03-04T07:51:44.581Z"
   },
   {
    "duration": 9,
    "start_time": "2025-03-04T07:51:47.606Z"
   },
   {
    "duration": 9,
    "start_time": "2025-03-04T07:51:50.700Z"
   },
   {
    "duration": 274,
    "start_time": "2025-03-04T07:53:37.315Z"
   },
   {
    "duration": 8,
    "start_time": "2025-03-04T09:36:06.564Z"
   },
   {
    "duration": 1159,
    "start_time": "2025-03-04T09:36:18.053Z"
   },
   {
    "duration": 30,
    "start_time": "2025-03-04T09:36:19.214Z"
   },
   {
    "duration": 28,
    "start_time": "2025-03-04T09:36:19.245Z"
   },
   {
    "duration": 15,
    "start_time": "2025-03-04T09:36:19.275Z"
   },
   {
    "duration": 51,
    "start_time": "2025-03-04T09:36:19.292Z"
   },
   {
    "duration": 14,
    "start_time": "2025-03-04T09:36:19.345Z"
   },
   {
    "duration": 19,
    "start_time": "2025-03-04T09:36:19.360Z"
   },
   {
    "duration": 12,
    "start_time": "2025-03-04T09:36:19.381Z"
   },
   {
    "duration": 12,
    "start_time": "2025-03-04T09:36:19.407Z"
   },
   {
    "duration": 16,
    "start_time": "2025-03-04T09:36:19.421Z"
   },
   {
    "duration": 8,
    "start_time": "2025-03-04T09:36:19.439Z"
   },
   {
    "duration": 10,
    "start_time": "2025-03-04T09:36:19.449Z"
   },
   {
    "duration": 255,
    "start_time": "2025-03-04T09:36:19.461Z"
   },
   {
    "duration": 150,
    "start_time": "2025-03-04T09:36:19.718Z"
   },
   {
    "duration": 263,
    "start_time": "2025-03-04T09:36:19.869Z"
   },
   {
    "duration": 295,
    "start_time": "2025-03-04T09:36:20.133Z"
   },
   {
    "duration": 286,
    "start_time": "2025-03-04T09:36:20.430Z"
   },
   {
    "duration": 350,
    "start_time": "2025-03-04T09:36:20.717Z"
   },
   {
    "duration": 24,
    "start_time": "2025-03-04T09:36:21.068Z"
   },
   {
    "duration": 29,
    "start_time": "2025-03-04T09:36:21.093Z"
   },
   {
    "duration": 87,
    "start_time": "2025-03-04T09:36:21.124Z"
   },
   {
    "duration": 287,
    "start_time": "2025-03-04T09:36:21.213Z"
   },
   {
    "duration": 291,
    "start_time": "2025-03-04T09:36:21.506Z"
   },
   {
    "duration": 213,
    "start_time": "2025-03-04T09:36:21.807Z"
   },
   {
    "duration": 219,
    "start_time": "2025-03-04T09:36:22.022Z"
   },
   {
    "duration": 15,
    "start_time": "2025-03-04T09:36:22.242Z"
   },
   {
    "duration": 24,
    "start_time": "2025-03-04T09:36:22.258Z"
   },
   {
    "duration": 31,
    "start_time": "2025-03-04T09:36:22.283Z"
   },
   {
    "duration": 25,
    "start_time": "2025-03-04T09:36:22.316Z"
   },
   {
    "duration": 241,
    "start_time": "2025-03-04T09:36:22.343Z"
   },
   {
    "duration": 79,
    "start_time": "2025-03-04T09:36:22.586Z"
   },
   {
    "duration": 0,
    "start_time": "2025-03-04T09:36:22.667Z"
   },
   {
    "duration": 0,
    "start_time": "2025-03-04T09:36:22.668Z"
   },
   {
    "duration": 0,
    "start_time": "2025-03-04T09:36:22.669Z"
   },
   {
    "duration": 0,
    "start_time": "2025-03-04T09:36:22.670Z"
   },
   {
    "duration": 0,
    "start_time": "2025-03-04T09:36:22.671Z"
   },
   {
    "duration": 0,
    "start_time": "2025-03-04T09:36:22.672Z"
   },
   {
    "duration": 1,
    "start_time": "2025-03-04T09:36:22.673Z"
   },
   {
    "duration": 0,
    "start_time": "2025-03-04T09:36:22.675Z"
   },
   {
    "duration": 9,
    "start_time": "2025-03-04T09:36:54.142Z"
   },
   {
    "duration": 13,
    "start_time": "2025-03-04T09:37:01.039Z"
   },
   {
    "duration": 9,
    "start_time": "2025-03-04T09:37:01.419Z"
   },
   {
    "duration": 8,
    "start_time": "2025-03-04T09:37:02.265Z"
   },
   {
    "duration": 12,
    "start_time": "2025-03-04T09:37:14.710Z"
   },
   {
    "duration": 12,
    "start_time": "2025-03-04T09:37:16.075Z"
   },
   {
    "duration": 9,
    "start_time": "2025-03-04T09:37:16.564Z"
   },
   {
    "duration": 18,
    "start_time": "2025-03-04T09:37:22.561Z"
   },
   {
    "duration": 28,
    "start_time": "2025-03-04T09:37:22.961Z"
   },
   {
    "duration": 16,
    "start_time": "2025-03-04T09:37:23.233Z"
   },
   {
    "duration": 41,
    "start_time": "2025-03-04T09:37:23.968Z"
   },
   {
    "duration": 15,
    "start_time": "2025-03-04T09:37:25.679Z"
   },
   {
    "duration": 13,
    "start_time": "2025-03-04T09:37:26.585Z"
   },
   {
    "duration": 5,
    "start_time": "2025-03-04T09:37:26.872Z"
   },
   {
    "duration": 13,
    "start_time": "2025-03-04T09:37:29.525Z"
   },
   {
    "duration": 13,
    "start_time": "2025-03-04T09:37:30.637Z"
   },
   {
    "duration": 14,
    "start_time": "2025-03-04T09:37:31.349Z"
   },
   {
    "duration": 7,
    "start_time": "2025-03-04T09:37:32.430Z"
   },
   {
    "duration": 220,
    "start_time": "2025-03-04T09:37:40.823Z"
   },
   {
    "duration": 136,
    "start_time": "2025-03-04T09:37:54.827Z"
   },
   {
    "duration": 336,
    "start_time": "2025-03-04T09:38:38.073Z"
   },
   {
    "duration": 305,
    "start_time": "2025-03-04T09:40:06.338Z"
   },
   {
    "duration": 271,
    "start_time": "2025-03-04T09:40:26.319Z"
   },
   {
    "duration": 5,
    "start_time": "2025-03-04T09:42:24.357Z"
   },
   {
    "duration": 6,
    "start_time": "2025-03-04T09:43:03.587Z"
   },
   {
    "duration": 5,
    "start_time": "2025-03-04T09:43:27.161Z"
   },
   {
    "duration": 5,
    "start_time": "2025-03-04T09:44:54.843Z"
   },
   {
    "duration": 11,
    "start_time": "2025-03-04T09:45:58.040Z"
   },
   {
    "duration": 98,
    "start_time": "2025-03-04T09:47:18.794Z"
   },
   {
    "duration": 10,
    "start_time": "2025-03-04T09:47:23.288Z"
   },
   {
    "duration": 12,
    "start_time": "2025-03-04T09:47:31.909Z"
   },
   {
    "duration": 17,
    "start_time": "2025-03-04T09:47:40.881Z"
   },
   {
    "duration": 15,
    "start_time": "2025-03-04T09:47:54.016Z"
   },
   {
    "duration": 12,
    "start_time": "2025-03-04T09:48:40.823Z"
   },
   {
    "duration": 1141,
    "start_time": "2025-03-04T09:49:06.997Z"
   },
   {
    "duration": 18,
    "start_time": "2025-03-04T09:49:08.140Z"
   },
   {
    "duration": 33,
    "start_time": "2025-03-04T09:49:08.160Z"
   },
   {
    "duration": 15,
    "start_time": "2025-03-04T09:49:08.195Z"
   },
   {
    "duration": 41,
    "start_time": "2025-03-04T09:49:08.212Z"
   },
   {
    "duration": 14,
    "start_time": "2025-03-04T09:49:08.254Z"
   },
   {
    "duration": 12,
    "start_time": "2025-03-04T09:49:08.270Z"
   },
   {
    "duration": 5,
    "start_time": "2025-03-04T09:49:08.307Z"
   },
   {
    "duration": 16,
    "start_time": "2025-03-04T09:49:08.314Z"
   },
   {
    "duration": 13,
    "start_time": "2025-03-04T09:49:08.332Z"
   },
   {
    "duration": 21,
    "start_time": "2025-03-04T09:49:08.347Z"
   },
   {
    "duration": 37,
    "start_time": "2025-03-04T09:49:08.371Z"
   },
   {
    "duration": 209,
    "start_time": "2025-03-04T09:49:08.410Z"
   },
   {
    "duration": 148,
    "start_time": "2025-03-04T09:49:08.622Z"
   },
   {
    "duration": 248,
    "start_time": "2025-03-04T09:49:08.771Z"
   },
   {
    "duration": 291,
    "start_time": "2025-03-04T09:49:09.020Z"
   },
   {
    "duration": 285,
    "start_time": "2025-03-04T09:49:09.313Z"
   },
   {
    "duration": 114,
    "start_time": "2025-03-04T09:49:09.600Z"
   },
   {
    "duration": 0,
    "start_time": "2025-03-04T09:49:09.715Z"
   },
   {
    "duration": 0,
    "start_time": "2025-03-04T09:49:09.716Z"
   },
   {
    "duration": 0,
    "start_time": "2025-03-04T09:49:09.717Z"
   },
   {
    "duration": 0,
    "start_time": "2025-03-04T09:49:09.719Z"
   },
   {
    "duration": 0,
    "start_time": "2025-03-04T09:49:09.720Z"
   },
   {
    "duration": 0,
    "start_time": "2025-03-04T09:49:09.721Z"
   },
   {
    "duration": 0,
    "start_time": "2025-03-04T09:49:09.721Z"
   },
   {
    "duration": 0,
    "start_time": "2025-03-04T09:49:09.722Z"
   },
   {
    "duration": 0,
    "start_time": "2025-03-04T09:49:09.723Z"
   },
   {
    "duration": 0,
    "start_time": "2025-03-04T09:49:09.724Z"
   },
   {
    "duration": 0,
    "start_time": "2025-03-04T09:49:09.725Z"
   },
   {
    "duration": 0,
    "start_time": "2025-03-04T09:49:09.726Z"
   },
   {
    "duration": 0,
    "start_time": "2025-03-04T09:49:09.727Z"
   },
   {
    "duration": 0,
    "start_time": "2025-03-04T09:49:09.728Z"
   },
   {
    "duration": 0,
    "start_time": "2025-03-04T09:49:09.729Z"
   },
   {
    "duration": 0,
    "start_time": "2025-03-04T09:49:09.730Z"
   },
   {
    "duration": 0,
    "start_time": "2025-03-04T09:49:09.730Z"
   },
   {
    "duration": 0,
    "start_time": "2025-03-04T09:49:09.731Z"
   },
   {
    "duration": 0,
    "start_time": "2025-03-04T09:49:09.733Z"
   },
   {
    "duration": 0,
    "start_time": "2025-03-04T09:49:09.734Z"
   },
   {
    "duration": 0,
    "start_time": "2025-03-04T09:49:09.735Z"
   },
   {
    "duration": 0,
    "start_time": "2025-03-04T09:49:09.736Z"
   },
   {
    "duration": 274,
    "start_time": "2025-03-04T10:05:30.563Z"
   },
   {
    "duration": 15,
    "start_time": "2025-03-04T10:05:33.164Z"
   },
   {
    "duration": 13,
    "start_time": "2025-03-04T10:06:00.309Z"
   },
   {
    "duration": 19,
    "start_time": "2025-03-04T10:07:42.696Z"
   },
   {
    "duration": 14,
    "start_time": "2025-03-04T10:07:54.972Z"
   },
   {
    "duration": 8,
    "start_time": "2025-03-04T10:08:55.721Z"
   },
   {
    "duration": 9,
    "start_time": "2025-03-04T10:09:42.382Z"
   },
   {
    "duration": 12,
    "start_time": "2025-03-04T10:09:50.345Z"
   },
   {
    "duration": 8,
    "start_time": "2025-03-04T10:09:51.048Z"
   },
   {
    "duration": 1238,
    "start_time": "2025-03-04T10:10:09.621Z"
   },
   {
    "duration": 20,
    "start_time": "2025-03-04T10:10:10.861Z"
   },
   {
    "duration": 33,
    "start_time": "2025-03-04T10:10:10.883Z"
   },
   {
    "duration": 30,
    "start_time": "2025-03-04T10:10:10.921Z"
   },
   {
    "duration": 52,
    "start_time": "2025-03-04T10:10:10.953Z"
   },
   {
    "duration": 24,
    "start_time": "2025-03-04T10:10:11.007Z"
   },
   {
    "duration": 33,
    "start_time": "2025-03-04T10:10:11.032Z"
   },
   {
    "duration": 8,
    "start_time": "2025-03-04T10:10:11.067Z"
   },
   {
    "duration": 48,
    "start_time": "2025-03-04T10:10:11.076Z"
   },
   {
    "duration": 15,
    "start_time": "2025-03-04T10:10:11.125Z"
   },
   {
    "duration": 20,
    "start_time": "2025-03-04T10:10:11.142Z"
   },
   {
    "duration": 11,
    "start_time": "2025-03-04T10:10:11.164Z"
   },
   {
    "duration": 248,
    "start_time": "2025-03-04T10:10:11.215Z"
   },
   {
    "duration": 168,
    "start_time": "2025-03-04T10:10:11.466Z"
   },
   {
    "duration": 462,
    "start_time": "2025-03-04T10:10:11.636Z"
   },
   {
    "duration": 327,
    "start_time": "2025-03-04T10:10:12.099Z"
   },
   {
    "duration": 324,
    "start_time": "2025-03-04T10:10:12.428Z"
   },
   {
    "duration": 8,
    "start_time": "2025-03-04T10:10:12.754Z"
   },
   {
    "duration": 12,
    "start_time": "2025-03-04T10:10:12.764Z"
   },
   {
    "duration": 14,
    "start_time": "2025-03-04T10:10:12.777Z"
   },
   {
    "duration": 358,
    "start_time": "2025-03-04T10:10:12.807Z"
   },
   {
    "duration": 26,
    "start_time": "2025-03-04T10:10:13.166Z"
   },
   {
    "duration": 42,
    "start_time": "2025-03-04T10:10:13.193Z"
   },
   {
    "duration": 19,
    "start_time": "2025-03-04T10:10:13.237Z"
   },
   {
    "duration": 328,
    "start_time": "2025-03-04T10:10:13.258Z"
   },
   {
    "duration": 305,
    "start_time": "2025-03-04T10:10:13.588Z"
   },
   {
    "duration": 239,
    "start_time": "2025-03-04T10:10:13.895Z"
   },
   {
    "duration": 243,
    "start_time": "2025-03-04T10:10:14.136Z"
   },
   {
    "duration": 37,
    "start_time": "2025-03-04T10:10:14.381Z"
   },
   {
    "duration": 20,
    "start_time": "2025-03-04T10:10:14.419Z"
   },
   {
    "duration": 19,
    "start_time": "2025-03-04T10:10:14.441Z"
   },
   {
    "duration": 62,
    "start_time": "2025-03-04T10:10:14.462Z"
   },
   {
    "duration": 268,
    "start_time": "2025-03-04T10:10:14.526Z"
   },
   {
    "duration": 92,
    "start_time": "2025-03-04T10:10:14.795Z"
   },
   {
    "duration": 1,
    "start_time": "2025-03-04T10:10:14.888Z"
   },
   {
    "duration": 0,
    "start_time": "2025-03-04T10:10:14.890Z"
   },
   {
    "duration": 0,
    "start_time": "2025-03-04T10:10:14.891Z"
   },
   {
    "duration": 0,
    "start_time": "2025-03-04T10:10:14.892Z"
   },
   {
    "duration": 0,
    "start_time": "2025-03-04T10:10:14.893Z"
   },
   {
    "duration": 0,
    "start_time": "2025-03-04T10:10:14.894Z"
   },
   {
    "duration": 0,
    "start_time": "2025-03-04T10:10:14.895Z"
   },
   {
    "duration": 0,
    "start_time": "2025-03-04T10:10:14.896Z"
   },
   {
    "duration": 13,
    "start_time": "2025-03-04T10:10:51.544Z"
   },
   {
    "duration": 14,
    "start_time": "2025-03-04T10:12:10.442Z"
   },
   {
    "duration": 9,
    "start_time": "2025-03-04T10:12:26.299Z"
   },
   {
    "duration": 1239,
    "start_time": "2025-03-04T10:12:33.289Z"
   },
   {
    "duration": 19,
    "start_time": "2025-03-04T10:12:34.530Z"
   },
   {
    "duration": 41,
    "start_time": "2025-03-04T10:12:34.550Z"
   },
   {
    "duration": 19,
    "start_time": "2025-03-04T10:12:34.593Z"
   },
   {
    "duration": 47,
    "start_time": "2025-03-04T10:12:34.614Z"
   },
   {
    "duration": 14,
    "start_time": "2025-03-04T10:12:34.663Z"
   },
   {
    "duration": 38,
    "start_time": "2025-03-04T10:12:34.679Z"
   },
   {
    "duration": 15,
    "start_time": "2025-03-04T10:12:34.719Z"
   },
   {
    "duration": 38,
    "start_time": "2025-03-04T10:12:34.735Z"
   },
   {
    "duration": 35,
    "start_time": "2025-03-04T10:12:34.774Z"
   },
   {
    "duration": 29,
    "start_time": "2025-03-04T10:12:34.811Z"
   },
   {
    "duration": 31,
    "start_time": "2025-03-04T10:12:34.842Z"
   },
   {
    "duration": 241,
    "start_time": "2025-03-04T10:12:34.875Z"
   },
   {
    "duration": 150,
    "start_time": "2025-03-04T10:12:35.119Z"
   },
   {
    "duration": 263,
    "start_time": "2025-03-04T10:12:35.270Z"
   },
   {
    "duration": 283,
    "start_time": "2025-03-04T10:12:35.534Z"
   },
   {
    "duration": 291,
    "start_time": "2025-03-04T10:12:35.818Z"
   },
   {
    "duration": 8,
    "start_time": "2025-03-04T10:12:36.111Z"
   },
   {
    "duration": 49,
    "start_time": "2025-03-04T10:12:36.120Z"
   },
   {
    "duration": 40,
    "start_time": "2025-03-04T10:12:36.170Z"
   },
   {
    "duration": 352,
    "start_time": "2025-03-04T10:12:36.212Z"
   },
   {
    "duration": 24,
    "start_time": "2025-03-04T10:12:36.566Z"
   },
   {
    "duration": 67,
    "start_time": "2025-03-04T10:12:36.591Z"
   },
   {
    "duration": 24,
    "start_time": "2025-03-04T10:12:36.660Z"
   },
   {
    "duration": 280,
    "start_time": "2025-03-04T10:12:36.685Z"
   },
   {
    "duration": 275,
    "start_time": "2025-03-04T10:12:36.967Z"
   },
   {
    "duration": 227,
    "start_time": "2025-03-04T10:12:37.244Z"
   },
   {
    "duration": 214,
    "start_time": "2025-03-04T10:12:37.472Z"
   },
   {
    "duration": 24,
    "start_time": "2025-03-04T10:12:37.687Z"
   },
   {
    "duration": 14,
    "start_time": "2025-03-04T10:12:37.713Z"
   },
   {
    "duration": 16,
    "start_time": "2025-03-04T10:12:37.729Z"
   },
   {
    "duration": 50,
    "start_time": "2025-03-04T10:12:37.747Z"
   },
   {
    "duration": 267,
    "start_time": "2025-03-04T10:12:37.799Z"
   },
   {
    "duration": 75,
    "start_time": "2025-03-04T10:12:38.067Z"
   },
   {
    "duration": 0,
    "start_time": "2025-03-04T10:12:38.143Z"
   },
   {
    "duration": 0,
    "start_time": "2025-03-04T10:12:38.145Z"
   },
   {
    "duration": 0,
    "start_time": "2025-03-04T10:12:38.145Z"
   },
   {
    "duration": 0,
    "start_time": "2025-03-04T10:12:38.147Z"
   },
   {
    "duration": 0,
    "start_time": "2025-03-04T10:12:38.148Z"
   },
   {
    "duration": 0,
    "start_time": "2025-03-04T10:12:38.149Z"
   },
   {
    "duration": 0,
    "start_time": "2025-03-04T10:12:38.150Z"
   },
   {
    "duration": 0,
    "start_time": "2025-03-04T10:12:38.151Z"
   },
   {
    "duration": 9,
    "start_time": "2025-03-04T10:13:02.741Z"
   },
   {
    "duration": 104,
    "start_time": "2025-03-04T10:13:55.262Z"
   },
   {
    "duration": 9,
    "start_time": "2025-03-04T10:14:00.666Z"
   },
   {
    "duration": 221,
    "start_time": "2025-03-04T10:15:02.794Z"
   },
   {
    "duration": 209,
    "start_time": "2025-03-04T10:15:19.903Z"
   },
   {
    "duration": 16,
    "start_time": "2025-03-04T10:15:35.552Z"
   },
   {
    "duration": 14,
    "start_time": "2025-03-04T10:15:36.321Z"
   },
   {
    "duration": 13,
    "start_time": "2025-03-04T10:15:40.566Z"
   },
   {
    "duration": 25,
    "start_time": "2025-03-04T10:15:44.828Z"
   },
   {
    "duration": 28,
    "start_time": "2025-03-04T10:18:56.358Z"
   },
   {
    "duration": 16,
    "start_time": "2025-03-04T10:21:10.962Z"
   },
   {
    "duration": 30,
    "start_time": "2025-03-04T10:26:12.696Z"
   },
   {
    "duration": 6,
    "start_time": "2025-03-04T10:26:15.118Z"
   },
   {
    "duration": 29,
    "start_time": "2025-03-04T10:26:55.046Z"
   },
   {
    "duration": 31,
    "start_time": "2025-03-04T10:27:12.796Z"
   },
   {
    "duration": 13,
    "start_time": "2025-03-04T11:00:08.517Z"
   },
   {
    "duration": 1452,
    "start_time": "2025-03-04T11:04:33.541Z"
   },
   {
    "duration": 1229,
    "start_time": "2025-03-04T11:04:44.587Z"
   },
   {
    "duration": 19,
    "start_time": "2025-03-04T11:04:45.818Z"
   },
   {
    "duration": 29,
    "start_time": "2025-03-04T11:04:45.840Z"
   },
   {
    "duration": 16,
    "start_time": "2025-03-04T11:04:45.871Z"
   },
   {
    "duration": 46,
    "start_time": "2025-03-04T11:04:45.889Z"
   },
   {
    "duration": 15,
    "start_time": "2025-03-04T11:04:45.937Z"
   },
   {
    "duration": 48,
    "start_time": "2025-03-04T11:04:45.954Z"
   },
   {
    "duration": 4,
    "start_time": "2025-03-04T11:04:46.004Z"
   },
   {
    "duration": 14,
    "start_time": "2025-03-04T11:04:46.009Z"
   },
   {
    "duration": 13,
    "start_time": "2025-03-04T11:04:46.024Z"
   },
   {
    "duration": 20,
    "start_time": "2025-03-04T11:04:46.038Z"
   },
   {
    "duration": 9,
    "start_time": "2025-03-04T11:04:46.059Z"
   },
   {
    "duration": 241,
    "start_time": "2025-03-04T11:04:46.071Z"
   },
   {
    "duration": 152,
    "start_time": "2025-03-04T11:04:46.313Z"
   },
   {
    "duration": 256,
    "start_time": "2025-03-04T11:04:46.466Z"
   },
   {
    "duration": 296,
    "start_time": "2025-03-04T11:04:46.723Z"
   },
   {
    "duration": 287,
    "start_time": "2025-03-04T11:04:47.021Z"
   },
   {
    "duration": 113,
    "start_time": "2025-03-04T11:04:47.310Z"
   },
   {
    "duration": 0,
    "start_time": "2025-03-04T11:04:47.425Z"
   },
   {
    "duration": 0,
    "start_time": "2025-03-04T11:04:47.426Z"
   },
   {
    "duration": 0,
    "start_time": "2025-03-04T11:04:47.427Z"
   },
   {
    "duration": 0,
    "start_time": "2025-03-04T11:04:47.428Z"
   },
   {
    "duration": 0,
    "start_time": "2025-03-04T11:04:47.429Z"
   },
   {
    "duration": 0,
    "start_time": "2025-03-04T11:04:47.431Z"
   },
   {
    "duration": 0,
    "start_time": "2025-03-04T11:04:47.432Z"
   },
   {
    "duration": 0,
    "start_time": "2025-03-04T11:04:47.433Z"
   },
   {
    "duration": 0,
    "start_time": "2025-03-04T11:04:47.434Z"
   },
   {
    "duration": 0,
    "start_time": "2025-03-04T11:04:47.435Z"
   },
   {
    "duration": 1,
    "start_time": "2025-03-04T11:04:47.436Z"
   },
   {
    "duration": 0,
    "start_time": "2025-03-04T11:04:47.437Z"
   },
   {
    "duration": 0,
    "start_time": "2025-03-04T11:04:47.438Z"
   },
   {
    "duration": 0,
    "start_time": "2025-03-04T11:04:47.439Z"
   },
   {
    "duration": 0,
    "start_time": "2025-03-04T11:04:47.440Z"
   },
   {
    "duration": 0,
    "start_time": "2025-03-04T11:04:47.442Z"
   },
   {
    "duration": 0,
    "start_time": "2025-03-04T11:04:47.443Z"
   },
   {
    "duration": 0,
    "start_time": "2025-03-04T11:04:47.444Z"
   },
   {
    "duration": 0,
    "start_time": "2025-03-04T11:04:47.445Z"
   },
   {
    "duration": 0,
    "start_time": "2025-03-04T11:04:47.557Z"
   },
   {
    "duration": 0,
    "start_time": "2025-03-04T11:04:47.558Z"
   },
   {
    "duration": 0,
    "start_time": "2025-03-04T11:04:47.559Z"
   },
   {
    "duration": 0,
    "start_time": "2025-03-04T11:04:47.560Z"
   },
   {
    "duration": 243,
    "start_time": "2025-03-04T11:05:17.448Z"
   },
   {
    "duration": 26,
    "start_time": "2025-03-04T11:05:19.397Z"
   },
   {
    "duration": 17,
    "start_time": "2025-03-04T11:05:20.527Z"
   },
   {
    "duration": 15,
    "start_time": "2025-03-04T11:05:20.798Z"
   },
   {
    "duration": 287,
    "start_time": "2025-03-04T11:05:21.950Z"
   },
   {
    "duration": 211,
    "start_time": "2025-03-04T11:05:23.327Z"
   },
   {
    "duration": 213,
    "start_time": "2025-03-04T11:05:24.005Z"
   },
   {
    "duration": 15,
    "start_time": "2025-03-04T11:05:24.477Z"
   },
   {
    "duration": 14,
    "start_time": "2025-03-04T11:05:24.694Z"
   },
   {
    "duration": 13,
    "start_time": "2025-03-04T11:05:26.205Z"
   },
   {
    "duration": 31,
    "start_time": "2025-03-04T11:05:28.004Z"
   },
   {
    "duration": 1637,
    "start_time": "2025-03-04T11:05:31.155Z"
   },
   {
    "duration": 33,
    "start_time": "2025-03-04T11:06:48.898Z"
   },
   {
    "duration": 1812,
    "start_time": "2025-03-04T11:06:51.216Z"
   },
   {
    "duration": 31,
    "start_time": "2025-03-04T11:07:11.785Z"
   },
   {
    "duration": 14,
    "start_time": "2025-03-04T11:07:13.853Z"
   },
   {
    "duration": 15,
    "start_time": "2025-03-04T11:09:15.632Z"
   },
   {
    "duration": 18,
    "start_time": "2025-03-04T11:09:33.305Z"
   },
   {
    "duration": 18,
    "start_time": "2025-03-04T11:09:46.954Z"
   },
   {
    "duration": 14,
    "start_time": "2025-03-04T11:21:38.897Z"
   },
   {
    "duration": 17,
    "start_time": "2025-03-04T11:21:40.013Z"
   },
   {
    "duration": 17,
    "start_time": "2025-03-04T11:23:29.239Z"
   },
   {
    "duration": 17,
    "start_time": "2025-03-04T11:23:37.240Z"
   },
   {
    "duration": 205,
    "start_time": "2025-03-04T11:28:47.698Z"
   },
   {
    "duration": 14,
    "start_time": "2025-03-04T11:30:31.380Z"
   },
   {
    "duration": 18,
    "start_time": "2025-03-04T11:31:04.270Z"
   },
   {
    "duration": 31,
    "start_time": "2025-03-04T11:32:17.487Z"
   },
   {
    "duration": 126,
    "start_time": "2025-03-04T11:32:59.073Z"
   },
   {
    "duration": 19,
    "start_time": "2025-03-04T11:33:10.897Z"
   },
   {
    "duration": 217,
    "start_time": "2025-03-04T11:33:57.985Z"
   },
   {
    "duration": 10,
    "start_time": "2025-03-04T11:56:24.237Z"
   },
   {
    "duration": 10,
    "start_time": "2025-03-04T11:57:37.855Z"
   },
   {
    "duration": 15,
    "start_time": "2025-03-04T11:57:52.848Z"
   },
   {
    "duration": 289,
    "start_time": "2025-03-04T11:58:08.438Z"
   },
   {
    "duration": 28,
    "start_time": "2025-03-04T11:59:20.475Z"
   },
   {
    "duration": 210,
    "start_time": "2025-03-04T11:59:20.505Z"
   },
   {
    "duration": 19,
    "start_time": "2025-03-04T12:00:43.499Z"
   },
   {
    "duration": 19,
    "start_time": "2025-03-04T12:01:36.637Z"
   },
   {
    "duration": 19,
    "start_time": "2025-03-04T12:01:47.260Z"
   },
   {
    "duration": 3,
    "start_time": "2025-03-04T12:02:06.136Z"
   },
   {
    "duration": 9,
    "start_time": "2025-03-04T12:02:11.054Z"
   },
   {
    "duration": 8,
    "start_time": "2025-03-04T12:02:17.458Z"
   },
   {
    "duration": 10,
    "start_time": "2025-03-04T12:04:59.508Z"
   },
   {
    "duration": 215,
    "start_time": "2025-03-04T13:11:23.502Z"
   },
   {
    "duration": 220,
    "start_time": "2025-03-04T13:11:55.452Z"
   },
   {
    "duration": 17,
    "start_time": "2025-03-04T13:22:17.894Z"
   },
   {
    "duration": 1161,
    "start_time": "2025-03-04T13:22:24.170Z"
   },
   {
    "duration": 19,
    "start_time": "2025-03-04T13:22:25.333Z"
   },
   {
    "duration": 37,
    "start_time": "2025-03-04T13:22:25.353Z"
   },
   {
    "duration": 15,
    "start_time": "2025-03-04T13:22:25.392Z"
   },
   {
    "duration": 53,
    "start_time": "2025-03-04T13:22:25.409Z"
   },
   {
    "duration": 14,
    "start_time": "2025-03-04T13:22:25.464Z"
   },
   {
    "duration": 30,
    "start_time": "2025-03-04T13:22:25.479Z"
   },
   {
    "duration": 5,
    "start_time": "2025-03-04T13:22:25.510Z"
   },
   {
    "duration": 26,
    "start_time": "2025-03-04T13:22:25.516Z"
   },
   {
    "duration": 14,
    "start_time": "2025-03-04T13:22:25.544Z"
   },
   {
    "duration": 21,
    "start_time": "2025-03-04T13:22:25.559Z"
   },
   {
    "duration": 30,
    "start_time": "2025-03-04T13:22:25.581Z"
   },
   {
    "duration": 200,
    "start_time": "2025-03-04T13:22:25.613Z"
   },
   {
    "duration": 152,
    "start_time": "2025-03-04T13:22:25.816Z"
   },
   {
    "duration": 260,
    "start_time": "2025-03-04T13:22:25.969Z"
   },
   {
    "duration": 294,
    "start_time": "2025-03-04T13:22:26.231Z"
   },
   {
    "duration": 307,
    "start_time": "2025-03-04T13:22:26.526Z"
   },
   {
    "duration": 337,
    "start_time": "2025-03-04T13:22:26.835Z"
   },
   {
    "duration": 35,
    "start_time": "2025-03-04T13:22:27.173Z"
   },
   {
    "duration": 43,
    "start_time": "2025-03-04T13:22:27.210Z"
   },
   {
    "duration": 14,
    "start_time": "2025-03-04T13:22:27.254Z"
   },
   {
    "duration": 309,
    "start_time": "2025-03-04T13:22:27.269Z"
   },
   {
    "duration": 242,
    "start_time": "2025-03-04T13:22:27.579Z"
   },
   {
    "duration": 245,
    "start_time": "2025-03-04T13:22:27.823Z"
   },
   {
    "duration": 14,
    "start_time": "2025-03-04T13:22:28.069Z"
   },
   {
    "duration": 49,
    "start_time": "2025-03-04T13:22:28.084Z"
   },
   {
    "duration": 13,
    "start_time": "2025-03-04T13:22:28.135Z"
   },
   {
    "duration": 17,
    "start_time": "2025-03-04T13:22:28.150Z"
   },
   {
    "duration": 50,
    "start_time": "2025-03-04T13:22:28.169Z"
   },
   {
    "duration": 227,
    "start_time": "2025-03-04T13:22:28.221Z"
   },
   {
    "duration": 107,
    "start_time": "2025-03-04T13:22:28.450Z"
   },
   {
    "duration": 0,
    "start_time": "2025-03-04T13:22:28.558Z"
   },
   {
    "duration": 1,
    "start_time": "2025-03-04T13:22:28.559Z"
   },
   {
    "duration": 0,
    "start_time": "2025-03-04T13:22:28.561Z"
   },
   {
    "duration": 0,
    "start_time": "2025-03-04T13:22:28.562Z"
   },
   {
    "duration": 10,
    "start_time": "2025-03-04T13:22:55.983Z"
   },
   {
    "duration": 43,
    "start_time": "2025-03-04T13:23:08.728Z"
   },
   {
    "duration": 22,
    "start_time": "2025-03-04T13:23:22.057Z"
   },
   {
    "duration": 13,
    "start_time": "2025-03-04T13:23:24.048Z"
   },
   {
    "duration": 5,
    "start_time": "2025-03-04T13:23:24.673Z"
   },
   {
    "duration": 15,
    "start_time": "2025-03-04T13:24:47.708Z"
   },
   {
    "duration": 13,
    "start_time": "2025-03-04T13:24:48.421Z"
   },
   {
    "duration": 9,
    "start_time": "2025-03-04T13:24:48.676Z"
   },
   {
    "duration": 7,
    "start_time": "2025-03-04T13:24:48.980Z"
   },
   {
    "duration": 207,
    "start_time": "2025-03-04T13:24:50.763Z"
   },
   {
    "duration": 141,
    "start_time": "2025-03-04T13:24:52.638Z"
   },
   {
    "duration": 339,
    "start_time": "2025-03-04T13:24:54.071Z"
   },
   {
    "duration": 284,
    "start_time": "2025-03-04T13:24:55.359Z"
   },
   {
    "duration": 291,
    "start_time": "2025-03-04T13:24:59.703Z"
   },
   {
    "duration": 244,
    "start_time": "2025-03-04T13:25:01.319Z"
   },
   {
    "duration": 24,
    "start_time": "2025-03-04T13:25:04.582Z"
   },
   {
    "duration": 17,
    "start_time": "2025-03-04T13:25:06.642Z"
   },
   {
    "duration": 16,
    "start_time": "2025-03-04T13:25:07.085Z"
   },
   {
    "duration": 275,
    "start_time": "2025-03-04T13:25:09.250Z"
   },
   {
    "duration": 227,
    "start_time": "2025-03-04T13:25:10.635Z"
   },
   {
    "duration": 219,
    "start_time": "2025-03-04T13:25:13.969Z"
   },
   {
    "duration": 14,
    "start_time": "2025-03-04T13:25:18.757Z"
   },
   {
    "duration": 31,
    "start_time": "2025-03-04T13:25:21.355Z"
   },
   {
    "duration": 14,
    "start_time": "2025-03-04T13:25:25.027Z"
   },
   {
    "duration": 17,
    "start_time": "2025-03-04T13:25:38.236Z"
   },
   {
    "duration": 18,
    "start_time": "2025-03-04T13:25:41.966Z"
   },
   {
    "duration": 121,
    "start_time": "2025-03-04T13:25:54.591Z"
   },
   {
    "duration": 198,
    "start_time": "2025-03-04T13:25:57.158Z"
   },
   {
    "duration": 18,
    "start_time": "2025-03-04T13:36:48.392Z"
   },
   {
    "duration": 10,
    "start_time": "2025-03-04T13:37:20.247Z"
   },
   {
    "duration": 73,
    "start_time": "2025-03-04T13:47:35.923Z"
   },
   {
    "duration": 11,
    "start_time": "2025-03-04T13:48:19.222Z"
   },
   {
    "duration": 16,
    "start_time": "2025-03-04T13:48:43.828Z"
   },
   {
    "duration": 9,
    "start_time": "2025-03-04T13:50:47.453Z"
   },
   {
    "duration": 10,
    "start_time": "2025-03-04T13:51:06.234Z"
   },
   {
    "duration": 227,
    "start_time": "2025-03-04T13:56:42.888Z"
   },
   {
    "duration": 126,
    "start_time": "2025-03-04T13:56:43.268Z"
   },
   {
    "duration": 127,
    "start_time": "2025-03-04T13:58:27.562Z"
   },
   {
    "duration": 129,
    "start_time": "2025-03-04T13:58:42.681Z"
   },
   {
    "duration": 128,
    "start_time": "2025-03-04T14:01:50.713Z"
   },
   {
    "duration": 1297,
    "start_time": "2025-03-04T23:36:04.896Z"
   },
   {
    "duration": 19,
    "start_time": "2025-03-04T23:36:06.195Z"
   },
   {
    "duration": 41,
    "start_time": "2025-03-04T23:36:06.215Z"
   },
   {
    "duration": 16,
    "start_time": "2025-03-04T23:36:06.257Z"
   },
   {
    "duration": 60,
    "start_time": "2025-03-04T23:36:06.275Z"
   },
   {
    "duration": 14,
    "start_time": "2025-03-04T23:36:06.337Z"
   },
   {
    "duration": 32,
    "start_time": "2025-03-04T23:36:06.352Z"
   },
   {
    "duration": 9,
    "start_time": "2025-03-04T23:36:06.385Z"
   },
   {
    "duration": 14,
    "start_time": "2025-03-04T23:36:06.395Z"
   },
   {
    "duration": 29,
    "start_time": "2025-03-04T23:36:06.410Z"
   },
   {
    "duration": 35,
    "start_time": "2025-03-04T23:36:06.440Z"
   },
   {
    "duration": 16,
    "start_time": "2025-03-04T23:36:06.476Z"
   },
   {
    "duration": 208,
    "start_time": "2025-03-04T23:36:06.493Z"
   },
   {
    "duration": 159,
    "start_time": "2025-03-04T23:36:06.703Z"
   },
   {
    "duration": 258,
    "start_time": "2025-03-04T23:36:06.863Z"
   },
   {
    "duration": 290,
    "start_time": "2025-03-04T23:36:07.122Z"
   },
   {
    "duration": 369,
    "start_time": "2025-03-04T23:36:07.414Z"
   },
   {
    "duration": 266,
    "start_time": "2025-03-04T23:36:07.785Z"
   },
   {
    "duration": 30,
    "start_time": "2025-03-04T23:36:08.053Z"
   },
   {
    "duration": 17,
    "start_time": "2025-03-04T23:36:08.085Z"
   },
   {
    "duration": 15,
    "start_time": "2025-03-04T23:36:08.103Z"
   },
   {
    "duration": 343,
    "start_time": "2025-03-04T23:36:08.120Z"
   },
   {
    "duration": 239,
    "start_time": "2025-03-04T23:36:08.465Z"
   },
   {
    "duration": 152,
    "start_time": "2025-03-04T23:36:08.706Z"
   },
   {
    "duration": 257,
    "start_time": "2025-03-04T23:36:08.860Z"
   },
   {
    "duration": 14,
    "start_time": "2025-03-04T23:36:09.119Z"
   },
   {
    "duration": 67,
    "start_time": "2025-03-04T23:36:09.134Z"
   },
   {
    "duration": 17,
    "start_time": "2025-03-04T23:36:09.203Z"
   },
   {
    "duration": 43,
    "start_time": "2025-03-04T23:36:09.221Z"
   },
   {
    "duration": 30,
    "start_time": "2025-03-04T23:36:09.266Z"
   },
   {
    "duration": 232,
    "start_time": "2025-03-04T23:36:09.298Z"
   },
   {
    "duration": 89,
    "start_time": "2025-03-04T23:36:09.532Z"
   },
   {
    "duration": 10,
    "start_time": "2025-03-04T23:36:09.623Z"
   },
   {
    "duration": 9,
    "start_time": "2025-03-04T23:36:09.635Z"
   },
   {
    "duration": 11,
    "start_time": "2025-03-04T23:36:09.662Z"
   },
   {
    "duration": 19,
    "start_time": "2025-03-04T23:44:46.740Z"
   },
   {
    "duration": 18,
    "start_time": "2025-03-04T23:44:53.972Z"
   },
   {
    "duration": 15,
    "start_time": "2025-03-04T23:45:46.556Z"
   },
   {
    "duration": 18,
    "start_time": "2025-03-04T23:47:50.251Z"
   },
   {
    "duration": 18,
    "start_time": "2025-03-04T23:51:31.786Z"
   },
   {
    "duration": 17,
    "start_time": "2025-03-04T23:52:22.345Z"
   },
   {
    "duration": 18,
    "start_time": "2025-03-04T23:54:15.921Z"
   },
   {
    "duration": 23,
    "start_time": "2025-03-04T23:55:48.000Z"
   },
   {
    "duration": 15,
    "start_time": "2025-03-04T23:56:14.640Z"
   },
   {
    "duration": 16,
    "start_time": "2025-03-04T23:56:27.751Z"
   },
   {
    "duration": 16,
    "start_time": "2025-03-04T23:56:35.304Z"
   },
   {
    "duration": 7,
    "start_time": "2025-03-04T23:56:49.039Z"
   },
   {
    "duration": 17,
    "start_time": "2025-03-04T23:56:55.999Z"
   },
   {
    "duration": 21,
    "start_time": "2025-03-04T23:57:05.821Z"
   },
   {
    "duration": 19,
    "start_time": "2025-03-04T23:57:13.488Z"
   },
   {
    "duration": 15,
    "start_time": "2025-03-04T23:57:34.087Z"
   },
   {
    "duration": 14,
    "start_time": "2025-03-04T23:57:59.056Z"
   },
   {
    "duration": 15,
    "start_time": "2025-03-04T23:58:10.743Z"
   },
   {
    "duration": 15,
    "start_time": "2025-03-04T23:58:17.887Z"
   },
   {
    "duration": 10,
    "start_time": "2025-03-04T23:59:35.175Z"
   },
   {
    "duration": 1667,
    "start_time": "2025-03-05T00:06:20.204Z"
   },
   {
    "duration": 11,
    "start_time": "2025-03-05T00:06:32.037Z"
   },
   {
    "duration": 1318,
    "start_time": "2025-03-05T00:21:02.816Z"
   },
   {
    "duration": 30,
    "start_time": "2025-03-05T00:21:04.136Z"
   },
   {
    "duration": 57,
    "start_time": "2025-03-05T00:21:04.167Z"
   },
   {
    "duration": 16,
    "start_time": "2025-03-05T00:21:04.225Z"
   },
   {
    "duration": 51,
    "start_time": "2025-03-05T00:21:04.243Z"
   },
   {
    "duration": 17,
    "start_time": "2025-03-05T00:21:04.296Z"
   },
   {
    "duration": 31,
    "start_time": "2025-03-05T00:21:04.314Z"
   },
   {
    "duration": 19,
    "start_time": "2025-03-05T00:21:04.347Z"
   },
   {
    "duration": 36,
    "start_time": "2025-03-05T00:21:04.368Z"
   },
   {
    "duration": 51,
    "start_time": "2025-03-05T00:21:04.406Z"
   },
   {
    "duration": 16,
    "start_time": "2025-03-05T00:21:04.458Z"
   },
   {
    "duration": 10,
    "start_time": "2025-03-05T00:21:04.476Z"
   },
   {
    "duration": 260,
    "start_time": "2025-03-05T00:21:04.488Z"
   },
   {
    "duration": 178,
    "start_time": "2025-03-05T00:21:04.751Z"
   },
   {
    "duration": 296,
    "start_time": "2025-03-05T00:21:04.931Z"
   },
   {
    "duration": 333,
    "start_time": "2025-03-05T00:21:05.229Z"
   },
   {
    "duration": 404,
    "start_time": "2025-03-05T00:21:05.564Z"
   },
   {
    "duration": 395,
    "start_time": "2025-03-05T00:21:05.970Z"
   },
   {
    "duration": 25,
    "start_time": "2025-03-05T00:21:06.367Z"
   },
   {
    "duration": 33,
    "start_time": "2025-03-05T00:21:06.394Z"
   },
   {
    "duration": 16,
    "start_time": "2025-03-05T00:21:06.429Z"
   },
   {
    "duration": 443,
    "start_time": "2025-03-05T00:21:06.447Z"
   },
   {
    "duration": 334,
    "start_time": "2025-03-05T00:21:06.892Z"
   },
   {
    "duration": 164,
    "start_time": "2025-03-05T00:21:07.229Z"
   },
   {
    "duration": 273,
    "start_time": "2025-03-05T00:21:07.395Z"
   },
   {
    "duration": 18,
    "start_time": "2025-03-05T00:21:07.670Z"
   },
   {
    "duration": 42,
    "start_time": "2025-03-05T00:21:07.690Z"
   },
   {
    "duration": 46,
    "start_time": "2025-03-05T00:21:07.734Z"
   },
   {
    "duration": 11,
    "start_time": "2025-03-05T00:21:07.782Z"
   },
   {
    "duration": 13,
    "start_time": "2025-03-05T00:21:07.795Z"
   },
   {
    "duration": 52,
    "start_time": "2025-03-05T00:21:07.810Z"
   },
   {
    "duration": 34,
    "start_time": "2025-03-05T00:21:07.864Z"
   },
   {
    "duration": 265,
    "start_time": "2025-03-05T00:21:07.900Z"
   },
   {
    "duration": 95,
    "start_time": "2025-03-05T00:21:08.167Z"
   },
   {
    "duration": 13,
    "start_time": "2025-03-05T00:21:08.264Z"
   },
   {
    "duration": 34,
    "start_time": "2025-03-05T00:21:08.279Z"
   },
   {
    "duration": 38,
    "start_time": "2025-03-05T00:21:08.315Z"
   },
   {
    "duration": 47,
    "start_time": "2025-03-05T05:47:50.342Z"
   },
   {
    "duration": 1295,
    "start_time": "2025-03-05T05:47:57.936Z"
   },
   {
    "duration": 18,
    "start_time": "2025-03-05T05:47:59.233Z"
   },
   {
    "duration": 86,
    "start_time": "2025-03-05T05:47:59.252Z"
   },
   {
    "duration": 23,
    "start_time": "2025-03-05T05:47:59.340Z"
   },
   {
    "duration": 41,
    "start_time": "2025-03-05T05:47:59.364Z"
   },
   {
    "duration": 46,
    "start_time": "2025-03-05T05:47:59.407Z"
   },
   {
    "duration": 14,
    "start_time": "2025-03-05T05:47:59.455Z"
   },
   {
    "duration": 5,
    "start_time": "2025-03-05T05:47:59.470Z"
   },
   {
    "duration": 11,
    "start_time": "2025-03-05T05:47:59.476Z"
   },
   {
    "duration": 12,
    "start_time": "2025-03-05T05:47:59.489Z"
   },
   {
    "duration": 16,
    "start_time": "2025-03-05T05:47:59.502Z"
   },
   {
    "duration": 8,
    "start_time": "2025-03-05T05:47:59.519Z"
   },
   {
    "duration": 230,
    "start_time": "2025-03-05T05:47:59.529Z"
   },
   {
    "duration": 149,
    "start_time": "2025-03-05T05:47:59.761Z"
   },
   {
    "duration": 277,
    "start_time": "2025-03-05T05:47:59.911Z"
   },
   {
    "duration": 310,
    "start_time": "2025-03-05T05:48:00.190Z"
   },
   {
    "duration": 284,
    "start_time": "2025-03-05T05:48:00.506Z"
   },
   {
    "duration": 352,
    "start_time": "2025-03-05T05:48:00.791Z"
   },
   {
    "duration": 22,
    "start_time": "2025-03-05T05:48:01.145Z"
   },
   {
    "duration": 16,
    "start_time": "2025-03-05T05:48:01.168Z"
   },
   {
    "duration": 19,
    "start_time": "2025-03-05T05:48:01.206Z"
   },
   {
    "duration": 385,
    "start_time": "2025-03-05T05:48:01.228Z"
   },
   {
    "duration": 240,
    "start_time": "2025-03-05T05:48:01.614Z"
   },
   {
    "duration": 156,
    "start_time": "2025-03-05T05:48:01.855Z"
   },
   {
    "duration": 250,
    "start_time": "2025-03-05T05:48:02.013Z"
   },
   {
    "duration": 13,
    "start_time": "2025-03-05T05:48:02.265Z"
   },
   {
    "duration": 87,
    "start_time": "2025-03-05T05:48:02.280Z"
   },
   {
    "duration": 12,
    "start_time": "2025-03-05T05:48:02.371Z"
   },
   {
    "duration": 77,
    "start_time": "2025-03-05T05:48:02.385Z"
   },
   {
    "duration": 114,
    "start_time": "2025-03-05T05:48:02.464Z"
   },
   {
    "duration": 51,
    "start_time": "2025-03-05T05:48:02.580Z"
   },
   {
    "duration": 39,
    "start_time": "2025-03-05T05:48:02.633Z"
   },
   {
    "duration": 28,
    "start_time": "2025-03-05T05:48:02.674Z"
   },
   {
    "duration": 265,
    "start_time": "2025-03-05T05:48:02.703Z"
   },
   {
    "duration": 79,
    "start_time": "2025-03-05T05:48:02.969Z"
   },
   {
    "duration": 11,
    "start_time": "2025-03-05T05:48:03.049Z"
   },
   {
    "duration": 23,
    "start_time": "2025-03-05T05:48:03.062Z"
   },
   {
    "duration": 48,
    "start_time": "2025-03-05T05:48:03.086Z"
   },
   {
    "duration": 15,
    "start_time": "2025-03-05T05:57:54.888Z"
   },
   {
    "duration": 115,
    "start_time": "2025-03-05T06:05:41.743Z"
   },
   {
    "duration": 10,
    "start_time": "2025-03-05T06:07:02.545Z"
   },
   {
    "duration": 19,
    "start_time": "2025-03-05T06:07:49.733Z"
   },
   {
    "duration": 18,
    "start_time": "2025-03-05T06:08:23.500Z"
   },
   {
    "duration": 9,
    "start_time": "2025-03-05T06:08:35.353Z"
   },
   {
    "duration": 12,
    "start_time": "2025-03-05T06:08:52.182Z"
   },
   {
    "duration": 9,
    "start_time": "2025-03-05T06:09:19.167Z"
   },
   {
    "duration": 10,
    "start_time": "2025-03-05T06:09:19.859Z"
   },
   {
    "duration": 19,
    "start_time": "2025-03-05T06:10:30.882Z"
   },
   {
    "duration": 27,
    "start_time": "2025-03-05T06:10:41.330Z"
   },
   {
    "duration": 215,
    "start_time": "2025-03-05T06:10:53.718Z"
   },
   {
    "duration": 73,
    "start_time": "2025-03-05T06:11:18.879Z"
   },
   {
    "duration": 11,
    "start_time": "2025-03-05T06:11:20.550Z"
   },
   {
    "duration": 9,
    "start_time": "2025-03-05T06:11:30.159Z"
   },
   {
    "duration": 10,
    "start_time": "2025-03-05T06:11:42.261Z"
   },
   {
    "duration": 30,
    "start_time": "2025-03-05T06:12:40.320Z"
   },
   {
    "duration": 19,
    "start_time": "2025-03-05T06:13:09.501Z"
   },
   {
    "duration": 15,
    "start_time": "2025-03-05T06:14:31.333Z"
   },
   {
    "duration": 1272,
    "start_time": "2025-03-05T06:14:33.882Z"
   },
   {
    "duration": 16,
    "start_time": "2025-03-05T06:14:38.632Z"
   },
   {
    "duration": 16,
    "start_time": "2025-03-05T06:14:39.368Z"
   },
   {
    "duration": 1219,
    "start_time": "2025-03-05T06:15:02.031Z"
   },
   {
    "duration": 18,
    "start_time": "2025-03-05T06:15:03.252Z"
   },
   {
    "duration": 49,
    "start_time": "2025-03-05T06:15:03.271Z"
   },
   {
    "duration": 16,
    "start_time": "2025-03-05T06:15:03.323Z"
   },
   {
    "duration": 59,
    "start_time": "2025-03-05T06:15:03.340Z"
   },
   {
    "duration": 68,
    "start_time": "2025-03-05T06:15:03.401Z"
   },
   {
    "duration": 14,
    "start_time": "2025-03-05T06:15:03.471Z"
   },
   {
    "duration": 4,
    "start_time": "2025-03-05T06:15:03.487Z"
   },
   {
    "duration": 33,
    "start_time": "2025-03-05T06:15:03.492Z"
   },
   {
    "duration": 15,
    "start_time": "2025-03-05T06:15:03.527Z"
   },
   {
    "duration": 23,
    "start_time": "2025-03-05T06:15:03.544Z"
   },
   {
    "duration": 8,
    "start_time": "2025-03-05T06:15:03.569Z"
   },
   {
    "duration": 244,
    "start_time": "2025-03-05T06:15:03.579Z"
   },
   {
    "duration": 148,
    "start_time": "2025-03-05T06:15:03.824Z"
   },
   {
    "duration": 271,
    "start_time": "2025-03-05T06:15:03.973Z"
   },
   {
    "duration": 312,
    "start_time": "2025-03-05T06:15:04.247Z"
   },
   {
    "duration": 303,
    "start_time": "2025-03-05T06:15:04.561Z"
   },
   {
    "duration": 353,
    "start_time": "2025-03-05T06:15:04.865Z"
   },
   {
    "duration": 23,
    "start_time": "2025-03-05T06:15:05.220Z"
   },
   {
    "duration": 29,
    "start_time": "2025-03-05T06:15:05.244Z"
   },
   {
    "duration": 16,
    "start_time": "2025-03-05T06:15:05.275Z"
   },
   {
    "duration": 322,
    "start_time": "2025-03-05T06:15:05.293Z"
   },
   {
    "duration": 254,
    "start_time": "2025-03-05T06:15:05.617Z"
   },
   {
    "duration": 151,
    "start_time": "2025-03-05T06:15:05.872Z"
   },
   {
    "duration": 231,
    "start_time": "2025-03-05T06:15:06.025Z"
   },
   {
    "duration": 12,
    "start_time": "2025-03-05T06:15:06.257Z"
   },
   {
    "duration": 74,
    "start_time": "2025-03-05T06:15:06.271Z"
   },
   {
    "duration": 12,
    "start_time": "2025-03-05T06:15:06.349Z"
   },
   {
    "duration": 65,
    "start_time": "2025-03-05T06:15:06.362Z"
   },
   {
    "duration": 22,
    "start_time": "2025-03-05T06:15:06.428Z"
   },
   {
    "duration": 28,
    "start_time": "2025-03-05T06:15:06.452Z"
   },
   {
    "duration": 38,
    "start_time": "2025-03-05T06:15:06.481Z"
   },
   {
    "duration": 109,
    "start_time": "2025-03-05T06:15:06.520Z"
   },
   {
    "duration": 54,
    "start_time": "2025-03-05T06:15:06.631Z"
   },
   {
    "duration": 203,
    "start_time": "2025-03-05T06:15:06.687Z"
   },
   {
    "duration": 84,
    "start_time": "2025-03-05T06:15:06.892Z"
   },
   {
    "duration": 10,
    "start_time": "2025-03-05T06:15:06.978Z"
   },
   {
    "duration": 15,
    "start_time": "2025-03-05T06:15:07.006Z"
   },
   {
    "duration": 44,
    "start_time": "2025-03-05T06:15:07.023Z"
   },
   {
    "duration": 9,
    "start_time": "2025-03-05T06:16:18.042Z"
   },
   {
    "duration": 11,
    "start_time": "2025-03-05T06:16:18.932Z"
   },
   {
    "duration": 15,
    "start_time": "2025-03-05T06:16:57.989Z"
   },
   {
    "duration": 28,
    "start_time": "2025-03-05T06:17:06.263Z"
   },
   {
    "duration": 203,
    "start_time": "2025-03-05T06:17:06.829Z"
   },
   {
    "duration": 77,
    "start_time": "2025-03-05T06:18:00.562Z"
   },
   {
    "duration": 75,
    "start_time": "2025-03-05T06:18:09.944Z"
   },
   {
    "duration": 10,
    "start_time": "2025-03-05T06:18:10.492Z"
   },
   {
    "duration": 13,
    "start_time": "2025-03-05T06:18:11.209Z"
   },
   {
    "duration": 11,
    "start_time": "2025-03-05T06:18:12.141Z"
   },
   {
    "duration": 1151,
    "start_time": "2025-03-05T06:24:18.063Z"
   },
   {
    "duration": 30,
    "start_time": "2025-03-05T06:24:19.216Z"
   },
   {
    "duration": 28,
    "start_time": "2025-03-05T06:24:19.248Z"
   },
   {
    "duration": 15,
    "start_time": "2025-03-05T06:24:19.278Z"
   },
   {
    "duration": 45,
    "start_time": "2025-03-05T06:24:19.295Z"
   },
   {
    "duration": 15,
    "start_time": "2025-03-05T06:24:19.342Z"
   },
   {
    "duration": 30,
    "start_time": "2025-03-05T06:24:19.359Z"
   },
   {
    "duration": 19,
    "start_time": "2025-03-05T06:24:19.391Z"
   },
   {
    "duration": 13,
    "start_time": "2025-03-05T06:24:19.411Z"
   },
   {
    "duration": 91,
    "start_time": "2025-03-05T06:24:19.427Z"
   },
   {
    "duration": 14,
    "start_time": "2025-03-05T06:24:19.520Z"
   },
   {
    "duration": 27,
    "start_time": "2025-03-05T06:24:19.536Z"
   },
   {
    "duration": 220,
    "start_time": "2025-03-05T06:24:19.565Z"
   },
   {
    "duration": 144,
    "start_time": "2025-03-05T06:24:19.786Z"
   },
   {
    "duration": 253,
    "start_time": "2025-03-05T06:24:19.931Z"
   },
   {
    "duration": 282,
    "start_time": "2025-03-05T06:24:20.185Z"
   },
   {
    "duration": 278,
    "start_time": "2025-03-05T06:24:20.469Z"
   },
   {
    "duration": 335,
    "start_time": "2025-03-05T06:24:20.749Z"
   },
   {
    "duration": 35,
    "start_time": "2025-03-05T06:24:21.086Z"
   },
   {
    "duration": 14,
    "start_time": "2025-03-05T06:24:21.122Z"
   },
   {
    "duration": 15,
    "start_time": "2025-03-05T06:24:21.138Z"
   },
   {
    "duration": 293,
    "start_time": "2025-03-05T06:24:21.155Z"
   },
   {
    "duration": 227,
    "start_time": "2025-03-05T06:24:21.450Z"
   },
   {
    "duration": 154,
    "start_time": "2025-03-05T06:24:21.679Z"
   },
   {
    "duration": 236,
    "start_time": "2025-03-05T06:24:21.835Z"
   },
   {
    "duration": 13,
    "start_time": "2025-03-05T06:24:22.073Z"
   },
   {
    "duration": 51,
    "start_time": "2025-03-05T06:24:22.087Z"
   },
   {
    "duration": 18,
    "start_time": "2025-03-05T06:24:22.142Z"
   },
   {
    "duration": 65,
    "start_time": "2025-03-05T06:24:22.162Z"
   },
   {
    "duration": 14,
    "start_time": "2025-03-05T06:24:22.229Z"
   },
   {
    "duration": 13,
    "start_time": "2025-03-05T06:24:22.245Z"
   },
   {
    "duration": 31,
    "start_time": "2025-03-05T06:24:22.260Z"
   },
   {
    "duration": 25,
    "start_time": "2025-03-05T06:24:22.293Z"
   },
   {
    "duration": 54,
    "start_time": "2025-03-05T06:24:22.320Z"
   },
   {
    "duration": 210,
    "start_time": "2025-03-05T06:24:22.376Z"
   },
   {
    "duration": 80,
    "start_time": "2025-03-05T06:24:22.588Z"
   },
   {
    "duration": 10,
    "start_time": "2025-03-05T06:24:22.670Z"
   },
   {
    "duration": 26,
    "start_time": "2025-03-05T06:24:22.681Z"
   },
   {
    "duration": 11,
    "start_time": "2025-03-05T06:24:22.708Z"
   },
   {
    "duration": 1275,
    "start_time": "2025-03-06T02:37:44.803Z"
   },
   {
    "duration": 17,
    "start_time": "2025-03-06T02:37:46.080Z"
   },
   {
    "duration": 26,
    "start_time": "2025-03-06T02:37:46.099Z"
   },
   {
    "duration": 68,
    "start_time": "2025-03-06T02:37:46.126Z"
   },
   {
    "duration": 40,
    "start_time": "2025-03-06T02:37:46.196Z"
   },
   {
    "duration": 15,
    "start_time": "2025-03-06T02:37:46.237Z"
   },
   {
    "duration": 13,
    "start_time": "2025-03-06T02:37:46.253Z"
   },
   {
    "duration": 4,
    "start_time": "2025-03-06T02:37:46.267Z"
   },
   {
    "duration": 11,
    "start_time": "2025-03-06T02:37:46.272Z"
   },
   {
    "duration": 13,
    "start_time": "2025-03-06T02:37:46.284Z"
   },
   {
    "duration": 62,
    "start_time": "2025-03-06T02:37:46.298Z"
   },
   {
    "duration": 7,
    "start_time": "2025-03-06T02:37:46.361Z"
   },
   {
    "duration": 215,
    "start_time": "2025-03-06T02:37:46.370Z"
   },
   {
    "duration": 146,
    "start_time": "2025-03-06T02:37:46.587Z"
   },
   {
    "duration": 271,
    "start_time": "2025-03-06T02:37:46.735Z"
   },
   {
    "duration": 271,
    "start_time": "2025-03-06T02:37:47.008Z"
   },
   {
    "duration": 270,
    "start_time": "2025-03-06T02:37:47.280Z"
   },
   {
    "duration": 309,
    "start_time": "2025-03-06T02:37:47.552Z"
   },
   {
    "duration": 21,
    "start_time": "2025-03-06T02:37:47.862Z"
   },
   {
    "duration": 25,
    "start_time": "2025-03-06T02:37:47.884Z"
   },
   {
    "duration": 12,
    "start_time": "2025-03-06T02:37:47.910Z"
   },
   {
    "duration": 293,
    "start_time": "2025-03-06T02:37:47.924Z"
   },
   {
    "duration": 229,
    "start_time": "2025-03-06T02:37:48.219Z"
   },
   {
    "duration": 126,
    "start_time": "2025-03-06T02:37:48.450Z"
   },
   {
    "duration": 226,
    "start_time": "2025-03-06T02:37:48.577Z"
   },
   {
    "duration": 13,
    "start_time": "2025-03-06T02:37:48.804Z"
   },
   {
    "duration": 53,
    "start_time": "2025-03-06T02:37:48.819Z"
   },
   {
    "duration": 12,
    "start_time": "2025-03-06T02:37:48.874Z"
   },
   {
    "duration": 15,
    "start_time": "2025-03-06T02:37:48.888Z"
   },
   {
    "duration": 13,
    "start_time": "2025-03-06T02:37:48.905Z"
   },
   {
    "duration": 10,
    "start_time": "2025-03-06T02:37:48.949Z"
   },
   {
    "duration": 15,
    "start_time": "2025-03-06T02:37:48.960Z"
   },
   {
    "duration": 17,
    "start_time": "2025-03-06T02:37:48.977Z"
   },
   {
    "duration": 54,
    "start_time": "2025-03-06T02:37:48.996Z"
   },
   {
    "duration": 217,
    "start_time": "2025-03-06T02:37:49.052Z"
   },
   {
    "duration": 79,
    "start_time": "2025-03-06T02:37:49.270Z"
   },
   {
    "duration": 43,
    "start_time": "2025-03-06T02:37:49.350Z"
   },
   {
    "duration": 7,
    "start_time": "2025-03-06T02:37:49.395Z"
   },
   {
    "duration": 8,
    "start_time": "2025-03-06T02:37:49.404Z"
   },
   {
    "duration": 1133,
    "start_time": "2025-03-06T02:53:50.918Z"
   },
   {
    "duration": 27,
    "start_time": "2025-03-06T02:53:52.053Z"
   },
   {
    "duration": 27,
    "start_time": "2025-03-06T02:53:52.082Z"
   },
   {
    "duration": 15,
    "start_time": "2025-03-06T02:53:52.110Z"
   },
   {
    "duration": 42,
    "start_time": "2025-03-06T02:53:52.127Z"
   },
   {
    "duration": 17,
    "start_time": "2025-03-06T02:53:52.170Z"
   },
   {
    "duration": 100,
    "start_time": "2025-03-06T02:53:52.189Z"
   },
   {
    "duration": 3,
    "start_time": "2025-03-06T02:53:52.291Z"
   },
   {
    "duration": 27,
    "start_time": "2025-03-06T02:53:52.296Z"
   },
   {
    "duration": 11,
    "start_time": "2025-03-06T02:53:52.325Z"
   },
   {
    "duration": 22,
    "start_time": "2025-03-06T02:53:52.338Z"
   },
   {
    "duration": 6,
    "start_time": "2025-03-06T02:53:52.362Z"
   },
   {
    "duration": 203,
    "start_time": "2025-03-06T02:53:52.369Z"
   },
   {
    "duration": 139,
    "start_time": "2025-03-06T02:53:52.575Z"
   },
   {
    "duration": 248,
    "start_time": "2025-03-06T02:53:52.715Z"
   },
   {
    "duration": 268,
    "start_time": "2025-03-06T02:53:52.965Z"
   },
   {
    "duration": 268,
    "start_time": "2025-03-06T02:53:53.234Z"
   },
   {
    "duration": 348,
    "start_time": "2025-03-06T02:53:53.504Z"
   },
   {
    "duration": 26,
    "start_time": "2025-03-06T02:53:53.853Z"
   },
   {
    "duration": 85,
    "start_time": "2025-03-06T02:53:53.880Z"
   },
   {
    "duration": 69,
    "start_time": "2025-03-06T02:53:53.967Z"
   },
   {
    "duration": 253,
    "start_time": "2025-03-06T02:53:54.037Z"
   },
   {
    "duration": 208,
    "start_time": "2025-03-06T02:53:54.291Z"
   },
   {
    "duration": 137,
    "start_time": "2025-03-06T02:53:54.501Z"
   },
   {
    "duration": 221,
    "start_time": "2025-03-06T02:53:54.640Z"
   },
   {
    "duration": 12,
    "start_time": "2025-03-06T02:53:54.863Z"
   },
   {
    "duration": 29,
    "start_time": "2025-03-06T02:53:54.877Z"
   },
   {
    "duration": 10,
    "start_time": "2025-03-06T02:53:54.908Z"
   },
   {
    "duration": 14,
    "start_time": "2025-03-06T02:53:54.949Z"
   },
   {
    "duration": 13,
    "start_time": "2025-03-06T02:53:54.965Z"
   },
   {
    "duration": 9,
    "start_time": "2025-03-06T02:53:54.980Z"
   },
   {
    "duration": 12,
    "start_time": "2025-03-06T02:53:54.990Z"
   },
   {
    "duration": 50,
    "start_time": "2025-03-06T02:53:55.004Z"
   },
   {
    "duration": 27,
    "start_time": "2025-03-06T02:53:55.055Z"
   },
   {
    "duration": 213,
    "start_time": "2025-03-06T02:53:55.083Z"
   },
   {
    "duration": 78,
    "start_time": "2025-03-06T02:53:55.298Z"
   },
   {
    "duration": 10,
    "start_time": "2025-03-06T02:53:55.377Z"
   },
   {
    "duration": 100,
    "start_time": "2025-03-06T02:53:55.388Z"
   },
   {
    "duration": 9,
    "start_time": "2025-03-06T02:53:55.490Z"
   },
   {
    "duration": 46,
    "start_time": "2025-03-06T04:43:09.256Z"
   },
   {
    "duration": 1301,
    "start_time": "2025-03-06T04:43:18.527Z"
   },
   {
    "duration": 18,
    "start_time": "2025-03-06T04:43:19.830Z"
   },
   {
    "duration": 99,
    "start_time": "2025-03-06T04:43:19.850Z"
   },
   {
    "duration": 15,
    "start_time": "2025-03-06T04:43:19.951Z"
   },
   {
    "duration": 116,
    "start_time": "2025-03-06T04:43:19.968Z"
   },
   {
    "duration": 15,
    "start_time": "2025-03-06T04:43:20.085Z"
   },
   {
    "duration": 16,
    "start_time": "2025-03-06T04:43:20.102Z"
   },
   {
    "duration": 9,
    "start_time": "2025-03-06T04:43:20.120Z"
   },
   {
    "duration": 37,
    "start_time": "2025-03-06T04:43:20.130Z"
   },
   {
    "duration": 32,
    "start_time": "2025-03-06T04:43:20.169Z"
   },
   {
    "duration": 43,
    "start_time": "2025-03-06T04:43:20.202Z"
   },
   {
    "duration": 43,
    "start_time": "2025-03-06T04:43:20.247Z"
   },
   {
    "duration": 214,
    "start_time": "2025-03-06T04:43:20.291Z"
   },
   {
    "duration": 155,
    "start_time": "2025-03-06T04:43:20.507Z"
   },
   {
    "duration": 255,
    "start_time": "2025-03-06T04:43:20.663Z"
   },
   {
    "duration": 283,
    "start_time": "2025-03-06T04:43:20.919Z"
   },
   {
    "duration": 287,
    "start_time": "2025-03-06T04:43:21.204Z"
   },
   {
    "duration": 315,
    "start_time": "2025-03-06T04:43:21.493Z"
   },
   {
    "duration": 21,
    "start_time": "2025-03-06T04:43:21.810Z"
   },
   {
    "duration": 124,
    "start_time": "2025-03-06T04:43:21.832Z"
   },
   {
    "duration": 98,
    "start_time": "2025-03-06T04:43:21.957Z"
   },
   {
    "duration": 325,
    "start_time": "2025-03-06T04:43:22.056Z"
   },
   {
    "duration": 216,
    "start_time": "2025-03-06T04:43:22.383Z"
   },
   {
    "duration": 143,
    "start_time": "2025-03-06T04:43:22.600Z"
   },
   {
    "duration": 231,
    "start_time": "2025-03-06T04:43:22.745Z"
   },
   {
    "duration": 13,
    "start_time": "2025-03-06T04:43:22.978Z"
   },
   {
    "duration": 30,
    "start_time": "2025-03-06T04:43:22.992Z"
   },
   {
    "duration": 40,
    "start_time": "2025-03-06T04:43:23.025Z"
   },
   {
    "duration": 12,
    "start_time": "2025-03-06T04:43:23.067Z"
   },
   {
    "duration": 28,
    "start_time": "2025-03-06T04:43:23.081Z"
   },
   {
    "duration": 21,
    "start_time": "2025-03-06T04:43:23.111Z"
   },
   {
    "duration": 11,
    "start_time": "2025-03-06T04:43:23.134Z"
   },
   {
    "duration": 31,
    "start_time": "2025-03-06T04:43:23.147Z"
   },
   {
    "duration": 54,
    "start_time": "2025-03-06T04:43:23.180Z"
   },
   {
    "duration": 279,
    "start_time": "2025-03-06T04:43:23.235Z"
   },
   {
    "duration": 204,
    "start_time": "2025-03-06T04:43:23.516Z"
   },
   {
    "duration": 79,
    "start_time": "2025-03-06T04:43:23.722Z"
   },
   {
    "duration": 10,
    "start_time": "2025-03-06T04:43:23.802Z"
   },
   {
    "duration": 121,
    "start_time": "2025-03-06T04:43:23.814Z"
   },
   {
    "duration": 100,
    "start_time": "2025-03-06T04:43:23.937Z"
   },
   {
    "duration": 4,
    "start_time": "2025-03-06T04:46:01.095Z"
   },
   {
    "duration": 29,
    "start_time": "2025-03-06T04:46:06.895Z"
   },
   {
    "duration": 30,
    "start_time": "2025-03-06T04:47:38.562Z"
   },
   {
    "duration": 14,
    "start_time": "2025-03-06T04:47:42.110Z"
   },
   {
    "duration": 29,
    "start_time": "2025-03-06T04:47:52.760Z"
   },
   {
    "duration": 28,
    "start_time": "2025-03-06T04:48:16.251Z"
   },
   {
    "duration": 12,
    "start_time": "2025-03-06T04:48:20.278Z"
   },
   {
    "duration": 29,
    "start_time": "2025-03-06T04:48:47.762Z"
   },
   {
    "duration": 12,
    "start_time": "2025-03-06T04:48:50.325Z"
   },
   {
    "duration": 23,
    "start_time": "2025-03-06T04:49:05.096Z"
   },
   {
    "duration": 10,
    "start_time": "2025-03-06T04:49:07.362Z"
   },
   {
    "duration": 29,
    "start_time": "2025-03-06T04:49:20.216Z"
   },
   {
    "duration": 11,
    "start_time": "2025-03-06T04:49:20.860Z"
   },
   {
    "duration": 27,
    "start_time": "2025-03-06T04:50:01.876Z"
   },
   {
    "duration": 10,
    "start_time": "2025-03-06T04:50:02.843Z"
   },
   {
    "duration": 28,
    "start_time": "2025-03-06T04:50:16.143Z"
   },
   {
    "duration": 2082,
    "start_time": "2025-03-06T10:38:45.408Z"
   },
   {
    "duration": 23,
    "start_time": "2025-03-06T10:38:47.493Z"
   },
   {
    "duration": 34,
    "start_time": "2025-03-06T10:38:47.518Z"
   },
   {
    "duration": 30,
    "start_time": "2025-03-06T10:38:47.553Z"
   },
   {
    "duration": 42,
    "start_time": "2025-03-06T10:38:47.585Z"
   },
   {
    "duration": 77,
    "start_time": "2025-03-06T10:38:47.629Z"
   },
   {
    "duration": 14,
    "start_time": "2025-03-06T10:38:47.707Z"
   },
   {
    "duration": 13,
    "start_time": "2025-03-06T10:38:47.723Z"
   },
   {
    "duration": 30,
    "start_time": "2025-03-06T10:38:47.738Z"
   },
   {
    "duration": 24,
    "start_time": "2025-03-06T10:38:47.769Z"
   },
   {
    "duration": 31,
    "start_time": "2025-03-06T10:38:47.795Z"
   },
   {
    "duration": 62,
    "start_time": "2025-03-06T10:38:47.827Z"
   },
   {
    "duration": 261,
    "start_time": "2025-03-06T10:38:47.891Z"
   },
   {
    "duration": 165,
    "start_time": "2025-03-06T10:38:48.154Z"
   },
   {
    "duration": 266,
    "start_time": "2025-03-06T10:38:48.320Z"
   },
   {
    "duration": 297,
    "start_time": "2025-03-06T10:38:48.588Z"
   },
   {
    "duration": 286,
    "start_time": "2025-03-06T10:38:48.886Z"
   },
   {
    "duration": 327,
    "start_time": "2025-03-06T10:38:49.173Z"
   },
   {
    "duration": 24,
    "start_time": "2025-03-06T10:38:49.501Z"
   },
   {
    "duration": 16,
    "start_time": "2025-03-06T10:38:49.526Z"
   },
   {
    "duration": 16,
    "start_time": "2025-03-06T10:38:49.561Z"
   },
   {
    "duration": 300,
    "start_time": "2025-03-06T10:38:49.579Z"
   },
   {
    "duration": 235,
    "start_time": "2025-03-06T10:38:49.881Z"
   },
   {
    "duration": 155,
    "start_time": "2025-03-06T10:38:50.118Z"
   },
   {
    "duration": 237,
    "start_time": "2025-03-06T10:38:50.275Z"
   },
   {
    "duration": 14,
    "start_time": "2025-03-06T10:38:50.514Z"
   },
   {
    "duration": 7,
    "start_time": "2025-03-06T10:38:50.529Z"
   },
   {
    "duration": 50,
    "start_time": "2025-03-06T10:38:50.538Z"
   },
   {
    "duration": 12,
    "start_time": "2025-03-06T10:38:50.589Z"
   },
   {
    "duration": 17,
    "start_time": "2025-03-06T10:38:50.602Z"
   },
   {
    "duration": 17,
    "start_time": "2025-03-06T10:38:50.621Z"
   },
   {
    "duration": 30,
    "start_time": "2025-03-06T10:38:50.640Z"
   },
   {
    "duration": 15,
    "start_time": "2025-03-06T10:38:50.672Z"
   },
   {
    "duration": 43,
    "start_time": "2025-03-06T10:38:50.689Z"
   },
   {
    "duration": 22,
    "start_time": "2025-03-06T10:38:50.734Z"
   },
   {
    "duration": 85,
    "start_time": "2025-03-06T10:38:50.758Z"
   },
   {
    "duration": 222,
    "start_time": "2025-03-06T10:38:50.845Z"
   },
   {
    "duration": 252,
    "start_time": "2025-03-06T10:38:51.069Z"
   },
   {
    "duration": 79,
    "start_time": "2025-03-06T10:38:51.323Z"
   },
   {
    "duration": 127,
    "start_time": "2025-03-06T10:38:51.403Z"
   },
   {
    "duration": 23,
    "start_time": "2025-03-06T10:38:51.534Z"
   },
   {
    "duration": 114,
    "start_time": "2025-03-06T10:38:51.559Z"
   },
   {
    "duration": 76,
    "start_time": "2025-03-06T10:41:34.016Z"
   },
   {
    "duration": 11,
    "start_time": "2025-03-06T10:46:16.731Z"
   },
   {
    "duration": 12,
    "start_time": "2025-03-06T10:48:59.602Z"
   },
   {
    "duration": 114,
    "start_time": "2025-03-06T10:49:28.821Z"
   },
   {
    "duration": 13,
    "start_time": "2025-03-06T10:51:45.377Z"
   },
   {
    "duration": 9,
    "start_time": "2025-03-06T10:54:42.443Z"
   },
   {
    "duration": 14,
    "start_time": "2025-03-06T10:55:51.634Z"
   },
   {
    "duration": 31,
    "start_time": "2025-03-06T12:16:52.007Z"
   },
   {
    "duration": 1624,
    "start_time": "2025-03-06T17:35:11.753Z"
   },
   {
    "duration": 82,
    "start_time": "2025-03-06T17:35:13.379Z"
   },
   {
    "duration": 202,
    "start_time": "2025-03-06T17:35:13.463Z"
   },
   {
    "duration": 15,
    "start_time": "2025-03-06T17:35:13.668Z"
   },
   {
    "duration": 73,
    "start_time": "2025-03-06T17:35:13.685Z"
   },
   {
    "duration": 26,
    "start_time": "2025-03-06T17:35:13.761Z"
   },
   {
    "duration": 15,
    "start_time": "2025-03-06T17:35:13.789Z"
   },
   {
    "duration": 6,
    "start_time": "2025-03-06T17:35:13.806Z"
   },
   {
    "duration": 58,
    "start_time": "2025-03-06T17:35:13.814Z"
   },
   {
    "duration": 25,
    "start_time": "2025-03-06T17:35:13.877Z"
   },
   {
    "duration": 16,
    "start_time": "2025-03-06T17:35:13.905Z"
   },
   {
    "duration": 9,
    "start_time": "2025-03-06T17:35:13.923Z"
   },
   {
    "duration": 288,
    "start_time": "2025-03-06T17:35:13.934Z"
   },
   {
    "duration": 187,
    "start_time": "2025-03-06T17:35:14.223Z"
   },
   {
    "duration": 323,
    "start_time": "2025-03-06T17:35:14.412Z"
   },
   {
    "duration": 361,
    "start_time": "2025-03-06T17:35:14.737Z"
   },
   {
    "duration": 364,
    "start_time": "2025-03-06T17:35:15.100Z"
   },
   {
    "duration": 455,
    "start_time": "2025-03-06T17:35:15.472Z"
   },
   {
    "duration": 45,
    "start_time": "2025-03-06T17:35:15.929Z"
   },
   {
    "duration": 19,
    "start_time": "2025-03-06T17:35:15.976Z"
   },
   {
    "duration": 18,
    "start_time": "2025-03-06T17:35:15.996Z"
   },
   {
    "duration": 376,
    "start_time": "2025-03-06T17:35:16.017Z"
   },
   {
    "duration": 299,
    "start_time": "2025-03-06T17:35:16.395Z"
   },
   {
    "duration": 206,
    "start_time": "2025-03-06T17:35:16.696Z"
   },
   {
    "duration": 281,
    "start_time": "2025-03-06T17:35:16.904Z"
   },
   {
    "duration": 16,
    "start_time": "2025-03-06T17:35:17.187Z"
   },
   {
    "duration": 6,
    "start_time": "2025-03-06T17:35:17.205Z"
   },
   {
    "duration": 66,
    "start_time": "2025-03-06T17:35:17.216Z"
   },
   {
    "duration": 18,
    "start_time": "2025-03-06T17:35:17.284Z"
   },
   {
    "duration": 23,
    "start_time": "2025-03-06T17:35:17.304Z"
   },
   {
    "duration": 51,
    "start_time": "2025-03-06T17:35:17.329Z"
   },
   {
    "duration": 13,
    "start_time": "2025-03-06T17:35:17.382Z"
   },
   {
    "duration": 27,
    "start_time": "2025-03-06T17:35:17.397Z"
   },
   {
    "duration": 2,
    "start_time": "2025-03-06T17:35:17.427Z"
   },
   {
    "duration": 147,
    "start_time": "2025-03-06T17:35:17.431Z"
   },
   {
    "duration": 0,
    "start_time": "2025-03-06T17:35:17.581Z"
   },
   {
    "duration": 0,
    "start_time": "2025-03-06T17:35:17.582Z"
   },
   {
    "duration": 0,
    "start_time": "2025-03-06T17:35:17.584Z"
   },
   {
    "duration": 0,
    "start_time": "2025-03-06T17:35:17.586Z"
   },
   {
    "duration": 0,
    "start_time": "2025-03-06T17:35:17.588Z"
   },
   {
    "duration": 16,
    "start_time": "2025-03-06T17:39:29.091Z"
   },
   {
    "duration": 3,
    "start_time": "2025-03-06T17:45:30.617Z"
   },
   {
    "duration": 13,
    "start_time": "2025-03-06T17:45:37.382Z"
   },
   {
    "duration": 5,
    "start_time": "2025-03-06T17:46:08.759Z"
   },
   {
    "duration": 1427,
    "start_time": "2025-03-06T17:46:50.877Z"
   },
   {
    "duration": 22,
    "start_time": "2025-03-06T17:46:52.307Z"
   },
   {
    "duration": 38,
    "start_time": "2025-03-06T17:46:52.331Z"
   },
   {
    "duration": 27,
    "start_time": "2025-03-06T17:46:52.372Z"
   },
   {
    "duration": 55,
    "start_time": "2025-03-06T17:46:52.402Z"
   },
   {
    "duration": 35,
    "start_time": "2025-03-06T17:46:52.459Z"
   },
   {
    "duration": 20,
    "start_time": "2025-03-06T17:46:52.496Z"
   },
   {
    "duration": 7,
    "start_time": "2025-03-06T17:46:52.518Z"
   },
   {
    "duration": 13,
    "start_time": "2025-03-06T17:46:52.527Z"
   },
   {
    "duration": 53,
    "start_time": "2025-03-06T17:46:52.543Z"
   },
   {
    "duration": 23,
    "start_time": "2025-03-06T17:46:52.598Z"
   },
   {
    "duration": 12,
    "start_time": "2025-03-06T17:46:52.623Z"
   },
   {
    "duration": 280,
    "start_time": "2025-03-06T17:46:52.637Z"
   },
   {
    "duration": 192,
    "start_time": "2025-03-06T17:46:52.919Z"
   },
   {
    "duration": 336,
    "start_time": "2025-03-06T17:46:53.113Z"
   },
   {
    "duration": 377,
    "start_time": "2025-03-06T17:46:53.451Z"
   },
   {
    "duration": 354,
    "start_time": "2025-03-06T17:46:53.830Z"
   },
   {
    "duration": 401,
    "start_time": "2025-03-06T17:46:54.186Z"
   },
   {
    "duration": 36,
    "start_time": "2025-03-06T17:46:54.592Z"
   },
   {
    "duration": 20,
    "start_time": "2025-03-06T17:46:54.630Z"
   },
   {
    "duration": 41,
    "start_time": "2025-03-06T17:46:54.652Z"
   },
   {
    "duration": 354,
    "start_time": "2025-03-06T17:46:54.695Z"
   },
   {
    "duration": 305,
    "start_time": "2025-03-06T17:46:55.051Z"
   },
   {
    "duration": 178,
    "start_time": "2025-03-06T17:46:55.372Z"
   },
   {
    "duration": 338,
    "start_time": "2025-03-06T17:46:55.553Z"
   },
   {
    "duration": 17,
    "start_time": "2025-03-06T17:46:55.895Z"
   },
   {
    "duration": 6,
    "start_time": "2025-03-06T17:46:55.914Z"
   },
   {
    "duration": 62,
    "start_time": "2025-03-06T17:46:55.925Z"
   },
   {
    "duration": 16,
    "start_time": "2025-03-06T17:46:55.991Z"
   },
   {
    "duration": 16,
    "start_time": "2025-03-06T17:46:56.010Z"
   },
   {
    "duration": 60,
    "start_time": "2025-03-06T17:46:56.028Z"
   },
   {
    "duration": 21,
    "start_time": "2025-03-06T17:46:56.090Z"
   },
   {
    "duration": 16,
    "start_time": "2025-03-06T17:46:56.113Z"
   },
   {
    "duration": 32,
    "start_time": "2025-03-06T17:46:56.131Z"
   },
   {
    "duration": 25,
    "start_time": "2025-03-06T17:46:56.165Z"
   },
   {
    "duration": 12,
    "start_time": "2025-03-06T17:46:56.192Z"
   },
   {
    "duration": 104,
    "start_time": "2025-03-06T17:46:56.207Z"
   },
   {
    "duration": 14,
    "start_time": "2025-03-06T17:46:56.313Z"
   },
   {
    "duration": 13,
    "start_time": "2025-03-06T17:46:56.330Z"
   },
   {
    "duration": 71,
    "start_time": "2025-03-06T17:46:56.345Z"
   },
   {
    "duration": 1334,
    "start_time": "2025-03-07T10:25:53.108Z"
   },
   {
    "duration": 33,
    "start_time": "2025-03-07T10:25:54.444Z"
   },
   {
    "duration": 30,
    "start_time": "2025-03-07T10:25:54.479Z"
   },
   {
    "duration": 16,
    "start_time": "2025-03-07T10:25:54.510Z"
   },
   {
    "duration": 41,
    "start_time": "2025-03-07T10:25:54.528Z"
   },
   {
    "duration": 13,
    "start_time": "2025-03-07T10:25:54.571Z"
   },
   {
    "duration": 31,
    "start_time": "2025-03-07T10:25:54.586Z"
   },
   {
    "duration": 5,
    "start_time": "2025-03-07T10:25:54.618Z"
   },
   {
    "duration": 11,
    "start_time": "2025-03-07T10:25:54.624Z"
   },
   {
    "duration": 12,
    "start_time": "2025-03-07T10:25:54.637Z"
   },
   {
    "duration": 42,
    "start_time": "2025-03-07T10:25:54.650Z"
   },
   {
    "duration": 121,
    "start_time": "2025-03-07T10:25:54.693Z"
   },
   {
    "duration": 205,
    "start_time": "2025-03-07T10:25:54.816Z"
   },
   {
    "duration": 161,
    "start_time": "2025-03-07T10:25:55.024Z"
   },
   {
    "duration": 272,
    "start_time": "2025-03-07T10:25:55.187Z"
   },
   {
    "duration": 313,
    "start_time": "2025-03-07T10:25:55.461Z"
   },
   {
    "duration": 322,
    "start_time": "2025-03-07T10:25:55.775Z"
   },
   {
    "duration": 332,
    "start_time": "2025-03-07T10:25:56.100Z"
   },
   {
    "duration": 23,
    "start_time": "2025-03-07T10:25:56.434Z"
   },
   {
    "duration": 75,
    "start_time": "2025-03-07T10:25:56.459Z"
   },
   {
    "duration": 22,
    "start_time": "2025-03-07T10:25:56.536Z"
   },
   {
    "duration": 323,
    "start_time": "2025-03-07T10:25:56.560Z"
   },
   {
    "duration": 244,
    "start_time": "2025-03-07T10:25:56.885Z"
   },
   {
    "duration": 164,
    "start_time": "2025-03-07T10:25:57.131Z"
   },
   {
    "duration": 243,
    "start_time": "2025-03-07T10:25:57.297Z"
   },
   {
    "duration": 15,
    "start_time": "2025-03-07T10:25:57.541Z"
   },
   {
    "duration": 4,
    "start_time": "2025-03-07T10:25:57.558Z"
   },
   {
    "duration": 62,
    "start_time": "2025-03-07T10:25:57.564Z"
   },
   {
    "duration": 14,
    "start_time": "2025-03-07T10:25:57.627Z"
   },
   {
    "duration": 15,
    "start_time": "2025-03-07T10:25:57.643Z"
   },
   {
    "duration": 14,
    "start_time": "2025-03-07T10:25:57.661Z"
   },
   {
    "duration": 82,
    "start_time": "2025-03-07T10:25:57.678Z"
   },
   {
    "duration": 12,
    "start_time": "2025-03-07T10:25:57.762Z"
   },
   {
    "duration": 4,
    "start_time": "2025-03-07T10:25:57.776Z"
   },
   {
    "duration": 5,
    "start_time": "2025-03-07T10:25:57.781Z"
   },
   {
    "duration": 3,
    "start_time": "2025-03-07T10:25:57.787Z"
   },
   {
    "duration": 81,
    "start_time": "2025-03-07T10:25:57.792Z"
   },
   {
    "duration": 12,
    "start_time": "2025-03-07T10:25:57.875Z"
   },
   {
    "duration": 30,
    "start_time": "2025-03-07T10:25:57.889Z"
   },
   {
    "duration": 15,
    "start_time": "2025-03-07T10:25:57.921Z"
   },
   {
    "duration": 13,
    "start_time": "2025-03-07T10:27:25.620Z"
   },
   {
    "duration": 1349,
    "start_time": "2025-03-07T10:36:13.749Z"
   },
   {
    "duration": 20,
    "start_time": "2025-03-07T10:36:15.100Z"
   },
   {
    "duration": 46,
    "start_time": "2025-03-07T10:36:15.122Z"
   },
   {
    "duration": 17,
    "start_time": "2025-03-07T10:36:15.171Z"
   },
   {
    "duration": 148,
    "start_time": "2025-03-07T10:36:15.190Z"
   },
   {
    "duration": 17,
    "start_time": "2025-03-07T10:36:15.340Z"
   },
   {
    "duration": 16,
    "start_time": "2025-03-07T10:36:15.359Z"
   },
   {
    "duration": 39,
    "start_time": "2025-03-07T10:36:15.377Z"
   },
   {
    "duration": 40,
    "start_time": "2025-03-07T10:36:15.418Z"
   },
   {
    "duration": 15,
    "start_time": "2025-03-07T10:36:15.460Z"
   },
   {
    "duration": 15,
    "start_time": "2025-03-07T10:36:15.477Z"
   },
   {
    "duration": 9,
    "start_time": "2025-03-07T10:36:15.514Z"
   },
   {
    "duration": 245,
    "start_time": "2025-03-07T10:36:15.524Z"
   },
   {
    "duration": 166,
    "start_time": "2025-03-07T10:36:15.770Z"
   },
   {
    "duration": 287,
    "start_time": "2025-03-07T10:36:15.938Z"
   },
   {
    "duration": 348,
    "start_time": "2025-03-07T10:36:16.227Z"
   },
   {
    "duration": 322,
    "start_time": "2025-03-07T10:36:16.577Z"
   },
   {
    "duration": 380,
    "start_time": "2025-03-07T10:36:16.901Z"
   },
   {
    "duration": 40,
    "start_time": "2025-03-07T10:36:17.282Z"
   },
   {
    "duration": 18,
    "start_time": "2025-03-07T10:36:17.323Z"
   },
   {
    "duration": 17,
    "start_time": "2025-03-07T10:36:17.343Z"
   },
   {
    "duration": 358,
    "start_time": "2025-03-07T10:36:17.362Z"
   },
   {
    "duration": 263,
    "start_time": "2025-03-07T10:36:17.722Z"
   },
   {
    "duration": 167,
    "start_time": "2025-03-07T10:36:17.987Z"
   },
   {
    "duration": 261,
    "start_time": "2025-03-07T10:36:18.155Z"
   },
   {
    "duration": 15,
    "start_time": "2025-03-07T10:36:18.418Z"
   },
   {
    "duration": 5,
    "start_time": "2025-03-07T10:36:18.434Z"
   },
   {
    "duration": 39,
    "start_time": "2025-03-07T10:36:18.442Z"
   },
   {
    "duration": 62,
    "start_time": "2025-03-07T10:36:18.482Z"
   },
   {
    "duration": 14,
    "start_time": "2025-03-07T10:36:18.546Z"
   },
   {
    "duration": 30,
    "start_time": "2025-03-07T10:36:18.562Z"
   },
   {
    "duration": 11,
    "start_time": "2025-03-07T10:36:18.594Z"
   },
   {
    "duration": 12,
    "start_time": "2025-03-07T10:36:18.607Z"
   },
   {
    "duration": 3,
    "start_time": "2025-03-07T10:36:18.621Z"
   },
   {
    "duration": 28,
    "start_time": "2025-03-07T10:36:18.626Z"
   },
   {
    "duration": 3,
    "start_time": "2025-03-07T10:36:18.656Z"
   },
   {
    "duration": 118,
    "start_time": "2025-03-07T10:36:18.660Z"
   },
   {
    "duration": 62,
    "start_time": "2025-03-07T10:36:18.780Z"
   },
   {
    "duration": 63,
    "start_time": "2025-03-07T10:36:18.844Z"
   },
   {
    "duration": 29,
    "start_time": "2025-03-07T10:36:18.909Z"
   },
   {
    "duration": 1195,
    "start_time": "2025-09-11T10:33:29.349Z"
   },
   {
    "duration": 29,
    "start_time": "2025-09-11T10:33:30.546Z"
   },
   {
    "duration": 36,
    "start_time": "2025-09-11T10:33:30.577Z"
   },
   {
    "duration": 15,
    "start_time": "2025-09-11T10:33:30.615Z"
   },
   {
    "duration": 101,
    "start_time": "2025-09-11T10:33:30.633Z"
   },
   {
    "duration": 58,
    "start_time": "2025-09-11T10:33:30.735Z"
   },
   {
    "duration": 38,
    "start_time": "2025-09-11T10:33:30.795Z"
   },
   {
    "duration": 26,
    "start_time": "2025-09-11T10:33:30.835Z"
   },
   {
    "duration": 34,
    "start_time": "2025-09-11T10:33:30.863Z"
   },
   {
    "duration": 16,
    "start_time": "2025-09-11T10:33:30.899Z"
   },
   {
    "duration": 65,
    "start_time": "2025-09-11T10:33:30.916Z"
   },
   {
    "duration": 17,
    "start_time": "2025-09-11T10:33:30.983Z"
   },
   {
    "duration": 230,
    "start_time": "2025-09-11T10:33:31.002Z"
   },
   {
    "duration": 174,
    "start_time": "2025-09-11T10:33:31.235Z"
   },
   {
    "duration": 302,
    "start_time": "2025-09-11T10:33:31.410Z"
   },
   {
    "duration": 310,
    "start_time": "2025-09-11T10:33:31.714Z"
   },
   {
    "duration": 308,
    "start_time": "2025-09-11T10:33:32.026Z"
   },
   {
    "duration": 353,
    "start_time": "2025-09-11T10:33:32.336Z"
   },
   {
    "duration": 33,
    "start_time": "2025-09-11T10:33:32.690Z"
   },
   {
    "duration": 16,
    "start_time": "2025-09-11T10:33:32.725Z"
   },
   {
    "duration": 75,
    "start_time": "2025-09-11T10:33:32.742Z"
   },
   {
    "duration": 308,
    "start_time": "2025-09-11T10:33:32.818Z"
   },
   {
    "duration": 252,
    "start_time": "2025-09-11T10:33:33.128Z"
   },
   {
    "duration": 162,
    "start_time": "2025-09-11T10:33:33.382Z"
   },
   {
    "duration": 262,
    "start_time": "2025-09-11T10:33:33.546Z"
   },
   {
    "duration": 14,
    "start_time": "2025-09-11T10:33:33.810Z"
   },
   {
    "duration": 28,
    "start_time": "2025-09-11T10:33:33.825Z"
   },
   {
    "duration": 35,
    "start_time": "2025-09-11T10:33:33.855Z"
   },
   {
    "duration": 12,
    "start_time": "2025-09-11T10:33:33.892Z"
   },
   {
    "duration": 29,
    "start_time": "2025-09-11T10:33:33.906Z"
   },
   {
    "duration": 46,
    "start_time": "2025-09-11T10:33:33.938Z"
   },
   {
    "duration": 14,
    "start_time": "2025-09-11T10:33:33.986Z"
   },
   {
    "duration": 29,
    "start_time": "2025-09-11T10:33:34.002Z"
   },
   {
    "duration": 21,
    "start_time": "2025-09-11T10:33:34.033Z"
   },
   {
    "duration": 14,
    "start_time": "2025-09-11T10:33:34.056Z"
   },
   {
    "duration": 5,
    "start_time": "2025-09-11T10:33:34.072Z"
   },
   {
    "duration": 88,
    "start_time": "2025-09-11T10:33:34.079Z"
   },
   {
    "duration": 11,
    "start_time": "2025-09-11T10:33:34.169Z"
   },
   {
    "duration": 26,
    "start_time": "2025-09-11T10:33:34.182Z"
   },
   {
    "duration": 64,
    "start_time": "2025-09-11T10:33:34.210Z"
   }
  ],
  "kernelspec": {
   "display_name": "Python 3 (ipykernel)",
   "language": "python",
   "name": "python3"
  },
  "language_info": {
   "codemirror_mode": {
    "name": "ipython",
    "version": 3
   },
   "file_extension": ".py",
   "mimetype": "text/x-python",
   "name": "python",
   "nbconvert_exporter": "python",
   "pygments_lexer": "ipython3",
   "version": "3.12.2"
  },
  "toc": {
   "base_numbering": 1,
   "nav_menu": {},
   "number_sections": true,
   "sideBar": true,
   "skip_h1_title": true,
   "title_cell": "Содержание",
   "title_sidebar": "Contents",
   "toc_cell": true,
   "toc_position": {},
   "toc_section_display": true,
   "toc_window_display": true
  }
 },
 "nbformat": 4,
 "nbformat_minor": 5
}
