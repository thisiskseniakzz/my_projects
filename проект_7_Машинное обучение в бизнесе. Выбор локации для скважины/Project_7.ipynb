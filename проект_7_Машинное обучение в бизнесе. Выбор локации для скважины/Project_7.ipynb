{
 "cells": [
  {
   "cell_type": "markdown",
   "metadata": {},
   "source": [
    "# Выбор локации для скважины"
   ]
  },
  {
   "cell_type": "markdown",
   "metadata": {},
   "source": [
    "Допустим, вы работаете в добывающей компании «ГлавРосГосНефть». Нужно решить, где бурить новую скважину.\n",
    "\n",
    "Вам предоставлены пробы нефти в трёх регионах: в каждом 100 000 месторождений, где измерили качество нефти и объём её запасов. Постройте модель машинного обучения, которая поможет определить регион, где добыча принесёт наибольшую прибыль. Проанализируйте возможную прибыль и риски техникой *Bootstrap.*\n",
    "\n",
    "Шаги для выбора локации:\n",
    "\n",
    "- В избранном регионе ищут месторождения, для каждого определяют значения признаков;\n",
    "- Строят модель и оценивают объём запасов;\n",
    "- Выбирают месторождения с самым высокими оценками значений. Количество месторождений зависит от бюджета компании и стоимости разработки одной скважины;\n",
    "- Прибыль равна суммарной прибыли отобранных месторождений."
   ]
  },
  {
   "cell_type": "markdown",
   "metadata": {},
   "source": [
    "- `id` — уникальный идентификатор скважины;\n",
    "- `f0`, `f1`, `f2` — три признака точек (неважно, что они означают, но сами признаки значимы);\n",
    "- `product` — объём запасов в скважине (тыс. баррелей)."
   ]
  },
  {
   "cell_type": "markdown",
   "metadata": {
    "toc": true
   },
   "source": [
    "<h1>Содержание<span class=\"tocSkip\"></span></h1>\n",
    "<div class=\"toc\"><ul class=\"toc-item\"><li><span><a href=\"#Загрузка-и-подготовка-данных\" data-toc-modified-id=\"Загрузка-и-подготовка-данных-1\"><span class=\"toc-item-num\">1&nbsp;&nbsp;</span>Загрузка и подготовка данных</a></span><ul class=\"toc-item\"><li><span><a href=\"#Удаление-выбросов\" data-toc-modified-id=\"Удаление-выбросов-1.1\"><span class=\"toc-item-num\">1.1&nbsp;&nbsp;</span>Удаление выбросов</a></span><ul class=\"toc-item\"><li><span><a href=\"#data_0\" data-toc-modified-id=\"data_0-1.1.1\"><span class=\"toc-item-num\">1.1.1&nbsp;&nbsp;</span>data_0</a></span></li><li><span><a href=\"#data_1\" data-toc-modified-id=\"data_1-1.1.2\"><span class=\"toc-item-num\">1.1.2&nbsp;&nbsp;</span>data_1</a></span></li><li><span><a href=\"#data_3\" data-toc-modified-id=\"data_3-1.1.3\"><span class=\"toc-item-num\">1.1.3&nbsp;&nbsp;</span>data_3</a></span></li></ul></li></ul></li><li><span><a href=\"#Обучение-и-проверка-модели\" data-toc-modified-id=\"Обучение-и-проверка-модели-2\"><span class=\"toc-item-num\">2&nbsp;&nbsp;</span>Обучение и проверка модели</a></span><ul class=\"toc-item\"><li><span><a href=\"#Data_0\" data-toc-modified-id=\"Data_0-2.1\"><span class=\"toc-item-num\">2.1&nbsp;&nbsp;</span>Data_0</a></span></li><li><span><a href=\"#Data_1\" data-toc-modified-id=\"Data_1-2.2\"><span class=\"toc-item-num\">2.2&nbsp;&nbsp;</span>Data_1</a></span></li><li><span><a href=\"#Data_2\" data-toc-modified-id=\"Data_2-2.3\"><span class=\"toc-item-num\">2.3&nbsp;&nbsp;</span>Data_2</a></span></li><li><span><a href=\"#Промежуточные-выводы\" data-toc-modified-id=\"Промежуточные-выводы-2.4\"><span class=\"toc-item-num\">2.4&nbsp;&nbsp;</span>Промежуточные выводы</a></span></li></ul></li><li><span><a href=\"#Подготовка-к-расчёту-прибыли\" data-toc-modified-id=\"Подготовка-к-расчёту-прибыли-3\"><span class=\"toc-item-num\">3&nbsp;&nbsp;</span>Подготовка к расчёту прибыли</a></span><ul class=\"toc-item\"><li><span><a href=\"#Промежуточный-вывод\" data-toc-modified-id=\"Промежуточный-вывод-3.1\"><span class=\"toc-item-num\">3.1&nbsp;&nbsp;</span>Промежуточный вывод</a></span></li></ul></li><li><span><a href=\"#Расчёт-прибыли-и-рисков\" data-toc-modified-id=\"Расчёт-прибыли-и-рисков-4\"><span class=\"toc-item-num\">4&nbsp;&nbsp;</span>Расчёт прибыли и рисков</a></span><ul class=\"toc-item\"><li><span><a href=\"#Функция-для-расчета-прибыли\" data-toc-modified-id=\"Функция-для-расчета-прибыли-4.1\"><span class=\"toc-item-num\">4.1&nbsp;&nbsp;</span>Функция для расчета прибыли</a></span></li><li><span><a href=\"#Bootstrap-анализ-прибыли-и-функция-для-расчета-целевых-показателей\" data-toc-modified-id=\"Bootstrap-анализ-прибыли-и-функция-для-расчета-целевых-показателей-4.2\"><span class=\"toc-item-num\">4.2&nbsp;&nbsp;</span>Bootstrap-анализ прибыли и функция для расчета целевых показателей</a></span></li></ul></li><li><span><a href=\"#Вывод\" data-toc-modified-id=\"Вывод-5\"><span class=\"toc-item-num\">5&nbsp;&nbsp;</span>Вывод</a></span></li><li><span><a href=\"#Чек-лист-готовности-проекта\" data-toc-modified-id=\"Чек-лист-готовности-проекта-6\"><span class=\"toc-item-num\">6&nbsp;&nbsp;</span>Чек-лист готовности проекта</a></span></li></ul></div>"
   ]
  },
  {
   "cell_type": "markdown",
   "metadata": {},
   "source": [
    "## Загрузка и подготовка данных"
   ]
  },
  {
   "cell_type": "markdown",
   "metadata": {},
   "source": [
    "Импорт библиотек"
   ]
  },
  {
   "cell_type": "code",
   "execution_count": 15,
   "metadata": {
    "scrolled": true
   },
   "outputs": [
    {
     "name": "stdout",
     "output_type": "stream",
     "text": [
      "Collecting phik\n",
      "  Downloading phik-0.12.5-cp39-cp39-manylinux_2_24_x86_64.manylinux_2_28_x86_64.whl (677 kB)\n",
      "\u001b[K     |████████████████████████████████| 677 kB 2.1 MB/s eta 0:00:01\n",
      "\u001b[?25hRequirement already satisfied: pandas>=0.25.1 in /opt/conda/lib/python3.9/site-packages (from phik) (1.2.4)\n",
      "Requirement already satisfied: scipy>=1.5.2 in /opt/conda/lib/python3.9/site-packages (from phik) (1.9.1)\n",
      "Requirement already satisfied: matplotlib>=2.2.3 in /opt/conda/lib/python3.9/site-packages (from phik) (3.3.4)\n",
      "Requirement already satisfied: numpy>=1.18.0 in /opt/conda/lib/python3.9/site-packages (from phik) (1.21.1)\n",
      "Requirement already satisfied: joblib>=0.14.1 in /opt/conda/lib/python3.9/site-packages (from phik) (1.1.0)\n",
      "Requirement already satisfied: cycler>=0.10 in /opt/conda/lib/python3.9/site-packages (from matplotlib>=2.2.3->phik) (0.11.0)\n",
      "Requirement already satisfied: kiwisolver>=1.0.1 in /opt/conda/lib/python3.9/site-packages (from matplotlib>=2.2.3->phik) (1.4.4)\n",
      "Requirement already satisfied: pyparsing!=2.0.4,!=2.1.2,!=2.1.6,>=2.0.3 in /opt/conda/lib/python3.9/site-packages (from matplotlib>=2.2.3->phik) (2.4.7)\n",
      "Requirement already satisfied: python-dateutil>=2.1 in /opt/conda/lib/python3.9/site-packages (from matplotlib>=2.2.3->phik) (2.8.1)\n",
      "Requirement already satisfied: pillow>=6.2.0 in /opt/conda/lib/python3.9/site-packages (from matplotlib>=2.2.3->phik) (8.4.0)\n",
      "Requirement already satisfied: pytz>=2017.3 in /opt/conda/lib/python3.9/site-packages (from pandas>=0.25.1->phik) (2021.1)\n",
      "Requirement already satisfied: six>=1.5 in /opt/conda/lib/python3.9/site-packages (from python-dateutil>=2.1->matplotlib>=2.2.3->phik) (1.16.0)\n",
      "Installing collected packages: phik\n",
      "Successfully installed phik-0.12.5\n"
     ]
    }
   ],
   "source": [
    "!pip install phik"
   ]
  },
  {
   "cell_type": "code",
   "execution_count": 1,
   "metadata": {},
   "outputs": [],
   "source": [
    "import pandas as pd\n",
    "import numpy as np\n",
    "import seaborn as sns\n",
    "from scipy import stats as st\n",
    "from numpy.random import RandomState\n",
    "import matplotlib.pyplot as plt\n",
    "\n",
    "from sklearn.preprocessing import StandardScaler\n",
    "from sklearn.model_selection import train_test_split\n",
    "from sklearn.metrics import mean_squared_error\n",
    "from sklearn.linear_model import LinearRegression\n",
    "\n",
    "# Сброс ограничений на число столбцов\n",
    "pd.set_option('display.max_columns', None)\n",
    "pd.options.mode.chained_assignment=None"
   ]
  },
  {
   "cell_type": "markdown",
   "metadata": {},
   "source": [
    "Загрузим и изучим данные для задачи"
   ]
  },
  {
   "cell_type": "code",
   "execution_count": 2,
   "metadata": {},
   "outputs": [],
   "source": [
    "data_0 = pd.read_csv('/datasets/geo_data_0.csv')\n",
    "data_1 = pd.read_csv('/datasets/geo_data_1.csv')\n",
    "data_2 = pd.read_csv('/datasets/geo_data_2.csv')"
   ]
  },
  {
   "cell_type": "code",
   "execution_count": 3,
   "metadata": {},
   "outputs": [],
   "source": [
    "geo_data = {\n",
    "    'data_0': data_0,\n",
    "    'data_1': data_1,\n",
    "    'data_2': data_2\n",
    "}"
   ]
  },
  {
   "cell_type": "markdown",
   "metadata": {},
   "source": [
    "Посмотрим на данные"
   ]
  },
  {
   "cell_type": "code",
   "execution_count": 4,
   "metadata": {},
   "outputs": [
    {
     "data": {
      "text/html": [
       "<div>\n",
       "<style scoped>\n",
       "    .dataframe tbody tr th:only-of-type {\n",
       "        vertical-align: middle;\n",
       "    }\n",
       "\n",
       "    .dataframe tbody tr th {\n",
       "        vertical-align: top;\n",
       "    }\n",
       "\n",
       "    .dataframe thead th {\n",
       "        text-align: right;\n",
       "    }\n",
       "</style>\n",
       "<table border=\"1\" class=\"dataframe\">\n",
       "  <thead>\n",
       "    <tr style=\"text-align: right;\">\n",
       "      <th></th>\n",
       "      <th>id</th>\n",
       "      <th>f0</th>\n",
       "      <th>f1</th>\n",
       "      <th>f2</th>\n",
       "      <th>product</th>\n",
       "    </tr>\n",
       "  </thead>\n",
       "  <tbody>\n",
       "    <tr>\n",
       "      <th>0</th>\n",
       "      <td>txEyH</td>\n",
       "      <td>0.705745</td>\n",
       "      <td>-0.497823</td>\n",
       "      <td>1.221170</td>\n",
       "      <td>105.280062</td>\n",
       "    </tr>\n",
       "    <tr>\n",
       "      <th>1</th>\n",
       "      <td>2acmU</td>\n",
       "      <td>1.334711</td>\n",
       "      <td>-0.340164</td>\n",
       "      <td>4.365080</td>\n",
       "      <td>73.037750</td>\n",
       "    </tr>\n",
       "    <tr>\n",
       "      <th>2</th>\n",
       "      <td>409Wp</td>\n",
       "      <td>1.022732</td>\n",
       "      <td>0.151990</td>\n",
       "      <td>1.419926</td>\n",
       "      <td>85.265647</td>\n",
       "    </tr>\n",
       "    <tr>\n",
       "      <th>3</th>\n",
       "      <td>iJLyR</td>\n",
       "      <td>-0.032172</td>\n",
       "      <td>0.139033</td>\n",
       "      <td>2.978566</td>\n",
       "      <td>168.620776</td>\n",
       "    </tr>\n",
       "    <tr>\n",
       "      <th>4</th>\n",
       "      <td>Xdl7t</td>\n",
       "      <td>1.988431</td>\n",
       "      <td>0.155413</td>\n",
       "      <td>4.751769</td>\n",
       "      <td>154.036647</td>\n",
       "    </tr>\n",
       "  </tbody>\n",
       "</table>\n",
       "</div>"
      ],
      "text/plain": [
       "      id        f0        f1        f2     product\n",
       "0  txEyH  0.705745 -0.497823  1.221170  105.280062\n",
       "1  2acmU  1.334711 -0.340164  4.365080   73.037750\n",
       "2  409Wp  1.022732  0.151990  1.419926   85.265647\n",
       "3  iJLyR -0.032172  0.139033  2.978566  168.620776\n",
       "4  Xdl7t  1.988431  0.155413  4.751769  154.036647"
      ]
     },
     "metadata": {},
     "output_type": "display_data"
    },
    {
     "data": {
      "text/html": [
       "<div>\n",
       "<style scoped>\n",
       "    .dataframe tbody tr th:only-of-type {\n",
       "        vertical-align: middle;\n",
       "    }\n",
       "\n",
       "    .dataframe tbody tr th {\n",
       "        vertical-align: top;\n",
       "    }\n",
       "\n",
       "    .dataframe thead th {\n",
       "        text-align: right;\n",
       "    }\n",
       "</style>\n",
       "<table border=\"1\" class=\"dataframe\">\n",
       "  <thead>\n",
       "    <tr style=\"text-align: right;\">\n",
       "      <th></th>\n",
       "      <th>id</th>\n",
       "      <th>f0</th>\n",
       "      <th>f1</th>\n",
       "      <th>f2</th>\n",
       "      <th>product</th>\n",
       "    </tr>\n",
       "  </thead>\n",
       "  <tbody>\n",
       "    <tr>\n",
       "      <th>0</th>\n",
       "      <td>kBEdx</td>\n",
       "      <td>-15.001348</td>\n",
       "      <td>-8.276000</td>\n",
       "      <td>-0.005876</td>\n",
       "      <td>3.179103</td>\n",
       "    </tr>\n",
       "    <tr>\n",
       "      <th>1</th>\n",
       "      <td>62mP7</td>\n",
       "      <td>14.272088</td>\n",
       "      <td>-3.475083</td>\n",
       "      <td>0.999183</td>\n",
       "      <td>26.953261</td>\n",
       "    </tr>\n",
       "    <tr>\n",
       "      <th>2</th>\n",
       "      <td>vyE1P</td>\n",
       "      <td>6.263187</td>\n",
       "      <td>-5.948386</td>\n",
       "      <td>5.001160</td>\n",
       "      <td>134.766305</td>\n",
       "    </tr>\n",
       "    <tr>\n",
       "      <th>3</th>\n",
       "      <td>KcrkZ</td>\n",
       "      <td>-13.081196</td>\n",
       "      <td>-11.506057</td>\n",
       "      <td>4.999415</td>\n",
       "      <td>137.945408</td>\n",
       "    </tr>\n",
       "    <tr>\n",
       "      <th>4</th>\n",
       "      <td>AHL4O</td>\n",
       "      <td>12.702195</td>\n",
       "      <td>-8.147433</td>\n",
       "      <td>5.004363</td>\n",
       "      <td>134.766305</td>\n",
       "    </tr>\n",
       "  </tbody>\n",
       "</table>\n",
       "</div>"
      ],
      "text/plain": [
       "      id         f0         f1        f2     product\n",
       "0  kBEdx -15.001348  -8.276000 -0.005876    3.179103\n",
       "1  62mP7  14.272088  -3.475083  0.999183   26.953261\n",
       "2  vyE1P   6.263187  -5.948386  5.001160  134.766305\n",
       "3  KcrkZ -13.081196 -11.506057  4.999415  137.945408\n",
       "4  AHL4O  12.702195  -8.147433  5.004363  134.766305"
      ]
     },
     "metadata": {},
     "output_type": "display_data"
    },
    {
     "data": {
      "text/html": [
       "<div>\n",
       "<style scoped>\n",
       "    .dataframe tbody tr th:only-of-type {\n",
       "        vertical-align: middle;\n",
       "    }\n",
       "\n",
       "    .dataframe tbody tr th {\n",
       "        vertical-align: top;\n",
       "    }\n",
       "\n",
       "    .dataframe thead th {\n",
       "        text-align: right;\n",
       "    }\n",
       "</style>\n",
       "<table border=\"1\" class=\"dataframe\">\n",
       "  <thead>\n",
       "    <tr style=\"text-align: right;\">\n",
       "      <th></th>\n",
       "      <th>id</th>\n",
       "      <th>f0</th>\n",
       "      <th>f1</th>\n",
       "      <th>f2</th>\n",
       "      <th>product</th>\n",
       "    </tr>\n",
       "  </thead>\n",
       "  <tbody>\n",
       "    <tr>\n",
       "      <th>0</th>\n",
       "      <td>fwXo0</td>\n",
       "      <td>-1.146987</td>\n",
       "      <td>0.963328</td>\n",
       "      <td>-0.828965</td>\n",
       "      <td>27.758673</td>\n",
       "    </tr>\n",
       "    <tr>\n",
       "      <th>1</th>\n",
       "      <td>WJtFt</td>\n",
       "      <td>0.262778</td>\n",
       "      <td>0.269839</td>\n",
       "      <td>-2.530187</td>\n",
       "      <td>56.069697</td>\n",
       "    </tr>\n",
       "    <tr>\n",
       "      <th>2</th>\n",
       "      <td>ovLUW</td>\n",
       "      <td>0.194587</td>\n",
       "      <td>0.289035</td>\n",
       "      <td>-5.586433</td>\n",
       "      <td>62.871910</td>\n",
       "    </tr>\n",
       "    <tr>\n",
       "      <th>3</th>\n",
       "      <td>q6cA6</td>\n",
       "      <td>2.236060</td>\n",
       "      <td>-0.553760</td>\n",
       "      <td>0.930038</td>\n",
       "      <td>114.572842</td>\n",
       "    </tr>\n",
       "    <tr>\n",
       "      <th>4</th>\n",
       "      <td>WPMUX</td>\n",
       "      <td>-0.515993</td>\n",
       "      <td>1.716266</td>\n",
       "      <td>5.899011</td>\n",
       "      <td>149.600746</td>\n",
       "    </tr>\n",
       "  </tbody>\n",
       "</table>\n",
       "</div>"
      ],
      "text/plain": [
       "      id        f0        f1        f2     product\n",
       "0  fwXo0 -1.146987  0.963328 -0.828965   27.758673\n",
       "1  WJtFt  0.262778  0.269839 -2.530187   56.069697\n",
       "2  ovLUW  0.194587  0.289035 -5.586433   62.871910\n",
       "3  q6cA6  2.236060 -0.553760  0.930038  114.572842\n",
       "4  WPMUX -0.515993  1.716266  5.899011  149.600746"
      ]
     },
     "metadata": {},
     "output_type": "display_data"
    }
   ],
   "source": [
    "def display_first_n_rows(geo_data, n=5):\n",
    "    for name, df in geo_data.items():\n",
    "        display(df.head(n))\n",
    "display_first_n_rows(geo_data, n=5)"
   ]
  },
  {
   "cell_type": "markdown",
   "metadata": {},
   "source": [
    "Проверка на полные дубликаты"
   ]
  },
  {
   "cell_type": "code",
   "execution_count": 5,
   "metadata": {},
   "outputs": [
    {
     "name": "stdout",
     "output_type": "stream",
     "text": [
      "Таблица: data_0\n",
      "Обнаружено дубликатов: 0\n",
      "Осталось строк после удаления: 100000\n",
      "--------------------------------------------------\n",
      "Таблица: data_1\n",
      "Обнаружено дубликатов: 0\n",
      "Осталось строк после удаления: 100000\n",
      "--------------------------------------------------\n",
      "Таблица: data_2\n",
      "Обнаружено дубликатов: 0\n",
      "Осталось строк после удаления: 100000\n",
      "--------------------------------------------------\n",
      "\n",
      "Обработка завершена. Дубликаты удалены.\n",
      "\n"
     ]
    }
   ],
   "source": [
    "def remove_duplicates():\n",
    "    \n",
    "    for name, df in geo_data.items():\n",
    "\n",
    "        duplicates_count = df.duplicated().sum()\n",
    "        \n",
    "        print(f\"Таблица: {name}\")\n",
    "        print(f\"Обнаружено дубликатов: {duplicates_count}\")\n",
    "        print(f\"Осталось строк после удаления: {len(df)}\")\n",
    "        print(\"-\" * 50)\n",
    "    \n",
    "    print(\"\\nОбработка завершена. Дубликаты удалены.\\n\")\n",
    "\n",
    "remove_duplicates()"
   ]
  },
  {
   "cell_type": "code",
   "execution_count": 6,
   "metadata": {},
   "outputs": [
    {
     "data": {
      "text/plain": [
       "{'data_0'}"
      ]
     },
     "metadata": {},
     "output_type": "display_data"
    },
    {
     "name": "stdout",
     "output_type": "stream",
     "text": [
      "<class 'pandas.core.frame.DataFrame'>\n",
      "RangeIndex: 100000 entries, 0 to 99999\n",
      "Data columns (total 5 columns):\n",
      " #   Column   Non-Null Count   Dtype  \n",
      "---  ------   --------------   -----  \n",
      " 0   id       100000 non-null  object \n",
      " 1   f0       100000 non-null  float64\n",
      " 2   f1       100000 non-null  float64\n",
      " 3   f2       100000 non-null  float64\n",
      " 4   product  100000 non-null  float64\n",
      "dtypes: float64(4), object(1)\n",
      "memory usage: 3.8+ MB\n"
     ]
    },
    {
     "data": {
      "text/plain": [
       "{'data_1'}"
      ]
     },
     "metadata": {},
     "output_type": "display_data"
    },
    {
     "name": "stdout",
     "output_type": "stream",
     "text": [
      "<class 'pandas.core.frame.DataFrame'>\n",
      "RangeIndex: 100000 entries, 0 to 99999\n",
      "Data columns (total 5 columns):\n",
      " #   Column   Non-Null Count   Dtype  \n",
      "---  ------   --------------   -----  \n",
      " 0   id       100000 non-null  object \n",
      " 1   f0       100000 non-null  float64\n",
      " 2   f1       100000 non-null  float64\n",
      " 3   f2       100000 non-null  float64\n",
      " 4   product  100000 non-null  float64\n",
      "dtypes: float64(4), object(1)\n",
      "memory usage: 3.8+ MB\n"
     ]
    },
    {
     "data": {
      "text/plain": [
       "{'data_2'}"
      ]
     },
     "metadata": {},
     "output_type": "display_data"
    },
    {
     "name": "stdout",
     "output_type": "stream",
     "text": [
      "<class 'pandas.core.frame.DataFrame'>\n",
      "RangeIndex: 100000 entries, 0 to 99999\n",
      "Data columns (total 5 columns):\n",
      " #   Column   Non-Null Count   Dtype  \n",
      "---  ------   --------------   -----  \n",
      " 0   id       100000 non-null  object \n",
      " 1   f0       100000 non-null  float64\n",
      " 2   f1       100000 non-null  float64\n",
      " 3   f2       100000 non-null  float64\n",
      " 4   product  100000 non-null  float64\n",
      "dtypes: float64(4), object(1)\n",
      "memory usage: 3.8+ MB\n"
     ]
    }
   ],
   "source": [
    "def display_first_n_rows(geo_data, n=5):\n",
    "    for name, df in geo_data.items():\n",
    "        display({name})\n",
    "        df.info()\n",
    "display_first_n_rows(geo_data)"
   ]
  },
  {
   "cell_type": "markdown",
   "metadata": {},
   "source": [
    "Пропусков не обнаружено"
   ]
  },
  {
   "cell_type": "code",
   "execution_count": 7,
   "metadata": {},
   "outputs": [
    {
     "name": "stdout",
     "output_type": "stream",
     "text": [
      "\n",
      "Статистика для набора данных: data_0\n",
      "\n"
     ]
    },
    {
     "data": {
      "text/html": [
       "<div>\n",
       "<style scoped>\n",
       "    .dataframe tbody tr th:only-of-type {\n",
       "        vertical-align: middle;\n",
       "    }\n",
       "\n",
       "    .dataframe tbody tr th {\n",
       "        vertical-align: top;\n",
       "    }\n",
       "\n",
       "    .dataframe thead th {\n",
       "        text-align: right;\n",
       "    }\n",
       "</style>\n",
       "<table border=\"1\" class=\"dataframe\">\n",
       "  <thead>\n",
       "    <tr style=\"text-align: right;\">\n",
       "      <th></th>\n",
       "      <th>f0</th>\n",
       "      <th>f1</th>\n",
       "      <th>f2</th>\n",
       "      <th>product</th>\n",
       "    </tr>\n",
       "  </thead>\n",
       "  <tbody>\n",
       "    <tr>\n",
       "      <th>count</th>\n",
       "      <td>100000.000000</td>\n",
       "      <td>100000.000000</td>\n",
       "      <td>100000.000000</td>\n",
       "      <td>100000.000000</td>\n",
       "    </tr>\n",
       "    <tr>\n",
       "      <th>mean</th>\n",
       "      <td>0.500419</td>\n",
       "      <td>0.250143</td>\n",
       "      <td>2.502647</td>\n",
       "      <td>92.500000</td>\n",
       "    </tr>\n",
       "    <tr>\n",
       "      <th>std</th>\n",
       "      <td>0.871832</td>\n",
       "      <td>0.504433</td>\n",
       "      <td>3.248248</td>\n",
       "      <td>44.288691</td>\n",
       "    </tr>\n",
       "    <tr>\n",
       "      <th>min</th>\n",
       "      <td>-1.408605</td>\n",
       "      <td>-0.848218</td>\n",
       "      <td>-12.088328</td>\n",
       "      <td>0.000000</td>\n",
       "    </tr>\n",
       "    <tr>\n",
       "      <th>25%</th>\n",
       "      <td>-0.072580</td>\n",
       "      <td>-0.200881</td>\n",
       "      <td>0.287748</td>\n",
       "      <td>56.497507</td>\n",
       "    </tr>\n",
       "    <tr>\n",
       "      <th>50%</th>\n",
       "      <td>0.502360</td>\n",
       "      <td>0.250252</td>\n",
       "      <td>2.515969</td>\n",
       "      <td>91.849972</td>\n",
       "    </tr>\n",
       "    <tr>\n",
       "      <th>75%</th>\n",
       "      <td>1.073581</td>\n",
       "      <td>0.700646</td>\n",
       "      <td>4.715088</td>\n",
       "      <td>128.564089</td>\n",
       "    </tr>\n",
       "    <tr>\n",
       "      <th>max</th>\n",
       "      <td>2.362331</td>\n",
       "      <td>1.343769</td>\n",
       "      <td>16.003790</td>\n",
       "      <td>185.364347</td>\n",
       "    </tr>\n",
       "  </tbody>\n",
       "</table>\n",
       "</div>"
      ],
      "text/plain": [
       "                  f0             f1             f2        product\n",
       "count  100000.000000  100000.000000  100000.000000  100000.000000\n",
       "mean        0.500419       0.250143       2.502647      92.500000\n",
       "std         0.871832       0.504433       3.248248      44.288691\n",
       "min        -1.408605      -0.848218     -12.088328       0.000000\n",
       "25%        -0.072580      -0.200881       0.287748      56.497507\n",
       "50%         0.502360       0.250252       2.515969      91.849972\n",
       "75%         1.073581       0.700646       4.715088     128.564089\n",
       "max         2.362331       1.343769      16.003790     185.364347"
      ]
     },
     "metadata": {},
     "output_type": "display_data"
    },
    {
     "name": "stdout",
     "output_type": "stream",
     "text": [
      "\n",
      "Статистика для набора данных: data_1\n",
      "\n"
     ]
    },
    {
     "data": {
      "text/html": [
       "<div>\n",
       "<style scoped>\n",
       "    .dataframe tbody tr th:only-of-type {\n",
       "        vertical-align: middle;\n",
       "    }\n",
       "\n",
       "    .dataframe tbody tr th {\n",
       "        vertical-align: top;\n",
       "    }\n",
       "\n",
       "    .dataframe thead th {\n",
       "        text-align: right;\n",
       "    }\n",
       "</style>\n",
       "<table border=\"1\" class=\"dataframe\">\n",
       "  <thead>\n",
       "    <tr style=\"text-align: right;\">\n",
       "      <th></th>\n",
       "      <th>f0</th>\n",
       "      <th>f1</th>\n",
       "      <th>f2</th>\n",
       "      <th>product</th>\n",
       "    </tr>\n",
       "  </thead>\n",
       "  <tbody>\n",
       "    <tr>\n",
       "      <th>count</th>\n",
       "      <td>100000.000000</td>\n",
       "      <td>100000.000000</td>\n",
       "      <td>100000.000000</td>\n",
       "      <td>100000.000000</td>\n",
       "    </tr>\n",
       "    <tr>\n",
       "      <th>mean</th>\n",
       "      <td>1.141296</td>\n",
       "      <td>-4.796579</td>\n",
       "      <td>2.494541</td>\n",
       "      <td>68.825000</td>\n",
       "    </tr>\n",
       "    <tr>\n",
       "      <th>std</th>\n",
       "      <td>8.965932</td>\n",
       "      <td>5.119872</td>\n",
       "      <td>1.703572</td>\n",
       "      <td>45.944423</td>\n",
       "    </tr>\n",
       "    <tr>\n",
       "      <th>min</th>\n",
       "      <td>-31.609576</td>\n",
       "      <td>-26.358598</td>\n",
       "      <td>-0.018144</td>\n",
       "      <td>0.000000</td>\n",
       "    </tr>\n",
       "    <tr>\n",
       "      <th>25%</th>\n",
       "      <td>-6.298551</td>\n",
       "      <td>-8.267985</td>\n",
       "      <td>1.000021</td>\n",
       "      <td>26.953261</td>\n",
       "    </tr>\n",
       "    <tr>\n",
       "      <th>50%</th>\n",
       "      <td>1.153055</td>\n",
       "      <td>-4.813172</td>\n",
       "      <td>2.011479</td>\n",
       "      <td>57.085625</td>\n",
       "    </tr>\n",
       "    <tr>\n",
       "      <th>75%</th>\n",
       "      <td>8.621015</td>\n",
       "      <td>-1.332816</td>\n",
       "      <td>3.999904</td>\n",
       "      <td>107.813044</td>\n",
       "    </tr>\n",
       "    <tr>\n",
       "      <th>max</th>\n",
       "      <td>29.421755</td>\n",
       "      <td>18.734063</td>\n",
       "      <td>5.019721</td>\n",
       "      <td>137.945408</td>\n",
       "    </tr>\n",
       "  </tbody>\n",
       "</table>\n",
       "</div>"
      ],
      "text/plain": [
       "                  f0             f1             f2        product\n",
       "count  100000.000000  100000.000000  100000.000000  100000.000000\n",
       "mean        1.141296      -4.796579       2.494541      68.825000\n",
       "std         8.965932       5.119872       1.703572      45.944423\n",
       "min       -31.609576     -26.358598      -0.018144       0.000000\n",
       "25%        -6.298551      -8.267985       1.000021      26.953261\n",
       "50%         1.153055      -4.813172       2.011479      57.085625\n",
       "75%         8.621015      -1.332816       3.999904     107.813044\n",
       "max        29.421755      18.734063       5.019721     137.945408"
      ]
     },
     "metadata": {},
     "output_type": "display_data"
    },
    {
     "name": "stdout",
     "output_type": "stream",
     "text": [
      "\n",
      "Статистика для набора данных: data_2\n",
      "\n"
     ]
    },
    {
     "data": {
      "text/html": [
       "<div>\n",
       "<style scoped>\n",
       "    .dataframe tbody tr th:only-of-type {\n",
       "        vertical-align: middle;\n",
       "    }\n",
       "\n",
       "    .dataframe tbody tr th {\n",
       "        vertical-align: top;\n",
       "    }\n",
       "\n",
       "    .dataframe thead th {\n",
       "        text-align: right;\n",
       "    }\n",
       "</style>\n",
       "<table border=\"1\" class=\"dataframe\">\n",
       "  <thead>\n",
       "    <tr style=\"text-align: right;\">\n",
       "      <th></th>\n",
       "      <th>f0</th>\n",
       "      <th>f1</th>\n",
       "      <th>f2</th>\n",
       "      <th>product</th>\n",
       "    </tr>\n",
       "  </thead>\n",
       "  <tbody>\n",
       "    <tr>\n",
       "      <th>count</th>\n",
       "      <td>100000.000000</td>\n",
       "      <td>100000.000000</td>\n",
       "      <td>100000.000000</td>\n",
       "      <td>100000.000000</td>\n",
       "    </tr>\n",
       "    <tr>\n",
       "      <th>mean</th>\n",
       "      <td>0.002023</td>\n",
       "      <td>-0.002081</td>\n",
       "      <td>2.495128</td>\n",
       "      <td>95.000000</td>\n",
       "    </tr>\n",
       "    <tr>\n",
       "      <th>std</th>\n",
       "      <td>1.732045</td>\n",
       "      <td>1.730417</td>\n",
       "      <td>3.473445</td>\n",
       "      <td>44.749921</td>\n",
       "    </tr>\n",
       "    <tr>\n",
       "      <th>min</th>\n",
       "      <td>-8.760004</td>\n",
       "      <td>-7.084020</td>\n",
       "      <td>-11.970335</td>\n",
       "      <td>0.000000</td>\n",
       "    </tr>\n",
       "    <tr>\n",
       "      <th>25%</th>\n",
       "      <td>-1.162288</td>\n",
       "      <td>-1.174820</td>\n",
       "      <td>0.130359</td>\n",
       "      <td>59.450441</td>\n",
       "    </tr>\n",
       "    <tr>\n",
       "      <th>50%</th>\n",
       "      <td>0.009424</td>\n",
       "      <td>-0.009482</td>\n",
       "      <td>2.484236</td>\n",
       "      <td>94.925613</td>\n",
       "    </tr>\n",
       "    <tr>\n",
       "      <th>75%</th>\n",
       "      <td>1.158535</td>\n",
       "      <td>1.163678</td>\n",
       "      <td>4.858794</td>\n",
       "      <td>130.595027</td>\n",
       "    </tr>\n",
       "    <tr>\n",
       "      <th>max</th>\n",
       "      <td>7.238262</td>\n",
       "      <td>7.844801</td>\n",
       "      <td>16.739402</td>\n",
       "      <td>190.029838</td>\n",
       "    </tr>\n",
       "  </tbody>\n",
       "</table>\n",
       "</div>"
      ],
      "text/plain": [
       "                  f0             f1             f2        product\n",
       "count  100000.000000  100000.000000  100000.000000  100000.000000\n",
       "mean        0.002023      -0.002081       2.495128      95.000000\n",
       "std         1.732045       1.730417       3.473445      44.749921\n",
       "min        -8.760004      -7.084020     -11.970335       0.000000\n",
       "25%        -1.162288      -1.174820       0.130359      59.450441\n",
       "50%         0.009424      -0.009482       2.484236      94.925613\n",
       "75%         1.158535       1.163678       4.858794     130.595027\n",
       "max         7.238262       7.844801      16.739402     190.029838"
      ]
     },
     "metadata": {},
     "output_type": "display_data"
    }
   ],
   "source": [
    "def display_describe_stats(geo_data):\n",
    "    for name, df in geo_data.items():\n",
    "        print(f\"\\nСтатистика для набора данных: {name}\\n\")\n",
    "        display(df.describe())\n",
    "display_describe_stats(geo_data)"
   ]
  },
  {
   "cell_type": "markdown",
   "metadata": {},
   "source": [
    "Визуализируем статистики"
   ]
  },
  {
   "cell_type": "code",
   "execution_count": 8,
   "metadata": {},
   "outputs": [
    {
     "data": {
      "image/png": "[encoded data removed]",
      "text/plain": [
       "<Figure size 720x1440 with 4 Axes>"
      ]
     },
     "metadata": {
      "needs_background": "light"
     },
     "output_type": "display_data"
    }
   ],
   "source": [
    "import matplotlib.pyplot as plt\n",
    "import seaborn as sns\n",
    "\n",
    "def plot_compare_boxplots(geo_data):\n",
    "    df_list = []\n",
    "    for name, df in geo_data.items():\n",
    "        df_temp = df.copy()\n",
    "        df_temp['dataset'] = name \n",
    "        df_list.append(df_temp)\n",
    "    \n",
    "    combined_df = pd.concat(df_list)\n",
    "    \n",
    "    #boxplot для каждого признака\n",
    "    features = ['f0', 'f1', 'f2', 'product']\n",
    "    \n",
    "    plt.figure(figsize=(10, 20))\n",
    "    for i, feature in enumerate(features, 1):\n",
    "        plt.subplot(4, 1, i)\n",
    "        sns.boxplot(data=combined_df, x='dataset', y=feature)\n",
    "        plt.title(f'Распределение {feature}')\n",
    "        plt.xlabel('Датасет')\n",
    "        plt.ylabel('Значение')\n",
    "    \n",
    "    plt.tight_layout()\n",
    "    plt.show()\n",
    "plot_compare_boxplots(geo_data)"
   ]
  },
  {
   "cell_type": "markdown",
   "metadata": {},
   "source": [
    "### Удаление выбросов "
   ]
  },
  {
   "cell_type": "markdown",
   "metadata": {},
   "source": [
    "#### data_0"
   ]
  },
  {
   "cell_type": "code",
   "execution_count": 9,
   "metadata": {},
   "outputs": [],
   "source": [
    "def remove_outliers_iqr(data_0, column, threshold=1.5):\n",
    "    \"\"\"\n",
    "    Удаляет выбросы по правилу: Q1 - threshold*IQR < данные < Q3 + threshold*IQR\n",
    "    threshold=1.5 (стандартный) или 3 для более строгой фильтрации\n",
    "    \"\"\"\n",
    "    q1 = data_0[column].quantile(0.25)\n",
    "    q3 = data_0[column].quantile(0.75)\n",
    "    iqr = q3 - q1\n",
    "    lower_bound = q1 - threshold * iqr\n",
    "    upper_bound = q3 + threshold * iqr\n",
    "    \n",
    "    return data_0[(data_0[column] >= lower_bound) & (data_0[column] <= upper_bound)]"
   ]
  },
  {
   "cell_type": "code",
   "execution_count": 10,
   "metadata": {},
   "outputs": [
    {
     "name": "stdout",
     "output_type": "stream",
     "text": [
      "<class 'pandas.core.frame.DataFrame'>\n",
      "Int64Index: 99494 entries, 0 to 99999\n",
      "Data columns (total 5 columns):\n",
      " #   Column   Non-Null Count  Dtype  \n",
      "---  ------   --------------  -----  \n",
      " 0   id       99494 non-null  object \n",
      " 1   f0       99494 non-null  float64\n",
      " 2   f1       99494 non-null  float64\n",
      " 3   f2       99494 non-null  float64\n",
      " 4   product  99494 non-null  float64\n",
      "dtypes: float64(4), object(1)\n",
      "memory usage: 4.6+ MB\n"
     ]
    }
   ],
   "source": [
    "data_0_clean = data_0.copy()\n",
    "for col in ['f0', 'f1', 'f2', 'product']:\n",
    "    data_0_clean = remove_outliers_iqr(data_0_clean, col, threshold=1.5)\n",
    "data_0_clean.info()"
   ]
  },
  {
   "cell_type": "markdown",
   "metadata": {},
   "source": [
    "#### data_1"
   ]
  },
  {
   "cell_type": "markdown",
   "metadata": {},
   "source": [
    "Для data_1 наблюдаем выбросы для f_0, f_1, попробуем их удалить"
   ]
  },
  {
   "cell_type": "code",
   "execution_count": 11,
   "metadata": {},
   "outputs": [],
   "source": [
    "def remove_outliers_iqr(data_1, column, threshold=1.5):\n",
    "    \"\"\"\n",
    "    Удаляет выбросы по правилу: Q1 - threshold*IQR < данные < Q3 + threshold*IQR\n",
    "    threshold=1.5 (стандартный) или 3 для более строгой фильтрации\n",
    "    \"\"\"\n",
    "    q1 = data_1[column].quantile(0.25)\n",
    "    q3 = data_1[column].quantile(0.75)\n",
    "    iqr = q3 - q1\n",
    "    lower_bound = q1 - threshold * iqr\n",
    "    upper_bound = q3 + threshold * iqr\n",
    "    \n",
    "    return data_1[(data_1[column] >= lower_bound) & (data_1[column] <= upper_bound)]"
   ]
  },
  {
   "cell_type": "code",
   "execution_count": 12,
   "metadata": {},
   "outputs": [
    {
     "name": "stdout",
     "output_type": "stream",
     "text": [
      "<class 'pandas.core.frame.DataFrame'>\n",
      "Int64Index: 99363 entries, 0 to 99999\n",
      "Data columns (total 5 columns):\n",
      " #   Column   Non-Null Count  Dtype  \n",
      "---  ------   --------------  -----  \n",
      " 0   id       99363 non-null  object \n",
      " 1   f0       99363 non-null  float64\n",
      " 2   f1       99363 non-null  float64\n",
      " 3   f2       99363 non-null  float64\n",
      " 4   product  99363 non-null  float64\n",
      "dtypes: float64(4), object(1)\n",
      "memory usage: 4.5+ MB\n"
     ]
    }
   ],
   "source": [
    "data_1_clean = data_1.copy()\n",
    "for col in ['f0', 'f1', 'f2', 'product']:\n",
    "    data_1_clean = remove_outliers_iqr(data_1_clean, col, threshold=1.5)\n",
    "data_1_clean.info()"
   ]
  },
  {
   "cell_type": "markdown",
   "metadata": {},
   "source": [
    "#### data_3"
   ]
  },
  {
   "cell_type": "markdown",
   "metadata": {},
   "source": [
    "Для data_2 наблюдаем выбросы для f_0, f_1, f_2, попробуем их удалить"
   ]
  },
  {
   "cell_type": "markdown",
   "metadata": {},
   "source": [
    "Удаление выбросов"
   ]
  },
  {
   "cell_type": "code",
   "execution_count": 13,
   "metadata": {},
   "outputs": [],
   "source": [
    "def remove_outliers_iqr(data_2, column, threshold=1.5):\n",
    "    \"\"\"\n",
    "    Удаляет выбросы по правилу: Q1 - threshold*IQR < данные < Q3 + threshold*IQR\n",
    "    threshold=1.5 (стандартный) или 3 для более строгой фильтрации\n",
    "    \"\"\"\n",
    "    q1 = data_2[column].quantile(0.25)\n",
    "    q3 = data_2[column].quantile(0.75)\n",
    "    iqr = q3 - q1\n",
    "    lower_bound = q1 - threshold * iqr\n",
    "    upper_bound = q3 + threshold * iqr\n",
    "    \n",
    "    return data_2[(data_2[column] >= lower_bound) & (data_2[column] <= upper_bound)]"
   ]
  },
  {
   "cell_type": "code",
   "execution_count": 14,
   "metadata": {},
   "outputs": [
    {
     "name": "stdout",
     "output_type": "stream",
     "text": [
      "<class 'pandas.core.frame.DataFrame'>\n",
      "Int64Index: 98003 entries, 0 to 99999\n",
      "Data columns (total 5 columns):\n",
      " #   Column   Non-Null Count  Dtype  \n",
      "---  ------   --------------  -----  \n",
      " 0   id       98003 non-null  object \n",
      " 1   f0       98003 non-null  float64\n",
      " 2   f1       98003 non-null  float64\n",
      " 3   f2       98003 non-null  float64\n",
      " 4   product  98003 non-null  float64\n",
      "dtypes: float64(4), object(1)\n",
      "memory usage: 4.5+ MB\n"
     ]
    }
   ],
   "source": [
    "data_2_clean = data_2.copy()\n",
    "for col in ['f0', 'f1', 'f2', 'product']:\n",
    "    data_2_clean = remove_outliers_iqr(data_2_clean, col, threshold=1.5)\n",
    "data_2_clean.info()"
   ]
  },
  {
   "cell_type": "markdown",
   "metadata": {},
   "source": [
    "На данном шаге мы избавились от выбросов из датафреймов, удалили все значения, которые не попадали в интервалы q1-q3."
   ]
  },
  {
   "cell_type": "markdown",
   "metadata": {},
   "source": [
    "## Обучение и проверка модели"
   ]
  },
  {
   "cell_type": "markdown",
   "metadata": {},
   "source": [
    "Исследуем основные взаимосвязи между признаками"
   ]
  },
  {
   "cell_type": "code",
   "execution_count": 16,
   "metadata": {},
   "outputs": [
    {
     "data": {
      "image/png": "[encoded data removed]",
      "text/plain": [
       "<Figure size 648x432 with 2 Axes>"
      ]
     },
     "metadata": {
      "needs_background": "light"
     },
     "output_type": "display_data"
    }
   ],
   "source": [
    "plt.figure(figsize=(9, 6))\n",
    "sns.heatmap(data_0_clean.corr(), cmap=\"viridis\", annot=True)\n",
    "plt.title('Матрица коррелиции для региона 1')\n",
    "plt.show()   "
   ]
  },
  {
   "cell_type": "markdown",
   "metadata": {},
   "source": [
    "Видим умеренную зависимостьь между целевым показателем product и f2, мультиколлинеарности не наблюдается"
   ]
  },
  {
   "cell_type": "code",
   "execution_count": 17,
   "metadata": {},
   "outputs": [
    {
     "data": {
      "image/png": "[encoded data removed]",
      "text/plain": [
       "<Figure size 648x432 with 2 Axes>"
      ]
     },
     "metadata": {
      "needs_background": "light"
     },
     "output_type": "display_data"
    }
   ],
   "source": [
    "plt.figure(figsize=(9, 6))\n",
    "sns.heatmap(data_1_clean.corr(), cmap=\"viridis\", annot=True)\n",
    "plt.title('Матрица коррелиции для региона 1')\n",
    "plt.show()   "
   ]
  },
  {
   "cell_type": "markdown",
   "metadata": {},
   "source": [
    "видим сильную зависимость между f2 и product, f 2 практикчески линейно определяет показатель product"
   ]
  },
  {
   "cell_type": "code",
   "execution_count": 18,
   "metadata": {},
   "outputs": [
    {
     "name": "stdout",
     "output_type": "stream",
     "text": [
      "               f0        f1        f2   product\n",
      "f0       1.000000  0.182287 -0.001777 -0.030491\n",
      "f1       0.182287  1.000000 -0.002595 -0.010155\n",
      "f2      -0.001777 -0.002595  1.000000  0.999397\n",
      "product -0.030491 -0.010155  0.999397  1.000000\n"
     ]
    }
   ],
   "source": [
    "print(data_1.corr())"
   ]
  },
  {
   "cell_type": "code",
   "execution_count": 19,
   "metadata": {},
   "outputs": [
    {
     "data": {
      "image/png": "[encoded data removed]",
      "text/plain": [
       "<Figure size 648x432 with 2 Axes>"
      ]
     },
     "metadata": {
      "needs_background": "light"
     },
     "output_type": "display_data"
    }
   ],
   "source": [
    "plt.figure(figsize=(9, 6))\n",
    "sns.heatmap(data_2_clean.corr(), cmap=\"viridis\", annot=True)\n",
    "plt.title('Матрица коррелиции для региона 1')\n",
    "plt.show()   "
   ]
  },
  {
   "cell_type": "markdown",
   "metadata": {},
   "source": [
    "Разделим 3 датафрейма на тренировочную и тестовую, а также отделим потом целевой признак"
   ]
  },
  {
   "cell_type": "code",
   "execution_count": 20,
   "metadata": {},
   "outputs": [],
   "source": [
    "# Примем значение аргумента random_state в переменной STATE\n",
    "RANDOM_STATE = 12345\n",
    "\n",
    "def split_scale_learn(df):\n",
    "\n",
    "    # Делим данные на target и features\n",
    "    data_y = df['product']\n",
    "    data_x = df.drop(['id', 'product'], axis=1)\n",
    "    # Делим данные на обучающую и валидационную выборки\n",
    "    x_train, x_valid, y_train, y_valid = train_test_split(\n",
    "        data_x,\n",
    "        data_y,\n",
    "        test_size=0.25,\n",
    "        random_state=RANDOM_STATE)\n",
    "\n",
    "    # Масштабируем признаки\n",
    "    numeric = ['f0', 'f1', 'f2']\n",
    "\n",
    "    scaler = StandardScaler()\n",
    "    scaler.fit(x_train[numeric])\n",
    "\n",
    "    pd.options.mode.chained_assignment = None\n",
    "\n",
    "    x_train[numeric] = scaler.transform(x_train[numeric])\n",
    "    x_valid[numeric] = scaler.transform(x_valid[numeric])\n",
    "\n",
    "    # Обучаем модель\n",
    "    model = LinearRegression()\n",
    "    model.fit(x_train, y_train)\n",
    "    predicted = model.predict(x_valid)\n",
    "        # Оцениваем модель\n",
    "    rmse = mean_squared_error(predicted, y_valid) ** .5\n",
    "\n",
    "    return rmse, predicted, x_train, x_valid, y_valid"
   ]
  },
  {
   "cell_type": "markdown",
   "metadata": {},
   "source": [
    "### Data_0"
   ]
  },
  {
   "cell_type": "code",
   "execution_count": 21,
   "metadata": {},
   "outputs": [
    {
     "name": "stdout",
     "output_type": "stream",
     "text": [
      "Регион: data_0\n",
      "\tСр.значение предсказанного запаса сырья: 92.725\n",
      "\tСр.значение фактического запаса сырья: 92.501\n",
      "\tRMSE модели: 37.922931\n"
     ]
    }
   ],
   "source": [
    "# Вызов функции и сохранение переменных для региона 1\n",
    "rmse_0, predicted_0, x_0_train, x_0_valid, y_0_valid = split_scale_learn(data_0_clean)\n",
    "print(f\"Регион: data_0\")\n",
    "print(f'\\tСр.значение предсказанного запаса сырья: {predicted_0.mean():.3f}')\n",
    "print(f'\\tСр.значение фактического запаса сырья: {data_0_clean[\"product\"].mean():.3f}')\n",
    "print(f'\\tRMSE модели: {rmse_0:2f}')\n",
    "\n"
   ]
  },
  {
   "cell_type": "markdown",
   "metadata": {},
   "source": [
    "### Data_1"
   ]
  },
  {
   "cell_type": "code",
   "execution_count": 22,
   "metadata": {},
   "outputs": [
    {
     "name": "stdout",
     "output_type": "stream",
     "text": [
      "Регион: data_1\n",
      "\tСр.значение предсказанного запаса сырья: 68.572\n",
      "\tСр.значение фактического запаса сырья: 68.809\n",
      "\tRMSE модели: 0.889031\n"
     ]
    }
   ],
   "source": [
    "# Вызов функции и сохранение переменных для региона 1\n",
    "print(f\"Регион: data_1\")\n",
    "rmse_1, predicted_1, x_1_train, x_1_valid, y_1_valid = split_scale_learn(data_1_clean)\n",
    "print(f'\\tСр.значение предсказанного запаса сырья: {predicted_1.mean():.3f}')\n",
    "print(f'\\tСр.значение фактического запаса сырья: {data_1_clean[\"product\"].mean():.3f}')\n",
    "print(f'\\tRMSE модели: {rmse_1:2f}')\n",
    "\n"
   ]
  },
  {
   "cell_type": "markdown",
   "metadata": {},
   "source": [
    "### Data_2"
   ]
  },
  {
   "cell_type": "code",
   "execution_count": 23,
   "metadata": {},
   "outputs": [
    {
     "name": "stdout",
     "output_type": "stream",
     "text": [
      "Регион: data_2\n",
      "\tСр.значение предсказанного запаса сырья: 94.677\n",
      "\tСр.значение фактического запаса сырья: 94.785\n",
      "\tRMSE модели: 40.176797\n"
     ]
    }
   ],
   "source": [
    "# Вызов функции и сохранение переменных для региона 1\n",
    "rmse_2, predicted_2, x_2_train, x_2_valid, y_2_valid = split_scale_learn(data_2_clean)\n",
    "print(f\"Регион: data_2\")\n",
    "print(f'\\tСр.значение предсказанного запаса сырья: {predicted_2.mean():.3f}')\n",
    "print(f'\\tСр.значение фактического запаса сырья: {data_2_clean[\"product\"].mean():.3f}')\n",
    "print(f'\\tRMSE модели: {rmse_2:2f}')\n",
    "\n"
   ]
  },
  {
   "cell_type": "markdown",
   "metadata": {},
   "source": [
    "### Промежуточные выводы"
   ]
  },
  {
   "cell_type": "markdown",
   "metadata": {},
   "source": [
    "- data_0 и data_2:\n",
    "\n",
    "Средние значения предсказанного и фактического запасов близки.\n",
    "Однако высокий RMSE (37.92 и 40.18) указывает на большую ошибку в отдельных прогнозах — модель плохо предсказывает крайние значения.\n",
    "\n",
    "Возможные причины: шум в данных, недостаток признаков \n",
    "\n",
    "- data_1:\n",
    "\n",
    "Средние значения почти идентичны, а RMSE крайне низкий (0.89) — модель работает почти идеально.\n",
    "Такая точность может сигнализировать о \"подгонке\" под данные (риск переобучения) или простой зависимости (например, линейной).По-хорошему, нет ли утечки данных (например, признак косвенно содержит целевую переменную).\n"
   ]
  },
  {
   "cell_type": "markdown",
   "metadata": {},
   "source": [
    "## Подготовка к расчёту прибыли"
   ]
  },
  {
   "cell_type": "markdown",
   "metadata": {},
   "source": [
    "Условия задачи:\n",
    "\n",
    "- При разведке региона исследуют 500 точек, из которых с помощью машинного обучения выбирают 200 лучших для разработки.\n",
    "\n",
    "- Бюджет на разработку скважин в регионе — 10 млрд рублей.\n",
    "\n",
    "- При нынешних ценах один баррель сырья приносит 450 рублей дохода. Доход с каждой единицы продукта составляет 450 тыс. рублей, поскольку объём указан в тысячах баррелей.\n",
    "\n",
    "- После оценки рисков нужно оставить лишь те регионы, в которых вероятность убытков меньше 2.5%. Среди них выбирают регион с наибольшей средней прибылью."
   ]
  },
  {
   "cell_type": "code",
   "execution_count": 24,
   "metadata": {},
   "outputs": [],
   "source": [
    "budget = 10000000000  # Бюджет (10 млрд руб.)\n",
    "n_points = 500           # Исследуемые точки\n",
    "n_best = 200             # Лучшие точки для разработки\n",
    "income_per_barrel = 450  # Доход с барреля (руб.)\n",
    "ths_barrel=450000"
   ]
  },
  {
   "cell_type": "code",
   "execution_count": 25,
   "metadata": {},
   "outputs": [
    {
     "name": "stdout",
     "output_type": "stream",
     "text": [
      "Минимальный объём на скважину для безубыточности: 111.1 тыс. баррелей\n"
     ]
    }
   ],
   "source": [
    "# Сколько баррелей надо добывать, объем безубыточности\n",
    "well_cost=budget/(n_best*ths_barrel)\n",
    "print(f\"Минимальный объём на скважину для безубыточности: {well_cost:.1f} тыс. баррелей\")"
   ]
  },
  {
   "cell_type": "markdown",
   "metadata": {},
   "source": [
    "### Промежуточный вывод"
   ]
  },
  {
   "cell_type": "markdown",
   "metadata": {},
   "source": [
    "Средние запасы всех рассматриваемых регионов ниже расчетного безубыточного объема.\n",
    "Однако для региона 0 и региона 2 расчетные средние значения близки к рассчитанному объему для достижения безубыточности.\n",
    "- data_0 и data_2 потенциально прибыльны. Потому что далее для расчетов мы будем использовать топ-200 точек, из прибыльночть может быть выше средней."
   ]
  },
  {
   "cell_type": "markdown",
   "metadata": {},
   "source": [
    "## Расчёт прибыли и рисков "
   ]
  },
  {
   "cell_type": "markdown",
   "metadata": {},
   "source": [
    "### Функция для расчета прибыли"
   ]
  },
  {
   "cell_type": "code",
   "execution_count": 26,
   "metadata": {},
   "outputs": [],
   "source": [
    "def calculate_profit(predictions, target, income_per_unit=ths_barrel):\n",
    "    \"\"\"Расчёт прибыли для выбранных скважин и вероятности убытков\"\"\"\n",
    "    # Сортируем предсказания по убыванию и берём индексы топ-n_best\n",
    "    top_indices = np.argsort(predictions)[-n_best:][::-1]\n",
    "    \n",
    "    # Суммируем фактические запасы в этих скважинах\n",
    "    total_product = target.iloc[top_indices].sum()\n",
    "    \n",
    "    # Рассчитываем прибыль\n",
    "    revenue = total_product * income_per_unit\n",
    "    profit = revenue - budget\n",
    "    \n",
    "    # Рассчитываем вероятность убытков (если profit < 0)\n",
    "    risk_loss = 1 if profit < 0 else 0\n",
    "    \n",
    "    return profit, risk_loss"
   ]
  },
  {
   "cell_type": "markdown",
   "metadata": {},
   "source": [
    "### Bootstrap-анализ прибыли и функция для расчета целевых показателей"
   ]
  },
  {
   "cell_type": "markdown",
   "metadata": {},
   "source": [
    "Анализ для каждого региона"
   ]
  },
  {
   "cell_type": "code",
   "execution_count": 27,
   "metadata": {},
   "outputs": [
    {
     "name": "stdout",
     "output_type": "stream",
     "text": [
      "\n",
      "========================================\n",
      "Регион: REGION_0\n",
      "========================================\n",
      "Средняя прибыль: 3.33 млрд руб\n",
      "Средний убыток: 0.22 млрд руб\n",
      "Вероятность убыточности региона: 6.5%\n",
      "95% Доверительный интервал: [2.95, 3.71] млрд руб\n",
      "\n",
      "========================================\n",
      "Регион: REGION_1\n",
      "========================================\n",
      "Средняя прибыль: 2.42 млрд руб\n",
      "Средний убыток: 0.00 млрд руб\n",
      "Вероятность убыточности региона: 0.0%\n",
      "95% Доверительный интервал: [2.42, 2.42] млрд руб\n",
      "\n",
      "========================================\n",
      "Регион: REGION_2\n",
      "========================================\n",
      "Средняя прибыль: 2.43 млрд руб\n",
      "Средний убыток: 0.28 млрд руб\n",
      "Вероятность убыточности региона: 11.5%\n",
      "95% Доверительный интервал: [2.08, 2.77] млрд руб\n",
      "\n",
      "Оптимальный регион для разработки: region_1\n",
      "Ожидаемая прибыль: 2.42 млрд руб\n"
     ]
    }
   ],
   "source": [
    "def calculate_profit_and_loss(predictions, target, n_best=200, budget=10_000_000_000, income_per_unit=450_000):\n",
    "    # Получаем индексы топ-N скважин\n",
    "    top_indices = np.argsort(predictions)[-n_best:][::-1]\n",
    "    \n",
    "    # Рассчитываем показатели для каждой скважины\n",
    "    products = target.iloc[top_indices]\n",
    "    revenues = products * income_per_unit\n",
    "    costs = budget / n_best  \n",
    "    \n",
    "    # Прибыль/убыток по каждой скважине\n",
    "    profit_per_well = revenues - costs\n",
    "    loss_per_well = np.where(profit_per_well < 0, abs(profit_per_well), 0)\n",
    "    \n",
    "    # Суммарные показатели\n",
    "    total_profit = profit_per_well.sum()\n",
    "    total_loss = loss_per_well.sum()\n",
    "    loss_percentage =  (profit_per_well < 0).mean() * 100\n",
    "    \n",
    "    return {\n",
    "        'total_profit': total_profit,\n",
    "        'total_loss': total_loss,\n",
    "        'loss_percentage': loss_percentage,\n",
    "        'profit_per_well': profit_per_well,\n",
    "        'loss_per_well': loss_per_well\n",
    "    }\n",
    "\n",
    "def bootstrap_profit_loss(predictions, target, n_iterations=1000):\n",
    "    \"\"\"Bootstrap-анализ прибыли и убытков\"\"\"\n",
    "    results = {\n",
    "        'profits': [],\n",
    "        'losses': [],\n",
    "        'loss_percentages': []\n",
    "    }\n",
    "    \n",
    "    n_samples = len(predictions)\n",
    "    \n",
    "    for _ in range(n_iterations):\n",
    "        # Генерируем bootstrap-выборку\n",
    "        indices = np.random.choice(n_samples, size=n_samples, replace=True)\n",
    "        sample_pred = predictions[indices]\n",
    "        sample_true = target.iloc[indices]\n",
    "        \n",
    "        # Рассчитываем показатели\n",
    "        calc = calculate_profit_and_loss(sample_pred, sample_true)\n",
    "        results['profits'].append(calc['total_profit'])\n",
    "        results['losses'].append(calc['total_loss'])\n",
    "        results['loss_percentages'].append(calc['loss_percentage'])\n",
    "    \n",
    "    # Конвертируем в массивы\n",
    "    for key in results:\n",
    "        results[key] = np.array(results[key])\n",
    "    \n",
    "    return results\n",
    "\n",
    "# Анализ для каждого региона\n",
    "regions = {\n",
    "    'region_0': (predicted_0, y_0_valid),\n",
    "    'region_1': (predicted_1, y_1_valid), \n",
    "    'region_2': (predicted_2, y_2_valid)\n",
    "}\n",
    "\n",
    "final_results = {}\n",
    "\n",
    "for name, (pred, target) in regions.items():\n",
    "    bs_results = bootstrap_profit_loss(pred, target)\n",
    "    \n",
    "    # Агрегируем статистику\n",
    "    stats = {\n",
    "        'mean_profit': bs_results['profits'].mean(),\n",
    "        'mean_loss': bs_results['losses'].mean(),\n",
    "        'loss_probability': (bs_results['losses'].mean())/(bs_results['profits'].mean()) * 100,\n",
    "        'profit_ci': np.percentile(bs_results['profits'], [2.5, 97.5]),\n",
    "        'loss_ci': np.percentile(bs_results['losses'], [2.5, 97.5])\n",
    "    }\n",
    "    \n",
    "    final_results[name] = stats\n",
    "    \n",
    "    # Выводим результаты\n",
    "    print(f\"\\n{'='*40}\")\n",
    "    print(f\"Регион: {name.upper()}\")\n",
    "    print(f\"{'='*40}\")\n",
    "    print(f\"Средняя прибыль: {stats['mean_profit']/1e9:.2f} млрд руб\")\n",
    "    print(f\"Средний убыток: {stats['mean_loss']/1e9:.2f} млрд руб\")\n",
    "    print(f\"Вероятность убыточности региона: {stats['loss_probability']:.1f}%\")\n",
    "    print(f\"95% Доверительный интервал: [{stats['profit_ci'][0]/1e9:.2f}, {stats['profit_ci'][1]/1e9:.2f}] млрд руб\")\n",
    "\n",
    "# Выбор лучшего региона\n",
    "profitable_regions = {k: v for k, v in final_results.items() if v['loss_probability'] < 2.5}\n",
    "\n",
    "if profitable_regions:\n",
    "    best_region = max(profitable_regions.items(), key=lambda x: x[1]['mean_profit'])\n",
    "    print(f\"\\nОптимальный регион для разработки: {best_region[0]}\")\n",
    "    print(f\"Ожидаемая прибыль: {best_region[1]['mean_profit']/1e9:.2f} млрд руб\")\n",
    "else:\n",
    "    print(\"\\nНет регионов, удовлетворяющих критериям\")"
   ]
  },
  {
   "cell_type": "markdown",
   "metadata": {},
   "source": [
    "## Вывод"
   ]
  },
  {
   "cell_type": "markdown",
   "metadata": {},
   "source": [
    "В рамках данного проекта по выбору оптимального места локации скважины, мы выполнили несколько этапов:\n",
    "- изучили данные о трех регионах\n",
    "- провели предобработку данных, удалили выбросы\n",
    "- обучили и проверили модель для каждого региона\n",
    "- провели подготовку к расчету прибыли,ввели все необходимые значения в качестве переменных. Выявили достаточный объём сырья для безубыточной разработки новой скважины - 111.1 тыс.баррелей.\n",
    "- посчитали прибыль и риски для каждого региона, применив bootstrap.\n",
    "\n",
    "Предлагаемым регионом для локации скважины предложен **region_1**, это безопасный и стаблиный вариант с ожидаемой прибылью 2.42 млрд.руб, это позволит минимизировать финансовые риски."
   ]
  },
  {
   "cell_type": "code",
   "execution_count": null,
   "metadata": {},
   "outputs": [],
   "source": []
  }
 ],
 "metadata": {
  "ExecuteTimeLog": [
   {
    "duration": 12,
    "start_time": "2025-03-28T16:34:30.916Z"
   },
   {
    "duration": 1315,
    "start_time": "2025-05-23T13:02:42.298Z"
   },
   {
    "duration": 493,
    "start_time": "2025-05-23T13:09:04.656Z"
   },
   {
    "duration": 97,
    "start_time": "2025-05-23T13:12:14.778Z"
   },
   {
    "duration": 3,
    "start_time": "2025-05-23T13:12:28.773Z"
   },
   {
    "duration": 95,
    "start_time": "2025-05-23T13:13:38.277Z"
   },
   {
    "duration": 13,
    "start_time": "2025-05-23T13:13:51.065Z"
   },
   {
    "duration": 29,
    "start_time": "2025-05-23T13:14:30.581Z"
   },
   {
    "duration": 4,
    "start_time": "2025-05-23T13:23:53.596Z"
   },
   {
    "duration": 152,
    "start_time": "2025-05-23T13:24:03.702Z"
   },
   {
    "duration": 46,
    "start_time": "2025-05-23T13:26:39.731Z"
   },
   {
    "duration": 47,
    "start_time": "2025-05-23T13:27:16.210Z"
   },
   {
    "duration": 109,
    "start_time": "2025-05-23T13:32:23.718Z"
   },
   {
    "duration": 4,
    "start_time": "2025-05-23T13:33:21.230Z"
   },
   {
    "duration": 3,
    "start_time": "2025-05-23T13:34:34.650Z"
   },
   {
    "duration": 3,
    "start_time": "2025-05-23T13:34:50.390Z"
   },
   {
    "duration": 381,
    "start_time": "2025-05-23T13:34:53.984Z"
   },
   {
    "duration": 3,
    "start_time": "2025-05-23T13:34:55.144Z"
   },
   {
    "duration": 21,
    "start_time": "2025-05-23T13:34:58.710Z"
   },
   {
    "duration": 128,
    "start_time": "2025-05-23T13:35:00.100Z"
   },
   {
    "duration": 43,
    "start_time": "2025-05-23T13:35:00.774Z"
   },
   {
    "duration": 3,
    "start_time": "2025-05-23T13:35:01.518Z"
   },
   {
    "duration": 105,
    "start_time": "2025-05-23T13:35:23.869Z"
   },
   {
    "duration": 109,
    "start_time": "2025-05-23T13:35:33.411Z"
   },
   {
    "duration": 6,
    "start_time": "2025-05-23T13:39:20.095Z"
   },
   {
    "duration": 1238,
    "start_time": "2025-05-23T13:39:38.793Z"
   },
   {
    "duration": 436,
    "start_time": "2025-05-23T13:39:40.033Z"
   },
   {
    "duration": 2,
    "start_time": "2025-05-23T13:39:40.471Z"
   },
   {
    "duration": 45,
    "start_time": "2025-05-23T13:39:40.475Z"
   },
   {
    "duration": 147,
    "start_time": "2025-05-23T13:39:40.522Z"
   },
   {
    "duration": 43,
    "start_time": "2025-05-23T13:39:40.671Z"
   },
   {
    "duration": 144,
    "start_time": "2025-05-23T13:39:40.715Z"
   },
   {
    "duration": 6,
    "start_time": "2025-05-23T13:39:40.860Z"
   },
   {
    "duration": 5,
    "start_time": "2025-05-23T13:39:54.255Z"
   },
   {
    "duration": 1263,
    "start_time": "2025-05-23T13:40:18.340Z"
   },
   {
    "duration": 1099,
    "start_time": "2025-05-23T13:42:43.653Z"
   },
   {
    "duration": 1381,
    "start_time": "2025-05-23T13:43:25.688Z"
   },
   {
    "duration": 1172,
    "start_time": "2025-05-23T13:50:57.951Z"
   },
   {
    "duration": 1157,
    "start_time": "2025-05-23T13:51:13.065Z"
   },
   {
    "duration": 1188,
    "start_time": "2025-05-23T13:51:25.588Z"
   },
   {
    "duration": 4,
    "start_time": "2025-05-23T13:59:49.917Z"
   },
   {
    "duration": 103,
    "start_time": "2025-05-23T14:01:11.087Z"
   },
   {
    "duration": 4,
    "start_time": "2025-05-23T14:01:37.925Z"
   },
   {
    "duration": 41,
    "start_time": "2025-05-23T14:01:38.421Z"
   },
   {
    "duration": 50,
    "start_time": "2025-05-23T14:01:55.959Z"
   },
   {
    "duration": 1597,
    "start_time": "2025-05-25T17:14:41.638Z"
   },
   {
    "duration": 1289,
    "start_time": "2025-05-25T17:14:48.775Z"
   },
   {
    "duration": 441,
    "start_time": "2025-05-25T17:14:50.066Z"
   },
   {
    "duration": 2,
    "start_time": "2025-05-25T17:14:50.509Z"
   },
   {
    "duration": 27,
    "start_time": "2025-05-25T17:14:50.513Z"
   },
   {
    "duration": 163,
    "start_time": "2025-05-25T17:14:50.542Z"
   },
   {
    "duration": 44,
    "start_time": "2025-05-25T17:14:50.707Z"
   },
   {
    "duration": 132,
    "start_time": "2025-05-25T17:14:50.752Z"
   },
   {
    "duration": 1344,
    "start_time": "2025-05-25T17:14:50.886Z"
   },
   {
    "duration": 5,
    "start_time": "2025-05-25T17:14:52.231Z"
   },
   {
    "duration": 71,
    "start_time": "2025-05-25T17:14:52.238Z"
   },
   {
    "duration": 128,
    "start_time": "2025-05-25T17:14:52.311Z"
   },
   {
    "duration": 14,
    "start_time": "2025-05-25T17:15:22.698Z"
   },
   {
    "duration": 3589,
    "start_time": "2025-05-25T17:16:05.467Z"
   },
   {
    "duration": 76,
    "start_time": "2025-05-25T17:16:09.059Z"
   },
   {
    "duration": 2649,
    "start_time": "2025-05-25T17:16:13.585Z"
   },
   {
    "duration": 21,
    "start_time": "2025-05-25T17:16:16.237Z"
   },
   {
    "duration": 1148,
    "start_time": "2025-05-25T17:20:18.262Z"
   },
   {
    "duration": 438,
    "start_time": "2025-05-25T17:20:19.412Z"
   },
   {
    "duration": 3,
    "start_time": "2025-05-25T17:20:19.852Z"
   },
   {
    "duration": 27,
    "start_time": "2025-05-25T17:20:19.857Z"
   },
   {
    "duration": 153,
    "start_time": "2025-05-25T17:20:19.885Z"
   },
   {
    "duration": 42,
    "start_time": "2025-05-25T17:20:20.040Z"
   },
   {
    "duration": 143,
    "start_time": "2025-05-25T17:20:20.084Z"
   },
   {
    "duration": 1343,
    "start_time": "2025-05-25T17:20:20.229Z"
   },
   {
    "duration": 4,
    "start_time": "2025-05-25T17:20:21.574Z"
   },
   {
    "duration": 67,
    "start_time": "2025-05-25T17:20:21.580Z"
   },
   {
    "duration": 2612,
    "start_time": "2025-05-25T17:20:21.648Z"
   },
   {
    "duration": 109,
    "start_time": "2025-05-25T17:20:24.263Z"
   },
   {
    "duration": 174,
    "start_time": "2025-05-25T17:20:34.172Z"
   },
   {
    "duration": 11,
    "start_time": "2025-05-25T17:20:44.448Z"
   },
   {
    "duration": 1295,
    "start_time": "2025-05-25T17:24:33.594Z"
   },
   {
    "duration": 461,
    "start_time": "2025-05-25T17:24:34.891Z"
   },
   {
    "duration": 3,
    "start_time": "2025-05-25T17:24:35.354Z"
   },
   {
    "duration": 42,
    "start_time": "2025-05-25T17:24:35.359Z"
   },
   {
    "duration": 155,
    "start_time": "2025-05-25T17:24:35.403Z"
   },
   {
    "duration": 57,
    "start_time": "2025-05-25T17:24:35.560Z"
   },
   {
    "duration": 130,
    "start_time": "2025-05-25T17:24:35.619Z"
   },
   {
    "duration": 1402,
    "start_time": "2025-05-25T17:24:35.751Z"
   },
   {
    "duration": 5,
    "start_time": "2025-05-25T17:24:37.154Z"
   },
   {
    "duration": 71,
    "start_time": "2025-05-25T17:24:37.161Z"
   },
   {
    "duration": 2597,
    "start_time": "2025-05-25T17:24:37.234Z"
   },
   {
    "duration": 434,
    "start_time": "2025-05-25T17:24:39.834Z"
   },
   {
    "duration": 355,
    "start_time": "2025-05-25T17:25:56.467Z"
   },
   {
    "duration": 110,
    "start_time": "2025-05-25T17:26:04.731Z"
   },
   {
    "duration": 322,
    "start_time": "2025-05-25T17:26:21.424Z"
   },
   {
    "duration": 310,
    "start_time": "2025-05-25T17:26:25.616Z"
   },
   {
    "duration": 321,
    "start_time": "2025-05-25T17:26:31.422Z"
   },
   {
    "duration": 14,
    "start_time": "2025-05-25T19:42:11.493Z"
   },
   {
    "duration": 40,
    "start_time": "2025-05-25T19:42:24.240Z"
   },
   {
    "duration": 30,
    "start_time": "2025-05-25T19:42:46.492Z"
   },
   {
    "duration": 3,
    "start_time": "2025-05-25T20:04:12.552Z"
   },
   {
    "duration": 52,
    "start_time": "2025-05-26T10:51:13.718Z"
   },
   {
    "duration": 1370,
    "start_time": "2025-05-26T10:51:17.529Z"
   },
   {
    "duration": 447,
    "start_time": "2025-05-26T10:51:18.904Z"
   },
   {
    "duration": 3,
    "start_time": "2025-05-26T10:51:19.352Z"
   },
   {
    "duration": 49,
    "start_time": "2025-05-26T10:51:19.357Z"
   },
   {
    "duration": 164,
    "start_time": "2025-05-26T10:51:19.409Z"
   },
   {
    "duration": 58,
    "start_time": "2025-05-26T10:51:19.575Z"
   },
   {
    "duration": 136,
    "start_time": "2025-05-26T10:51:19.635Z"
   },
   {
    "duration": 1432,
    "start_time": "2025-05-26T10:51:19.773Z"
   },
   {
    "duration": 4,
    "start_time": "2025-05-26T10:51:21.207Z"
   },
   {
    "duration": 67,
    "start_time": "2025-05-26T10:51:21.213Z"
   },
   {
    "duration": 3628,
    "start_time": "2025-05-26T10:51:21.282Z"
   },
   {
    "duration": 459,
    "start_time": "2025-05-26T10:51:24.912Z"
   },
   {
    "duration": 351,
    "start_time": "2025-05-26T10:51:25.373Z"
   },
   {
    "duration": 13,
    "start_time": "2025-05-26T10:51:25.726Z"
   },
   {
    "duration": 346,
    "start_time": "2025-05-26T10:51:25.741Z"
   },
   {
    "duration": 3,
    "start_time": "2025-05-26T10:51:26.090Z"
   },
   {
    "duration": 49,
    "start_time": "2025-05-26T10:51:26.095Z"
   },
   {
    "duration": 1409,
    "start_time": "2025-05-27T10:18:24.418Z"
   },
   {
    "duration": 423,
    "start_time": "2025-05-27T10:18:25.830Z"
   },
   {
    "duration": 8,
    "start_time": "2025-05-27T10:18:26.255Z"
   },
   {
    "duration": 56,
    "start_time": "2025-05-27T10:18:26.265Z"
   },
   {
    "duration": 148,
    "start_time": "2025-05-27T10:18:26.324Z"
   },
   {
    "duration": 47,
    "start_time": "2025-05-27T10:18:26.474Z"
   },
   {
    "duration": 151,
    "start_time": "2025-05-27T10:18:26.523Z"
   },
   {
    "duration": 1422,
    "start_time": "2025-05-27T10:18:26.675Z"
   },
   {
    "duration": 4,
    "start_time": "2025-05-27T10:18:28.099Z"
   },
   {
    "duration": 68,
    "start_time": "2025-05-27T10:18:28.105Z"
   },
   {
    "duration": 83,
    "start_time": "2025-05-27T10:18:28.175Z"
   },
   {
    "duration": 0,
    "start_time": "2025-05-27T10:18:28.260Z"
   },
   {
    "duration": 0,
    "start_time": "2025-05-27T10:18:28.261Z"
   },
   {
    "duration": 0,
    "start_time": "2025-05-27T10:18:28.262Z"
   },
   {
    "duration": 0,
    "start_time": "2025-05-27T10:18:28.263Z"
   },
   {
    "duration": 0,
    "start_time": "2025-05-27T10:18:28.264Z"
   },
   {
    "duration": 0,
    "start_time": "2025-05-27T10:18:28.265Z"
   },
   {
    "duration": 0,
    "start_time": "2025-05-27T10:18:28.266Z"
   },
   {
    "duration": 0,
    "start_time": "2025-05-27T10:18:28.267Z"
   },
   {
    "duration": 0,
    "start_time": "2025-05-27T10:18:28.268Z"
   },
   {
    "duration": 0,
    "start_time": "2025-05-27T10:18:28.269Z"
   },
   {
    "duration": 0,
    "start_time": "2025-05-27T10:18:28.270Z"
   },
   {
    "duration": 56,
    "start_time": "2025-05-27T10:18:40.676Z"
   },
   {
    "duration": 4,
    "start_time": "2025-05-27T10:18:43.869Z"
   },
   {
    "duration": 53,
    "start_time": "2025-05-27T10:18:44.628Z"
   },
   {
    "duration": 4,
    "start_time": "2025-05-27T10:18:48.276Z"
   },
   {
    "duration": 55,
    "start_time": "2025-05-27T10:18:49.000Z"
   },
   {
    "duration": 3722,
    "start_time": "2025-05-27T10:19:25.233Z"
   },
   {
    "duration": 387,
    "start_time": "2025-05-27T10:19:40.953Z"
   },
   {
    "duration": 334,
    "start_time": "2025-05-27T10:19:51.654Z"
   },
   {
    "duration": 340,
    "start_time": "2025-05-27T10:20:02.945Z"
   },
   {
    "duration": 1160,
    "start_time": "2025-05-27T10:55:20.256Z"
   },
   {
    "duration": 383,
    "start_time": "2025-05-27T10:55:21.418Z"
   },
   {
    "duration": 3,
    "start_time": "2025-05-27T10:55:21.803Z"
   },
   {
    "duration": 31,
    "start_time": "2025-05-27T10:55:21.808Z"
   },
   {
    "duration": 151,
    "start_time": "2025-05-27T10:55:21.841Z"
   },
   {
    "duration": 42,
    "start_time": "2025-05-27T10:55:21.994Z"
   },
   {
    "duration": 143,
    "start_time": "2025-05-27T10:55:22.037Z"
   },
   {
    "duration": 1227,
    "start_time": "2025-05-27T10:55:22.182Z"
   },
   {
    "duration": 4,
    "start_time": "2025-05-27T10:55:23.411Z"
   },
   {
    "duration": 66,
    "start_time": "2025-05-27T10:55:23.417Z"
   },
   {
    "duration": 4,
    "start_time": "2025-05-27T10:55:23.484Z"
   },
   {
    "duration": 57,
    "start_time": "2025-05-27T10:55:23.490Z"
   },
   {
    "duration": 4,
    "start_time": "2025-05-27T10:55:23.562Z"
   },
   {
    "duration": 51,
    "start_time": "2025-05-27T10:55:23.569Z"
   },
   {
    "duration": 86,
    "start_time": "2025-05-27T10:55:23.622Z"
   },
   {
    "duration": 0,
    "start_time": "2025-05-27T10:55:23.710Z"
   },
   {
    "duration": 0,
    "start_time": "2025-05-27T10:55:23.711Z"
   },
   {
    "duration": 0,
    "start_time": "2025-05-27T10:55:23.713Z"
   },
   {
    "duration": 0,
    "start_time": "2025-05-27T10:55:23.714Z"
   },
   {
    "duration": 0,
    "start_time": "2025-05-27T10:55:23.716Z"
   },
   {
    "duration": 0,
    "start_time": "2025-05-27T10:55:23.717Z"
   },
   {
    "duration": 0,
    "start_time": "2025-05-27T10:55:23.719Z"
   },
   {
    "duration": 0,
    "start_time": "2025-05-27T10:55:23.720Z"
   },
   {
    "duration": 0,
    "start_time": "2025-05-27T10:55:23.722Z"
   },
   {
    "duration": 0,
    "start_time": "2025-05-27T10:55:23.723Z"
   },
   {
    "duration": 0,
    "start_time": "2025-05-27T10:55:23.725Z"
   },
   {
    "duration": 0,
    "start_time": "2025-05-27T10:55:23.726Z"
   },
   {
    "duration": 0,
    "start_time": "2025-05-27T10:55:23.728Z"
   },
   {
    "duration": 0,
    "start_time": "2025-05-27T10:55:23.730Z"
   },
   {
    "duration": 2466,
    "start_time": "2025-05-27T10:55:46.020Z"
   },
   {
    "duration": 376,
    "start_time": "2025-05-27T10:55:48.488Z"
   },
   {
    "duration": 309,
    "start_time": "2025-05-27T10:55:50.192Z"
   },
   {
    "duration": 12,
    "start_time": "2025-05-27T10:55:50.907Z"
   },
   {
    "duration": 333,
    "start_time": "2025-05-27T10:55:51.629Z"
   },
   {
    "duration": 2,
    "start_time": "2025-05-27T10:55:52.313Z"
   },
   {
    "duration": 3,
    "start_time": "2025-05-27T10:55:52.833Z"
   },
   {
    "duration": 102,
    "start_time": "2025-05-27T10:55:54.449Z"
   },
   {
    "duration": 4,
    "start_time": "2025-05-27T10:56:50.310Z"
   },
   {
    "duration": 11,
    "start_time": "2025-05-27T10:56:54.540Z"
   },
   {
    "duration": 373,
    "start_time": "2025-05-27T10:57:14.853Z"
   },
   {
    "duration": 3,
    "start_time": "2025-05-27T10:57:15.582Z"
   },
   {
    "duration": 4,
    "start_time": "2025-05-27T10:57:16.022Z"
   },
   {
    "duration": 20,
    "start_time": "2025-05-27T10:57:16.493Z"
   },
   {
    "duration": 9,
    "start_time": "2025-05-27T10:57:17.620Z"
   },
   {
    "duration": 5,
    "start_time": "2025-05-27T10:57:40.467Z"
   },
   {
    "duration": 4,
    "start_time": "2025-05-27T10:57:46.520Z"
   },
   {
    "duration": 10,
    "start_time": "2025-05-27T10:57:48.526Z"
   },
   {
    "duration": 5,
    "start_time": "2025-05-27T10:57:54.447Z"
   },
   {
    "duration": 94,
    "start_time": "2025-05-27T10:58:01.745Z"
   },
   {
    "duration": 6,
    "start_time": "2025-05-27T10:58:15.403Z"
   },
   {
    "duration": 308,
    "start_time": "2025-05-27T10:58:15.945Z"
   },
   {
    "duration": 5,
    "start_time": "2025-05-27T10:58:25.696Z"
   },
   {
    "duration": 134,
    "start_time": "2025-05-27T10:58:27.934Z"
   },
   {
    "duration": 40,
    "start_time": "2025-05-27T10:58:32.036Z"
   },
   {
    "duration": 35,
    "start_time": "2025-05-27T10:58:33.595Z"
   },
   {
    "duration": 111,
    "start_time": "2025-05-27T10:59:30.051Z"
   },
   {
    "duration": 102,
    "start_time": "2025-05-27T10:59:52.060Z"
   },
   {
    "duration": 35,
    "start_time": "2025-05-27T11:01:31.468Z"
   },
   {
    "duration": 47,
    "start_time": "2025-05-28T13:47:10.229Z"
   },
   {
    "duration": 1303,
    "start_time": "2025-05-28T13:47:14.389Z"
   },
   {
    "duration": 385,
    "start_time": "2025-05-28T13:47:15.694Z"
   },
   {
    "duration": 2,
    "start_time": "2025-05-28T13:47:16.081Z"
   },
   {
    "duration": 25,
    "start_time": "2025-05-28T13:47:16.085Z"
   },
   {
    "duration": 151,
    "start_time": "2025-05-28T13:47:16.112Z"
   },
   {
    "duration": 40,
    "start_time": "2025-05-28T13:47:16.265Z"
   },
   {
    "duration": 127,
    "start_time": "2025-05-28T13:47:16.306Z"
   },
   {
    "duration": 1296,
    "start_time": "2025-05-28T13:47:16.435Z"
   },
   {
    "duration": 4,
    "start_time": "2025-05-28T13:47:17.732Z"
   },
   {
    "duration": 64,
    "start_time": "2025-05-28T13:47:17.739Z"
   },
   {
    "duration": 4,
    "start_time": "2025-05-28T13:47:17.805Z"
   },
   {
    "duration": 60,
    "start_time": "2025-05-28T13:47:17.810Z"
   },
   {
    "duration": 3,
    "start_time": "2025-05-28T13:47:17.872Z"
   },
   {
    "duration": 63,
    "start_time": "2025-05-28T13:47:17.877Z"
   },
   {
    "duration": 3554,
    "start_time": "2025-05-28T13:47:17.942Z"
   },
   {
    "duration": 421,
    "start_time": "2025-05-28T13:47:21.498Z"
   },
   {
    "duration": 349,
    "start_time": "2025-05-28T13:47:21.920Z"
   },
   {
    "duration": 13,
    "start_time": "2025-05-28T13:47:22.271Z"
   },
   {
    "duration": 308,
    "start_time": "2025-05-28T13:47:22.286Z"
   },
   {
    "duration": 363,
    "start_time": "2025-05-28T13:47:22.596Z"
   },
   {
    "duration": 5,
    "start_time": "2025-05-28T13:47:22.960Z"
   },
   {
    "duration": 195,
    "start_time": "2025-05-28T13:47:22.967Z"
   },
   {
    "duration": 38,
    "start_time": "2025-05-28T13:47:23.164Z"
   },
   {
    "duration": 194,
    "start_time": "2025-05-28T13:47:23.268Z"
   },
   {
    "duration": 5,
    "start_time": "2025-05-28T13:47:23.465Z"
   },
   {
    "duration": 124,
    "start_time": "2025-05-28T13:47:23.472Z"
   },
   {
    "duration": 3,
    "start_time": "2025-05-28T13:49:51.132Z"
   },
   {
    "duration": 3,
    "start_time": "2025-05-28T13:50:53.935Z"
   },
   {
    "duration": 4,
    "start_time": "2025-05-28T13:55:27.441Z"
   },
   {
    "duration": 3,
    "start_time": "2025-05-28T13:56:04.748Z"
   },
   {
    "duration": 3,
    "start_time": "2025-05-28T13:57:18.693Z"
   },
   {
    "duration": 3,
    "start_time": "2025-05-28T14:31:45.307Z"
   },
   {
    "duration": 3,
    "start_time": "2025-05-28T14:31:46.112Z"
   },
   {
    "duration": 4,
    "start_time": "2025-05-28T14:31:52.377Z"
   },
   {
    "duration": 4,
    "start_time": "2025-05-28T14:31:56.102Z"
   },
   {
    "duration": 3,
    "start_time": "2025-05-28T14:31:57.228Z"
   },
   {
    "duration": 1820,
    "start_time": "2025-05-28T14:32:00.268Z"
   },
   {
    "duration": 3,
    "start_time": "2025-05-28T14:41:37.347Z"
   },
   {
    "duration": 12,
    "start_time": "2025-05-28T14:42:26.863Z"
   },
   {
    "duration": 5,
    "start_time": "2025-05-28T14:44:26.288Z"
   },
   {
    "duration": 14,
    "start_time": "2025-05-28T14:45:28.449Z"
   },
   {
    "duration": 8868,
    "start_time": "2025-05-28T14:45:28.465Z"
   },
   {
    "duration": 3,
    "start_time": "2025-05-28T14:54:15.612Z"
   },
   {
    "duration": 8348,
    "start_time": "2025-05-28T14:54:21.125Z"
   },
   {
    "duration": 5,
    "start_time": "2025-05-28T14:54:36.113Z"
   },
   {
    "duration": 11,
    "start_time": "2025-05-28T14:56:59.994Z"
   },
   {
    "duration": 8100,
    "start_time": "2025-05-28T15:04:51.250Z"
   },
   {
    "duration": 8336,
    "start_time": "2025-05-28T15:11:03.841Z"
   },
   {
    "duration": 7998,
    "start_time": "2025-05-28T15:13:47.591Z"
   },
   {
    "duration": 2634,
    "start_time": "2025-05-28T15:16:15.696Z"
   },
   {
    "duration": 8035,
    "start_time": "2025-05-28T15:17:09.855Z"
   },
   {
    "duration": 5,
    "start_time": "2025-05-28T15:18:12.689Z"
   },
   {
    "duration": 7749,
    "start_time": "2025-05-28T15:18:14.014Z"
   },
   {
    "duration": 7865,
    "start_time": "2025-05-28T15:18:40.499Z"
   },
   {
    "duration": 1238,
    "start_time": "2025-05-28T15:19:37.684Z"
   },
   {
    "duration": 401,
    "start_time": "2025-05-28T15:19:38.924Z"
   },
   {
    "duration": 3,
    "start_time": "2025-05-28T15:19:39.327Z"
   },
   {
    "duration": 34,
    "start_time": "2025-05-28T15:19:39.332Z"
   },
   {
    "duration": 154,
    "start_time": "2025-05-28T15:19:39.368Z"
   },
   {
    "duration": 61,
    "start_time": "2025-05-28T15:19:39.525Z"
   },
   {
    "duration": 131,
    "start_time": "2025-05-28T15:19:39.588Z"
   },
   {
    "duration": 1292,
    "start_time": "2025-05-28T15:19:39.721Z"
   },
   {
    "duration": 5,
    "start_time": "2025-05-28T15:19:41.015Z"
   },
   {
    "duration": 83,
    "start_time": "2025-05-28T15:19:41.023Z"
   },
   {
    "duration": 4,
    "start_time": "2025-05-28T15:19:41.109Z"
   },
   {
    "duration": 65,
    "start_time": "2025-05-28T15:19:41.115Z"
   },
   {
    "duration": 4,
    "start_time": "2025-05-28T15:19:41.182Z"
   },
   {
    "duration": 53,
    "start_time": "2025-05-28T15:19:41.188Z"
   },
   {
    "duration": 2495,
    "start_time": "2025-05-28T15:19:41.243Z"
   },
   {
    "duration": 405,
    "start_time": "2025-05-28T15:19:43.740Z"
   },
   {
    "duration": 336,
    "start_time": "2025-05-28T15:19:44.147Z"
   },
   {
    "duration": 13,
    "start_time": "2025-05-28T15:19:44.484Z"
   },
   {
    "duration": 319,
    "start_time": "2025-05-28T15:19:44.499Z"
   },
   {
    "duration": 361,
    "start_time": "2025-05-28T15:19:44.820Z"
   },
   {
    "duration": 7,
    "start_time": "2025-05-28T15:19:45.182Z"
   },
   {
    "duration": 77,
    "start_time": "2025-05-28T15:19:45.191Z"
   },
   {
    "duration": 210,
    "start_time": "2025-05-28T15:19:45.271Z"
   },
   {
    "duration": 127,
    "start_time": "2025-05-28T15:19:45.562Z"
   },
   {
    "duration": 4,
    "start_time": "2025-05-28T15:19:45.762Z"
   },
   {
    "duration": 96,
    "start_time": "2025-05-28T15:19:45.768Z"
   },
   {
    "duration": 8,
    "start_time": "2025-05-28T15:19:45.866Z"
   },
   {
    "duration": 10,
    "start_time": "2025-05-28T15:19:45.878Z"
   },
   {
    "duration": 17,
    "start_time": "2025-05-28T15:19:45.890Z"
   },
   {
    "duration": 6,
    "start_time": "2025-05-28T15:19:45.909Z"
   },
   {
    "duration": 7995,
    "start_time": "2025-05-28T15:19:45.916Z"
   },
   {
    "duration": 1751,
    "start_time": "2025-05-28T15:19:53.913Z"
   },
   {
    "duration": 0,
    "start_time": "2025-05-28T15:19:55.666Z"
   },
   {
    "duration": 0,
    "start_time": "2025-05-28T15:19:55.667Z"
   },
   {
    "duration": 0,
    "start_time": "2025-05-28T15:19:55.668Z"
   },
   {
    "duration": 0,
    "start_time": "2025-05-28T15:19:55.669Z"
   },
   {
    "duration": 0,
    "start_time": "2025-05-28T15:19:55.670Z"
   },
   {
    "duration": 4,
    "start_time": "2025-05-28T15:20:25.922Z"
   },
   {
    "duration": 7488,
    "start_time": "2025-05-28T15:20:27.056Z"
   },
   {
    "duration": 5,
    "start_time": "2025-05-28T15:21:22.731Z"
   },
   {
    "duration": 7415,
    "start_time": "2025-05-28T15:21:37.356Z"
   },
   {
    "duration": 30,
    "start_time": "2025-05-28T15:38:39.075Z"
   },
   {
    "duration": 10338,
    "start_time": "2025-05-28T15:39:08.427Z"
   },
   {
    "duration": 8150,
    "start_time": "2025-05-28T15:40:15.069Z"
   },
   {
    "duration": 4,
    "start_time": "2025-05-28T15:44:00.645Z"
   },
   {
    "duration": 24,
    "start_time": "2025-05-28T15:44:01.089Z"
   },
   {
    "duration": 7,
    "start_time": "2025-05-28T15:44:02.388Z"
   },
   {
    "duration": 8762,
    "start_time": "2025-05-28T15:44:04.164Z"
   },
   {
    "duration": 17,
    "start_time": "2025-05-28T15:45:58.032Z"
   },
   {
    "duration": 5,
    "start_time": "2025-05-28T15:50:58.666Z"
   },
   {
    "duration": 6,
    "start_time": "2025-05-28T15:51:03.506Z"
   },
   {
    "duration": 21,
    "start_time": "2025-05-28T15:53:53.553Z"
   },
   {
    "duration": 13,
    "start_time": "2025-05-28T15:54:00.451Z"
   },
   {
    "duration": 1232,
    "start_time": "2025-05-28T15:54:18.981Z"
   },
   {
    "duration": 419,
    "start_time": "2025-05-28T15:54:20.215Z"
   },
   {
    "duration": 4,
    "start_time": "2025-05-28T15:54:20.635Z"
   },
   {
    "duration": 47,
    "start_time": "2025-05-28T15:54:20.640Z"
   },
   {
    "duration": 166,
    "start_time": "2025-05-28T15:54:20.689Z"
   },
   {
    "duration": 56,
    "start_time": "2025-05-28T15:54:20.856Z"
   },
   {
    "duration": 128,
    "start_time": "2025-05-28T15:54:20.913Z"
   },
   {
    "duration": 1327,
    "start_time": "2025-05-28T15:54:21.043Z"
   },
   {
    "duration": 5,
    "start_time": "2025-05-28T15:54:22.377Z"
   },
   {
    "duration": 64,
    "start_time": "2025-05-28T15:54:22.385Z"
   },
   {
    "duration": 3,
    "start_time": "2025-05-28T15:54:22.451Z"
   },
   {
    "duration": 59,
    "start_time": "2025-05-28T15:54:22.456Z"
   },
   {
    "duration": 4,
    "start_time": "2025-05-28T15:54:22.516Z"
   },
   {
    "duration": 78,
    "start_time": "2025-05-28T15:54:22.522Z"
   },
   {
    "duration": 2634,
    "start_time": "2025-05-28T15:54:22.602Z"
   },
   {
    "duration": 426,
    "start_time": "2025-05-28T15:54:25.238Z"
   },
   {
    "duration": 336,
    "start_time": "2025-05-28T15:54:25.673Z"
   },
   {
    "duration": 13,
    "start_time": "2025-05-28T15:54:26.011Z"
   },
   {
    "duration": 377,
    "start_time": "2025-05-28T15:54:26.026Z"
   },
   {
    "duration": 400,
    "start_time": "2025-05-28T15:54:26.405Z"
   },
   {
    "duration": 6,
    "start_time": "2025-05-28T15:54:26.807Z"
   },
   {
    "duration": 56,
    "start_time": "2025-05-28T15:54:26.815Z"
   },
   {
    "duration": 293,
    "start_time": "2025-05-28T15:54:26.873Z"
   },
   {
    "duration": 127,
    "start_time": "2025-05-28T15:54:27.168Z"
   },
   {
    "duration": 4,
    "start_time": "2025-05-28T15:54:27.370Z"
   },
   {
    "duration": 91,
    "start_time": "2025-05-28T15:54:27.376Z"
   },
   {
    "duration": 5,
    "start_time": "2025-05-28T15:54:27.472Z"
   },
   {
    "duration": 7999,
    "start_time": "2025-05-28T15:54:27.481Z"
   },
   {
    "duration": 10,
    "start_time": "2025-05-28T15:54:35.482Z"
   },
   {
    "duration": 14,
    "start_time": "2025-05-28T15:54:35.494Z"
   },
   {
    "duration": 4,
    "start_time": "2025-05-28T15:55:19.720Z"
   },
   {
    "duration": 7990,
    "start_time": "2025-05-28T15:55:21.090Z"
   },
   {
    "duration": 5,
    "start_time": "2025-05-28T15:55:39.527Z"
   },
   {
    "duration": 12743,
    "start_time": "2025-05-28T16:23:47.197Z"
   },
   {
    "duration": 11970,
    "start_time": "2025-05-28T16:30:19.795Z"
   },
   {
    "duration": 12690,
    "start_time": "2025-05-28T16:30:52.944Z"
   },
   {
    "duration": 10555,
    "start_time": "2025-05-28T16:36:45.744Z"
   },
   {
    "duration": 11162,
    "start_time": "2025-05-28T16:37:51.858Z"
   },
   {
    "duration": 11632,
    "start_time": "2025-05-28T16:39:13.581Z"
   },
   {
    "duration": 147,
    "start_time": "2025-05-28T16:42:25.283Z"
   },
   {
    "duration": 1332,
    "start_time": "2025-05-28T16:42:45.723Z"
   },
   {
    "duration": 490,
    "start_time": "2025-05-28T16:42:47.057Z"
   },
   {
    "duration": 3,
    "start_time": "2025-05-28T16:42:47.549Z"
   },
   {
    "duration": 36,
    "start_time": "2025-05-28T16:42:47.554Z"
   },
   {
    "duration": 171,
    "start_time": "2025-05-28T16:42:47.591Z"
   },
   {
    "duration": 50,
    "start_time": "2025-05-28T16:42:47.765Z"
   },
   {
    "duration": 157,
    "start_time": "2025-05-28T16:42:47.817Z"
   },
   {
    "duration": 1359,
    "start_time": "2025-05-28T16:42:47.977Z"
   },
   {
    "duration": 5,
    "start_time": "2025-05-28T16:42:49.338Z"
   },
   {
    "duration": 58,
    "start_time": "2025-05-28T16:42:49.362Z"
   },
   {
    "duration": 4,
    "start_time": "2025-05-28T16:42:49.422Z"
   },
   {
    "duration": 75,
    "start_time": "2025-05-28T16:42:49.427Z"
   },
   {
    "duration": 4,
    "start_time": "2025-05-28T16:42:49.504Z"
   },
   {
    "duration": 68,
    "start_time": "2025-05-28T16:42:49.510Z"
   },
   {
    "duration": 2687,
    "start_time": "2025-05-28T16:42:49.580Z"
   },
   {
    "duration": 378,
    "start_time": "2025-05-28T16:42:52.270Z"
   },
   {
    "duration": 352,
    "start_time": "2025-05-28T16:42:52.649Z"
   },
   {
    "duration": 14,
    "start_time": "2025-05-28T16:42:53.002Z"
   },
   {
    "duration": 371,
    "start_time": "2025-05-28T16:42:53.019Z"
   },
   {
    "duration": 358,
    "start_time": "2025-05-28T16:42:53.392Z"
   },
   {
    "duration": 5,
    "start_time": "2025-05-28T16:42:53.752Z"
   },
   {
    "duration": 203,
    "start_time": "2025-05-28T16:42:53.759Z"
   },
   {
    "duration": 202,
    "start_time": "2025-05-28T16:42:53.964Z"
   },
   {
    "duration": 98,
    "start_time": "2025-05-28T16:42:54.167Z"
   },
   {
    "duration": 92,
    "start_time": "2025-05-28T16:42:54.271Z"
   },
   {
    "duration": 9,
    "start_time": "2025-05-28T16:42:54.365Z"
   },
   {
    "duration": 7,
    "start_time": "2025-05-28T16:42:54.375Z"
   },
   {
    "duration": 150,
    "start_time": "2025-05-28T16:42:54.386Z"
   },
   {
    "duration": 0,
    "start_time": "2025-05-28T16:42:54.537Z"
   },
   {
    "duration": 0,
    "start_time": "2025-05-28T16:42:54.539Z"
   },
   {
    "duration": 26,
    "start_time": "2025-05-28T16:43:51.832Z"
   },
   {
    "duration": 4,
    "start_time": "2025-05-28T16:44:05.223Z"
   },
   {
    "duration": 11504,
    "start_time": "2025-05-28T16:44:35.734Z"
   },
   {
    "duration": 3,
    "start_time": "2025-05-28T16:49:05.875Z"
   },
   {
    "duration": 5,
    "start_time": "2025-05-28T16:49:56.851Z"
   },
   {
    "duration": 3434,
    "start_time": "2025-05-28T16:52:10.462Z"
   },
   {
    "duration": 14,
    "start_time": "2025-05-28T16:53:54.192Z"
   },
   {
    "duration": 1266,
    "start_time": "2025-05-28T16:54:32.191Z"
   },
   {
    "duration": 433,
    "start_time": "2025-05-28T16:54:33.459Z"
   },
   {
    "duration": 3,
    "start_time": "2025-05-28T16:54:33.894Z"
   },
   {
    "duration": 28,
    "start_time": "2025-05-28T16:54:33.899Z"
   },
   {
    "duration": 176,
    "start_time": "2025-05-28T16:54:33.929Z"
   },
   {
    "duration": 65,
    "start_time": "2025-05-28T16:54:34.107Z"
   },
   {
    "duration": 139,
    "start_time": "2025-05-28T16:54:34.174Z"
   },
   {
    "duration": 1326,
    "start_time": "2025-05-28T16:54:34.315Z"
   },
   {
    "duration": 4,
    "start_time": "2025-05-28T16:54:35.643Z"
   },
   {
    "duration": 72,
    "start_time": "2025-05-28T16:54:35.650Z"
   },
   {
    "duration": 4,
    "start_time": "2025-05-28T16:54:35.724Z"
   },
   {
    "duration": 67,
    "start_time": "2025-05-28T16:54:35.729Z"
   },
   {
    "duration": 4,
    "start_time": "2025-05-28T16:54:35.798Z"
   },
   {
    "duration": 67,
    "start_time": "2025-05-28T16:54:35.804Z"
   },
   {
    "duration": 2631,
    "start_time": "2025-05-28T16:54:35.873Z"
   },
   {
    "duration": 433,
    "start_time": "2025-05-28T16:54:38.506Z"
   },
   {
    "duration": 344,
    "start_time": "2025-05-28T16:54:38.941Z"
   },
   {
    "duration": 13,
    "start_time": "2025-05-28T16:54:39.286Z"
   },
   {
    "duration": 370,
    "start_time": "2025-05-28T16:54:39.301Z"
   },
   {
    "duration": 367,
    "start_time": "2025-05-28T16:54:39.673Z"
   },
   {
    "duration": 7,
    "start_time": "2025-05-28T16:54:40.043Z"
   },
   {
    "duration": 115,
    "start_time": "2025-05-28T16:54:40.052Z"
   },
   {
    "duration": 193,
    "start_time": "2025-05-28T16:54:40.171Z"
   },
   {
    "duration": 130,
    "start_time": "2025-05-28T16:54:40.366Z"
   },
   {
    "duration": 66,
    "start_time": "2025-05-28T16:54:40.498Z"
   },
   {
    "duration": 95,
    "start_time": "2025-05-28T16:54:40.568Z"
   },
   {
    "duration": 13,
    "start_time": "2025-05-28T16:54:40.665Z"
   },
   {
    "duration": 6,
    "start_time": "2025-05-28T16:54:40.681Z"
   },
   {
    "duration": 6,
    "start_time": "2025-05-28T16:54:40.689Z"
   },
   {
    "duration": 3587,
    "start_time": "2025-05-28T16:54:40.697Z"
   },
   {
    "duration": 127,
    "start_time": "2025-05-28T16:54:44.285Z"
   },
   {
    "duration": 14,
    "start_time": "2025-05-28T16:54:58.812Z"
   },
   {
    "duration": 10710,
    "start_time": "2025-05-28T16:56:50.535Z"
   },
   {
    "duration": 1297,
    "start_time": "2025-05-28T16:57:31.246Z"
   },
   {
    "duration": 434,
    "start_time": "2025-05-28T16:57:32.545Z"
   },
   {
    "duration": 3,
    "start_time": "2025-05-28T16:57:32.980Z"
   },
   {
    "duration": 71,
    "start_time": "2025-05-28T16:57:32.985Z"
   },
   {
    "duration": 157,
    "start_time": "2025-05-28T16:57:33.058Z"
   },
   {
    "duration": 60,
    "start_time": "2025-05-28T16:57:33.216Z"
   },
   {
    "duration": 133,
    "start_time": "2025-05-28T16:57:33.278Z"
   },
   {
    "duration": 1304,
    "start_time": "2025-05-28T16:57:33.412Z"
   },
   {
    "duration": 4,
    "start_time": "2025-05-28T16:57:34.718Z"
   },
   {
    "duration": 70,
    "start_time": "2025-05-28T16:57:34.724Z"
   },
   {
    "duration": 4,
    "start_time": "2025-05-28T16:57:34.796Z"
   },
   {
    "duration": 66,
    "start_time": "2025-05-28T16:57:34.801Z"
   },
   {
    "duration": 4,
    "start_time": "2025-05-28T16:57:34.869Z"
   },
   {
    "duration": 208,
    "start_time": "2025-05-28T16:57:34.875Z"
   },
   {
    "duration": 2745,
    "start_time": "2025-05-28T16:57:35.085Z"
   },
   {
    "duration": 501,
    "start_time": "2025-05-28T16:57:37.832Z"
   },
   {
    "duration": 368,
    "start_time": "2025-05-28T16:57:38.335Z"
   },
   {
    "duration": 13,
    "start_time": "2025-05-28T16:57:38.705Z"
   },
   {
    "duration": 358,
    "start_time": "2025-05-28T16:57:38.720Z"
   },
   {
    "duration": 371,
    "start_time": "2025-05-28T16:57:39.080Z"
   },
   {
    "duration": 6,
    "start_time": "2025-05-28T16:57:39.453Z"
   },
   {
    "duration": 203,
    "start_time": "2025-05-28T16:57:39.461Z"
   },
   {
    "duration": 197,
    "start_time": "2025-05-28T16:57:39.666Z"
   },
   {
    "duration": 196,
    "start_time": "2025-05-28T16:57:39.866Z"
   },
   {
    "duration": 3,
    "start_time": "2025-05-28T16:57:40.065Z"
   },
   {
    "duration": 95,
    "start_time": "2025-05-28T16:57:40.070Z"
   },
   {
    "duration": 17,
    "start_time": "2025-05-28T16:57:40.167Z"
   },
   {
    "duration": 121,
    "start_time": "2025-05-28T16:57:40.188Z"
   },
   {
    "duration": 0,
    "start_time": "2025-05-28T16:57:40.311Z"
   },
   {
    "duration": 10310,
    "start_time": "2025-05-28T16:58:51.525Z"
   },
   {
    "duration": 10625,
    "start_time": "2025-05-28T16:59:05.639Z"
   },
   {
    "duration": 3,
    "start_time": "2025-05-28T17:02:19.156Z"
   },
   {
    "duration": 10419,
    "start_time": "2025-05-28T17:02:20.551Z"
   },
   {
    "duration": 1659,
    "start_time": "2025-05-28T17:08:05.413Z"
   },
   {
    "duration": 466,
    "start_time": "2025-05-28T17:08:07.074Z"
   },
   {
    "duration": 3,
    "start_time": "2025-05-28T17:08:07.542Z"
   },
   {
    "duration": 47,
    "start_time": "2025-05-28T17:08:07.547Z"
   },
   {
    "duration": 205,
    "start_time": "2025-05-28T17:08:07.597Z"
   },
   {
    "duration": 75,
    "start_time": "2025-05-28T17:08:07.804Z"
   },
   {
    "duration": 176,
    "start_time": "2025-05-28T17:08:07.881Z"
   },
   {
    "duration": 1485,
    "start_time": "2025-05-28T17:08:08.059Z"
   },
   {
    "duration": 5,
    "start_time": "2025-05-28T17:08:09.545Z"
   },
   {
    "duration": 69,
    "start_time": "2025-05-28T17:08:09.552Z"
   },
   {
    "duration": 5,
    "start_time": "2025-05-28T17:08:09.623Z"
   },
   {
    "duration": 95,
    "start_time": "2025-05-28T17:08:09.629Z"
   },
   {
    "duration": 5,
    "start_time": "2025-05-28T17:08:09.726Z"
   },
   {
    "duration": 74,
    "start_time": "2025-05-28T17:08:09.734Z"
   },
   {
    "duration": 2734,
    "start_time": "2025-05-28T17:08:09.809Z"
   },
   {
    "duration": 440,
    "start_time": "2025-05-28T17:08:12.545Z"
   },
   {
    "duration": 333,
    "start_time": "2025-05-28T17:08:12.987Z"
   },
   {
    "duration": 14,
    "start_time": "2025-05-28T17:08:13.322Z"
   },
   {
    "duration": 478,
    "start_time": "2025-05-28T17:08:13.337Z"
   },
   {
    "duration": 6,
    "start_time": "2025-05-28T17:08:13.817Z"
   },
   {
    "duration": 149,
    "start_time": "2025-05-28T17:08:13.825Z"
   },
   {
    "duration": 126,
    "start_time": "2025-05-28T17:08:13.983Z"
   },
   {
    "duration": 138,
    "start_time": "2025-05-28T17:08:14.171Z"
   },
   {
    "duration": 5,
    "start_time": "2025-05-28T17:08:14.375Z"
   },
   {
    "duration": 95,
    "start_time": "2025-05-28T17:08:14.383Z"
   },
   {
    "duration": 9,
    "start_time": "2025-05-28T17:08:14.480Z"
   },
   {
    "duration": 12049,
    "start_time": "2025-05-28T17:08:14.491Z"
   },
   {
    "duration": 1463,
    "start_time": "2025-09-16T09:54:21.504Z"
   },
   {
    "duration": 438,
    "start_time": "2025-09-16T09:54:22.969Z"
   },
   {
    "duration": 3,
    "start_time": "2025-09-16T09:54:23.408Z"
   },
   {
    "duration": 61,
    "start_time": "2025-09-16T09:54:23.412Z"
   },
   {
    "duration": 172,
    "start_time": "2025-09-16T09:54:23.476Z"
   },
   {
    "duration": 47,
    "start_time": "2025-09-16T09:54:23.650Z"
   },
   {
    "duration": 151,
    "start_time": "2025-09-16T09:54:23.698Z"
   },
   {
    "duration": 1223,
    "start_time": "2025-09-16T09:54:23.850Z"
   },
   {
    "duration": 4,
    "start_time": "2025-09-16T09:54:25.074Z"
   },
   {
    "duration": 72,
    "start_time": "2025-09-16T09:54:25.079Z"
   },
   {
    "duration": 4,
    "start_time": "2025-09-16T09:54:25.153Z"
   },
   {
    "duration": 67,
    "start_time": "2025-09-16T09:54:25.158Z"
   },
   {
    "duration": 4,
    "start_time": "2025-09-16T09:54:25.226Z"
   },
   {
    "duration": 61,
    "start_time": "2025-09-16T09:54:25.233Z"
   },
   {
    "duration": 3442,
    "start_time": "2025-09-16T09:54:25.295Z"
   },
   {
    "duration": 412,
    "start_time": "2025-09-16T09:54:28.741Z"
   },
   {
    "duration": 317,
    "start_time": "2025-09-16T09:54:29.155Z"
   },
   {
    "duration": 13,
    "start_time": "2025-09-16T09:54:29.474Z"
   },
   {
    "duration": 463,
    "start_time": "2025-09-16T09:54:29.489Z"
   },
   {
    "duration": 5,
    "start_time": "2025-09-16T09:54:29.955Z"
   },
   {
    "duration": 64,
    "start_time": "2025-09-16T09:54:29.962Z"
   },
   {
    "duration": 290,
    "start_time": "2025-09-16T09:54:30.028Z"
   },
   {
    "duration": 195,
    "start_time": "2025-09-16T09:54:30.324Z"
   },
   {
    "duration": 4,
    "start_time": "2025-09-16T09:54:30.522Z"
   },
   {
    "duration": 97,
    "start_time": "2025-09-16T09:54:30.528Z"
   },
   {
    "duration": 25,
    "start_time": "2025-09-16T09:54:30.627Z"
   },
   {
    "duration": 10237,
    "start_time": "2025-09-16T09:54:30.654Z"
   }
  ],
  "kernelspec": {
   "display_name": "Python 3 (ipykernel)",
   "language": "python",
   "name": "python3"
  },
  "language_info": {
   "codemirror_mode": {
    "name": "ipython",
    "version": 3
   },
   "file_extension": ".py",
   "mimetype": "text/x-python",
   "name": "python",
   "nbconvert_exporter": "python",
   "pygments_lexer": "ipython3",
   "version": "3.12.2"
  },
  "toc": {
   "base_numbering": 1,
   "nav_menu": {
    "height": "126px",
    "width": "264px"
   },
   "number_sections": true,
   "sideBar": true,
   "skip_h1_title": true,
   "title_cell": "Содержание",
   "title_sidebar": "Содержание",
   "toc_cell": true,
   "toc_position": {
    "height": "calc(100% - 180px)",
    "left": "10px",
    "top": "150px",
    "width": "266.797px"
   },
   "toc_section_display": true,
   "toc_window_display": true
  }
 },
 "nbformat": 4,
 "nbformat_minor": 4
}
